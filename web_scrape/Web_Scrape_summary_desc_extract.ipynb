{
  "nbformat": 4,
  "nbformat_minor": 0,
  "metadata": {
    "colab": {
      "name": "Web_Scrape-summary-desc-extract.ipynb",
      "provenance": [],
      "collapsed_sections": [],
      "authorship_tag": "ABX9TyPHGPQ4AP/w0e68JFF1NyXh",
      "include_colab_link": true
    },
    "kernelspec": {
      "name": "python3",
      "display_name": "Python 3"
    },
    "language_info": {
      "name": "python"
    }
  },
  "cells": [
    {
      "cell_type": "markdown",
      "metadata": {
        "id": "view-in-github",
        "colab_type": "text"
      },
      "source": [
        "<a href=\"https://colab.research.google.com/github/Lakith-Rambukkanage/Cryptography/blob/master/web_scrape/Web_Scrape_summary_desc_extract.ipynb\" target=\"_parent\"><img src=\"https://colab.research.google.com/assets/colab-badge.svg\" alt=\"Open In Colab\"/></a>"
      ]
    },
    {
      "cell_type": "code",
      "metadata": {
        "colab": {
          "base_uri": "https://localhost:8080/"
        },
        "id": "oXSPqbZaeCHf",
        "outputId": "2d010734-1096-4bac-99fb-8d4fb9c24720"
      },
      "source": [
        "from google.colab import drive\n",
        "drive.mount('/content/drive', force_remount=True)"
      ],
      "execution_count": null,
      "outputs": [
        {
          "output_type": "stream",
          "text": [
            "Mounted at /content/drive\n"
          ],
          "name": "stdout"
        }
      ]
    },
    {
      "cell_type": "code",
      "metadata": {
        "id": "EcL-8Rm8rVL5",
        "colab": {
          "base_uri": "https://localhost:8080/"
        },
        "outputId": "6b85c316-fd90-4a41-b885-3ea7ea09f955"
      },
      "source": [
        "RAW_CASES_PATH = '/content/drive/Shareddrives/SigmaLaw-WPP/LRR/web_scrape/criminal/summary'\n",
        "# %cd /content/\n",
        "!ls"
      ],
      "execution_count": null,
      "outputs": [
        {
          "output_type": "stream",
          "text": [
            "drive  sample_data\n"
          ],
          "name": "stdout"
        }
      ]
    },
    {
      "cell_type": "code",
      "metadata": {
        "id": "CjSZsxS4_c24"
      },
      "source": [
        "import os\n",
        "import re\n",
        "\n",
        "fileList = os.listdir(RAW_CASES_PATH)\n",
        "\n",
        "def atoi(text):\n",
        "    return int(text) if text.isdigit() else text\n",
        "\n",
        "def natural_keys(text):\n",
        "    '''\n",
        "    list.sort(key=natural_keys) sorts in human order\n",
        "    '''\n",
        "    return [ atoi(c) for c in re.split(r'(\\d+)', text) ]\n",
        "\n",
        "fileList.sort(key=natural_keys)"
      ],
      "execution_count": null,
      "outputs": []
    },
    {
      "cell_type": "code",
      "metadata": {
        "colab": {
          "base_uri": "https://localhost:8080/"
        },
        "id": "KOf3geZ5Ad_r",
        "outputId": "c2f42027-f133-4484-9529-0d491aabc5a7"
      },
      "source": [
        "print(len(fileList))\n",
        "print(fileList)"
      ],
      "execution_count": null,
      "outputs": [
        {
          "output_type": "stream",
          "text": [
            "15902\n",
            "['case0.txt', 'case1.txt', 'case2.txt', 'case4.txt', 'case6.txt', 'case7.txt', 'case8.txt', 'case9.txt', 'case10.txt', 'case11.txt', 'case12.txt', 'case14.txt', 'case15.txt', 'case16.txt', 'case17.txt', 'case18.txt', 'case19.txt', 'case21.txt', 'case22.txt', 'case23.txt', 'case24.txt', 'case25.txt', 'case26.txt', 'case28.txt', 'case29.txt', 'case30.txt', 'case31.txt', 'case32.txt', 'case33.txt', 'case34.txt', 'case36.txt', 'case37.txt', 'case38.txt', 'case39.txt', 'case40.txt', 'case41.txt', 'case44.txt', 'case45.txt', 'case46.txt', 'case48.txt', 'case49.txt', 'case50.txt', 'case51.txt', 'case52.txt', 'case53.txt', 'case55.txt', 'case56.txt', 'case57.txt', 'case58.txt', 'case60.txt', 'case61.txt', 'case62.txt', 'case63.txt', 'case64.txt', 'case65.txt', 'case66.txt', 'case67.txt', 'case68.txt', 'case69.txt', 'case70.txt', 'case71.txt', 'case72.txt', 'case73.txt', 'case74.txt', 'case75.txt', 'case76.txt', 'case77.txt', 'case78.txt', 'case79.txt', 'case80.txt', 'case81.txt', 'case82.txt', 'case83.txt', 'case84.txt', 'case85.txt', 'case86.txt', 'case87.txt', 'case88.txt', 'case89.txt', 'case91.txt', 'case92.txt', 'case93.txt', 'case94.txt', 'case95.txt', 'case96.txt', 'case97.txt', 'case98.txt', 'case99.txt', 'case100.txt', 'case101.txt', 'case102.txt', 'case103.txt', 'case104.txt', 'case105.txt', 'case106.txt', 'case107.txt', 'case108.txt', 'case109.txt', 'case111.txt', 'case113.txt', 'case114.txt', 'case115.txt', 'case116.txt', 'case117.txt', 'case118.txt', 'case119.txt', 'case120.txt', 'case121.txt', 'case122.txt', 'case123.txt', 'case124.txt', 'case125.txt', 'case126.txt', 'case128.txt', 'case129.txt', 'case130.txt', 'case132.txt', 'case133.txt', 'case134.txt', 'case136.txt', 'case137.txt', 'case138.txt', 'case139.txt', 'case140.txt', 'case141.txt', 'case142.txt', 'case143.txt', 'case144.txt', 'case145.txt', 'case146.txt', 'case147.txt', 'case148.txt', 'case149.txt', 'case152.txt', 'case153.txt', 'case154.txt', 'case155.txt', 'case156.txt', 'case157.txt', 'case158.txt', 'case159.txt', 'case160.txt', 'case161.txt', 'case162.txt', 'case163.txt', 'case164.txt', 'case165.txt', 'case166.txt', 'case167.txt', 'case168.txt', 'case169.txt', 'case170.txt', 'case171.txt', 'case172.txt', 'case173.txt', 'case174.txt', 'case175.txt', 'case176.txt', 'case177.txt', 'case178.txt', 'case179.txt', 'case180.txt', 'case181.txt', 'case182.txt', 'case184.txt', 'case185.txt', 'case187.txt', 'case188.txt', 'case189.txt', 'case190.txt', 'case191.txt', 'case192.txt', 'case193.txt', 'case196.txt', 'case198.txt', 'case199.txt', 'case200.txt', 'case201.txt', 'case202.txt', 'case203.txt', 'case204.txt', 'case205.txt', 'case206.txt', 'case207.txt', 'case208.txt', 'case209.txt', 'case210.txt', 'case211.txt', 'case212.txt', 'case213.txt', 'case214.txt', 'case215.txt', 'case216.txt', 'case217.txt', 'case218.txt', 'case220.txt', 'case221.txt', 'case223.txt', 'case224.txt', 'case225.txt', 'case226.txt', 'case227.txt', 'case228.txt', 'case229.txt', 'case230.txt', 'case231.txt', 'case233.txt', 'case234.txt', 'case235.txt', 'case236.txt', 'case237.txt', 'case238.txt', 'case239.txt', 'case240.txt', 'case241.txt', 'case242.txt', 'case243.txt', 'case244.txt', 'case245.txt', 'case246.txt', 'case247.txt', 'case248.txt', 'case249.txt', 'case250.txt', 'case251.txt', 'case252.txt', 'case254.txt', 'case255.txt', 'case256.txt', 'case257.txt', 'case258.txt', 'case259.txt', 'case260.txt', 'case261.txt', 'case262.txt', 'case263.txt', 'case264.txt', 'case265.txt', 'case266.txt', 'case267.txt', 'case268.txt', 'case269.txt', 'case270.txt', 'case274.txt', 'case275.txt', 'case276.txt', 'case277.txt', 'case278.txt', 'case279.txt', 'case280.txt', 'case281.txt', 'case282.txt', 'case286.txt', 'case287.txt', 'case288.txt', 'case289.txt', 'case290.txt', 'case291.txt', 'case293.txt', 'case296.txt', 'case297.txt', 'case298.txt', 'case299.txt', 'case300.txt', 'case301.txt', 'case304.txt', 'case305.txt', 'case308.txt', 'case309.txt', 'case310.txt', 'case311.txt', 'case312.txt', 'case313.txt', 'case314.txt', 'case315.txt', 'case316.txt', 'case317.txt', 'case318.txt', 'case319.txt', 'case320.txt', 'case321.txt', 'case322.txt', 'case324.txt', 'case325.txt', 'case326.txt', 'case327.txt', 'case329.txt', 'case330.txt', 'case331.txt', 'case332.txt', 'case333.txt', 'case334.txt', 'case335.txt', 'case336.txt', 'case337.txt', 'case338.txt', 'case339.txt', 'case340.txt', 'case341.txt', 'case342.txt', 'case343.txt', 'case344.txt', 'case345.txt', 'case346.txt', 'case347.txt', 'case348.txt', 'case349.txt', 'case350.txt', 'case352.txt', 'case353.txt', 'case354.txt', 'case355.txt', 'case356.txt', 'case357.txt', 'case358.txt', 'case359.txt', 'case360.txt', 'case362.txt', 'case363.txt', 'case364.txt', 'case365.txt', 'case366.txt', 'case367.txt', 'case368.txt', 'case371.txt', 'case372.txt', 'case373.txt', 'case374.txt', 'case375.txt', 'case376.txt', 'case377.txt', 'case378.txt', 'case379.txt', 'case380.txt', 'case382.txt', 'case383.txt', 'case384.txt', 'case386.txt', 'case387.txt', 'case388.txt', 'case389.txt', 'case391.txt', 'case392.txt', 'case393.txt', 'case394.txt', 'case395.txt', 'case396.txt', 'case397.txt', 'case398.txt', 'case399.txt', 'case400.txt', 'case401.txt', 'case402.txt', 'case403.txt', 'case404.txt', 'case405.txt', 'case406.txt', 'case407.txt', 'case408.txt', 'case410.txt', 'case411.txt', 'case412.txt', 'case413.txt', 'case414.txt', 'case416.txt', 'case417.txt', 'case418.txt', 'case419.txt', 'case420.txt', 'case422.txt', 'case423.txt', 'case424.txt', 'case425.txt', 'case426.txt', 'case427.txt', 'case428.txt', 'case429.txt', 'case431.txt', 'case432.txt', 'case433.txt', 'case434.txt', 'case435.txt', 'case437.txt', 'case438.txt', 'case439.txt', 'case440.txt', 'case442.txt', 'case443.txt', 'case444.txt', 'case445.txt', 'case447.txt', 'case448.txt', 'case449.txt', 'case450.txt', 'case451.txt', 'case452.txt', 'case453.txt', 'case454.txt', 'case455.txt', 'case456.txt', 'case458.txt', 'case459.txt', 'case460.txt', 'case461.txt', 'case464.txt', 'case465.txt', 'case466.txt', 'case468.txt', 'case469.txt', 'case470.txt', 'case471.txt', 'case473.txt', 'case474.txt', 'case475.txt', 'case476.txt', 'case477.txt', 'case478.txt', 'case480.txt', 'case481.txt', 'case482.txt', 'case483.txt', 'case485.txt', 'case486.txt', 'case487.txt', 'case488.txt', 'case489.txt', 'case490.txt', 'case491.txt', 'case492.txt', 'case493.txt', 'case494.txt', 'case495.txt', 'case496.txt', 'case497.txt', 'case498.txt', 'case499.txt', 'case500.txt', 'case501.txt', 'case502.txt', 'case505.txt', 'case506.txt', 'case507.txt', 'case508.txt', 'case509.txt', 'case510.txt', 'case511.txt', 'case512.txt', 'case513.txt', 'case514.txt', 'case515.txt', 'case516.txt', 'case517.txt', 'case518.txt', 'case519.txt', 'case520.txt', 'case521.txt', 'case522.txt', 'case523.txt', 'case524.txt', 'case526.txt', 'case527.txt', 'case529.txt', 'case530.txt', 'case531.txt', 'case532.txt', 'case533.txt', 'case535.txt', 'case536.txt', 'case537.txt', 'case538.txt', 'case539.txt', 'case540.txt', 'case542.txt', 'case543.txt', 'case544.txt', 'case545.txt', 'case546.txt', 'case547.txt', 'case549.txt', 'case550.txt', 'case551.txt', 'case552.txt', 'case553.txt', 'case554.txt', 'case555.txt', 'case556.txt', 'case557.txt', 'case558.txt', 'case559.txt', 'case560.txt', 'case561.txt', 'case562.txt', 'case563.txt', 'case565.txt', 'case566.txt', 'case567.txt', 'case568.txt', 'case569.txt', 'case570.txt', 'case571.txt', 'case572.txt', 'case573.txt', 'case574.txt', 'case575.txt', 'case576.txt', 'case577.txt', 'case578.txt', 'case580.txt', 'case581.txt', 'case582.txt', 'case583.txt', 'case584.txt', 'case585.txt', 'case586.txt', 'case587.txt', 'case589.txt', 'case590.txt', 'case591.txt', 'case592.txt', 'case594.txt', 'case595.txt', 'case596.txt', 'case597.txt', 'case598.txt', 'case599.txt', 'case600.txt', 'case602.txt', 'case603.txt', 'case604.txt', 'case605.txt', 'case606.txt', 'case608.txt', 'case609.txt', 'case610.txt', 'case611.txt', 'case612.txt', 'case613.txt', 'case614.txt', 'case615.txt', 'case617.txt', 'case618.txt', 'case619.txt', 'case620.txt', 'case622.txt', 'case623.txt', 'case624.txt', 'case625.txt', 'case626.txt', 'case628.txt', 'case630.txt', 'case631.txt', 'case633.txt', 'case634.txt', 'case635.txt', 'case637.txt', 'case638.txt', 'case640.txt', 'case641.txt', 'case642.txt', 'case643.txt', 'case644.txt', 'case645.txt', 'case646.txt', 'case647.txt', 'case648.txt', 'case649.txt', 'case650.txt', 'case651.txt', 'case652.txt', 'case653.txt', 'case654.txt', 'case655.txt', 'case656.txt', 'case657.txt', 'case658.txt', 'case659.txt', 'case660.txt', 'case661.txt', 'case662.txt', 'case663.txt', 'case664.txt', 'case665.txt', 'case666.txt', 'case667.txt', 'case668.txt', 'case669.txt', 'case670.txt', 'case671.txt', 'case672.txt', 'case673.txt', 'case677.txt', 'case678.txt', 'case679.txt', 'case680.txt', 'case681.txt', 'case682.txt', 'case683.txt', 'case684.txt', 'case686.txt', 'case687.txt', 'case688.txt', 'case689.txt', 'case690.txt', 'case691.txt', 'case692.txt', 'case693.txt', 'case694.txt', 'case695.txt', 'case696.txt', 'case697.txt', 'case698.txt', 'case699.txt', 'case700.txt', 'case701.txt', 'case702.txt', 'case703.txt', 'case704.txt', 'case705.txt', 'case706.txt', 'case707.txt', 'case708.txt', 'case709.txt', 'case710.txt', 'case711.txt', 'case712.txt', 'case713.txt', 'case714.txt', 'case715.txt', 'case716.txt', 'case717.txt', 'case718.txt', 'case719.txt', 'case720.txt', 'case721.txt', 'case722.txt', 'case723.txt', 'case724.txt', 'case725.txt', 'case726.txt', 'case727.txt', 'case728.txt', 'case729.txt', 'case730.txt', 'case731.txt', 'case732.txt', 'case733.txt', 'case735.txt', 'case736.txt', 'case737.txt', 'case738.txt', 'case739.txt', 'case740.txt', 'case741.txt', 'case742.txt', 'case743.txt', 'case744.txt', 'case745.txt', 'case746.txt', 'case747.txt', 'case748.txt', 'case749.txt', 'case751.txt', 'case752.txt', 'case753.txt', 'case754.txt', 'case755.txt', 'case756.txt', 'case757.txt', 'case758.txt', 'case759.txt', 'case760.txt', 'case761.txt', 'case762.txt', 'case763.txt', 'case764.txt', 'case765.txt', 'case766.txt', 'case767.txt', 'case768.txt', 'case770.txt', 'case771.txt', 'case773.txt', 'case774.txt', 'case776.txt', 'case777.txt', 'case778.txt', 'case779.txt', 'case780.txt', 'case781.txt', 'case782.txt', 'case783.txt', 'case784.txt', 'case785.txt', 'case786.txt', 'case787.txt', 'case788.txt', 'case789.txt', 'case792.txt', 'case794.txt', 'case795.txt', 'case796.txt', 'case797.txt', 'case798.txt', 'case799.txt', 'case801.txt', 'case802.txt', 'case803.txt', 'case804.txt', 'case805.txt', 'case806.txt', 'case807.txt', 'case808.txt', 'case809.txt', 'case810.txt', 'case811.txt', 'case812.txt', 'case813.txt', 'case814.txt', 'case815.txt', 'case816.txt', 'case817.txt', 'case818.txt', 'case819.txt', 'case820.txt', 'case821.txt', 'case822.txt', 'case823.txt', 'case824.txt', 'case825.txt', 'case827.txt', 'case828.txt', 'case831.txt', 'case832.txt', 'case833.txt', 'case834.txt', 'case835.txt', 'case836.txt', 'case837.txt', 'case838.txt', 'case839.txt', 'case840.txt', 'case841.txt', 'case842.txt', 'case844.txt', 'case845.txt', 'case846.txt', 'case847.txt', 'case848.txt', 'case849.txt', 'case850.txt', 'case851.txt', 'case852.txt', 'case853.txt', 'case854.txt', 'case855.txt', 'case856.txt', 'case857.txt', 'case858.txt', 'case859.txt', 'case860.txt', 'case861.txt', 'case862.txt', 'case863.txt', 'case864.txt', 'case865.txt', 'case866.txt', 'case867.txt', 'case868.txt', 'case869.txt', 'case870.txt', 'case871.txt', 'case872.txt', 'case873.txt', 'case874.txt', 'case875.txt', 'case877.txt', 'case878.txt', 'case879.txt', 'case880.txt', 'case881.txt', 'case882.txt', 'case883.txt', 'case884.txt', 'case885.txt', 'case886.txt', 'case887.txt', 'case888.txt', 'case889.txt', 'case891.txt', 'case892.txt', 'case894.txt', 'case895.txt', 'case896.txt', 'case898.txt', 'case899.txt', 'case900.txt', 'case901.txt', 'case902.txt', 'case903.txt', 'case904.txt', 'case905.txt', 'case906.txt', 'case907.txt', 'case908.txt', 'case909.txt', 'case910.txt', 'case911.txt', 'case912.txt', 'case913.txt', 'case914.txt', 'case915.txt', 'case916.txt', 'case917.txt', 'case920.txt', 'case921.txt', 'case922.txt', 'case923.txt', 'case924.txt', 'case926.txt', 'case927.txt', 'case928.txt', 'case930.txt', 'case931.txt', 'case932.txt', 'case933.txt', 'case934.txt', 'case935.txt', 'case937.txt', 'case939.txt', 'case942.txt', 'case943.txt', 'case945.txt', 'case947.txt', 'case948.txt', 'case949.txt', 'case950.txt', 'case951.txt', 'case952.txt', 'case954.txt', 'case955.txt', 'case957.txt', 'case958.txt', 'case959.txt', 'case960.txt', 'case961.txt', 'case962.txt', 'case963.txt', 'case964.txt', 'case966.txt', 'case967.txt', 'case968.txt', 'case969.txt', 'case970.txt', 'case971.txt', 'case972.txt', 'case973.txt', 'case975.txt', 'case976.txt', 'case977.txt', 'case978.txt', 'case979.txt', 'case980.txt', 'case981.txt', 'case982.txt', 'case984.txt', 'case985.txt', 'case986.txt', 'case987.txt', 'case989.txt', 'case990.txt', 'case991.txt', 'case992.txt', 'case993.txt', 'case994.txt', 'case995.txt', 'case996.txt', 'case997.txt', 'case998.txt', 'case999.txt', 'case1001.txt', 'case1002.txt', 'case1003.txt', 'case1004.txt', 'case1005.txt', 'case1006.txt', 'case1007.txt', 'case1008.txt', 'case1009.txt', 'case1010.txt', 'case1011.txt', 'case1012.txt', 'case1013.txt', 'case1014.txt', 'case1015.txt', 'case1016.txt', 'case1018.txt', 'case1019.txt', 'case1023.txt', 'case1024.txt', 'case1025.txt', 'case1026.txt', 'case1027.txt', 'case1028.txt', 'case1029.txt', 'case1031.txt', 'case1032.txt', 'case1033.txt', 'case1034.txt', 'case1035.txt', 'case1036.txt', 'case1037.txt', 'case1038.txt', 'case1039.txt', 'case1040.txt', 'case1041.txt', 'case1042.txt', 'case1043.txt', 'case1044.txt', 'case1045.txt', 'case1046.txt', 'case1047.txt', 'case1048.txt', 'case1049.txt', 'case1050.txt', 'case1051.txt', 'case1052.txt', 'case1053.txt', 'case1054.txt', 'case1055.txt', 'case1056.txt', 'case1057.txt', 'case1058.txt', 'case1059.txt', 'case1060.txt', 'case1061.txt', 'case1062.txt', 'case1063.txt', 'case1064.txt', 'case1065.txt', 'case1066.txt', 'case1067.txt', 'case1068.txt', 'case1069.txt', 'case1070.txt', 'case1071.txt', 'case1072.txt', 'case1073.txt', 'case1074.txt', 'case1075.txt', 'case1076.txt', 'case1077.txt', 'case1078.txt', 'case1079.txt', 'case1080.txt', 'case1081.txt', 'case1082.txt', 'case1083.txt', 'case1084.txt', 'case1085.txt', 'case1086.txt', 'case1089.txt', 'case1090.txt', 'case1091.txt', 'case1092.txt', 'case1094.txt', 'case1095.txt', 'case1096.txt', 'case1098.txt', 'case1099.txt', 'case1100.txt', 'case1101.txt', 'case1102.txt', 'case1103.txt', 'case1104.txt', 'case1105.txt', 'case1106.txt', 'case1107.txt', 'case1108.txt', 'case1109.txt', 'case1110.txt', 'case1111.txt', 'case1112.txt', 'case1113.txt', 'case1114.txt', 'case1115.txt', 'case1116.txt', 'case1117.txt', 'case1118.txt', 'case1119.txt', 'case1120.txt', 'case1121.txt', 'case1123.txt', 'case1124.txt', 'case1125.txt', 'case1126.txt', 'case1127.txt', 'case1128.txt', 'case1129.txt', 'case1130.txt', 'case1131.txt', 'case1132.txt', 'case1133.txt', 'case1134.txt', 'case1135.txt', 'case1136.txt', 'case1139.txt', 'case1140.txt', 'case1142.txt', 'case1143.txt', 'case1144.txt', 'case1145.txt', 'case1147.txt', 'case1148.txt', 'case1149.txt', 'case1150.txt', 'case1151.txt', 'case1152.txt', 'case1153.txt', 'case1154.txt', 'case1155.txt', 'case1156.txt', 'case1157.txt', 'case1158.txt', 'case1159.txt', 'case1160.txt', 'case1161.txt', 'case1162.txt', 'case1164.txt', 'case1166.txt', 'case1167.txt', 'case1168.txt', 'case1169.txt', 'case1170.txt', 'case1171.txt', 'case1172.txt', 'case1173.txt', 'case1174.txt', 'case1175.txt', 'case1176.txt', 'case1177.txt', 'case1178.txt', 'case1180.txt', 'case1182.txt', 'case1183.txt', 'case1184.txt', 'case1185.txt', 'case1186.txt', 'case1187.txt', 'case1188.txt', 'case1189.txt', 'case1190.txt', 'case1191.txt', 'case1193.txt', 'case1194.txt', 'case1195.txt', 'case1196.txt', 'case1197.txt', 'case1198.txt', 'case1199.txt', 'case1200.txt', 'case1201.txt', 'case1202.txt', 'case1203.txt', 'case1204.txt', 'case1205.txt', 'case1206.txt', 'case1207.txt', 'case1208.txt', 'case1209.txt', 'case1210.txt', 'case1211.txt', 'case1212.txt', 'case1213.txt', 'case1215.txt', 'case1216.txt', 'case1217.txt', 'case1218.txt', 'case1220.txt', 'case1221.txt', 'case1222.txt', 'case1223.txt', 'case1224.txt', 'case1225.txt', 'case1226.txt', 'case1227.txt', 'case1228.txt', 'case1229.txt', 'case1231.txt', 'case1232.txt', 'case1233.txt', 'case1234.txt', 'case1235.txt', 'case1238.txt', 'case1239.txt', 'case1240.txt', 'case1241.txt', 'case1246.txt', 'case1247.txt', 'case1248.txt', 'case1249.txt', 'case1250.txt', 'case1251.txt', 'case1252.txt', 'case1253.txt', 'case1254.txt', 'case1255.txt', 'case1256.txt', 'case1257.txt', 'case1258.txt', 'case1259.txt', 'case1260.txt', 'case1261.txt', 'case1262.txt', 'case1263.txt', 'case1264.txt', 'case1265.txt', 'case1266.txt', 'case1267.txt', 'case1268.txt', 'case1270.txt', 'case1271.txt', 'case1272.txt', 'case1274.txt', 'case1275.txt', 'case1277.txt', 'case1279.txt', 'case1280.txt', 'case1281.txt', 'case1282.txt', 'case1283.txt', 'case1284.txt', 'case1285.txt', 'case1286.txt', 'case1287.txt', 'case1290.txt', 'case1291.txt', 'case1292.txt', 'case1293.txt', 'case1295.txt', 'case1296.txt', 'case1297.txt', 'case1298.txt', 'case1299.txt', 'case1300.txt', 'case1301.txt', 'case1302.txt', 'case1303.txt', 'case1304.txt', 'case1305.txt', 'case1306.txt', 'case1307.txt', 'case1308.txt', 'case1309.txt', 'case1310.txt', 'case1311.txt', 'case1312.txt', 'case1313.txt', 'case1314.txt', 'case1316.txt', 'case1317.txt', 'case1318.txt', 'case1319.txt', 'case1320.txt', 'case1321.txt', 'case1322.txt', 'case1323.txt', 'case1324.txt', 'case1325.txt', 'case1326.txt', 'case1327.txt', 'case1328.txt', 'case1329.txt', 'case1330.txt', 'case1331.txt', 'case1332.txt', 'case1333.txt', 'case1334.txt', 'case1335.txt', 'case1336.txt', 'case1337.txt', 'case1338.txt', 'case1339.txt', 'case1340.txt', 'case1341.txt', 'case1342.txt', 'case1343.txt', 'case1344.txt', 'case1345.txt', 'case1346.txt', 'case1347.txt', 'case1349.txt', 'case1350.txt', 'case1351.txt', 'case1353.txt', 'case1354.txt', 'case1355.txt', 'case1356.txt', 'case1357.txt', 'case1358.txt', 'case1360.txt', 'case1361.txt', 'case1362.txt', 'case1363.txt', 'case1364.txt', 'case1365.txt', 'case1366.txt', 'case1367.txt', 'case1368.txt', 'case1369.txt', 'case1370.txt', 'case1371.txt', 'case1372.txt', 'case1373.txt', 'case1375.txt', 'case1377.txt', 'case1379.txt', 'case1380.txt', 'case1381.txt', 'case1382.txt', 'case1383.txt', 'case1384.txt', 'case1385.txt', 'case1386.txt', 'case1387.txt', 'case1388.txt', 'case1389.txt', 'case1390.txt', 'case1391.txt', 'case1392.txt', 'case1393.txt', 'case1394.txt', 'case1396.txt', 'case1397.txt', 'case1398.txt', 'case1399.txt', 'case1400.txt', 'case1401.txt', 'case1403.txt', 'case1404.txt', 'case1405.txt', 'case1406.txt', 'case1407.txt', 'case1408.txt', 'case1409.txt', 'case1410.txt', 'case1411.txt', 'case1412.txt', 'case1414.txt', 'case1415.txt', 'case1416.txt', 'case1417.txt', 'case1419.txt', 'case1420.txt', 'case1421.txt', 'case1422.txt', 'case1423.txt', 'case1425.txt', 'case1427.txt', 'case1428.txt', 'case1429.txt', 'case1430.txt', 'case1431.txt', 'case1432.txt', 'case1433.txt', 'case1435.txt', 'case1436.txt', 'case1438.txt', 'case1439.txt', 'case1440.txt', 'case1441.txt', 'case1442.txt', 'case1443.txt', 'case1444.txt', 'case1446.txt', 'case1447.txt', 'case1448.txt', 'case1449.txt', 'case1450.txt', 'case1451.txt', 'case1452.txt', 'case1453.txt', 'case1454.txt', 'case1456.txt', 'case1457.txt', 'case1459.txt', 'case1461.txt', 'case1462.txt', 'case1463.txt', 'case1464.txt', 'case1465.txt', 'case1466.txt', 'case1467.txt', 'case1468.txt', 'case1469.txt', 'case1470.txt', 'case1471.txt', 'case1473.txt', 'case1474.txt', 'case1475.txt', 'case1476.txt', 'case1477.txt', 'case1478.txt', 'case1479.txt', 'case1481.txt', 'case1482.txt', 'case1483.txt', 'case1484.txt', 'case1485.txt', 'case1486.txt', 'case1487.txt', 'case1488.txt', 'case1489.txt', 'case1490.txt', 'case1491.txt', 'case1492.txt', 'case1493.txt', 'case1494.txt', 'case1495.txt', 'case1496.txt', 'case1497.txt', 'case1498.txt', 'case1499.txt', 'case1500.txt', 'case1501.txt', 'case1502.txt', 'case1503.txt', 'case1504.txt', 'case1505.txt', 'case1506.txt', 'case1507.txt', 'case1510.txt', 'case1511.txt', 'case1512.txt', 'case1514.txt', 'case1515.txt', 'case1518.txt', 'case1519.txt', 'case1520.txt', 'case1521.txt', 'case1522.txt', 'case1523.txt', 'case1524.txt', 'case1525.txt', 'case1526.txt', 'case1527.txt', 'case1528.txt', 'case1529.txt', 'case1530.txt', 'case1531.txt', 'case1533.txt', 'case1534.txt', 'case1535.txt', 'case1536.txt', 'case1537.txt', 'case1538.txt', 'case1539.txt', 'case1540.txt', 'case1541.txt', 'case1542.txt', 'case1543.txt', 'case1544.txt', 'case1545.txt', 'case1546.txt', 'case1547.txt', 'case1549.txt', 'case1550.txt', 'case1551.txt', 'case1552.txt', 'case1553.txt', 'case1554.txt', 'case1556.txt', 'case1557.txt', 'case1558.txt', 'case1559.txt', 'case1560.txt', 'case1561.txt', 'case1562.txt', 'case1563.txt', 'case1564.txt', 'case1565.txt', 'case1566.txt', 'case1567.txt', 'case1568.txt', 'case1569.txt', 'case1570.txt', 'case1571.txt', 'case1572.txt', 'case1573.txt', 'case1575.txt', 'case1576.txt', 'case1577.txt', 'case1580.txt', 'case1581.txt', 'case1582.txt', 'case1583.txt', 'case1584.txt', 'case1585.txt', 'case1586.txt', 'case1587.txt', 'case1588.txt', 'case1589.txt', 'case1590.txt', 'case1591.txt', 'case1592.txt', 'case1594.txt', 'case1595.txt', 'case1596.txt', 'case1597.txt', 'case1599.txt', 'case1600.txt', 'case1602.txt', 'case1603.txt', 'case1604.txt', 'case1605.txt', 'case1606.txt', 'case1607.txt', 'case1608.txt', 'case1609.txt', 'case1610.txt', 'case1611.txt', 'case1612.txt', 'case1613.txt', 'case1614.txt', 'case1615.txt', 'case1617.txt', 'case1619.txt', 'case1620.txt', 'case1621.txt', 'case1622.txt', 'case1624.txt', 'case1625.txt', 'case1626.txt', 'case1627.txt', 'case1628.txt', 'case1629.txt', 'case1630.txt', 'case1631.txt', 'case1632.txt', 'case1633.txt', 'case1634.txt', 'case1635.txt', 'case1636.txt', 'case1637.txt', 'case1638.txt', 'case1639.txt', 'case1642.txt', 'case1643.txt', 'case1644.txt', 'case1645.txt', 'case1646.txt', 'case1648.txt', 'case1649.txt', 'case1650.txt', 'case1651.txt', 'case1652.txt', 'case1653.txt', 'case1654.txt', 'case1655.txt', 'case1656.txt', 'case1657.txt', 'case1658.txt', 'case1659.txt', 'case1660.txt', 'case1661.txt', 'case1662.txt', 'case1663.txt', 'case1664.txt', 'case1665.txt', 'case1666.txt', 'case1667.txt', 'case1668.txt', 'case1669.txt', 'case1670.txt', 'case1671.txt', 'case1672.txt', 'case1673.txt', 'case1674.txt', 'case1676.txt', 'case1677.txt', 'case1678.txt', 'case1679.txt', 'case1680.txt', 'case1682.txt', 'case1683.txt', 'case1684.txt', 'case1685.txt', 'case1686.txt', 'case1687.txt', 'case1688.txt', 'case1689.txt', 'case1690.txt', 'case1691.txt', 'case1692.txt', 'case1693.txt', 'case1694.txt', 'case1695.txt', 'case1696.txt', 'case1697.txt', 'case1698.txt', 'case1699.txt', 'case1700.txt', 'case1701.txt', 'case1702.txt', 'case1703.txt', 'case1704.txt', 'case1705.txt', 'case1706.txt', 'case1707.txt', 'case1709.txt', 'case1710.txt', 'case1711.txt', 'case1712.txt', 'case1713.txt', 'case1714.txt', 'case1715.txt', 'case1716.txt', 'case1718.txt', 'case1719.txt', 'case1720.txt', 'case1721.txt', 'case1723.txt', 'case1724.txt', 'case1725.txt', 'case1726.txt', 'case1727.txt', 'case1728.txt', 'case1729.txt', 'case1730.txt', 'case1731.txt', 'case1732.txt', 'case1733.txt', 'case1734.txt', 'case1735.txt', 'case1736.txt', 'case1737.txt', 'case1738.txt', 'case1739.txt', 'case1740.txt', 'case1741.txt', 'case1743.txt', 'case1745.txt', 'case1746.txt', 'case1747.txt', 'case1748.txt', 'case1749.txt', 'case1750.txt', 'case1751.txt', 'case1752.txt', 'case1753.txt', 'case1754.txt', 'case1755.txt', 'case1756.txt', 'case1757.txt', 'case1758.txt', 'case1760.txt', 'case1761.txt', 'case1762.txt', 'case1763.txt', 'case1764.txt', 'case1765.txt', 'case1766.txt', 'case1767.txt', 'case1768.txt', 'case1771.txt', 'case1772.txt', 'case1774.txt', 'case1776.txt', 'case1777.txt', 'case1778.txt', 'case1779.txt', 'case1780.txt', 'case1781.txt', 'case1782.txt', 'case1783.txt', 'case1784.txt', 'case1785.txt', 'case1786.txt', 'case1787.txt', 'case1788.txt', 'case1789.txt', 'case1790.txt', 'case1791.txt', 'case1792.txt', 'case1793.txt', 'case1795.txt', 'case1796.txt', 'case1797.txt', 'case1799.txt', 'case1800.txt', 'case1801.txt', 'case1802.txt', 'case1803.txt', 'case1804.txt', 'case1805.txt', 'case1806.txt', 'case1807.txt', 'case1809.txt', 'case1810.txt', 'case1811.txt', 'case1812.txt', 'case1813.txt', 'case1814.txt', 'case1815.txt', 'case1816.txt', 'case1817.txt', 'case1818.txt', 'case1819.txt', 'case1820.txt', 'case1821.txt', 'case1822.txt', 'case1823.txt', 'case1824.txt', 'case1825.txt', 'case1826.txt', 'case1828.txt', 'case1829.txt', 'case1830.txt', 'case1831.txt', 'case1833.txt', 'case1834.txt', 'case1835.txt', 'case1836.txt', 'case1837.txt', 'case1838.txt', 'case1840.txt', 'case1841.txt', 'case1842.txt', 'case1843.txt', 'case1844.txt', 'case1845.txt', 'case1849.txt', 'case1850.txt', 'case1851.txt', 'case1852.txt', 'case1854.txt', 'case1855.txt', 'case1856.txt', 'case1857.txt', 'case1858.txt', 'case1859.txt', 'case1860.txt', 'case1861.txt', 'case1862.txt', 'case1863.txt', 'case1864.txt', 'case1865.txt', 'case1866.txt', 'case1868.txt', 'case1869.txt', 'case1870.txt', 'case1871.txt', 'case1873.txt', 'case1874.txt', 'case1875.txt', 'case1876.txt', 'case1877.txt', 'case1878.txt', 'case1880.txt', 'case1881.txt', 'case1882.txt', 'case1883.txt', 'case1884.txt', 'case1885.txt', 'case1886.txt', 'case1888.txt', 'case1889.txt', 'case1890.txt', 'case1891.txt', 'case1892.txt', 'case1893.txt', 'case1894.txt', 'case1895.txt', 'case1898.txt', 'case1899.txt', 'case1900.txt', 'case1901.txt', 'case1902.txt', 'case1903.txt', 'case1904.txt', 'case1905.txt', 'case1906.txt', 'case1908.txt', 'case1909.txt', 'case1910.txt', 'case1912.txt', 'case1913.txt', 'case1914.txt', 'case1916.txt', 'case1917.txt', 'case1918.txt', 'case1919.txt', 'case1920.txt', 'case1921.txt', 'case1923.txt', 'case1924.txt', 'case1925.txt', 'case1926.txt', 'case1927.txt', 'case1928.txt', 'case1930.txt', 'case1931.txt', 'case1932.txt', 'case1933.txt', 'case1934.txt', 'case1935.txt', 'case1936.txt', 'case1937.txt', 'case1938.txt', 'case1939.txt', 'case1940.txt', 'case1941.txt', 'case1942.txt', 'case1943.txt', 'case1945.txt', 'case1946.txt', 'case1947.txt', 'case1948.txt', 'case1949.txt', 'case1950.txt', 'case1952.txt', 'case1953.txt', 'case1955.txt', 'case1956.txt', 'case1957.txt', 'case1958.txt', 'case1959.txt', 'case1960.txt', 'case1961.txt', 'case1962.txt', 'case1963.txt', 'case1964.txt', 'case1965.txt', 'case1966.txt', 'case1967.txt', 'case1968.txt', 'case1969.txt', 'case1970.txt', 'case1971.txt', 'case1972.txt', 'case1973.txt', 'case1975.txt', 'case1976.txt', 'case1977.txt', 'case1978.txt', 'case1980.txt', 'case1981.txt', 'case1982.txt', 'case1983.txt', 'case1984.txt', 'case1985.txt', 'case1986.txt', 'case1987.txt', 'case1988.txt', 'case1989.txt', 'case1990.txt', 'case1992.txt', 'case1993.txt', 'case1994.txt', 'case1996.txt', 'case1997.txt', 'case1998.txt', 'case2000.txt', 'case2001.txt', 'case2002.txt', 'case2003.txt', 'case2004.txt', 'case2005.txt', 'case2006.txt', 'case2007.txt', 'case2008.txt', 'case2010.txt', 'case2012.txt', 'case2013.txt', 'case2014.txt', 'case2015.txt', 'case2016.txt', 'case2017.txt', 'case2018.txt', 'case2019.txt', 'case2020.txt', 'case2022.txt', 'case2023.txt', 'case2024.txt', 'case2025.txt', 'case2026.txt', 'case2027.txt', 'case2028.txt', 'case2029.txt', 'case2030.txt', 'case2031.txt', 'case2032.txt', 'case2033.txt', 'case2034.txt', 'case2035.txt', 'case2037.txt', 'case2038.txt', 'case2040.txt', 'case2041.txt', 'case2042.txt', 'case2044.txt', 'case2045.txt', 'case2046.txt', 'case2047.txt', 'case2048.txt', 'case2049.txt', 'case2050.txt', 'case2051.txt', 'case2052.txt', 'case2053.txt', 'case2054.txt', 'case2056.txt', 'case2057.txt', 'case2058.txt', 'case2060.txt', 'case2061.txt', 'case2062.txt', 'case2063.txt', 'case2065.txt', 'case2066.txt', 'case2067.txt', 'case2068.txt', 'case2069.txt', 'case2070.txt', 'case2071.txt', 'case2072.txt', 'case2073.txt', 'case2074.txt', 'case2075.txt', 'case2076.txt', 'case2077.txt', 'case2078.txt', 'case2079.txt', 'case2080.txt', 'case2081.txt', 'case2082.txt', 'case2083.txt', 'case2084.txt', 'case2086.txt', 'case2087.txt', 'case2088.txt', 'case2089.txt', 'case2090.txt', 'case2091.txt', 'case2092.txt', 'case2093.txt', 'case2094.txt', 'case2095.txt', 'case2096.txt', 'case2097.txt', 'case2098.txt', 'case2099.txt', 'case2100.txt', 'case2101.txt', 'case2102.txt', 'case2103.txt', 'case2104.txt', 'case2105.txt', 'case2106.txt', 'case2108.txt', 'case2109.txt', 'case2110.txt', 'case2111.txt', 'case2112.txt', 'case2114.txt', 'case2115.txt', 'case2117.txt', 'case2118.txt', 'case2119.txt', 'case2122.txt', 'case2123.txt', 'case2124.txt', 'case2125.txt', 'case2126.txt', 'case2127.txt', 'case2128.txt', 'case2129.txt', 'case2130.txt', 'case2132.txt', 'case2133.txt', 'case2134.txt', 'case2135.txt', 'case2136.txt', 'case2137.txt', 'case2138.txt', 'case2139.txt', 'case2140.txt', 'case2141.txt', 'case2142.txt', 'case2143.txt', 'case2144.txt', 'case2145.txt', 'case2146.txt', 'case2147.txt', 'case2148.txt', 'case2149.txt', 'case2150.txt', 'case2151.txt', 'case2152.txt', 'case2153.txt', 'case2154.txt', 'case2156.txt', 'case2157.txt', 'case2158.txt', 'case2159.txt', 'case2160.txt', 'case2161.txt', 'case2162.txt', 'case2163.txt', 'case2164.txt', 'case2165.txt', 'case2167.txt', 'case2168.txt', 'case2169.txt', 'case2170.txt', 'case2171.txt', 'case2172.txt', 'case2173.txt', 'case2174.txt', 'case2175.txt', 'case2176.txt', 'case2178.txt', 'case2179.txt', 'case2180.txt', 'case2181.txt', 'case2182.txt', 'case2183.txt', 'case2184.txt', 'case2185.txt', 'case2187.txt', 'case2188.txt', 'case2189.txt', 'case2190.txt', 'case2191.txt', 'case2192.txt', 'case2193.txt', 'case2194.txt', 'case2195.txt', 'case2196.txt', 'case2197.txt', 'case2198.txt', 'case2199.txt', 'case2200.txt', 'case2201.txt', 'case2202.txt', 'case2203.txt', 'case2204.txt', 'case2205.txt', 'case2207.txt', 'case2208.txt', 'case2211.txt', 'case2212.txt', 'case2213.txt', 'case2214.txt', 'case2215.txt', 'case2216.txt', 'case2217.txt', 'case2218.txt', 'case2219.txt', 'case2220.txt', 'case2221.txt', 'case2222.txt', 'case2224.txt', 'case2225.txt', 'case2226.txt', 'case2228.txt', 'case2229.txt', 'case2230.txt', 'case2231.txt', 'case2232.txt', 'case2233.txt', 'case2234.txt', 'case2235.txt', 'case2236.txt', 'case2237.txt', 'case2239.txt', 'case2240.txt', 'case2241.txt', 'case2242.txt', 'case2243.txt', 'case2244.txt', 'case2245.txt', 'case2246.txt', 'case2248.txt', 'case2249.txt', 'case2250.txt', 'case2251.txt', 'case2252.txt', 'case2253.txt', 'case2254.txt', 'case2255.txt', 'case2256.txt', 'case2258.txt', 'case2259.txt', 'case2260.txt', 'case2261.txt', 'case2262.txt', 'case2263.txt', 'case2264.txt', 'case2265.txt', 'case2269.txt', 'case2270.txt', 'case2271.txt', 'case2273.txt', 'case2274.txt', 'case2275.txt', 'case2276.txt', 'case2277.txt', 'case2278.txt', 'case2279.txt', 'case2281.txt', 'case2282.txt', 'case2284.txt', 'case2285.txt', 'case2286.txt', 'case2287.txt', 'case2288.txt', 'case2289.txt', 'case2290.txt', 'case2291.txt', 'case2292.txt', 'case2294.txt', 'case2296.txt', 'case2297.txt', 'case2298.txt', 'case2299.txt', 'case2300.txt', 'case2302.txt', 'case2303.txt', 'case2304.txt', 'case2305.txt', 'case2307.txt', 'case2308.txt', 'case2310.txt', 'case2311.txt', 'case2312.txt', 'case2313.txt', 'case2314.txt', 'case2316.txt', 'case2317.txt', 'case2318.txt', 'case2319.txt', 'case2320.txt', 'case2321.txt', 'case2322.txt', 'case2323.txt', 'case2324.txt', 'case2326.txt', 'case2327.txt', 'case2328.txt', 'case2329.txt', 'case2330.txt', 'case2331.txt', 'case2333.txt', 'case2334.txt', 'case2335.txt', 'case2336.txt', 'case2337.txt', 'case2338.txt', 'case2339.txt', 'case2340.txt', 'case2341.txt', 'case2342.txt', 'case2343.txt', 'case2344.txt', 'case2345.txt', 'case2346.txt', 'case2347.txt', 'case2348.txt', 'case2349.txt', 'case2350.txt', 'case2351.txt', 'case2352.txt', 'case2353.txt', 'case2354.txt', 'case2355.txt', 'case2356.txt', 'case2357.txt', 'case2358.txt', 'case2359.txt', 'case2360.txt', 'case2361.txt', 'case2362.txt', 'case2363.txt', 'case2364.txt', 'case2365.txt', 'case2366.txt', 'case2367.txt', 'case2368.txt', 'case2369.txt', 'case2370.txt', 'case2371.txt', 'case2372.txt', 'case2373.txt', 'case2374.txt', 'case2375.txt', 'case2376.txt', 'case2377.txt', 'case2378.txt', 'case2379.txt', 'case2380.txt', 'case2381.txt', 'case2382.txt', 'case2383.txt', 'case2384.txt', 'case2385.txt', 'case2386.txt', 'case2387.txt', 'case2388.txt', 'case2389.txt', 'case2391.txt', 'case2392.txt', 'case2393.txt', 'case2394.txt', 'case2396.txt', 'case2397.txt', 'case2398.txt', 'case2399.txt', 'case2401.txt', 'case2402.txt', 'case2403.txt', 'case2405.txt', 'case2406.txt', 'case2407.txt', 'case2408.txt', 'case2409.txt', 'case2411.txt', 'case2412.txt', 'case2413.txt', 'case2415.txt', 'case2416.txt', 'case2417.txt', 'case2418.txt', 'case2419.txt', 'case2422.txt', 'case2423.txt', 'case2424.txt', 'case2425.txt', 'case2426.txt', 'case2427.txt', 'case2428.txt', 'case2429.txt', 'case2430.txt', 'case2431.txt', 'case2432.txt', 'case2433.txt', 'case2434.txt', 'case2435.txt', 'case2436.txt', 'case2437.txt', 'case2438.txt', 'case2439.txt', 'case2441.txt', 'case2442.txt', 'case2443.txt', 'case2444.txt', 'case2445.txt', 'case2446.txt', 'case2447.txt', 'case2448.txt', 'case2449.txt', 'case2450.txt', 'case2451.txt', 'case2452.txt', 'case2453.txt', 'case2454.txt', 'case2455.txt', 'case2457.txt', 'case2458.txt', 'case2459.txt', 'case2460.txt', 'case2461.txt', 'case2462.txt', 'case2463.txt', 'case2464.txt', 'case2466.txt', 'case2467.txt', 'case2468.txt', 'case2469.txt', 'case2470.txt', 'case2471.txt', 'case2472.txt', 'case2473.txt', 'case2474.txt', 'case2475.txt', 'case2476.txt', 'case2477.txt', 'case2478.txt', 'case2480.txt', 'case2481.txt', 'case2483.txt', 'case2484.txt', 'case2485.txt', 'case2486.txt', 'case2487.txt', 'case2488.txt', 'case2489.txt', 'case2490.txt', 'case2491.txt', 'case2492.txt', 'case2493.txt', 'case2495.txt', 'case2496.txt', 'case2497.txt', 'case2498.txt', 'case2499.txt', 'case2502.txt', 'case2503.txt', 'case2504.txt', 'case2505.txt', 'case2506.txt', 'case2507.txt', 'case2508.txt', 'case2509.txt', 'case2510.txt', 'case2511.txt', 'case2512.txt', 'case2513.txt', 'case2514.txt', 'case2516.txt', 'case2517.txt', 'case2519.txt', 'case2520.txt', 'case2522.txt', 'case2523.txt', 'case2524.txt', 'case2526.txt', 'case2527.txt', 'case2528.txt', 'case2530.txt', 'case2531.txt', 'case2532.txt', 'case2534.txt', 'case2536.txt', 'case2539.txt', 'case2540.txt', 'case2541.txt', 'case2542.txt', 'case2543.txt', 'case2544.txt', 'case2545.txt', 'case2546.txt', 'case2547.txt', 'case2548.txt', 'case2549.txt', 'case2550.txt', 'case2551.txt', 'case2552.txt', 'case2553.txt', 'case2554.txt', 'case2555.txt', 'case2557.txt', 'case2558.txt', 'case2559.txt', 'case2560.txt', 'case2561.txt', 'case2562.txt', 'case2563.txt', 'case2564.txt', 'case2565.txt', 'case2566.txt', 'case2567.txt', 'case2568.txt', 'case2569.txt', 'case2570.txt', 'case2571.txt', 'case2572.txt', 'case2573.txt', 'case2574.txt', 'case2575.txt', 'case2576.txt', 'case2577.txt', 'case2579.txt', 'case2580.txt', 'case2581.txt', 'case2582.txt', 'case2583.txt', 'case2584.txt', 'case2585.txt', 'case2586.txt', 'case2587.txt', 'case2588.txt', 'case2589.txt', 'case2590.txt', 'case2591.txt', 'case2592.txt', 'case2593.txt', 'case2595.txt', 'case2596.txt', 'case2597.txt', 'case2598.txt', 'case2599.txt', 'case2600.txt', 'case2602.txt', 'case2603.txt', 'case2604.txt', 'case2605.txt', 'case2606.txt', 'case2607.txt', 'case2608.txt', 'case2609.txt', 'case2610.txt', 'case2611.txt', 'case2614.txt', 'case2615.txt', 'case2616.txt', 'case2617.txt', 'case2619.txt', 'case2620.txt', 'case2621.txt', 'case2622.txt', 'case2623.txt', 'case2624.txt', 'case2625.txt', 'case2626.txt', 'case2627.txt', 'case2628.txt', 'case2629.txt', 'case2630.txt', 'case2632.txt', 'case2633.txt', 'case2634.txt', 'case2635.txt', 'case2636.txt', 'case2637.txt', 'case2639.txt', 'case2640.txt', 'case2641.txt', 'case2642.txt', 'case2643.txt', 'case2644.txt', 'case2645.txt', 'case2646.txt', 'case2647.txt', 'case2649.txt', 'case2650.txt', 'case2651.txt', 'case2652.txt', 'case2654.txt', 'case2655.txt', 'case2656.txt', 'case2657.txt', 'case2658.txt', 'case2659.txt', 'case2661.txt', 'case2662.txt', 'case2663.txt', 'case2664.txt', 'case2665.txt', 'case2667.txt', 'case2668.txt', 'case2669.txt', 'case2670.txt', 'case2671.txt', 'case2672.txt', 'case2673.txt', 'case2674.txt', 'case2675.txt', 'case2677.txt', 'case2678.txt', 'case2679.txt', 'case2680.txt', 'case2681.txt', 'case2682.txt', 'case2683.txt', 'case2684.txt', 'case2685.txt', 'case2686.txt', 'case2687.txt', 'case2689.txt', 'case2690.txt', 'case2691.txt', 'case2692.txt', 'case2693.txt', 'case2694.txt', 'case2696.txt', 'case2697.txt', 'case2700.txt', 'case2701.txt', 'case2702.txt', 'case2703.txt', 'case2704.txt', 'case2706.txt', 'case2707.txt', 'case2708.txt', 'case2709.txt', 'case2710.txt', 'case2711.txt', 'case2712.txt', 'case2713.txt', 'case2714.txt', 'case2715.txt', 'case2716.txt', 'case2717.txt', 'case2718.txt', 'case2719.txt', 'case2721.txt', 'case2722.txt', 'case2723.txt', 'case2724.txt', 'case2725.txt', 'case2726.txt', 'case2727.txt', 'case2728.txt', 'case2729.txt', 'case2730.txt', 'case2732.txt', 'case2733.txt', 'case2734.txt', 'case2735.txt', 'case2736.txt', 'case2739.txt', 'case2740.txt', 'case2741.txt', 'case2742.txt', 'case2743.txt', 'case2744.txt', 'case2745.txt', 'case2747.txt', 'case2748.txt', 'case2749.txt', 'case2750.txt', 'case2751.txt', 'case2752.txt', 'case2753.txt', 'case2754.txt', 'case2756.txt', 'case2757.txt', 'case2758.txt', 'case2760.txt', 'case2761.txt', 'case2762.txt', 'case2763.txt', 'case2764.txt', 'case2765.txt', 'case2766.txt', 'case2769.txt', 'case2770.txt', 'case2771.txt', 'case2772.txt', 'case2773.txt', 'case2774.txt', 'case2775.txt', 'case2776.txt', 'case2777.txt', 'case2778.txt', 'case2779.txt', 'case2780.txt', 'case2781.txt', 'case2783.txt', 'case2784.txt', 'case2785.txt', 'case2787.txt', 'case2788.txt', 'case2789.txt', 'case2790.txt', 'case2791.txt', 'case2792.txt', 'case2793.txt', 'case2794.txt', 'case2795.txt', 'case2797.txt', 'case2798.txt', 'case2799.txt', 'case2800.txt', 'case2802.txt', 'case2803.txt', 'case2804.txt', 'case2805.txt', 'case2806.txt', 'case2807.txt', 'case2808.txt', 'case2809.txt', 'case2811.txt', 'case2812.txt', 'case2813.txt', 'case2814.txt', 'case2815.txt', 'case2816.txt', 'case2817.txt', 'case2818.txt', 'case2819.txt', 'case2820.txt', 'case2822.txt', 'case2823.txt', 'case2824.txt', 'case2825.txt', 'case2827.txt', 'case2828.txt', 'case2829.txt', 'case2830.txt', 'case2831.txt', 'case2832.txt', 'case2833.txt', 'case2834.txt', 'case2835.txt', 'case2836.txt', 'case2837.txt', 'case2838.txt', 'case2839.txt', 'case2840.txt', 'case2841.txt', 'case2842.txt', 'case2843.txt', 'case2844.txt', 'case2846.txt', 'case2847.txt', 'case2848.txt', 'case2849.txt', 'case2850.txt', 'case2851.txt', 'case2852.txt', 'case2853.txt', 'case2854.txt', 'case2855.txt', 'case2857.txt', 'case2858.txt', 'case2859.txt', 'case2860.txt', 'case2861.txt', 'case2862.txt', 'case2863.txt', 'case2864.txt', 'case2865.txt', 'case2866.txt', 'case2867.txt', 'case2868.txt', 'case2869.txt', 'case2870.txt', 'case2871.txt', 'case2872.txt', 'case2873.txt', 'case2874.txt', 'case2875.txt', 'case2876.txt', 'case2877.txt', 'case2878.txt', 'case2879.txt', 'case2880.txt', 'case2881.txt', 'case2882.txt', 'case2883.txt', 'case2884.txt', 'case2885.txt', 'case2886.txt', 'case2887.txt', 'case2888.txt', 'case2889.txt', 'case2890.txt', 'case2891.txt', 'case2892.txt', 'case2893.txt', 'case2894.txt', 'case2895.txt', 'case2896.txt', 'case2897.txt', 'case2898.txt', 'case2899.txt', 'case2900.txt', 'case2901.txt', 'case2902.txt', 'case2903.txt', 'case2905.txt', 'case2906.txt', 'case2907.txt', 'case2909.txt', 'case2910.txt', 'case2911.txt', 'case2913.txt', 'case2915.txt', 'case2916.txt', 'case2917.txt', 'case2918.txt', 'case2919.txt', 'case2921.txt', 'case2922.txt', 'case2923.txt', 'case2924.txt', 'case2925.txt', 'case2926.txt', 'case2927.txt', 'case2928.txt', 'case2929.txt', 'case2930.txt', 'case2931.txt', 'case2932.txt', 'case2933.txt', 'case2934.txt', 'case2935.txt', 'case2937.txt', 'case2939.txt', 'case2940.txt', 'case2941.txt', 'case2943.txt', 'case2944.txt', 'case2945.txt', 'case2946.txt', 'case2947.txt', 'case2948.txt', 'case2949.txt', 'case2950.txt', 'case2951.txt', 'case2952.txt', 'case2953.txt', 'case2954.txt', 'case2955.txt', 'case2956.txt', 'case2957.txt', 'case2958.txt', 'case2959.txt', 'case2960.txt', 'case2961.txt', 'case2962.txt', 'case2963.txt', 'case2964.txt', 'case2966.txt', 'case2967.txt', 'case2969.txt', 'case2970.txt', 'case2971.txt', 'case2972.txt', 'case2973.txt', 'case2974.txt', 'case2975.txt', 'case2976.txt', 'case2977.txt', 'case2978.txt', 'case2979.txt', 'case2980.txt', 'case2981.txt', 'case2982.txt', 'case2983.txt', 'case2984.txt', 'case2985.txt', 'case2987.txt', 'case2988.txt', 'case2989.txt', 'case2990.txt', 'case2991.txt', 'case2993.txt', 'case2995.txt', 'case2996.txt', 'case2998.txt', 'case2999.txt', 'case3000.txt', 'case3001.txt', 'case3003.txt', 'case3004.txt', 'case3005.txt', 'case3006.txt', 'case3008.txt', 'case3010.txt', 'case3011.txt', 'case3012.txt', 'case3013.txt', 'case3014.txt', 'case3015.txt', 'case3016.txt', 'case3017.txt', 'case3020.txt', 'case3021.txt', 'case3022.txt', 'case3023.txt', 'case3024.txt', 'case3025.txt', 'case3026.txt', 'case3027.txt', 'case3028.txt', 'case3029.txt', 'case3030.txt', 'case3031.txt', 'case3032.txt', 'case3033.txt', 'case3034.txt', 'case3035.txt', 'case3036.txt', 'case3037.txt', 'case3038.txt', 'case3039.txt', 'case3040.txt', 'case3041.txt', 'case3042.txt', 'case3043.txt', 'case3045.txt', 'case3046.txt', 'case3047.txt', 'case3049.txt', 'case3050.txt', 'case3051.txt', 'case3052.txt', 'case3053.txt', 'case3054.txt', 'case3055.txt', 'case3056.txt', 'case3057.txt', 'case3058.txt', 'case3059.txt', 'case3060.txt', 'case3061.txt', 'case3062.txt', 'case3063.txt', 'case3064.txt', 'case3065.txt', 'case3066.txt', 'case3067.txt', 'case3068.txt', 'case3069.txt', 'case3071.txt', 'case3072.txt', 'case3075.txt', 'case3076.txt', 'case3077.txt', 'case3078.txt', 'case3079.txt', 'case3081.txt', 'case3082.txt', 'case3083.txt', 'case3084.txt', 'case3086.txt', 'case3087.txt', 'case3088.txt', 'case3089.txt', 'case3090.txt', 'case3091.txt', 'case3092.txt', 'case3094.txt', 'case3095.txt', 'case3096.txt', 'case3097.txt', 'case3098.txt', 'case3099.txt', 'case3100.txt', 'case3101.txt', 'case3102.txt', 'case3103.txt', 'case3104.txt', 'case3105.txt', 'case3106.txt', 'case3107.txt', 'case3108.txt', 'case3110.txt', 'case3111.txt', 'case3112.txt', 'case3113.txt', 'case3114.txt', 'case3115.txt', 'case3116.txt', 'case3117.txt', 'case3118.txt', 'case3119.txt', 'case3121.txt', 'case3122.txt', 'case3123.txt', 'case3124.txt', 'case3126.txt', 'case3127.txt', 'case3128.txt', 'case3129.txt', 'case3130.txt', 'case3131.txt', 'case3132.txt', 'case3133.txt', 'case3135.txt', 'case3136.txt', 'case3137.txt', 'case3139.txt', 'case3140.txt', 'case3142.txt', 'case3143.txt', 'case3144.txt', 'case3145.txt', 'case3146.txt', 'case3147.txt', 'case3148.txt', 'case3152.txt', 'case3153.txt', 'case3154.txt', 'case3156.txt', 'case3157.txt', 'case3158.txt', 'case3159.txt', 'case3160.txt', 'case3161.txt', 'case3162.txt', 'case3163.txt', 'case3164.txt', 'case3165.txt', 'case3166.txt', 'case3167.txt', 'case3168.txt', 'case3169.txt', 'case3170.txt', 'case3171.txt', 'case3172.txt', 'case3174.txt', 'case3175.txt', 'case3177.txt', 'case3178.txt', 'case3179.txt', 'case3180.txt', 'case3181.txt', 'case3182.txt', 'case3183.txt', 'case3184.txt', 'case3185.txt', 'case3186.txt', 'case3187.txt', 'case3188.txt', 'case3189.txt', 'case3190.txt', 'case3191.txt', 'case3193.txt', 'case3195.txt', 'case3196.txt', 'case3197.txt', 'case3198.txt', 'case3199.txt', 'case3200.txt', 'case3201.txt', 'case3202.txt', 'case3203.txt', 'case3204.txt', 'case3205.txt', 'case3206.txt', 'case3207.txt', 'case3208.txt', 'case3209.txt', 'case3210.txt', 'case3211.txt', 'case3212.txt', 'case3213.txt', 'case3214.txt', 'case3215.txt', 'case3216.txt', 'case3217.txt', 'case3218.txt', 'case3219.txt', 'case3220.txt', 'case3221.txt', 'case3222.txt', 'case3224.txt', 'case3225.txt', 'case3226.txt', 'case3227.txt', 'case3228.txt', 'case3229.txt', 'case3230.txt', 'case3231.txt', 'case3232.txt', 'case3233.txt', 'case3234.txt', 'case3235.txt', 'case3237.txt', 'case3238.txt', 'case3239.txt', 'case3242.txt', 'case3243.txt', 'case3244.txt', 'case3245.txt', 'case3246.txt', 'case3247.txt', 'case3250.txt', 'case3252.txt', 'case3253.txt', 'case3254.txt', 'case3255.txt', 'case3256.txt', 'case3257.txt', 'case3258.txt', 'case3259.txt', 'case3260.txt', 'case3261.txt', 'case3262.txt', 'case3263.txt', 'case3265.txt', 'case3266.txt', 'case3267.txt', 'case3268.txt', 'case3269.txt', 'case3270.txt', 'case3271.txt', 'case3272.txt', 'case3273.txt', 'case3274.txt', 'case3275.txt', 'case3276.txt', 'case3277.txt', 'case3278.txt', 'case3279.txt', 'case3280.txt', 'case3281.txt', 'case3282.txt', 'case3284.txt', 'case3285.txt', 'case3286.txt', 'case3287.txt', 'case3288.txt', 'case3289.txt', 'case3290.txt', 'case3291.txt', 'case3292.txt', 'case3293.txt', 'case3294.txt', 'case3295.txt', 'case3296.txt', 'case3297.txt', 'case3298.txt', 'case3299.txt', 'case3300.txt', 'case3301.txt', 'case3302.txt', 'case3304.txt', 'case3305.txt', 'case3306.txt', 'case3307.txt', 'case3308.txt', 'case3309.txt', 'case3310.txt', 'case3311.txt', 'case3312.txt', 'case3313.txt', 'case3314.txt', 'case3316.txt', 'case3317.txt', 'case3318.txt', 'case3319.txt', 'case3320.txt', 'case3321.txt', 'case3323.txt', 'case3326.txt', 'case3327.txt', 'case3328.txt', 'case3329.txt', 'case3330.txt', 'case3331.txt', 'case3332.txt', 'case3333.txt', 'case3334.txt', 'case3335.txt', 'case3336.txt', 'case3337.txt', 'case3339.txt', 'case3340.txt', 'case3341.txt', 'case3342.txt', 'case3343.txt', 'case3344.txt', 'case3345.txt', 'case3346.txt', 'case3348.txt', 'case3349.txt', 'case3350.txt', 'case3351.txt', 'case3352.txt', 'case3353.txt', 'case3354.txt', 'case3355.txt', 'case3356.txt', 'case3357.txt', 'case3358.txt', 'case3360.txt', 'case3361.txt', 'case3362.txt', 'case3363.txt', 'case3364.txt', 'case3365.txt', 'case3366.txt', 'case3367.txt', 'case3368.txt', 'case3369.txt', 'case3370.txt', 'case3371.txt', 'case3372.txt', 'case3373.txt', 'case3374.txt', 'case3375.txt', 'case3376.txt', 'case3377.txt', 'case3378.txt', 'case3379.txt', 'case3380.txt', 'case3382.txt', 'case3383.txt', 'case3384.txt', 'case3386.txt', 'case3387.txt', 'case3388.txt', 'case3389.txt', 'case3390.txt', 'case3391.txt', 'case3392.txt', 'case3393.txt', 'case3394.txt', 'case3395.txt', 'case3396.txt', 'case3397.txt', 'case3398.txt', 'case3399.txt', 'case3400.txt', 'case3401.txt', 'case3402.txt', 'case3403.txt', 'case3404.txt', 'case3405.txt', 'case3407.txt', 'case3408.txt', 'case3409.txt', 'case3410.txt', 'case3411.txt', 'case3412.txt', 'case3413.txt', 'case3414.txt', 'case3415.txt', 'case3416.txt', 'case3417.txt', 'case3419.txt', 'case3421.txt', 'case3422.txt', 'case3423.txt', 'case3424.txt', 'case3425.txt', 'case3426.txt', 'case3427.txt', 'case3428.txt', 'case3430.txt', 'case3431.txt', 'case3432.txt', 'case3433.txt', 'case3434.txt', 'case3435.txt', 'case3436.txt', 'case3437.txt', 'case3439.txt', 'case3440.txt', 'case3441.txt', 'case3442.txt', 'case3444.txt', 'case3445.txt', 'case3446.txt', 'case3447.txt', 'case3448.txt', 'case3450.txt', 'case3451.txt', 'case3452.txt', 'case3453.txt', 'case3454.txt', 'case3455.txt', 'case3456.txt', 'case3457.txt', 'case3458.txt', 'case3459.txt', 'case3460.txt', 'case3461.txt', 'case3462.txt', 'case3464.txt', 'case3465.txt', 'case3467.txt', 'case3468.txt', 'case3469.txt', 'case3470.txt', 'case3471.txt', 'case3472.txt', 'case3474.txt', 'case3475.txt', 'case3476.txt', 'case3477.txt', 'case3478.txt', 'case3479.txt', 'case3480.txt', 'case3481.txt', 'case3483.txt', 'case3484.txt', 'case3485.txt', 'case3486.txt', 'case3488.txt', 'case3489.txt', 'case3490.txt', 'case3491.txt', 'case3493.txt', 'case3495.txt', 'case3497.txt', 'case3499.txt', 'case3500.txt', 'case3501.txt', 'case3502.txt', 'case3504.txt', 'case3506.txt', 'case3507.txt', 'case3508.txt', 'case3509.txt', 'case3510.txt', 'case3511.txt', 'case3512.txt', 'case3513.txt', 'case3514.txt', 'case3517.txt', 'case3518.txt', 'case3519.txt', 'case3520.txt', 'case3521.txt', 'case3522.txt', 'case3523.txt', 'case3524.txt', 'case3525.txt', 'case3526.txt', 'case3527.txt', 'case3528.txt', 'case3529.txt', 'case3530.txt', 'case3531.txt', 'case3532.txt', 'case3533.txt', 'case3534.txt', 'case3535.txt', 'case3536.txt', 'case3537.txt', 'case3538.txt', 'case3539.txt', 'case3540.txt', 'case3541.txt', 'case3543.txt', 'case3544.txt', 'case3545.txt', 'case3546.txt', 'case3547.txt', 'case3548.txt', 'case3549.txt', 'case3551.txt', 'case3552.txt', 'case3553.txt', 'case3554.txt', 'case3555.txt', 'case3557.txt', 'case3558.txt', 'case3559.txt', 'case3560.txt', 'case3561.txt', 'case3562.txt', 'case3563.txt', 'case3564.txt', 'case3565.txt', 'case3566.txt', 'case3567.txt', 'case3569.txt', 'case3570.txt', 'case3571.txt', 'case3573.txt', 'case3574.txt', 'case3575.txt', 'case3576.txt', 'case3577.txt', 'case3579.txt', 'case3580.txt', 'case3581.txt', 'case3582.txt', 'case3584.txt', 'case3585.txt', 'case3586.txt', 'case3588.txt', 'case3589.txt', 'case3590.txt', 'case3591.txt', 'case3592.txt', 'case3593.txt', 'case3594.txt', 'case3595.txt', 'case3596.txt', 'case3597.txt', 'case3598.txt', 'case3599.txt', 'case3600.txt', 'case3601.txt', 'case3602.txt', 'case3603.txt', 'case3604.txt', 'case3605.txt', 'case3606.txt', 'case3608.txt', 'case3609.txt', 'case3610.txt', 'case3611.txt', 'case3612.txt', 'case3613.txt', 'case3614.txt', 'case3615.txt', 'case3616.txt', 'case3617.txt', 'case3618.txt', 'case3619.txt', 'case3620.txt', 'case3623.txt', 'case3624.txt', 'case3625.txt', 'case3626.txt', 'case3627.txt', 'case3629.txt', 'case3630.txt', 'case3632.txt', 'case3633.txt', 'case3634.txt', 'case3635.txt', 'case3636.txt', 'case3637.txt', 'case3638.txt', 'case3639.txt', 'case3640.txt', 'case3641.txt', 'case3642.txt', 'case3643.txt', 'case3644.txt', 'case3645.txt', 'case3646.txt', 'case3647.txt', 'case3648.txt', 'case3649.txt', 'case3650.txt', 'case3651.txt', 'case3652.txt', 'case3653.txt', 'case3654.txt', 'case3656.txt', 'case3658.txt', 'case3659.txt', 'case3660.txt', 'case3661.txt', 'case3663.txt', 'case3664.txt', 'case3665.txt', 'case3666.txt', 'case3667.txt', 'case3669.txt', 'case3670.txt', 'case3671.txt', 'case3672.txt', 'case3673.txt', 'case3674.txt', 'case3675.txt', 'case3676.txt', 'case3678.txt', 'case3679.txt', 'case3680.txt', 'case3681.txt', 'case3682.txt', 'case3684.txt', 'case3685.txt', 'case3686.txt', 'case3687.txt', 'case3688.txt', 'case3690.txt', 'case3691.txt', 'case3692.txt', 'case3693.txt', 'case3694.txt', 'case3696.txt', 'case3698.txt', 'case3699.txt', 'case3701.txt', 'case3702.txt', 'case3703.txt', 'case3704.txt', 'case3705.txt', 'case3706.txt', 'case3707.txt', 'case3708.txt', 'case3709.txt', 'case3710.txt', 'case3711.txt', 'case3712.txt', 'case3714.txt', 'case3715.txt', 'case3716.txt', 'case3718.txt', 'case3719.txt', 'case3720.txt', 'case3721.txt', 'case3722.txt', 'case3723.txt', 'case3724.txt', 'case3725.txt', 'case3726.txt', 'case3727.txt', 'case3728.txt', 'case3729.txt', 'case3730.txt', 'case3731.txt', 'case3732.txt', 'case3733.txt', 'case3734.txt', 'case3736.txt', 'case3737.txt', 'case3738.txt', 'case3740.txt', 'case3741.txt', 'case3742.txt', 'case3744.txt', 'case3745.txt', 'case3746.txt', 'case3747.txt', 'case3748.txt', 'case3749.txt', 'case3750.txt', 'case3751.txt', 'case3753.txt', 'case3754.txt', 'case3755.txt', 'case3756.txt', 'case3757.txt', 'case3758.txt', 'case3759.txt', 'case3760.txt', 'case3761.txt', 'case3762.txt', 'case3763.txt', 'case3766.txt', 'case3767.txt', 'case3768.txt', 'case3769.txt', 'case3771.txt', 'case3772.txt', 'case3774.txt', 'case3775.txt', 'case3776.txt', 'case3777.txt', 'case3778.txt', 'case3779.txt', 'case3780.txt', 'case3781.txt', 'case3782.txt', 'case3783.txt', 'case3784.txt', 'case3785.txt', 'case3786.txt', 'case3787.txt', 'case3788.txt', 'case3789.txt', 'case3790.txt', 'case3791.txt', 'case3792.txt', 'case3794.txt', 'case3795.txt', 'case3796.txt', 'case3797.txt', 'case3798.txt', 'case3799.txt', 'case3800.txt', 'case3802.txt', 'case3803.txt', 'case3805.txt', 'case3806.txt', 'case3807.txt', 'case3808.txt', 'case3809.txt', 'case3810.txt', 'case3811.txt', 'case3812.txt', 'case3813.txt', 'case3814.txt', 'case3815.txt', 'case3816.txt', 'case3817.txt', 'case3818.txt', 'case3819.txt', 'case3820.txt', 'case3821.txt', 'case3822.txt', 'case3823.txt', 'case3824.txt', 'case3825.txt', 'case3826.txt', 'case3827.txt', 'case3829.txt', 'case3830.txt', 'case3831.txt', 'case3832.txt', 'case3833.txt', 'case3834.txt', 'case3835.txt', 'case3836.txt', 'case3837.txt', 'case3839.txt', 'case3840.txt', 'case3841.txt', 'case3842.txt', 'case3843.txt', 'case3844.txt', 'case3846.txt', 'case3847.txt', 'case3850.txt', 'case3851.txt', 'case3852.txt', 'case3853.txt', 'case3854.txt', 'case3856.txt', 'case3857.txt', 'case3858.txt', 'case3859.txt', 'case3860.txt', 'case3861.txt', 'case3862.txt', 'case3864.txt', 'case3865.txt', 'case3866.txt', 'case3867.txt', 'case3868.txt', 'case3869.txt', 'case3870.txt', 'case3872.txt', 'case3873.txt', 'case3874.txt', 'case3875.txt', 'case3876.txt', 'case3877.txt', 'case3878.txt', 'case3881.txt', 'case3882.txt', 'case3884.txt', 'case3885.txt', 'case3886.txt', 'case3887.txt', 'case3888.txt', 'case3889.txt', 'case3890.txt', 'case3891.txt', 'case3892.txt', 'case3893.txt', 'case3894.txt', 'case3895.txt', 'case3896.txt', 'case3897.txt', 'case3898.txt', 'case3899.txt', 'case3900.txt', 'case3901.txt', 'case3902.txt', 'case3903.txt', 'case3904.txt', 'case3905.txt', 'case3906.txt', 'case3907.txt', 'case3909.txt', 'case3910.txt', 'case3911.txt', 'case3912.txt', 'case3913.txt', 'case3914.txt', 'case3916.txt', 'case3917.txt', 'case3918.txt', 'case3919.txt', 'case3920.txt', 'case3921.txt', 'case3922.txt', 'case3923.txt', 'case3924.txt', 'case3925.txt', 'case3926.txt', 'case3927.txt', 'case3928.txt', 'case3929.txt', 'case3930.txt', 'case3931.txt', 'case3932.txt', 'case3933.txt', 'case3934.txt', 'case3935.txt', 'case3936.txt', 'case3937.txt', 'case3938.txt', 'case3940.txt', 'case3941.txt', 'case3942.txt', 'case3943.txt', 'case3944.txt', 'case3946.txt', 'case3947.txt', 'case3948.txt', 'case3949.txt', 'case3950.txt', 'case3952.txt', 'case3954.txt', 'case3956.txt', 'case3957.txt', 'case3958.txt', 'case3959.txt', 'case3960.txt', 'case3961.txt', 'case3962.txt', 'case3963.txt', 'case3965.txt', 'case3966.txt', 'case3967.txt', 'case3969.txt', 'case3970.txt', 'case3971.txt', 'case3972.txt', 'case3973.txt', 'case3974.txt', 'case3975.txt', 'case3976.txt', 'case3977.txt', 'case3978.txt', 'case3979.txt', 'case3980.txt', 'case3981.txt', 'case3983.txt', 'case3984.txt', 'case3985.txt', 'case3986.txt', 'case3988.txt', 'case3989.txt', 'case3991.txt', 'case3994.txt', 'case3995.txt', 'case3996.txt', 'case3997.txt', 'case3998.txt', 'case3999.txt', 'case4000.txt', 'case4001.txt', 'case4002.txt', 'case4003.txt', 'case4004.txt', 'case4007.txt', 'case4008.txt', 'case4009.txt', 'case4010.txt', 'case4011.txt', 'case4012.txt', 'case4013.txt', 'case4014.txt', 'case4015.txt', 'case4017.txt', 'case4018.txt', 'case4019.txt', 'case4020.txt', 'case4021.txt', 'case4022.txt', 'case4023.txt', 'case4024.txt', 'case4025.txt', 'case4026.txt', 'case4027.txt', 'case4028.txt', 'case4029.txt', 'case4030.txt', 'case4031.txt', 'case4032.txt', 'case4033.txt', 'case4034.txt', 'case4035.txt', 'case4036.txt', 'case4037.txt', 'case4038.txt', 'case4039.txt', 'case4040.txt', 'case4041.txt', 'case4042.txt', 'case4043.txt', 'case4044.txt', 'case4046.txt', 'case4047.txt', 'case4048.txt', 'case4049.txt', 'case4051.txt', 'case4052.txt', 'case4053.txt', 'case4054.txt', 'case4056.txt', 'case4057.txt', 'case4058.txt', 'case4059.txt', 'case4060.txt', 'case4061.txt', 'case4062.txt', 'case4063.txt', 'case4066.txt', 'case4067.txt', 'case4068.txt', 'case4069.txt', 'case4070.txt', 'case4071.txt', 'case4072.txt', 'case4073.txt', 'case4074.txt', 'case4076.txt', 'case4077.txt', 'case4078.txt', 'case4080.txt', 'case4081.txt', 'case4082.txt', 'case4083.txt', 'case4084.txt', 'case4085.txt', 'case4086.txt', 'case4087.txt', 'case4089.txt', 'case4090.txt', 'case4092.txt', 'case4093.txt', 'case4095.txt', 'case4096.txt', 'case4098.txt', 'case4099.txt', 'case4101.txt', 'case4103.txt', 'case4104.txt', 'case4105.txt', 'case4106.txt', 'case4107.txt', 'case4108.txt', 'case4109.txt', 'case4110.txt', 'case4111.txt', 'case4112.txt', 'case4113.txt', 'case4114.txt', 'case4115.txt', 'case4116.txt', 'case4117.txt', 'case4118.txt', 'case4119.txt', 'case4121.txt', 'case4122.txt', 'case4123.txt', 'case4124.txt', 'case4125.txt', 'case4126.txt', 'case4127.txt', 'case4129.txt', 'case4130.txt', 'case4133.txt', 'case4134.txt', 'case4136.txt', 'case4137.txt', 'case4138.txt', 'case4139.txt', 'case4140.txt', 'case4141.txt', 'case4142.txt', 'case4143.txt', 'case4144.txt', 'case4145.txt', 'case4146.txt', 'case4147.txt', 'case4148.txt', 'case4149.txt', 'case4150.txt', 'case4151.txt', 'case4152.txt', 'case4153.txt', 'case4154.txt', 'case4155.txt', 'case4156.txt', 'case4157.txt', 'case4158.txt', 'case4159.txt', 'case4160.txt', 'case4161.txt', 'case4162.txt', 'case4163.txt', 'case4164.txt', 'case4165.txt', 'case4166.txt', 'case4167.txt', 'case4168.txt', 'case4169.txt', 'case4170.txt', 'case4171.txt', 'case4172.txt', 'case4173.txt', 'case4174.txt', 'case4175.txt', 'case4176.txt', 'case4177.txt', 'case4178.txt', 'case4179.txt', 'case4180.txt', 'case4181.txt', 'case4182.txt', 'case4183.txt', 'case4184.txt', 'case4185.txt', 'case4187.txt', 'case4188.txt', 'case4189.txt', 'case4190.txt', 'case4192.txt', 'case4193.txt', 'case4194.txt', 'case4195.txt', 'case4196.txt', 'case4197.txt', 'case4198.txt', 'case4199.txt', 'case4200.txt', 'case4201.txt', 'case4202.txt', 'case4203.txt', 'case4204.txt', 'case4205.txt', 'case4206.txt', 'case4207.txt', 'case4208.txt', 'case4209.txt', 'case4210.txt', 'case4214.txt', 'case4215.txt', 'case4216.txt', 'case4217.txt', 'case4218.txt', 'case4219.txt', 'case4220.txt', 'case4221.txt', 'case4222.txt', 'case4223.txt', 'case4224.txt', 'case4225.txt', 'case4226.txt', 'case4227.txt', 'case4228.txt', 'case4229.txt', 'case4230.txt', 'case4231.txt', 'case4232.txt', 'case4233.txt', 'case4234.txt', 'case4235.txt', 'case4236.txt', 'case4237.txt', 'case4238.txt', 'case4239.txt', 'case4240.txt', 'case4241.txt', 'case4242.txt', 'case4243.txt', 'case4244.txt', 'case4246.txt', 'case4247.txt', 'case4248.txt', 'case4250.txt', 'case4251.txt', 'case4252.txt', 'case4253.txt', 'case4254.txt', 'case4255.txt', 'case4256.txt', 'case4257.txt', 'case4258.txt', 'case4259.txt', 'case4260.txt', 'case4261.txt', 'case4263.txt', 'case4264.txt', 'case4265.txt', 'case4266.txt', 'case4268.txt', 'case4269.txt', 'case4270.txt', 'case4271.txt', 'case4272.txt', 'case4273.txt', 'case4274.txt', 'case4275.txt', 'case4276.txt', 'case4277.txt', 'case4278.txt', 'case4279.txt', 'case4280.txt', 'case4281.txt', 'case4282.txt', 'case4283.txt', 'case4284.txt', 'case4285.txt', 'case4286.txt', 'case4287.txt', 'case4288.txt', 'case4289.txt', 'case4290.txt', 'case4292.txt', 'case4293.txt', 'case4294.txt', 'case4295.txt', 'case4296.txt', 'case4298.txt', 'case4299.txt', 'case4301.txt', 'case4302.txt', 'case4303.txt', 'case4304.txt', 'case4305.txt', 'case4306.txt', 'case4307.txt', 'case4308.txt', 'case4309.txt', 'case4311.txt', 'case4312.txt', 'case4314.txt', 'case4315.txt', 'case4316.txt', 'case4317.txt', 'case4318.txt', 'case4319.txt', 'case4320.txt', 'case4321.txt', 'case4323.txt', 'case4325.txt', 'case4326.txt', 'case4328.txt', 'case4329.txt', 'case4330.txt', 'case4331.txt', 'case4333.txt', 'case4335.txt', 'case4336.txt', 'case4338.txt', 'case4339.txt', 'case4340.txt', 'case4341.txt', 'case4342.txt', 'case4343.txt', 'case4344.txt', 'case4345.txt', 'case4346.txt', 'case4347.txt', 'case4348.txt', 'case4349.txt', 'case4350.txt', 'case4351.txt', 'case4352.txt', 'case4353.txt', 'case4354.txt', 'case4355.txt', 'case4356.txt', 'case4358.txt', 'case4359.txt', 'case4360.txt', 'case4361.txt', 'case4362.txt', 'case4364.txt', 'case4365.txt', 'case4366.txt', 'case4367.txt', 'case4368.txt', 'case4370.txt', 'case4371.txt', 'case4372.txt', 'case4373.txt', 'case4374.txt', 'case4375.txt', 'case4376.txt', 'case4377.txt', 'case4378.txt', 'case4379.txt', 'case4380.txt', 'case4381.txt', 'case4382.txt', 'case4383.txt', 'case4384.txt', 'case4385.txt', 'case4387.txt', 'case4388.txt', 'case4389.txt', 'case4390.txt', 'case4391.txt', 'case4392.txt', 'case4393.txt', 'case4394.txt', 'case4396.txt', 'case4397.txt', 'case4398.txt', 'case4399.txt', 'case4400.txt', 'case4401.txt', 'case4402.txt', 'case4404.txt', 'case4405.txt', 'case4406.txt', 'case4407.txt', 'case4408.txt', 'case4409.txt', 'case4410.txt', 'case4412.txt', 'case4413.txt', 'case4414.txt', 'case4415.txt', 'case4416.txt', 'case4418.txt', 'case4419.txt', 'case4420.txt', 'case4421.txt', 'case4423.txt', 'case4424.txt', 'case4426.txt', 'case4428.txt', 'case4430.txt', 'case4431.txt', 'case4432.txt', 'case4433.txt', 'case4434.txt', 'case4435.txt', 'case4436.txt', 'case4437.txt', 'case4438.txt', 'case4439.txt', 'case4440.txt', 'case4441.txt', 'case4442.txt', 'case4443.txt', 'case4446.txt', 'case4447.txt', 'case4448.txt', 'case4449.txt', 'case4450.txt', 'case4451.txt', 'case4452.txt', 'case4453.txt', 'case4454.txt', 'case4455.txt', 'case4456.txt', 'case4457.txt', 'case4458.txt', 'case4459.txt', 'case4460.txt', 'case4461.txt', 'case4462.txt', 'case4463.txt', 'case4464.txt', 'case4465.txt', 'case4466.txt', 'case4467.txt', 'case4468.txt', 'case4469.txt', 'case4470.txt', 'case4471.txt', 'case4472.txt', 'case4474.txt', 'case4475.txt', 'case4476.txt', 'case4477.txt', 'case4478.txt', 'case4479.txt', 'case4480.txt', 'case4481.txt', 'case4482.txt', 'case4483.txt', 'case4484.txt', 'case4485.txt', 'case4487.txt', 'case4488.txt', 'case4489.txt', 'case4490.txt', 'case4492.txt', 'case4493.txt', 'case4494.txt', 'case4495.txt', 'case4496.txt', 'case4497.txt', 'case4498.txt', 'case4499.txt', 'case4500.txt', 'case4502.txt', 'case4504.txt', 'case4505.txt', 'case4508.txt', 'case4509.txt', 'case4510.txt', 'case4511.txt', 'case4512.txt', 'case4513.txt', 'case4515.txt', 'case4516.txt', 'case4517.txt', 'case4518.txt', 'case4519.txt', 'case4520.txt', 'case4521.txt', 'case4522.txt', 'case4523.txt', 'case4524.txt', 'case4525.txt', 'case4526.txt', 'case4527.txt', 'case4528.txt', 'case4532.txt', 'case4533.txt', 'case4534.txt', 'case4535.txt', 'case4536.txt', 'case4537.txt', 'case4539.txt', 'case4540.txt', 'case4541.txt', 'case4542.txt', 'case4543.txt', 'case4544.txt', 'case4545.txt', 'case4546.txt', 'case4548.txt', 'case4549.txt', 'case4550.txt', 'case4551.txt', 'case4552.txt', 'case4553.txt', 'case4554.txt', 'case4555.txt', 'case4556.txt', 'case4557.txt', 'case4558.txt', 'case4559.txt', 'case4560.txt', 'case4561.txt', 'case4562.txt', 'case4563.txt', 'case4564.txt', 'case4566.txt', 'case4568.txt', 'case4569.txt', 'case4570.txt', 'case4571.txt', 'case4572.txt', 'case4573.txt', 'case4574.txt', 'case4575.txt', 'case4576.txt', 'case4577.txt', 'case4578.txt', 'case4579.txt', 'case4580.txt', 'case4582.txt', 'case4583.txt', 'case4584.txt', 'case4586.txt', 'case4587.txt', 'case4588.txt', 'case4590.txt', 'case4591.txt', 'case4592.txt', 'case4593.txt', 'case4594.txt', 'case4595.txt', 'case4596.txt', 'case4597.txt', 'case4598.txt', 'case4599.txt', 'case4601.txt', 'case4602.txt', 'case4603.txt', 'case4604.txt', 'case4606.txt', 'case4608.txt', 'case4609.txt', 'case4610.txt', 'case4612.txt', 'case4613.txt', 'case4615.txt', 'case4616.txt', 'case4617.txt', 'case4618.txt', 'case4620.txt', 'case4622.txt', 'case4623.txt', 'case4624.txt', 'case4625.txt', 'case4626.txt', 'case4627.txt', 'case4628.txt', 'case4629.txt', 'case4630.txt', 'case4631.txt', 'case4632.txt', 'case4633.txt', 'case4634.txt', 'case4636.txt', 'case4637.txt', 'case4638.txt', 'case4639.txt', 'case4640.txt', 'case4641.txt', 'case4642.txt', 'case4643.txt', 'case4644.txt', 'case4645.txt', 'case4646.txt', 'case4647.txt', 'case4649.txt', 'case4650.txt', 'case4651.txt', 'case4652.txt', 'case4653.txt', 'case4654.txt', 'case4655.txt', 'case4656.txt', 'case4657.txt', 'case4658.txt', 'case4659.txt', 'case4661.txt', 'case4663.txt', 'case4664.txt', 'case4665.txt', 'case4666.txt', 'case4667.txt', 'case4669.txt', 'case4670.txt', 'case4671.txt', 'case4672.txt', 'case4673.txt', 'case4674.txt', 'case4675.txt', 'case4676.txt', 'case4677.txt', 'case4678.txt', 'case4679.txt', 'case4680.txt', 'case4681.txt', 'case4682.txt', 'case4683.txt', 'case4685.txt', 'case4686.txt', 'case4687.txt', 'case4688.txt', 'case4690.txt', 'case4691.txt', 'case4693.txt', 'case4694.txt', 'case4695.txt', 'case4696.txt', 'case4698.txt', 'case4699.txt', 'case4700.txt', 'case4701.txt', 'case4702.txt', 'case4703.txt', 'case4704.txt', 'case4706.txt', 'case4707.txt', 'case4709.txt', 'case4710.txt', 'case4711.txt', 'case4712.txt', 'case4713.txt', 'case4714.txt', 'case4716.txt', 'case4717.txt', 'case4718.txt', 'case4719.txt', 'case4720.txt', 'case4721.txt', 'case4722.txt', 'case4723.txt', 'case4724.txt', 'case4727.txt', 'case4728.txt', 'case4729.txt', 'case4730.txt', 'case4731.txt', 'case4732.txt', 'case4733.txt', 'case4734.txt', 'case4735.txt', 'case4737.txt', 'case4738.txt', 'case4739.txt', 'case4740.txt', 'case4741.txt', 'case4742.txt', 'case4743.txt', 'case4744.txt', 'case4745.txt', 'case4746.txt', 'case4747.txt', 'case4748.txt', 'case4749.txt', 'case4750.txt', 'case4751.txt', 'case4752.txt', 'case4754.txt', 'case4755.txt', 'case4756.txt', 'case4757.txt', 'case4758.txt', 'case4760.txt', 'case4761.txt', 'case4762.txt', 'case4765.txt', 'case4766.txt', 'case4767.txt', 'case4768.txt', 'case4770.txt', 'case4771.txt', 'case4772.txt', 'case4773.txt', 'case4774.txt', 'case4775.txt', 'case4776.txt', 'case4777.txt', 'case4778.txt', 'case4779.txt', 'case4780.txt', 'case4781.txt', 'case4782.txt', 'case4783.txt', 'case4784.txt', 'case4786.txt', 'case4787.txt', 'case4788.txt', 'case4789.txt', 'case4790.txt', 'case4792.txt', 'case4793.txt', 'case4794.txt', 'case4795.txt', 'case4796.txt', 'case4797.txt', 'case4799.txt', 'case4800.txt', 'case4801.txt', 'case4802.txt', 'case4803.txt', 'case4804.txt', 'case4805.txt', 'case4806.txt', 'case4807.txt', 'case4808.txt', 'case4809.txt', 'case4810.txt', 'case4811.txt', 'case4812.txt', 'case4813.txt', 'case4814.txt', 'case4815.txt', 'case4816.txt', 'case4817.txt', 'case4818.txt', 'case4820.txt', 'case4821.txt', 'case4822.txt', 'case4823.txt', 'case4825.txt', 'case4826.txt', 'case4827.txt', 'case4828.txt', 'case4829.txt', 'case4830.txt', 'case4831.txt', 'case4832.txt', 'case4833.txt', 'case4835.txt', 'case4836.txt', 'case4837.txt', 'case4838.txt', 'case4839.txt', 'case4840.txt', 'case4841.txt', 'case4842.txt', 'case4843.txt', 'case4845.txt', 'case4846.txt', 'case4847.txt', 'case4848.txt', 'case4849.txt', 'case4850.txt', 'case4851.txt', 'case4852.txt', 'case4853.txt', 'case4854.txt', 'case4855.txt', 'case4856.txt', 'case4857.txt', 'case4858.txt', 'case4860.txt', 'case4861.txt', 'case4862.txt', 'case4863.txt', 'case4864.txt', 'case4865.txt', 'case4866.txt', 'case4867.txt', 'case4868.txt', 'case4869.txt', 'case4870.txt', 'case4871.txt', 'case4872.txt', 'case4873.txt', 'case4874.txt', 'case4876.txt', 'case4877.txt', 'case4878.txt', 'case4879.txt', 'case4880.txt', 'case4881.txt', 'case4882.txt', 'case4883.txt', 'case4884.txt', 'case4885.txt', 'case4886.txt', 'case4887.txt', 'case4888.txt', 'case4889.txt', 'case4890.txt', 'case4891.txt', 'case4892.txt', 'case4893.txt', 'case4894.txt', 'case4895.txt', 'case4897.txt', 'case4898.txt', 'case4899.txt', 'case4900.txt', 'case4901.txt', 'case4902.txt', 'case4903.txt', 'case4904.txt', 'case4905.txt', 'case4906.txt', 'case4907.txt', 'case4908.txt', 'case4910.txt', 'case4911.txt', 'case4912.txt', 'case4913.txt', 'case4914.txt', 'case4915.txt', 'case4916.txt', 'case4917.txt', 'case4918.txt', 'case4921.txt', 'case4922.txt', 'case4923.txt', 'case4925.txt', 'case4926.txt', 'case4929.txt', 'case4930.txt', 'case4931.txt', 'case4932.txt', 'case4934.txt', 'case4936.txt', 'case4937.txt', 'case4938.txt', 'case4939.txt', 'case4940.txt', 'case4941.txt', 'case4942.txt', 'case4943.txt', 'case4944.txt', 'case4945.txt', 'case4946.txt', 'case4947.txt', 'case4948.txt', 'case4949.txt', 'case4950.txt', 'case4951.txt', 'case4952.txt', 'case4953.txt', 'case4954.txt', 'case4955.txt', 'case4956.txt', 'case4957.txt', 'case4958.txt', 'case4959.txt', 'case4960.txt', 'case4961.txt', 'case4962.txt', 'case4963.txt', 'case4964.txt', 'case4965.txt', 'case4966.txt', 'case4969.txt', 'case4970.txt', 'case4971.txt', 'case4972.txt', 'case4973.txt', 'case4974.txt', 'case4975.txt', 'case4977.txt', 'case4978.txt', 'case4979.txt', 'case4980.txt', 'case4981.txt', 'case4982.txt', 'case4983.txt', 'case4984.txt', 'case4985.txt', 'case4986.txt', 'case4987.txt', 'case4988.txt', 'case4989.txt', 'case4992.txt', 'case4993.txt', 'case4995.txt', 'case4996.txt', 'case4997.txt', 'case5000.txt', 'case5001.txt', 'case5003.txt', 'case5004.txt', 'case5005.txt', 'case5006.txt', 'case5007.txt', 'case5008.txt', 'case5009.txt', 'case5010.txt', 'case5011.txt', 'case5012.txt', 'case5013.txt', 'case5014.txt', 'case5015.txt', 'case5016.txt', 'case5017.txt', 'case5018.txt', 'case5020.txt', 'case5021.txt', 'case5022.txt', 'case5023.txt', 'case5024.txt', 'case5025.txt', 'case5026.txt', 'case5027.txt', 'case5029.txt', 'case5030.txt', 'case5031.txt', 'case5032.txt', 'case5033.txt', 'case5034.txt', 'case5035.txt', 'case5036.txt', 'case5037.txt', 'case5039.txt', 'case5041.txt', 'case5042.txt', 'case5043.txt', 'case5044.txt', 'case5045.txt', 'case5046.txt', 'case5047.txt', 'case5048.txt', 'case5049.txt', 'case5050.txt', 'case5051.txt', 'case5052.txt', 'case5053.txt', 'case5054.txt', 'case5055.txt', 'case5056.txt', 'case5057.txt', 'case5058.txt', 'case5059.txt', 'case5060.txt', 'case5062.txt', 'case5063.txt', 'case5065.txt', 'case5066.txt', 'case5067.txt', 'case5068.txt', 'case5069.txt', 'case5070.txt', 'case5071.txt', 'case5072.txt', 'case5074.txt', 'case5075.txt', 'case5076.txt', 'case5077.txt', 'case5078.txt', 'case5079.txt', 'case5080.txt', 'case5082.txt', 'case5083.txt', 'case5085.txt', 'case5086.txt', 'case5087.txt', 'case5088.txt', 'case5089.txt', 'case5090.txt', 'case5091.txt', 'case5092.txt', 'case5093.txt', 'case5094.txt', 'case5095.txt', 'case5096.txt', 'case5097.txt', 'case5098.txt', 'case5099.txt', 'case5100.txt', 'case5101.txt', 'case5102.txt', 'case5103.txt', 'case5104.txt', 'case5105.txt', 'case5106.txt', 'case5107.txt', 'case5108.txt', 'case5109.txt', 'case5111.txt', 'case5113.txt', 'case5115.txt', 'case5116.txt', 'case5117.txt', 'case5118.txt', 'case5119.txt', 'case5120.txt', 'case5121.txt', 'case5122.txt', 'case5124.txt', 'case5125.txt', 'case5127.txt', 'case5129.txt', 'case5130.txt', 'case5131.txt', 'case5132.txt', 'case5133.txt', 'case5134.txt', 'case5135.txt', 'case5136.txt', 'case5137.txt', 'case5138.txt', 'case5139.txt', 'case5140.txt', 'case5141.txt', 'case5142.txt', 'case5143.txt', 'case5144.txt', 'case5145.txt', 'case5146.txt', 'case5147.txt', 'case5148.txt', 'case5149.txt', 'case5150.txt', 'case5151.txt', 'case5152.txt', 'case5153.txt', 'case5154.txt', 'case5155.txt', 'case5156.txt', 'case5157.txt', 'case5160.txt', 'case5161.txt', 'case5163.txt', 'case5165.txt', 'case5166.txt', 'case5167.txt', 'case5168.txt', 'case5169.txt', 'case5170.txt', 'case5171.txt', 'case5172.txt', 'case5173.txt', 'case5174.txt', 'case5175.txt', 'case5178.txt', 'case5179.txt', 'case5180.txt', 'case5181.txt', 'case5182.txt', 'case5183.txt', 'case5184.txt', 'case5185.txt', 'case5186.txt', 'case5187.txt', 'case5188.txt', 'case5189.txt', 'case5190.txt', 'case5191.txt', 'case5192.txt', 'case5193.txt', 'case5194.txt', 'case5195.txt', 'case5196.txt', 'case5197.txt', 'case5199.txt', 'case5200.txt', 'case5201.txt', 'case5202.txt', 'case5203.txt', 'case5204.txt', 'case5205.txt', 'case5208.txt', 'case5209.txt', 'case5210.txt', 'case5211.txt', 'case5212.txt', 'case5213.txt', 'case5215.txt', 'case5216.txt', 'case5217.txt', 'case5218.txt', 'case5219.txt', 'case5220.txt', 'case5221.txt', 'case5222.txt', 'case5223.txt', 'case5224.txt', 'case5225.txt', 'case5226.txt', 'case5227.txt', 'case5228.txt', 'case5229.txt', 'case5231.txt', 'case5232.txt', 'case5234.txt', 'case5235.txt', 'case5236.txt', 'case5237.txt', 'case5238.txt', 'case5239.txt', 'case5241.txt', 'case5243.txt', 'case5245.txt', 'case5246.txt', 'case5247.txt', 'case5248.txt', 'case5249.txt', 'case5250.txt', 'case5251.txt', 'case5252.txt', 'case5253.txt', 'case5254.txt', 'case5255.txt', 'case5256.txt', 'case5257.txt', 'case5258.txt', 'case5259.txt', 'case5260.txt', 'case5261.txt', 'case5262.txt', 'case5263.txt', 'case5265.txt', 'case5266.txt', 'case5267.txt', 'case5269.txt', 'case5270.txt', 'case5271.txt', 'case5272.txt', 'case5273.txt', 'case5274.txt', 'case5275.txt', 'case5276.txt', 'case5277.txt', 'case5278.txt', 'case5279.txt', 'case5280.txt', 'case5281.txt', 'case5282.txt', 'case5283.txt', 'case5284.txt', 'case5285.txt', 'case5286.txt', 'case5287.txt', 'case5288.txt', 'case5289.txt', 'case5290.txt', 'case5291.txt', 'case5292.txt', 'case5293.txt', 'case5294.txt', 'case5295.txt', 'case5296.txt', 'case5297.txt', 'case5298.txt', 'case5299.txt', 'case5300.txt', 'case5301.txt', 'case5302.txt', 'case5303.txt', 'case5304.txt', 'case5305.txt', 'case5306.txt', 'case5307.txt', 'case5308.txt', 'case5309.txt', 'case5310.txt', 'case5311.txt', 'case5312.txt', 'case5313.txt', 'case5314.txt', 'case5315.txt', 'case5316.txt', 'case5317.txt', 'case5318.txt', 'case5319.txt', 'case5320.txt', 'case5321.txt', 'case5324.txt', 'case5325.txt', 'case5326.txt', 'case5328.txt', 'case5330.txt', 'case5331.txt', 'case5334.txt', 'case5335.txt', 'case5336.txt', 'case5337.txt', 'case5338.txt', 'case5339.txt', 'case5340.txt', 'case5341.txt', 'case5342.txt', 'case5343.txt', 'case5344.txt', 'case5345.txt', 'case5346.txt', 'case5347.txt', 'case5348.txt', 'case5349.txt', 'case5350.txt', 'case5352.txt', 'case5353.txt', 'case5354.txt', 'case5355.txt', 'case5356.txt', 'case5358.txt', 'case5359.txt', 'case5360.txt', 'case5361.txt', 'case5362.txt', 'case5363.txt', 'case5364.txt', 'case5365.txt', 'case5367.txt', 'case5368.txt', 'case5369.txt', 'case5370.txt', 'case5371.txt', 'case5373.txt', 'case5374.txt', 'case5375.txt', 'case5376.txt', 'case5377.txt', 'case5378.txt', 'case5379.txt', 'case5380.txt', 'case5381.txt', 'case5382.txt', 'case5383.txt', 'case5385.txt', 'case5387.txt', 'case5388.txt', 'case5390.txt', 'case5391.txt', 'case5392.txt', 'case5393.txt', 'case5394.txt', 'case5395.txt', 'case5396.txt', 'case5398.txt', 'case5400.txt', 'case5401.txt', 'case5403.txt', 'case5404.txt', 'case5405.txt', 'case5406.txt', 'case5407.txt', 'case5408.txt', 'case5409.txt', 'case5410.txt', 'case5411.txt', 'case5412.txt', 'case5413.txt', 'case5414.txt', 'case5415.txt', 'case5416.txt', 'case5417.txt', 'case5418.txt', 'case5419.txt', 'case5422.txt', 'case5423.txt', 'case5425.txt', 'case5426.txt', 'case5427.txt', 'case5429.txt', 'case5430.txt', 'case5431.txt', 'case5432.txt', 'case5433.txt', 'case5434.txt', 'case5435.txt', 'case5436.txt', 'case5437.txt', 'case5438.txt', 'case5439.txt', 'case5440.txt', 'case5441.txt', 'case5442.txt', 'case5443.txt', 'case5445.txt', 'case5447.txt', 'case5448.txt', 'case5449.txt', 'case5450.txt', 'case5451.txt', 'case5452.txt', 'case5453.txt', 'case5454.txt', 'case5455.txt', 'case5456.txt', 'case5457.txt', 'case5458.txt', 'case5459.txt', 'case5460.txt', 'case5461.txt', 'case5463.txt', 'case5464.txt', 'case5465.txt', 'case5466.txt', 'case5467.txt', 'case5468.txt', 'case5469.txt', 'case5470.txt', 'case5471.txt', 'case5472.txt', 'case5474.txt', 'case5475.txt', 'case5476.txt', 'case5477.txt', 'case5478.txt', 'case5480.txt', 'case5481.txt', 'case5482.txt', 'case5483.txt', 'case5484.txt', 'case5485.txt', 'case5486.txt', 'case5487.txt', 'case5490.txt', 'case5491.txt', 'case5492.txt', 'case5493.txt', 'case5494.txt', 'case5495.txt', 'case5496.txt', 'case5497.txt', 'case5498.txt', 'case5499.txt', 'case5501.txt', 'case5502.txt', 'case5504.txt', 'case5505.txt', 'case5506.txt', 'case5508.txt', 'case5509.txt', 'case5510.txt', 'case5512.txt', 'case5514.txt', 'case5515.txt', 'case5516.txt', 'case5517.txt', 'case5518.txt', 'case5519.txt', 'case5520.txt', 'case5521.txt', 'case5522.txt', 'case5523.txt', 'case5525.txt', 'case5526.txt', 'case5527.txt', 'case5528.txt', 'case5529.txt', 'case5531.txt', 'case5532.txt', 'case5533.txt', 'case5534.txt', 'case5535.txt', 'case5536.txt', 'case5537.txt', 'case5538.txt', 'case5539.txt', 'case5541.txt', 'case5543.txt', 'case5544.txt', 'case5545.txt', 'case5546.txt', 'case5547.txt', 'case5548.txt', 'case5549.txt', 'case5550.txt', 'case5551.txt', 'case5552.txt', 'case5553.txt', 'case5554.txt', 'case5555.txt', 'case5556.txt', 'case5557.txt', 'case5558.txt', 'case5559.txt', 'case5560.txt', 'case5562.txt', 'case5563.txt', 'case5564.txt', 'case5565.txt', 'case5566.txt', 'case5567.txt', 'case5568.txt', 'case5569.txt', 'case5570.txt', 'case5571.txt', 'case5572.txt', 'case5573.txt', 'case5574.txt', 'case5575.txt', 'case5577.txt', 'case5579.txt', 'case5580.txt', 'case5581.txt', 'case5582.txt', 'case5583.txt', 'case5584.txt', 'case5586.txt', 'case5588.txt', 'case5589.txt', 'case5590.txt', 'case5591.txt', 'case5592.txt', 'case5593.txt', 'case5594.txt', 'case5595.txt', 'case5596.txt', 'case5597.txt', 'case5599.txt', 'case5600.txt', 'case5601.txt', 'case5602.txt', 'case5603.txt', 'case5604.txt', 'case5605.txt', 'case5607.txt', 'case5608.txt', 'case5609.txt', 'case5611.txt', 'case5612.txt', 'case5613.txt', 'case5614.txt', 'case5616.txt', 'case5617.txt', 'case5618.txt', 'case5619.txt', 'case5620.txt', 'case5621.txt', 'case5622.txt', 'case5623.txt', 'case5624.txt', 'case5625.txt', 'case5626.txt', 'case5627.txt', 'case5628.txt', 'case5630.txt', 'case5631.txt', 'case5632.txt', 'case5633.txt', 'case5634.txt', 'case5635.txt', 'case5636.txt', 'case5637.txt', 'case5638.txt', 'case5639.txt', 'case5640.txt', 'case5641.txt', 'case5642.txt', 'case5643.txt', 'case5644.txt', 'case5645.txt', 'case5646.txt', 'case5647.txt', 'case5648.txt', 'case5649.txt', 'case5650.txt', 'case5651.txt', 'case5652.txt', 'case5653.txt', 'case5654.txt', 'case5655.txt', 'case5656.txt', 'case5657.txt', 'case5658.txt', 'case5659.txt', 'case5660.txt', 'case5661.txt', 'case5662.txt', 'case5663.txt', 'case5664.txt', 'case5665.txt', 'case5666.txt', 'case5667.txt', 'case5669.txt', 'case5671.txt', 'case5673.txt', 'case5674.txt', 'case5676.txt', 'case5677.txt', 'case5678.txt', 'case5679.txt', 'case5681.txt', 'case5683.txt', 'case5685.txt', 'case5686.txt', 'case5687.txt', 'case5688.txt', 'case5689.txt', 'case5691.txt', 'case5692.txt', 'case5694.txt', 'case5695.txt', 'case5696.txt', 'case5697.txt', 'case5698.txt', 'case5699.txt', 'case5700.txt', 'case5701.txt', 'case5702.txt', 'case5703.txt', 'case5704.txt', 'case5706.txt', 'case5708.txt', 'case5709.txt', 'case5710.txt', 'case5712.txt', 'case5713.txt', 'case5715.txt', 'case5716.txt', 'case5717.txt', 'case5718.txt', 'case5719.txt', 'case5720.txt', 'case5721.txt', 'case5722.txt', 'case5723.txt', 'case5724.txt', 'case5725.txt', 'case5726.txt', 'case5727.txt', 'case5728.txt', 'case5729.txt', 'case5730.txt', 'case5731.txt', 'case5733.txt', 'case5734.txt', 'case5735.txt', 'case5736.txt', 'case5738.txt', 'case5739.txt', 'case5740.txt', 'case5741.txt', 'case5742.txt', 'case5743.txt', 'case5744.txt', 'case5745.txt', 'case5746.txt', 'case5747.txt', 'case5748.txt', 'case5749.txt', 'case5750.txt', 'case5752.txt', 'case5753.txt', 'case5755.txt', 'case5756.txt', 'case5757.txt', 'case5758.txt', 'case5759.txt', 'case5760.txt', 'case5761.txt', 'case5762.txt', 'case5763.txt', 'case5764.txt', 'case5765.txt', 'case5766.txt', 'case5767.txt', 'case5769.txt', 'case5770.txt', 'case5771.txt', 'case5772.txt', 'case5774.txt', 'case5775.txt', 'case5777.txt', 'case5778.txt', 'case5779.txt', 'case5780.txt', 'case5781.txt', 'case5783.txt', 'case5784.txt', 'case5785.txt', 'case5786.txt', 'case5787.txt', 'case5788.txt', 'case5789.txt', 'case5790.txt', 'case5791.txt', 'case5793.txt', 'case5795.txt', 'case5796.txt', 'case5797.txt', 'case5798.txt', 'case5799.txt', 'case5800.txt', 'case5802.txt', 'case5804.txt', 'case5805.txt', 'case5807.txt', 'case5808.txt', 'case5809.txt', 'case5811.txt', 'case5812.txt', 'case5813.txt', 'case5815.txt', 'case5816.txt', 'case5820.txt', 'case5821.txt', 'case5822.txt', 'case5823.txt', 'case5824.txt', 'case5825.txt', 'case5826.txt', 'case5827.txt', 'case5828.txt', 'case5829.txt', 'case5830.txt', 'case5831.txt', 'case5833.txt', 'case5835.txt', 'case5837.txt', 'case5838.txt', 'case5839.txt', 'case5840.txt', 'case5841.txt', 'case5842.txt', 'case5843.txt', 'case5844.txt', 'case5845.txt', 'case5846.txt', 'case5847.txt', 'case5848.txt', 'case5849.txt', 'case5851.txt', 'case5853.txt', 'case5854.txt', 'case5855.txt', 'case5856.txt', 'case5858.txt', 'case5859.txt', 'case5860.txt', 'case5861.txt', 'case5862.txt', 'case5863.txt', 'case5864.txt', 'case5865.txt', 'case5866.txt', 'case5868.txt', 'case5869.txt', 'case5870.txt', 'case5871.txt', 'case5872.txt', 'case5873.txt', 'case5874.txt', 'case5875.txt', 'case5876.txt', 'case5877.txt', 'case5879.txt', 'case5880.txt', 'case5881.txt', 'case5882.txt', 'case5883.txt', 'case5884.txt', 'case5885.txt', 'case5886.txt', 'case5887.txt', 'case5888.txt', 'case5889.txt', 'case5892.txt', 'case5893.txt', 'case5894.txt', 'case5895.txt', 'case5896.txt', 'case5897.txt', 'case5898.txt', 'case5899.txt', 'case5900.txt', 'case5901.txt', 'case5902.txt', 'case5903.txt', 'case5904.txt', 'case5905.txt', 'case5906.txt', 'case5907.txt', 'case5908.txt', 'case5909.txt', 'case5910.txt', 'case5912.txt', 'case5913.txt', 'case5914.txt', 'case5915.txt', 'case5916.txt', 'case5917.txt', 'case5918.txt', 'case5919.txt', 'case5920.txt', 'case5921.txt', 'case5922.txt', 'case5923.txt', 'case5924.txt', 'case5925.txt', 'case5926.txt', 'case5927.txt', 'case5929.txt', 'case5930.txt', 'case5931.txt', 'case5932.txt', 'case5933.txt', 'case5936.txt', 'case5937.txt', 'case5938.txt', 'case5939.txt', 'case5940.txt', 'case5941.txt', 'case5942.txt', 'case5944.txt', 'case5945.txt', 'case5946.txt', 'case5947.txt', 'case5948.txt', 'case5950.txt', 'case5951.txt', 'case5953.txt', 'case5954.txt', 'case5955.txt', 'case5956.txt', 'case5957.txt', 'case5958.txt', 'case5961.txt', 'case5962.txt', 'case5963.txt', 'case5964.txt', 'case5965.txt', 'case5966.txt', 'case5967.txt', 'case5970.txt', 'case5971.txt', 'case5972.txt', 'case5974.txt', 'case5976.txt', 'case5977.txt', 'case5978.txt', 'case5979.txt', 'case5980.txt', 'case5981.txt', 'case5982.txt', 'case5983.txt', 'case5984.txt', 'case5985.txt', 'case5986.txt', 'case5987.txt', 'case5988.txt', 'case5989.txt', 'case5990.txt', 'case5991.txt', 'case5993.txt', 'case5994.txt', 'case5995.txt', 'case5996.txt', 'case5997.txt', 'case5998.txt', 'case5999.txt', 'case6000.txt', 'case6001.txt', 'case6002.txt', 'case6003.txt', 'case6004.txt', 'case6005.txt', 'case6006.txt', 'case6007.txt', 'case6008.txt', 'case6009.txt', 'case6010.txt', 'case6011.txt', 'case6012.txt', 'case6013.txt', 'case6014.txt', 'case6015.txt', 'case6016.txt', 'case6017.txt', 'case6018.txt', 'case6019.txt', 'case6020.txt', 'case6021.txt', 'case6022.txt', 'case6023.txt', 'case6024.txt', 'case6025.txt', 'case6026.txt', 'case6027.txt', 'case6028.txt', 'case6029.txt', 'case6030.txt', 'case6031.txt', 'case6032.txt', 'case6033.txt', 'case6035.txt', 'case6036.txt', 'case6038.txt', 'case6039.txt', 'case6041.txt', 'case6042.txt', 'case6043.txt', 'case6044.txt', 'case6045.txt', 'case6046.txt', 'case6047.txt', 'case6048.txt', 'case6049.txt', 'case6050.txt', 'case6051.txt', 'case6052.txt', 'case6053.txt', 'case6054.txt', 'case6055.txt', 'case6056.txt', 'case6058.txt', 'case6059.txt', 'case6060.txt', 'case6062.txt', 'case6064.txt', 'case6065.txt', 'case6066.txt', 'case6067.txt', 'case6069.txt', 'case6070.txt', 'case6071.txt', 'case6072.txt', 'case6073.txt', 'case6074.txt', 'case6077.txt', 'case6079.txt', 'case6081.txt', 'case6082.txt', 'case6083.txt', 'case6084.txt', 'case6085.txt', 'case6086.txt', 'case6087.txt', 'case6088.txt', 'case6089.txt', 'case6090.txt', 'case6091.txt', 'case6092.txt', 'case6093.txt', 'case6094.txt', 'case6095.txt', 'case6096.txt', 'case6097.txt', 'case6099.txt', 'case6100.txt', 'case6101.txt', 'case6102.txt', 'case6103.txt', 'case6105.txt', 'case6106.txt', 'case6107.txt', 'case6108.txt', 'case6109.txt', 'case6110.txt', 'case6112.txt', 'case6113.txt', 'case6114.txt', 'case6115.txt', 'case6116.txt', 'case6117.txt', 'case6119.txt', 'case6120.txt', 'case6121.txt', 'case6122.txt', 'case6123.txt', 'case6124.txt', 'case6125.txt', 'case6126.txt', 'case6127.txt', 'case6128.txt', 'case6129.txt', 'case6130.txt', 'case6131.txt', 'case6132.txt', 'case6133.txt', 'case6134.txt', 'case6135.txt', 'case6136.txt', 'case6137.txt', 'case6138.txt', 'case6139.txt', 'case6141.txt', 'case6142.txt', 'case6143.txt', 'case6144.txt', 'case6146.txt', 'case6147.txt', 'case6148.txt', 'case6149.txt', 'case6150.txt', 'case6151.txt', 'case6152.txt', 'case6153.txt', 'case6154.txt', 'case6156.txt', 'case6157.txt', 'case6158.txt', 'case6159.txt', 'case6160.txt', 'case6162.txt', 'case6163.txt', 'case6164.txt', 'case6165.txt', 'case6168.txt', 'case6169.txt', 'case6170.txt', 'case6171.txt', 'case6172.txt', 'case6173.txt', 'case6174.txt', 'case6175.txt', 'case6176.txt', 'case6177.txt', 'case6178.txt', 'case6182.txt', 'case6183.txt', 'case6184.txt', 'case6186.txt', 'case6187.txt', 'case6188.txt', 'case6189.txt', 'case6190.txt', 'case6191.txt', 'case6192.txt', 'case6193.txt', 'case6194.txt', 'case6196.txt', 'case6198.txt', 'case6199.txt', 'case6200.txt', 'case6201.txt', 'case6202.txt', 'case6203.txt', 'case6205.txt', 'case6207.txt', 'case6208.txt', 'case6209.txt', 'case6210.txt', 'case6211.txt', 'case6212.txt', 'case6213.txt', 'case6214.txt', 'case6215.txt', 'case6216.txt', 'case6217.txt', 'case6218.txt', 'case6219.txt', 'case6220.txt', 'case6221.txt', 'case6222.txt', 'case6223.txt', 'case6224.txt', 'case6225.txt', 'case6226.txt', 'case6227.txt', 'case6228.txt', 'case6229.txt', 'case6230.txt', 'case6232.txt', 'case6233.txt', 'case6234.txt', 'case6235.txt', 'case6236.txt', 'case6237.txt', 'case6238.txt', 'case6240.txt', 'case6241.txt', 'case6242.txt', 'case6243.txt', 'case6244.txt', 'case6245.txt', 'case6246.txt', 'case6247.txt', 'case6248.txt', 'case6249.txt', 'case6250.txt', 'case6251.txt', 'case6252.txt', 'case6254.txt', 'case6255.txt', 'case6256.txt', 'case6257.txt', 'case6258.txt', 'case6259.txt', 'case6260.txt', 'case6261.txt', 'case6262.txt', 'case6263.txt', 'case6264.txt', 'case6265.txt', 'case6266.txt', 'case6267.txt', 'case6268.txt', 'case6269.txt', 'case6271.txt', 'case6272.txt', 'case6273.txt', 'case6274.txt', 'case6275.txt', 'case6276.txt', 'case6277.txt', 'case6278.txt', 'case6280.txt', 'case6281.txt', 'case6282.txt', 'case6283.txt', 'case6284.txt', 'case6285.txt', 'case6286.txt', 'case6287.txt', 'case6289.txt', 'case6290.txt', 'case6291.txt', 'case6292.txt', 'case6293.txt', 'case6294.txt', 'case6295.txt', 'case6296.txt', 'case6297.txt', 'case6298.txt', 'case6299.txt', 'case6300.txt', 'case6301.txt', 'case6303.txt', 'case6304.txt', 'case6305.txt', 'case6306.txt', 'case6307.txt', 'case6308.txt', 'case6309.txt', 'case6310.txt', 'case6312.txt', 'case6313.txt', 'case6314.txt', 'case6315.txt', 'case6316.txt', 'case6317.txt', 'case6318.txt', 'case6319.txt', 'case6320.txt', 'case6321.txt', 'case6322.txt', 'case6323.txt', 'case6324.txt', 'case6325.txt', 'case6327.txt', 'case6328.txt', 'case6329.txt', 'case6330.txt', 'case6331.txt', 'case6332.txt', 'case6333.txt', 'case6334.txt', 'case6335.txt', 'case6336.txt', 'case6337.txt', 'case6338.txt', 'case6339.txt', 'case6340.txt', 'case6341.txt', 'case6342.txt', 'case6343.txt', 'case6344.txt', 'case6345.txt', 'case6346.txt', 'case6347.txt', 'case6348.txt', 'case6349.txt', 'case6350.txt', 'case6351.txt', 'case6352.txt', 'case6353.txt', 'case6354.txt', 'case6355.txt', 'case6356.txt', 'case6357.txt', 'case6358.txt', 'case6359.txt', 'case6360.txt', 'case6362.txt', 'case6363.txt', 'case6364.txt', 'case6365.txt', 'case6366.txt', 'case6367.txt', 'case6368.txt', 'case6369.txt', 'case6372.txt', 'case6373.txt', 'case6374.txt', 'case6375.txt', 'case6376.txt', 'case6377.txt', 'case6378.txt', 'case6379.txt', 'case6380.txt', 'case6381.txt', 'case6382.txt', 'case6383.txt', 'case6384.txt', 'case6385.txt', 'case6386.txt', 'case6387.txt', 'case6388.txt', 'case6389.txt', 'case6390.txt', 'case6391.txt', 'case6392.txt', 'case6393.txt', 'case6394.txt', 'case6395.txt', 'case6396.txt', 'case6397.txt', 'case6398.txt', 'case6399.txt', 'case6401.txt', 'case6402.txt', 'case6403.txt', 'case6404.txt', 'case6405.txt', 'case6406.txt', 'case6407.txt', 'case6408.txt', 'case6409.txt', 'case6410.txt', 'case6412.txt', 'case6414.txt', 'case6415.txt', 'case6416.txt', 'case6417.txt', 'case6418.txt', 'case6419.txt', 'case6420.txt', 'case6421.txt', 'case6422.txt', 'case6423.txt', 'case6424.txt', 'case6425.txt', 'case6426.txt', 'case6427.txt', 'case6428.txt', 'case6429.txt', 'case6430.txt', 'case6431.txt', 'case6432.txt', 'case6433.txt', 'case6434.txt', 'case6435.txt', 'case6436.txt', 'case6437.txt', 'case6438.txt', 'case6440.txt', 'case6441.txt', 'case6442.txt', 'case6443.txt', 'case6444.txt', 'case6445.txt', 'case6446.txt', 'case6447.txt', 'case6448.txt', 'case6449.txt', 'case6450.txt', 'case6451.txt', 'case6452.txt', 'case6453.txt', 'case6454.txt', 'case6455.txt', 'case6456.txt', 'case6457.txt', 'case6458.txt', 'case6459.txt', 'case6460.txt', 'case6461.txt', 'case6462.txt', 'case6465.txt', 'case6466.txt', 'case6467.txt', 'case6468.txt', 'case6469.txt', 'case6470.txt', 'case6471.txt', 'case6472.txt', 'case6473.txt', 'case6474.txt', 'case6475.txt', 'case6476.txt', 'case6477.txt', 'case6478.txt', 'case6480.txt', 'case6481.txt', 'case6482.txt', 'case6483.txt', 'case6484.txt', 'case6486.txt', 'case6487.txt', 'case6488.txt', 'case6489.txt', 'case6490.txt', 'case6491.txt', 'case6492.txt', 'case6493.txt', 'case6494.txt', 'case6495.txt', 'case6496.txt', 'case6497.txt', 'case6498.txt', 'case6499.txt', 'case6500.txt', 'case6501.txt', 'case6502.txt', 'case6503.txt', 'case6504.txt', 'case6505.txt', 'case6506.txt', 'case6507.txt', 'case6508.txt', 'case6509.txt', 'case6510.txt', 'case6512.txt', 'case6513.txt', 'case6514.txt', 'case6515.txt', 'case6516.txt', 'case6517.txt', 'case6518.txt', 'case6520.txt', 'case6522.txt', 'case6523.txt', 'case6525.txt', 'case6526.txt', 'case6527.txt', 'case6528.txt', 'case6529.txt', 'case6530.txt', 'case6531.txt', 'case6532.txt', 'case6533.txt', 'case6534.txt', 'case6535.txt', 'case6536.txt', 'case6537.txt', 'case6538.txt', 'case6539.txt', 'case6541.txt', 'case6542.txt', 'case6543.txt', 'case6544.txt', 'case6545.txt', 'case6546.txt', 'case6547.txt', 'case6548.txt', 'case6549.txt', 'case6550.txt', 'case6551.txt', 'case6552.txt', 'case6553.txt', 'case6554.txt', 'case6555.txt', 'case6556.txt', 'case6557.txt', 'case6558.txt', 'case6559.txt', 'case6562.txt', 'case6563.txt', 'case6564.txt', 'case6565.txt', 'case6566.txt', 'case6567.txt', 'case6569.txt', 'case6570.txt', 'case6572.txt', 'case6573.txt', 'case6574.txt', 'case6575.txt', 'case6576.txt', 'case6578.txt', 'case6579.txt', 'case6581.txt', 'case6583.txt', 'case6584.txt', 'case6585.txt', 'case6586.txt', 'case6587.txt', 'case6588.txt', 'case6591.txt', 'case6592.txt', 'case6593.txt', 'case6594.txt', 'case6595.txt', 'case6596.txt', 'case6597.txt', 'case6598.txt', 'case6599.txt', 'case6600.txt', 'case6601.txt', 'case6602.txt', 'case6603.txt', 'case6604.txt', 'case6605.txt', 'case6608.txt', 'case6609.txt', 'case6610.txt', 'case6611.txt', 'case6612.txt', 'case6614.txt', 'case6615.txt', 'case6618.txt', 'case6619.txt', 'case6621.txt', 'case6622.txt', 'case6623.txt', 'case6624.txt', 'case6625.txt', 'case6626.txt', 'case6627.txt', 'case6628.txt', 'case6629.txt', 'case6630.txt', 'case6631.txt', 'case6632.txt', 'case6633.txt', 'case6634.txt', 'case6635.txt', 'case6636.txt', 'case6637.txt', 'case6638.txt', 'case6639.txt', 'case6640.txt', 'case6641.txt', 'case6642.txt', 'case6643.txt', 'case6644.txt', 'case6646.txt', 'case6647.txt', 'case6648.txt', 'case6649.txt', 'case6650.txt', 'case6651.txt', 'case6652.txt', 'case6653.txt', 'case6654.txt', 'case6655.txt', 'case6656.txt', 'case6657.txt', 'case6658.txt', 'case6660.txt', 'case6661.txt', 'case6662.txt', 'case6663.txt', 'case6664.txt', 'case6665.txt', 'case6666.txt', 'case6667.txt', 'case6668.txt', 'case6669.txt', 'case6670.txt', 'case6671.txt', 'case6672.txt', 'case6673.txt', 'case6674.txt', 'case6675.txt', 'case6676.txt', 'case6677.txt', 'case6678.txt', 'case6679.txt', 'case6680.txt', 'case6681.txt', 'case6682.txt', 'case6683.txt', 'case6685.txt', 'case6686.txt', 'case6687.txt', 'case6688.txt', 'case6689.txt', 'case6690.txt', 'case6691.txt', 'case6693.txt', 'case6694.txt', 'case6695.txt', 'case6696.txt', 'case6697.txt', 'case6698.txt', 'case6699.txt', 'case6700.txt', 'case6702.txt', 'case6703.txt', 'case6704.txt', 'case6705.txt', 'case6706.txt', 'case6707.txt', 'case6708.txt', 'case6709.txt', 'case6710.txt', 'case6711.txt', 'case6712.txt', 'case6713.txt', 'case6714.txt', 'case6715.txt', 'case6716.txt', 'case6718.txt', 'case6719.txt', 'case6720.txt', 'case6721.txt', 'case6722.txt', 'case6723.txt', 'case6724.txt', 'case6725.txt', 'case6726.txt', 'case6728.txt', 'case6729.txt', 'case6730.txt', 'case6732.txt', 'case6733.txt', 'case6734.txt', 'case6736.txt', 'case6737.txt', 'case6738.txt', 'case6739.txt', 'case6740.txt', 'case6741.txt', 'case6742.txt', 'case6744.txt', 'case6745.txt', 'case6747.txt', 'case6748.txt', 'case6750.txt', 'case6751.txt', 'case6752.txt', 'case6753.txt', 'case6754.txt', 'case6755.txt', 'case6756.txt', 'case6757.txt', 'case6759.txt', 'case6760.txt', 'case6763.txt', 'case6765.txt', 'case6766.txt', 'case6767.txt', 'case6768.txt', 'case6769.txt', 'case6772.txt', 'case6773.txt', 'case6775.txt', 'case6776.txt', 'case6777.txt', 'case6778.txt', 'case6780.txt', 'case6781.txt', 'case6782.txt', 'case6783.txt', 'case6784.txt', 'case6785.txt', 'case6786.txt', 'case6787.txt', 'case6788.txt', 'case6789.txt', 'case6790.txt', 'case6791.txt', 'case6792.txt', 'case6793.txt', 'case6795.txt', 'case6796.txt', 'case6798.txt', 'case6799.txt', 'case6800.txt', 'case6801.txt', 'case6802.txt', 'case6803.txt', 'case6804.txt', 'case6805.txt', 'case6807.txt', 'case6808.txt', 'case6809.txt', 'case6810.txt', 'case6811.txt', 'case6812.txt', 'case6813.txt', 'case6814.txt', 'case6815.txt', 'case6816.txt', 'case6817.txt', 'case6819.txt', 'case6820.txt', 'case6821.txt', 'case6822.txt', 'case6823.txt', 'case6824.txt', 'case6825.txt', 'case6826.txt', 'case6827.txt', 'case6828.txt', 'case6829.txt', 'case6830.txt', 'case6831.txt', 'case6832.txt', 'case6833.txt', 'case6834.txt', 'case6835.txt', 'case6837.txt', 'case6838.txt', 'case6840.txt', 'case6841.txt', 'case6842.txt', 'case6843.txt', 'case6844.txt', 'case6845.txt', 'case6846.txt', 'case6847.txt', 'case6849.txt', 'case6850.txt', 'case6851.txt', 'case6852.txt', 'case6853.txt', 'case6854.txt', 'case6855.txt', 'case6856.txt', 'case6857.txt', 'case6859.txt', 'case6860.txt', 'case6861.txt', 'case6862.txt', 'case6863.txt', 'case6864.txt', 'case6865.txt', 'case6866.txt', 'case6867.txt', 'case6868.txt', 'case6869.txt', 'case6871.txt', 'case6872.txt', 'case6873.txt', 'case6874.txt', 'case6875.txt', 'case6876.txt', 'case6877.txt', 'case6878.txt', 'case6881.txt', 'case6882.txt', 'case6883.txt', 'case6884.txt', 'case6885.txt', 'case6886.txt', 'case6887.txt', 'case6888.txt', 'case6889.txt', 'case6892.txt', 'case6893.txt', 'case6894.txt', 'case6895.txt', 'case6897.txt', 'case6898.txt', 'case6899.txt', 'case6900.txt', 'case6901.txt', 'case6902.txt', 'case6903.txt', 'case6904.txt', 'case6905.txt', 'case6906.txt', 'case6908.txt', 'case6910.txt', 'case6911.txt', 'case6912.txt', 'case6913.txt', 'case6914.txt', 'case6915.txt', 'case6916.txt', 'case6917.txt', 'case6919.txt', 'case6920.txt', 'case6921.txt', 'case6922.txt', 'case6923.txt', 'case6925.txt', 'case6927.txt', 'case6929.txt', 'case6930.txt', 'case6931.txt', 'case6932.txt', 'case6933.txt', 'case6934.txt', 'case6935.txt', 'case6936.txt', 'case6937.txt', 'case6938.txt', 'case6939.txt', 'case6941.txt', 'case6942.txt', 'case6944.txt', 'case6945.txt', 'case6946.txt', 'case6947.txt', 'case6948.txt', 'case6949.txt', 'case6950.txt', 'case6951.txt', 'case6952.txt', 'case6953.txt', 'case6954.txt', 'case6955.txt', 'case6956.txt', 'case6957.txt', 'case6958.txt', 'case6959.txt', 'case6960.txt', 'case6961.txt', 'case6962.txt', 'case6963.txt', 'case6964.txt', 'case6965.txt', 'case6966.txt', 'case6967.txt', 'case6968.txt', 'case6969.txt', 'case6971.txt', 'case6972.txt', 'case6973.txt', 'case6974.txt', 'case6975.txt', 'case6976.txt', 'case6977.txt', 'case6978.txt', 'case6979.txt', 'case6980.txt', 'case6981.txt', 'case6983.txt', 'case6984.txt', 'case6985.txt', 'case6986.txt', 'case6987.txt', 'case6988.txt', 'case6989.txt', 'case6990.txt', 'case6991.txt', 'case6992.txt', 'case6993.txt', 'case6994.txt', 'case6995.txt', 'case6996.txt', 'case6997.txt', 'case6998.txt', 'case6999.txt', 'case7000.txt', 'case7001.txt', 'case7003.txt', 'case7004.txt', 'case7005.txt', 'case7006.txt', 'case7008.txt', 'case7009.txt', 'case7010.txt', 'case7011.txt', 'case7012.txt', 'case7013.txt', 'case7014.txt', 'case7015.txt', 'case7017.txt', 'case7018.txt', 'case7019.txt', 'case7020.txt', 'case7021.txt', 'case7022.txt', 'case7024.txt', 'case7025.txt', 'case7026.txt', 'case7027.txt', 'case7031.txt', 'case7032.txt', 'case7033.txt', 'case7034.txt', 'case7036.txt', 'case7037.txt', 'case7038.txt', 'case7039.txt', 'case7040.txt', 'case7041.txt', 'case7042.txt', 'case7043.txt', 'case7044.txt', 'case7045.txt', 'case7046.txt', 'case7047.txt', 'case7049.txt', 'case7050.txt', 'case7051.txt', 'case7052.txt', 'case7053.txt', 'case7054.txt', 'case7055.txt', 'case7056.txt', 'case7057.txt', 'case7058.txt', 'case7059.txt', 'case7060.txt', 'case7061.txt', 'case7062.txt', 'case7063.txt', 'case7064.txt', 'case7065.txt', 'case7066.txt', 'case7067.txt', 'case7068.txt', 'case7069.txt', 'case7070.txt', 'case7071.txt', 'case7072.txt', 'case7073.txt', 'case7075.txt', 'case7076.txt', 'case7077.txt', 'case7079.txt', 'case7080.txt', 'case7081.txt', 'case7082.txt', 'case7083.txt', 'case7084.txt', 'case7085.txt', 'case7086.txt', 'case7087.txt', 'case7088.txt', 'case7089.txt', 'case7091.txt', 'case7092.txt', 'case7093.txt', 'case7095.txt', 'case7096.txt', 'case7098.txt', 'case7099.txt', 'case7100.txt', 'case7101.txt', 'case7102.txt', 'case7103.txt', 'case7105.txt', 'case7106.txt', 'case7107.txt', 'case7108.txt', 'case7109.txt', 'case7110.txt', 'case7111.txt', 'case7113.txt', 'case7114.txt', 'case7115.txt', 'case7116.txt', 'case7117.txt', 'case7119.txt', 'case7120.txt', 'case7121.txt', 'case7122.txt', 'case7123.txt', 'case7124.txt', 'case7125.txt', 'case7126.txt', 'case7127.txt', 'case7129.txt', 'case7130.txt', 'case7131.txt', 'case7132.txt', 'case7135.txt', 'case7136.txt', 'case7137.txt', 'case7138.txt', 'case7139.txt', 'case7140.txt', 'case7141.txt', 'case7142.txt', 'case7143.txt', 'case7144.txt', 'case7145.txt', 'case7146.txt', 'case7147.txt', 'case7148.txt', 'case7149.txt', 'case7152.txt', 'case7153.txt', 'case7154.txt', 'case7155.txt', 'case7156.txt', 'case7157.txt', 'case7158.txt', 'case7160.txt', 'case7161.txt', 'case7162.txt', 'case7163.txt', 'case7164.txt', 'case7165.txt', 'case7166.txt', 'case7167.txt', 'case7169.txt', 'case7170.txt', 'case7171.txt', 'case7172.txt', 'case7173.txt', 'case7174.txt', 'case7175.txt', 'case7176.txt', 'case7177.txt', 'case7178.txt', 'case7179.txt', 'case7180.txt', 'case7181.txt', 'case7182.txt', 'case7184.txt', 'case7186.txt', 'case7188.txt', 'case7190.txt', 'case7191.txt', 'case7193.txt', 'case7194.txt', 'case7195.txt', 'case7197.txt', 'case7198.txt', 'case7199.txt', 'case7200.txt', 'case7201.txt', 'case7202.txt', 'case7203.txt', 'case7204.txt', 'case7205.txt', 'case7206.txt', 'case7207.txt', 'case7209.txt', 'case7210.txt', 'case7211.txt', 'case7212.txt', 'case7214.txt', 'case7215.txt', 'case7216.txt', 'case7217.txt', 'case7218.txt', 'case7219.txt', 'case7220.txt', 'case7221.txt', 'case7222.txt', 'case7223.txt', 'case7224.txt', 'case7225.txt', 'case7226.txt', 'case7227.txt', 'case7228.txt', 'case7229.txt', 'case7231.txt', 'case7232.txt', 'case7233.txt', 'case7234.txt', 'case7235.txt', 'case7236.txt', 'case7237.txt', 'case7238.txt', 'case7240.txt', 'case7241.txt', 'case7242.txt', 'case7243.txt', 'case7244.txt', 'case7245.txt', 'case7246.txt', 'case7248.txt', 'case7249.txt', 'case7250.txt', 'case7251.txt', 'case7252.txt', 'case7253.txt', 'case7254.txt', 'case7255.txt', 'case7256.txt', 'case7257.txt', 'case7258.txt', 'case7259.txt', 'case7260.txt', 'case7261.txt', 'case7262.txt', 'case7263.txt', 'case7265.txt', 'case7266.txt', 'case7268.txt', 'case7269.txt', 'case7270.txt', 'case7271.txt', 'case7272.txt', 'case7273.txt', 'case7274.txt', 'case7275.txt', 'case7276.txt', 'case7277.txt', 'case7278.txt', 'case7279.txt', 'case7280.txt', 'case7281.txt', 'case7282.txt', 'case7283.txt', 'case7284.txt', 'case7285.txt', 'case7286.txt', 'case7287.txt', 'case7288.txt', 'case7289.txt', 'case7290.txt', 'case7291.txt', 'case7292.txt', 'case7293.txt', 'case7294.txt', 'case7295.txt', 'case7296.txt', 'case7297.txt', 'case7298.txt', 'case7300.txt', 'case7301.txt', 'case7302.txt', 'case7303.txt', 'case7304.txt', 'case7305.txt', 'case7306.txt', 'case7308.txt', 'case7309.txt', 'case7310.txt', 'case7311.txt', 'case7312.txt', 'case7313.txt', 'case7314.txt', 'case7315.txt', 'case7317.txt', 'case7318.txt', 'case7320.txt', 'case7321.txt', 'case7322.txt', 'case7323.txt', 'case7324.txt', 'case7325.txt', 'case7326.txt', 'case7327.txt', 'case7328.txt', 'case7329.txt', 'case7330.txt', 'case7331.txt', 'case7332.txt', 'case7333.txt', 'case7334.txt', 'case7335.txt', 'case7336.txt', 'case7337.txt', 'case7338.txt', 'case7339.txt', 'case7341.txt', 'case7342.txt', 'case7343.txt', 'case7344.txt', 'case7345.txt', 'case7346.txt', 'case7348.txt', 'case7349.txt', 'case7350.txt', 'case7351.txt', 'case7353.txt', 'case7354.txt', 'case7355.txt', 'case7356.txt', 'case7357.txt', 'case7359.txt', 'case7360.txt', 'case7362.txt', 'case7363.txt', 'case7364.txt', 'case7365.txt', 'case7366.txt', 'case7367.txt', 'case7368.txt', 'case7369.txt', 'case7371.txt', 'case7372.txt', 'case7374.txt', 'case7375.txt', 'case7376.txt', 'case7377.txt', 'case7378.txt', 'case7379.txt', 'case7380.txt', 'case7381.txt', 'case7382.txt', 'case7385.txt', 'case7386.txt', 'case7387.txt', 'case7388.txt', 'case7389.txt', 'case7390.txt', 'case7392.txt', 'case7393.txt', 'case7395.txt', 'case7396.txt', 'case7397.txt', 'case7398.txt', 'case7399.txt', 'case7400.txt', 'case7401.txt', 'case7402.txt', 'case7403.txt', 'case7404.txt', 'case7405.txt', 'case7406.txt', 'case7408.txt', 'case7409.txt', 'case7410.txt', 'case7412.txt', 'case7413.txt', 'case7414.txt', 'case7415.txt', 'case7416.txt', 'case7417.txt', 'case7418.txt', 'case7419.txt', 'case7420.txt', 'case7421.txt', 'case7422.txt', 'case7423.txt', 'case7424.txt', 'case7425.txt', 'case7426.txt', 'case7427.txt', 'case7428.txt', 'case7429.txt', 'case7430.txt', 'case7432.txt', 'case7433.txt', 'case7434.txt', 'case7435.txt', 'case7436.txt', 'case7438.txt', 'case7439.txt', 'case7440.txt', 'case7441.txt', 'case7442.txt', 'case7443.txt', 'case7444.txt', 'case7445.txt', 'case7446.txt', 'case7447.txt', 'case7448.txt', 'case7449.txt', 'case7450.txt', 'case7451.txt', 'case7452.txt', 'case7455.txt', 'case7456.txt', 'case7457.txt', 'case7458.txt', 'case7459.txt', 'case7460.txt', 'case7461.txt', 'case7462.txt', 'case7463.txt', 'case7464.txt', 'case7465.txt', 'case7466.txt', 'case7468.txt', 'case7469.txt', 'case7471.txt', 'case7472.txt', 'case7473.txt', 'case7474.txt', 'case7475.txt', 'case7476.txt', 'case7478.txt', 'case7479.txt', 'case7480.txt', 'case7481.txt', 'case7482.txt', 'case7483.txt', 'case7484.txt', 'case7485.txt', 'case7486.txt', 'case7487.txt', 'case7488.txt', 'case7489.txt', 'case7490.txt', 'case7491.txt', 'case7492.txt', 'case7493.txt', 'case7494.txt', 'case7495.txt', 'case7496.txt', 'case7497.txt', 'case7498.txt', 'case7499.txt', 'case7501.txt', 'case7502.txt', 'case7503.txt', 'case7504.txt', 'case7507.txt', 'case7509.txt', 'case7510.txt', 'case7512.txt', 'case7513.txt', 'case7514.txt', 'case7515.txt', 'case7516.txt', 'case7517.txt', 'case7518.txt', 'case7519.txt', 'case7520.txt', 'case7522.txt', 'case7523.txt', 'case7524.txt', 'case7525.txt', 'case7526.txt', 'case7527.txt', 'case7528.txt', 'case7531.txt', 'case7532.txt', 'case7533.txt', 'case7534.txt', 'case7535.txt', 'case7536.txt', 'case7537.txt', 'case7538.txt', 'case7539.txt', 'case7540.txt', 'case7541.txt', 'case7542.txt', 'case7543.txt', 'case7544.txt', 'case7545.txt', 'case7546.txt', 'case7547.txt', 'case7548.txt', 'case7551.txt', 'case7552.txt', 'case7553.txt', 'case7554.txt', 'case7555.txt', 'case7556.txt', 'case7557.txt', 'case7558.txt', 'case7559.txt', 'case7560.txt', 'case7561.txt', 'case7562.txt', 'case7563.txt', 'case7564.txt', 'case7565.txt', 'case7566.txt', 'case7567.txt', 'case7568.txt', 'case7569.txt', 'case7570.txt', 'case7572.txt', 'case7573.txt', 'case7574.txt', 'case7575.txt', 'case7576.txt', 'case7577.txt', 'case7578.txt', 'case7579.txt', 'case7580.txt', 'case7581.txt', 'case7582.txt', 'case7583.txt', 'case7584.txt', 'case7585.txt', 'case7586.txt', 'case7587.txt', 'case7588.txt', 'case7590.txt', 'case7591.txt', 'case7592.txt', 'case7593.txt', 'case7594.txt', 'case7595.txt', 'case7596.txt', 'case7597.txt', 'case7598.txt', 'case7599.txt', 'case7600.txt', 'case7601.txt', 'case7602.txt', 'case7603.txt', 'case7604.txt', 'case7605.txt', 'case7606.txt', 'case7607.txt', 'case7608.txt', 'case7609.txt', 'case7610.txt', 'case7611.txt', 'case7612.txt', 'case7613.txt', 'case7614.txt', 'case7615.txt', 'case7616.txt', 'case7617.txt', 'case7619.txt', 'case7620.txt', 'case7621.txt', 'case7622.txt', 'case7623.txt', 'case7626.txt', 'case7627.txt', 'case7628.txt', 'case7629.txt', 'case7630.txt', 'case7631.txt', 'case7632.txt', 'case7635.txt', 'case7636.txt', 'case7637.txt', 'case7638.txt', 'case7639.txt', 'case7640.txt', 'case7641.txt', 'case7642.txt', 'case7643.txt', 'case7644.txt', 'case7645.txt', 'case7646.txt', 'case7647.txt', 'case7648.txt', 'case7649.txt', 'case7650.txt', 'case7651.txt', 'case7652.txt', 'case7653.txt', 'case7654.txt', 'case7655.txt', 'case7656.txt', 'case7659.txt', 'case7660.txt', 'case7661.txt', 'case7662.txt', 'case7663.txt', 'case7664.txt', 'case7665.txt', 'case7666.txt', 'case7667.txt', 'case7668.txt', 'case7669.txt', 'case7670.txt', 'case7674.txt', 'case7676.txt', 'case7678.txt', 'case7679.txt', 'case7680.txt', 'case7681.txt', 'case7682.txt', 'case7683.txt', 'case7684.txt', 'case7685.txt', 'case7686.txt', 'case7688.txt', 'case7690.txt', 'case7691.txt', 'case7692.txt', 'case7694.txt', 'case7695.txt', 'case7696.txt', 'case7697.txt', 'case7698.txt', 'case7699.txt', 'case7701.txt', 'case7702.txt', 'case7703.txt', 'case7704.txt', 'case7705.txt', 'case7706.txt', 'case7707.txt', 'case7708.txt', 'case7709.txt', 'case7710.txt', 'case7711.txt', 'case7712.txt', 'case7713.txt', 'case7714.txt', 'case7716.txt', 'case7717.txt', 'case7718.txt', 'case7719.txt', 'case7721.txt', 'case7723.txt', 'case7724.txt', 'case7726.txt', 'case7727.txt', 'case7728.txt', 'case7729.txt', 'case7730.txt', 'case7731.txt', 'case7732.txt', 'case7733.txt', 'case7734.txt', 'case7735.txt', 'case7736.txt', 'case7737.txt', 'case7738.txt', 'case7739.txt', 'case7740.txt', 'case7741.txt', 'case7742.txt', 'case7743.txt', 'case7744.txt', 'case7745.txt', 'case7746.txt', 'case7747.txt', 'case7748.txt', 'case7749.txt', 'case7750.txt', 'case7751.txt', 'case7752.txt', 'case7753.txt', 'case7754.txt', 'case7755.txt', 'case7756.txt', 'case7757.txt', 'case7758.txt', 'case7759.txt', 'case7760.txt', 'case7761.txt', 'case7762.txt', 'case7763.txt', 'case7764.txt', 'case7765.txt', 'case7766.txt', 'case7767.txt', 'case7769.txt', 'case7770.txt', 'case7771.txt', 'case7772.txt', 'case7773.txt', 'case7774.txt', 'case7775.txt', 'case7776.txt', 'case7777.txt', 'case7778.txt', 'case7779.txt', 'case7780.txt', 'case7781.txt', 'case7782.txt', 'case7783.txt', 'case7784.txt', 'case7785.txt', 'case7786.txt', 'case7787.txt', 'case7788.txt', 'case7789.txt', 'case7790.txt', 'case7791.txt', 'case7792.txt', 'case7793.txt', 'case7794.txt', 'case7795.txt', 'case7796.txt', 'case7798.txt', 'case7799.txt', 'case7800.txt', 'case7802.txt', 'case7803.txt', 'case7804.txt', 'case7805.txt', 'case7806.txt', 'case7807.txt', 'case7808.txt', 'case7809.txt', 'case7810.txt', 'case7811.txt', 'case7812.txt', 'case7813.txt', 'case7816.txt', 'case7817.txt', 'case7818.txt', 'case7820.txt', 'case7821.txt', 'case7823.txt', 'case7824.txt', 'case7825.txt', 'case7826.txt', 'case7827.txt', 'case7828.txt', 'case7829.txt', 'case7830.txt', 'case7831.txt', 'case7833.txt', 'case7834.txt', 'case7835.txt', 'case7836.txt', 'case7837.txt', 'case7838.txt', 'case7839.txt', 'case7841.txt', 'case7842.txt', 'case7844.txt', 'case7846.txt', 'case7847.txt', 'case7848.txt', 'case7849.txt', 'case7850.txt', 'case7851.txt', 'case7852.txt', 'case7853.txt', 'case7854.txt', 'case7855.txt', 'case7856.txt', 'case7857.txt', 'case7858.txt', 'case7859.txt', 'case7860.txt', 'case7861.txt', 'case7862.txt', 'case7863.txt', 'case7864.txt', 'case7865.txt', 'case7867.txt', 'case7868.txt', 'case7869.txt', 'case7871.txt', 'case7872.txt', 'case7873.txt', 'case7874.txt', 'case7875.txt', 'case7876.txt', 'case7877.txt', 'case7878.txt', 'case7879.txt', 'case7880.txt', 'case7881.txt', 'case7882.txt', 'case7883.txt', 'case7886.txt', 'case7887.txt', 'case7889.txt', 'case7890.txt', 'case7891.txt', 'case7892.txt', 'case7893.txt', 'case7894.txt', 'case7895.txt', 'case7896.txt', 'case7897.txt', 'case7898.txt', 'case7899.txt', 'case7900.txt', 'case7901.txt', 'case7902.txt', 'case7903.txt', 'case7904.txt', 'case7905.txt', 'case7906.txt', 'case7907.txt', 'case7908.txt', 'case7909.txt', 'case7910.txt', 'case7911.txt', 'case7912.txt', 'case7913.txt', 'case7914.txt', 'case7915.txt', 'case7916.txt', 'case7917.txt', 'case7918.txt', 'case7919.txt', 'case7920.txt', 'case7921.txt', 'case7922.txt', 'case7923.txt', 'case7924.txt', 'case7925.txt', 'case7926.txt', 'case7927.txt', 'case7928.txt', 'case7929.txt', 'case7930.txt', 'case7931.txt', 'case7932.txt', 'case7933.txt', 'case7934.txt', 'case7935.txt', 'case7936.txt', 'case7937.txt', 'case7938.txt', 'case7939.txt', 'case7940.txt', 'case7941.txt', 'case7942.txt', 'case7943.txt', 'case7944.txt', 'case7945.txt', 'case7946.txt', 'case7947.txt', 'case7948.txt', 'case7949.txt', 'case7950.txt', 'case7951.txt', 'case7952.txt', 'case7953.txt', 'case7954.txt', 'case7955.txt', 'case7956.txt', 'case7957.txt', 'case7958.txt', 'case7959.txt', 'case7960.txt', 'case7961.txt', 'case7962.txt', 'case7963.txt', 'case7964.txt', 'case7965.txt', 'case7966.txt', 'case7967.txt', 'case7968.txt', 'case7969.txt', 'case7970.txt', 'case7971.txt', 'case7972.txt', 'case7973.txt', 'case7974.txt', 'case7975.txt', 'case7976.txt', 'case7977.txt', 'case7978.txt', 'case7979.txt', 'case7981.txt', 'case7982.txt', 'case7984.txt', 'case7985.txt', 'case7986.txt', 'case7987.txt', 'case7988.txt', 'case7989.txt', 'case7990.txt', 'case7991.txt', 'case7992.txt', 'case7993.txt', 'case7994.txt', 'case7995.txt', 'case7996.txt', 'case7997.txt', 'case7998.txt', 'case7999.txt', 'case8000.txt', 'case8001.txt', 'case8003.txt', 'case8004.txt', 'case8006.txt', 'case8007.txt', 'case8008.txt', 'case8011.txt', 'case8012.txt', 'case8013.txt', 'case8014.txt', 'case8015.txt', 'case8016.txt', 'case8017.txt', 'case8019.txt', 'case8020.txt', 'case8021.txt', 'case8022.txt', 'case8023.txt', 'case8024.txt', 'case8025.txt', 'case8026.txt', 'case8027.txt', 'case8028.txt', 'case8029.txt', 'case8030.txt', 'case8031.txt', 'case8032.txt', 'case8033.txt', 'case8034.txt', 'case8035.txt', 'case8036.txt', 'case8037.txt', 'case8039.txt', 'case8040.txt', 'case8042.txt', 'case8043.txt', 'case8044.txt', 'case8045.txt', 'case8046.txt', 'case8047.txt', 'case8048.txt', 'case8049.txt', 'case8051.txt', 'case8052.txt', 'case8053.txt', 'case8054.txt', 'case8055.txt', 'case8056.txt', 'case8057.txt', 'case8058.txt', 'case8059.txt', 'case8060.txt', 'case8062.txt', 'case8063.txt', 'case8064.txt', 'case8065.txt', 'case8066.txt', 'case8067.txt', 'case8068.txt', 'case8069.txt', 'case8071.txt', 'case8073.txt', 'case8074.txt', 'case8075.txt', 'case8076.txt', 'case8077.txt', 'case8078.txt', 'case8079.txt', 'case8080.txt', 'case8081.txt', 'case8082.txt', 'case8083.txt', 'case8084.txt', 'case8085.txt', 'case8086.txt', 'case8087.txt', 'case8088.txt', 'case8089.txt', 'case8090.txt', 'case8091.txt', 'case8092.txt', 'case8093.txt', 'case8094.txt', 'case8095.txt', 'case8096.txt', 'case8097.txt', 'case8098.txt', 'case8099.txt', 'case8100.txt', 'case8102.txt', 'case8103.txt', 'case8104.txt', 'case8105.txt', 'case8106.txt', 'case8107.txt', 'case8108.txt', 'case8109.txt', 'case8110.txt', 'case8111.txt', 'case8112.txt', 'case8113.txt', 'case8114.txt', 'case8115.txt', 'case8116.txt', 'case8117.txt', 'case8118.txt', 'case8119.txt', 'case8120.txt', 'case8121.txt', 'case8122.txt', 'case8123.txt', 'case8124.txt', 'case8125.txt', 'case8127.txt', 'case8128.txt', 'case8129.txt', 'case8131.txt', 'case8132.txt', 'case8133.txt', 'case8134.txt', 'case8135.txt', 'case8136.txt', 'case8138.txt', 'case8139.txt', 'case8140.txt', 'case8141.txt', 'case8143.txt', 'case8144.txt', 'case8146.txt', 'case8147.txt', 'case8148.txt', 'case8149.txt', 'case8150.txt', 'case8151.txt', 'case8152.txt', 'case8153.txt', 'case8154.txt', 'case8155.txt', 'case8156.txt', 'case8157.txt', 'case8158.txt', 'case8159.txt', 'case8160.txt', 'case8161.txt', 'case8162.txt', 'case8164.txt', 'case8165.txt', 'case8166.txt', 'case8167.txt', 'case8168.txt', 'case8169.txt', 'case8170.txt', 'case8171.txt', 'case8172.txt', 'case8174.txt', 'case8175.txt', 'case8176.txt', 'case8177.txt', 'case8178.txt', 'case8180.txt', 'case8181.txt', 'case8182.txt', 'case8183.txt', 'case8184.txt', 'case8185.txt', 'case8186.txt', 'case8187.txt', 'case8188.txt', 'case8189.txt', 'case8190.txt', 'case8191.txt', 'case8192.txt', 'case8193.txt', 'case8194.txt', 'case8195.txt', 'case8196.txt', 'case8198.txt', 'case8199.txt', 'case8201.txt', 'case8202.txt', 'case8203.txt', 'case8204.txt', 'case8205.txt', 'case8206.txt', 'case8207.txt', 'case8208.txt', 'case8209.txt', 'case8210.txt', 'case8211.txt', 'case8212.txt', 'case8213.txt', 'case8214.txt', 'case8215.txt', 'case8216.txt', 'case8217.txt', 'case8218.txt', 'case8219.txt', 'case8220.txt', 'case8221.txt', 'case8222.txt', 'case8223.txt', 'case8224.txt', 'case8226.txt', 'case8227.txt', 'case8228.txt', 'case8229.txt', 'case8230.txt', 'case8231.txt', 'case8232.txt', 'case8233.txt', 'case8234.txt', 'case8235.txt', 'case8236.txt', 'case8237.txt', 'case8238.txt', 'case8239.txt', 'case8240.txt', 'case8241.txt', 'case8242.txt', 'case8243.txt', 'case8244.txt', 'case8245.txt', 'case8246.txt', 'case8247.txt', 'case8248.txt', 'case8249.txt', 'case8250.txt', 'case8251.txt', 'case8252.txt', 'case8253.txt', 'case8254.txt', 'case8257.txt', 'case8258.txt', 'case8260.txt', 'case8261.txt', 'case8262.txt', 'case8263.txt', 'case8264.txt', 'case8265.txt', 'case8266.txt', 'case8267.txt', 'case8268.txt', 'case8270.txt', 'case8272.txt', 'case8273.txt', 'case8274.txt', 'case8275.txt', 'case8276.txt', 'case8278.txt', 'case8279.txt', 'case8280.txt', 'case8281.txt', 'case8282.txt', 'case8283.txt', 'case8284.txt', 'case8285.txt', 'case8286.txt', 'case8287.txt', 'case8288.txt', 'case8289.txt', 'case8290.txt', 'case8291.txt', 'case8292.txt', 'case8293.txt', 'case8294.txt', 'case8295.txt', 'case8296.txt', 'case8297.txt', 'case8298.txt', 'case8299.txt', 'case8300.txt', 'case8301.txt', 'case8302.txt', 'case8303.txt', 'case8304.txt', 'case8305.txt', 'case8306.txt', 'case8307.txt', 'case8308.txt', 'case8309.txt', 'case8310.txt', 'case8311.txt', 'case8312.txt', 'case8313.txt', 'case8314.txt', 'case8315.txt', 'case8316.txt', 'case8317.txt', 'case8318.txt', 'case8319.txt', 'case8320.txt', 'case8321.txt', 'case8322.txt', 'case8323.txt', 'case8324.txt', 'case8325.txt', 'case8326.txt', 'case8327.txt', 'case8328.txt', 'case8329.txt', 'case8332.txt', 'case8333.txt', 'case8334.txt', 'case8335.txt', 'case8336.txt', 'case8337.txt', 'case8338.txt', 'case8339.txt', 'case8340.txt', 'case8341.txt', 'case8342.txt', 'case8343.txt', 'case8345.txt', 'case8346.txt', 'case8348.txt', 'case8349.txt', 'case8350.txt', 'case8352.txt', 'case8353.txt', 'case8354.txt', 'case8355.txt', 'case8356.txt', 'case8357.txt', 'case8358.txt', 'case8359.txt', 'case8361.txt', 'case8362.txt', 'case8363.txt', 'case8364.txt', 'case8366.txt', 'case8367.txt', 'case8368.txt', 'case8369.txt', 'case8370.txt', 'case8371.txt', 'case8372.txt', 'case8373.txt', 'case8375.txt', 'case8376.txt', 'case8377.txt', 'case8378.txt', 'case8379.txt', 'case8380.txt', 'case8381.txt', 'case8382.txt', 'case8384.txt', 'case8385.txt', 'case8388.txt', 'case8389.txt', 'case8390.txt', 'case8392.txt', 'case8394.txt', 'case8395.txt', 'case8396.txt', 'case8398.txt', 'case8399.txt', 'case8400.txt', 'case8402.txt', 'case8403.txt', 'case8404.txt', 'case8405.txt', 'case8406.txt', 'case8408.txt', 'case8409.txt', 'case8410.txt', 'case8411.txt', 'case8412.txt', 'case8413.txt', 'case8414.txt', 'case8415.txt', 'case8416.txt', 'case8417.txt', 'case8418.txt', 'case8419.txt', 'case8420.txt', 'case8421.txt', 'case8422.txt', 'case8423.txt', 'case8424.txt', 'case8425.txt', 'case8426.txt', 'case8427.txt', 'case8429.txt', 'case8430.txt', 'case8431.txt', 'case8432.txt', 'case8433.txt', 'case8434.txt', 'case8435.txt', 'case8436.txt', 'case8437.txt', 'case8438.txt', 'case8439.txt', 'case8440.txt', 'case8442.txt', 'case8443.txt', 'case8444.txt', 'case8445.txt', 'case8446.txt', 'case8447.txt', 'case8448.txt', 'case8449.txt', 'case8450.txt', 'case8451.txt', 'case8452.txt', 'case8453.txt', 'case8454.txt', 'case8455.txt', 'case8456.txt', 'case8457.txt', 'case8458.txt', 'case8459.txt', 'case8460.txt', 'case8461.txt', 'case8463.txt', 'case8464.txt', 'case8465.txt', 'case8466.txt', 'case8467.txt', 'case8468.txt', 'case8469.txt', 'case8470.txt', 'case8471.txt', 'case8472.txt', 'case8473.txt', 'case8474.txt', 'case8475.txt', 'case8476.txt', 'case8477.txt', 'case8478.txt', 'case8479.txt', 'case8480.txt', 'case8481.txt', 'case8482.txt', 'case8483.txt', 'case8484.txt', 'case8485.txt', 'case8486.txt', 'case8487.txt', 'case8488.txt', 'case8489.txt', 'case8490.txt', 'case8491.txt', 'case8492.txt', 'case8493.txt', 'case8494.txt', 'case8495.txt', 'case8496.txt', 'case8497.txt', 'case8498.txt', 'case8499.txt', 'case8500.txt', 'case8502.txt', 'case8503.txt', 'case8504.txt', 'case8505.txt', 'case8506.txt', 'case8507.txt', 'case8508.txt', 'case8509.txt', 'case8510.txt', 'case8511.txt', 'case8512.txt', 'case8513.txt', 'case8514.txt', 'case8516.txt', 'case8517.txt', 'case8519.txt', 'case8520.txt', 'case8521.txt', 'case8522.txt', 'case8523.txt', 'case8524.txt', 'case8525.txt', 'case8526.txt', 'case8527.txt', 'case8528.txt', 'case8529.txt', 'case8530.txt', 'case8532.txt', 'case8533.txt', 'case8534.txt', 'case8535.txt', 'case8536.txt', 'case8537.txt', 'case8538.txt', 'case8539.txt', 'case8540.txt', 'case8541.txt', 'case8542.txt', 'case8543.txt', 'case8544.txt', 'case8546.txt', 'case8547.txt', 'case8548.txt', 'case8549.txt', 'case8550.txt', 'case8551.txt', 'case8552.txt', 'case8553.txt', 'case8554.txt', 'case8555.txt', 'case8556.txt', 'case8557.txt', 'case8559.txt', 'case8561.txt', 'case8562.txt', 'case8563.txt', 'case8564.txt', 'case8565.txt', 'case8566.txt', 'case8567.txt', 'case8568.txt', 'case8569.txt', 'case8570.txt', 'case8571.txt', 'case8572.txt', 'case8574.txt', 'case8575.txt', 'case8576.txt', 'case8577.txt', 'case8578.txt', 'case8579.txt', 'case8580.txt', 'case8581.txt', 'case8583.txt', 'case8584.txt', 'case8585.txt', 'case8586.txt', 'case8587.txt', 'case8589.txt', 'case8590.txt', 'case8591.txt', 'case8592.txt', 'case8593.txt', 'case8595.txt', 'case8596.txt', 'case8597.txt', 'case8598.txt', 'case8599.txt', 'case8600.txt', 'case8601.txt', 'case8602.txt', 'case8603.txt', 'case8604.txt', 'case8605.txt', 'case8606.txt', 'case8607.txt', 'case8608.txt', 'case8609.txt', 'case8610.txt', 'case8611.txt', 'case8612.txt', 'case8613.txt', 'case8614.txt', 'case8615.txt', 'case8616.txt', 'case8617.txt', 'case8618.txt', 'case8619.txt', 'case8620.txt', 'case8621.txt', 'case8623.txt', 'case8624.txt', 'case8626.txt', 'case8627.txt', 'case8628.txt', 'case8629.txt', 'case8630.txt', 'case8631.txt', 'case8632.txt', 'case8633.txt', 'case8634.txt', 'case8635.txt', 'case8636.txt', 'case8637.txt', 'case8638.txt', 'case8639.txt', 'case8640.txt', 'case8641.txt', 'case8642.txt', 'case8643.txt', 'case8645.txt', 'case8646.txt', 'case8647.txt', 'case8649.txt', 'case8650.txt', 'case8651.txt', 'case8653.txt', 'case8655.txt', 'case8658.txt', 'case8659.txt', 'case8660.txt', 'case8661.txt', 'case8662.txt', 'case8663.txt', 'case8664.txt', 'case8666.txt', 'case8667.txt', 'case8668.txt', 'case8669.txt', 'case8670.txt', 'case8671.txt', 'case8672.txt', 'case8673.txt', 'case8674.txt', 'case8675.txt', 'case8676.txt', 'case8677.txt', 'case8678.txt', 'case8679.txt', 'case8680.txt', 'case8681.txt', 'case8682.txt', 'case8683.txt', 'case8684.txt', 'case8685.txt', 'case8686.txt', 'case8687.txt', 'case8688.txt', 'case8690.txt', 'case8691.txt', 'case8692.txt', 'case8693.txt', 'case8694.txt', 'case8695.txt', 'case8696.txt', 'case8697.txt', 'case8698.txt', 'case8699.txt', 'case8700.txt', 'case8701.txt', 'case8702.txt', 'case8704.txt', 'case8705.txt', 'case8706.txt', 'case8707.txt', 'case8708.txt', 'case8709.txt', 'case8710.txt', 'case8711.txt', 'case8712.txt', 'case8713.txt', 'case8714.txt', 'case8715.txt', 'case8716.txt', 'case8717.txt', 'case8718.txt', 'case8719.txt', 'case8720.txt', 'case8721.txt', 'case8722.txt', 'case8723.txt', 'case8724.txt', 'case8725.txt', 'case8726.txt', 'case8727.txt', 'case8728.txt', 'case8729.txt', 'case8730.txt', 'case8731.txt', 'case8732.txt', 'case8733.txt', 'case8734.txt', 'case8736.txt', 'case8737.txt', 'case8738.txt', 'case8739.txt', 'case8740.txt', 'case8741.txt', 'case8742.txt', 'case8743.txt', 'case8744.txt', 'case8745.txt', 'case8747.txt', 'case8749.txt', 'case8750.txt', 'case8751.txt', 'case8752.txt', 'case8753.txt', 'case8754.txt', 'case8755.txt', 'case8756.txt', 'case8758.txt', 'case8760.txt', 'case8761.txt', 'case8762.txt', 'case8763.txt', 'case8764.txt', 'case8765.txt', 'case8766.txt', 'case8767.txt', 'case8768.txt', 'case8769.txt', 'case8770.txt', 'case8771.txt', 'case8772.txt', 'case8773.txt', 'case8774.txt', 'case8775.txt', 'case8776.txt', 'case8778.txt', 'case8779.txt', 'case8780.txt', 'case8781.txt', 'case8782.txt', 'case8783.txt', 'case8785.txt', 'case8787.txt', 'case8789.txt', 'case8790.txt', 'case8791.txt', 'case8792.txt', 'case8793.txt', 'case8794.txt', 'case8795.txt', 'case8796.txt', 'case8797.txt', 'case8798.txt', 'case8799.txt', 'case8800.txt', 'case8801.txt', 'case8802.txt', 'case8804.txt', 'case8805.txt', 'case8806.txt', 'case8807.txt', 'case8808.txt', 'case8809.txt', 'case8811.txt', 'case8813.txt', 'case8814.txt', 'case8815.txt', 'case8816.txt', 'case8818.txt', 'case8819.txt', 'case8820.txt', 'case8822.txt', 'case8823.txt', 'case8824.txt', 'case8826.txt', 'case8827.txt', 'case8828.txt', 'case8829.txt', 'case8830.txt', 'case8831.txt', 'case8832.txt', 'case8833.txt', 'case8835.txt', 'case8836.txt', 'case8837.txt', 'case8838.txt', 'case8839.txt', 'case8841.txt', 'case8842.txt', 'case8843.txt', 'case8845.txt', 'case8846.txt', 'case8847.txt', 'case8849.txt', 'case8850.txt', 'case8851.txt', 'case8852.txt', 'case8853.txt', 'case8854.txt', 'case8855.txt', 'case8856.txt', 'case8857.txt', 'case8858.txt', 'case8859.txt', 'case8860.txt', 'case8861.txt', 'case8862.txt', 'case8863.txt', 'case8864.txt', 'case8865.txt', 'case8866.txt', 'case8867.txt', 'case8868.txt', 'case8869.txt', 'case8870.txt', 'case8871.txt', 'case8872.txt', 'case8873.txt', 'case8874.txt', 'case8875.txt', 'case8876.txt', 'case8877.txt', 'case8878.txt', 'case8879.txt', 'case8880.txt', 'case8881.txt', 'case8882.txt', 'case8883.txt', 'case8884.txt', 'case8885.txt', 'case8886.txt', 'case8887.txt', 'case8889.txt', 'case8890.txt', 'case8891.txt', 'case8892.txt', 'case8894.txt', 'case8895.txt', 'case8896.txt', 'case8897.txt', 'case8898.txt', 'case8899.txt', 'case8900.txt', 'case8901.txt', 'case8902.txt', 'case8903.txt', 'case8905.txt', 'case8906.txt', 'case8907.txt', 'case8908.txt', 'case8909.txt', 'case8910.txt', 'case8911.txt', 'case8912.txt', 'case8913.txt', 'case8914.txt', 'case8916.txt', 'case8918.txt', 'case8919.txt', 'case8920.txt', 'case8922.txt', 'case8923.txt', 'case8924.txt', 'case8925.txt', 'case8926.txt', 'case8927.txt', 'case8928.txt', 'case8929.txt', 'case8930.txt', 'case8931.txt', 'case8932.txt', 'case8933.txt', 'case8934.txt', 'case8935.txt', 'case8936.txt', 'case8938.txt', 'case8939.txt', 'case8940.txt', 'case8941.txt', 'case8942.txt', 'case8943.txt', 'case8945.txt', 'case8946.txt', 'case8947.txt', 'case8948.txt', 'case8949.txt', 'case8950.txt', 'case8951.txt', 'case8952.txt', 'case8953.txt', 'case8954.txt', 'case8955.txt', 'case8956.txt', 'case8957.txt', 'case8958.txt', 'case8959.txt', 'case8960.txt', 'case8962.txt', 'case8964.txt', 'case8965.txt', 'case8966.txt', 'case8967.txt', 'case8968.txt', 'case8969.txt', 'case8970.txt', 'case8971.txt', 'case8972.txt', 'case8973.txt', 'case8975.txt', 'case8976.txt', 'case8977.txt', 'case8978.txt', 'case8979.txt', 'case8980.txt', 'case8981.txt', 'case8982.txt', 'case8983.txt', 'case8984.txt', 'case8985.txt', 'case8987.txt', 'case8988.txt', 'case8989.txt', 'case8990.txt', 'case8992.txt', 'case8993.txt', 'case8994.txt', 'case8995.txt', 'case8996.txt', 'case8998.txt', 'case8999.txt', 'case9000.txt', 'case9002.txt', 'case9003.txt', 'case9004.txt', 'case9005.txt', 'case9006.txt', 'case9007.txt', 'case9009.txt', 'case9010.txt', 'case9011.txt', 'case9012.txt', 'case9013.txt', 'case9015.txt', 'case9016.txt', 'case9017.txt', 'case9018.txt', 'case9019.txt', 'case9020.txt', 'case9021.txt', 'case9022.txt', 'case9023.txt', 'case9024.txt', 'case9025.txt', 'case9026.txt', 'case9027.txt', 'case9028.txt', 'case9029.txt', 'case9030.txt', 'case9031.txt', 'case9032.txt', 'case9033.txt', 'case9034.txt', 'case9035.txt', 'case9036.txt', 'case9037.txt', 'case9038.txt', 'case9039.txt', 'case9040.txt', 'case9041.txt', 'case9042.txt', 'case9043.txt', 'case9044.txt', 'case9045.txt', 'case9047.txt', 'case9048.txt', 'case9049.txt', 'case9051.txt', 'case9052.txt', 'case9053.txt', 'case9054.txt', 'case9055.txt', 'case9056.txt', 'case9057.txt', 'case9058.txt', 'case9059.txt', 'case9060.txt', 'case9061.txt', 'case9062.txt', 'case9063.txt', 'case9064.txt', 'case9065.txt', 'case9066.txt', 'case9067.txt', 'case9068.txt', 'case9069.txt', 'case9070.txt', 'case9071.txt', 'case9072.txt', 'case9073.txt', 'case9074.txt', 'case9075.txt', 'case9076.txt', 'case9077.txt', 'case9078.txt', 'case9079.txt', 'case9080.txt', 'case9081.txt', 'case9082.txt', 'case9083.txt', 'case9084.txt', 'case9085.txt', 'case9086.txt', 'case9087.txt', 'case9088.txt', 'case9089.txt', 'case9090.txt', 'case9092.txt', 'case9093.txt', 'case9094.txt', 'case9096.txt', 'case9097.txt', 'case9098.txt', 'case9099.txt', 'case9102.txt', 'case9103.txt', 'case9104.txt', 'case9105.txt', 'case9106.txt', 'case9107.txt', 'case9108.txt', 'case9109.txt', 'case9110.txt', 'case9111.txt', 'case9112.txt', 'case9113.txt', 'case9114.txt', 'case9115.txt', 'case9116.txt', 'case9117.txt', 'case9118.txt', 'case9119.txt', 'case9120.txt', 'case9121.txt', 'case9122.txt', 'case9123.txt', 'case9124.txt', 'case9125.txt', 'case9126.txt', 'case9127.txt', 'case9128.txt', 'case9129.txt', 'case9130.txt', 'case9131.txt', 'case9132.txt', 'case9133.txt', 'case9134.txt', 'case9135.txt', 'case9136.txt', 'case9137.txt', 'case9138.txt', 'case9139.txt', 'case9140.txt', 'case9142.txt', 'case9144.txt', 'case9145.txt', 'case9147.txt', 'case9148.txt', 'case9149.txt', 'case9150.txt', 'case9151.txt', 'case9152.txt', 'case9153.txt', 'case9154.txt', 'case9155.txt', 'case9156.txt', 'case9157.txt', 'case9158.txt', 'case9159.txt', 'case9160.txt', 'case9161.txt', 'case9162.txt', 'case9163.txt', 'case9164.txt', 'case9165.txt', 'case9166.txt', 'case9167.txt', 'case9168.txt', 'case9169.txt', 'case9170.txt', 'case9171.txt', 'case9172.txt', 'case9173.txt', 'case9175.txt', 'case9176.txt', 'case9177.txt', 'case9178.txt', 'case9180.txt', 'case9181.txt', 'case9182.txt', 'case9183.txt', 'case9184.txt', 'case9185.txt', 'case9186.txt', 'case9187.txt', 'case9188.txt', 'case9189.txt', 'case9190.txt', 'case9191.txt', 'case9194.txt', 'case9195.txt', 'case9197.txt', 'case9198.txt', 'case9199.txt', 'case9200.txt', 'case9201.txt', 'case9202.txt', 'case9204.txt', 'case9205.txt', 'case9206.txt', 'case9207.txt', 'case9208.txt', 'case9209.txt', 'case9210.txt', 'case9211.txt', 'case9212.txt', 'case9213.txt', 'case9215.txt', 'case9216.txt', 'case9217.txt', 'case9218.txt', 'case9219.txt', 'case9220.txt', 'case9221.txt', 'case9222.txt', 'case9223.txt', 'case9224.txt', 'case9225.txt', 'case9226.txt', 'case9227.txt', 'case9228.txt', 'case9229.txt', 'case9230.txt', 'case9232.txt', 'case9233.txt', 'case9234.txt', 'case9235.txt', 'case9236.txt', 'case9237.txt', 'case9238.txt', 'case9240.txt', 'case9241.txt', 'case9242.txt', 'case9243.txt', 'case9244.txt', 'case9245.txt', 'case9246.txt', 'case9247.txt', 'case9248.txt', 'case9249.txt', 'case9250.txt', 'case9251.txt', 'case9252.txt', 'case9253.txt', 'case9254.txt', 'case9255.txt', 'case9256.txt', 'case9257.txt', 'case9258.txt', 'case9259.txt', 'case9260.txt', 'case9262.txt', 'case9263.txt', 'case9264.txt', 'case9266.txt', 'case9267.txt', 'case9268.txt', 'case9269.txt', 'case9270.txt', 'case9271.txt', 'case9273.txt', 'case9274.txt', 'case9275.txt', 'case9276.txt', 'case9277.txt', 'case9278.txt', 'case9280.txt', 'case9281.txt', 'case9283.txt', 'case9284.txt', 'case9285.txt', 'case9286.txt', 'case9287.txt', 'case9288.txt', 'case9289.txt', 'case9290.txt', 'case9291.txt', 'case9294.txt', 'case9295.txt', 'case9296.txt', 'case9297.txt', 'case9298.txt', 'case9299.txt', 'case9300.txt', 'case9302.txt', 'case9304.txt', 'case9307.txt', 'case9308.txt', 'case9309.txt', 'case9310.txt', 'case9311.txt', 'case9312.txt', 'case9313.txt', 'case9314.txt', 'case9315.txt', 'case9316.txt', 'case9317.txt', 'case9318.txt', 'case9319.txt', 'case9320.txt', 'case9321.txt', 'case9322.txt', 'case9323.txt', 'case9324.txt', 'case9325.txt', 'case9327.txt', 'case9328.txt', 'case9329.txt', 'case9330.txt', 'case9331.txt', 'case9332.txt', 'case9333.txt', 'case9334.txt', 'case9337.txt', 'case9338.txt', 'case9340.txt', 'case9341.txt', 'case9342.txt', 'case9343.txt', 'case9344.txt', 'case9345.txt', 'case9346.txt', 'case9347.txt', 'case9348.txt', 'case9350.txt', 'case9351.txt', 'case9352.txt', 'case9353.txt', 'case9354.txt', 'case9355.txt', 'case9356.txt', 'case9358.txt', 'case9359.txt', 'case9360.txt', 'case9361.txt', 'case9364.txt', 'case9365.txt', 'case9366.txt', 'case9367.txt', 'case9368.txt', 'case9369.txt', 'case9370.txt', 'case9371.txt', 'case9372.txt', 'case9373.txt', 'case9375.txt', 'case9377.txt', 'case9378.txt', 'case9379.txt', 'case9381.txt', 'case9382.txt', 'case9383.txt', 'case9384.txt', 'case9385.txt', 'case9386.txt', 'case9387.txt', 'case9388.txt', 'case9389.txt', 'case9390.txt', 'case9392.txt', 'case9393.txt', 'case9394.txt', 'case9395.txt', 'case9397.txt', 'case9399.txt', 'case9400.txt', 'case9401.txt', 'case9402.txt', 'case9403.txt', 'case9404.txt', 'case9406.txt', 'case9407.txt', 'case9409.txt', 'case9410.txt', 'case9411.txt', 'case9412.txt', 'case9413.txt', 'case9414.txt', 'case9415.txt', 'case9416.txt', 'case9417.txt', 'case9418.txt', 'case9420.txt', 'case9421.txt', 'case9422.txt', 'case9423.txt', 'case9424.txt', 'case9425.txt', 'case9427.txt', 'case9428.txt', 'case9429.txt', 'case9430.txt', 'case9431.txt', 'case9432.txt', 'case9433.txt', 'case9434.txt', 'case9435.txt', 'case9436.txt', 'case9437.txt', 'case9438.txt', 'case9439.txt', 'case9440.txt', 'case9441.txt', 'case9442.txt', 'case9443.txt', 'case9444.txt', 'case9445.txt', 'case9446.txt', 'case9448.txt', 'case9449.txt', 'case9450.txt', 'case9452.txt', 'case9453.txt', 'case9454.txt', 'case9455.txt', 'case9456.txt', 'case9458.txt', 'case9459.txt', 'case9460.txt', 'case9461.txt', 'case9462.txt', 'case9463.txt', 'case9464.txt', 'case9465.txt', 'case9467.txt', 'case9468.txt', 'case9469.txt', 'case9470.txt', 'case9471.txt', 'case9472.txt', 'case9473.txt', 'case9474.txt', 'case9475.txt', 'case9476.txt', 'case9478.txt', 'case9480.txt', 'case9481.txt', 'case9482.txt', 'case9483.txt', 'case9484.txt', 'case9485.txt', 'case9486.txt', 'case9487.txt', 'case9488.txt', 'case9489.txt', 'case9490.txt', 'case9491.txt', 'case9492.txt', 'case9493.txt', 'case9494.txt', 'case9495.txt', 'case9496.txt', 'case9497.txt', 'case9498.txt', 'case9499.txt', 'case9500.txt', 'case9501.txt', 'case9503.txt', 'case9504.txt', 'case9506.txt', 'case9507.txt', 'case9508.txt', 'case9509.txt', 'case9510.txt', 'case9511.txt', 'case9512.txt', 'case9513.txt', 'case9514.txt', 'case9515.txt', 'case9516.txt', 'case9517.txt', 'case9518.txt', 'case9520.txt', 'case9523.txt', 'case9524.txt', 'case9525.txt', 'case9526.txt', 'case9527.txt', 'case9528.txt', 'case9529.txt', 'case9530.txt', 'case9531.txt', 'case9532.txt', 'case9533.txt', 'case9534.txt', 'case9535.txt', 'case9536.txt', 'case9537.txt', 'case9538.txt', 'case9539.txt', 'case9540.txt', 'case9541.txt', 'case9542.txt', 'case9543.txt', 'case9544.txt', 'case9545.txt', 'case9546.txt', 'case9547.txt', 'case9548.txt', 'case9549.txt', 'case9550.txt', 'case9551.txt', 'case9554.txt', 'case9555.txt', 'case9556.txt', 'case9557.txt', 'case9558.txt', 'case9559.txt', 'case9560.txt', 'case9561.txt', 'case9562.txt', 'case9563.txt', 'case9564.txt', 'case9565.txt', 'case9566.txt', 'case9567.txt', 'case9569.txt', 'case9570.txt', 'case9571.txt', 'case9572.txt', 'case9573.txt', 'case9574.txt', 'case9575.txt', 'case9576.txt', 'case9577.txt', 'case9578.txt', 'case9579.txt', 'case9580.txt', 'case9581.txt', 'case9584.txt', 'case9585.txt', 'case9586.txt', 'case9587.txt', 'case9588.txt', 'case9589.txt', 'case9590.txt', 'case9591.txt', 'case9593.txt', 'case9594.txt', 'case9595.txt', 'case9596.txt', 'case9597.txt', 'case9599.txt', 'case9600.txt', 'case9601.txt', 'case9602.txt', 'case9603.txt', 'case9604.txt', 'case9605.txt', 'case9606.txt', 'case9607.txt', 'case9608.txt', 'case9610.txt', 'case9611.txt', 'case9612.txt', 'case9613.txt', 'case9614.txt', 'case9615.txt', 'case9616.txt', 'case9617.txt', 'case9618.txt', 'case9619.txt', 'case9620.txt', 'case9621.txt', 'case9622.txt', 'case9623.txt', 'case9624.txt', 'case9625.txt', 'case9626.txt', 'case9627.txt', 'case9628.txt', 'case9629.txt', 'case9630.txt', 'case9632.txt', 'case9633.txt', 'case9635.txt', 'case9636.txt', 'case9637.txt', 'case9638.txt', 'case9639.txt', 'case9640.txt', 'case9641.txt', 'case9643.txt', 'case9645.txt', 'case9646.txt', 'case9647.txt', 'case9648.txt', 'case9649.txt', 'case9650.txt', 'case9651.txt', 'case9652.txt', 'case9654.txt', 'case9655.txt', 'case9656.txt', 'case9657.txt', 'case9658.txt', 'case9659.txt', 'case9660.txt', 'case9661.txt', 'case9662.txt', 'case9663.txt', 'case9664.txt', 'case9665.txt', 'case9668.txt', 'case9669.txt', 'case9670.txt', 'case9671.txt', 'case9672.txt', 'case9673.txt', 'case9674.txt', 'case9676.txt', 'case9677.txt', 'case9678.txt', 'case9679.txt', 'case9680.txt', 'case9681.txt', 'case9682.txt', 'case9683.txt', 'case9684.txt', 'case9685.txt', 'case9686.txt', 'case9687.txt', 'case9688.txt', 'case9689.txt', 'case9691.txt', 'case9692.txt', 'case9693.txt', 'case9694.txt', 'case9696.txt', 'case9697.txt', 'case9698.txt', 'case9699.txt', 'case9700.txt', 'case9701.txt', 'case9702.txt', 'case9703.txt', 'case9704.txt', 'case9705.txt', 'case9706.txt', 'case9707.txt', 'case9708.txt', 'case9709.txt', 'case9711.txt', 'case9712.txt', 'case9713.txt', 'case9714.txt', 'case9715.txt', 'case9716.txt', 'case9717.txt', 'case9719.txt', 'case9720.txt', 'case9721.txt', 'case9722.txt', 'case9723.txt', 'case9725.txt', 'case9726.txt', 'case9727.txt', 'case9729.txt', 'case9730.txt', 'case9732.txt', 'case9733.txt', 'case9735.txt', 'case9737.txt', 'case9738.txt', 'case9739.txt', 'case9740.txt', 'case9741.txt', 'case9742.txt', 'case9744.txt', 'case9745.txt', 'case9746.txt', 'case9747.txt', 'case9748.txt', 'case9749.txt', 'case9750.txt', 'case9751.txt', 'case9752.txt', 'case9753.txt', 'case9754.txt', 'case9755.txt', 'case9756.txt', 'case9757.txt', 'case9758.txt', 'case9759.txt', 'case9760.txt', 'case9761.txt', 'case9762.txt', 'case9763.txt', 'case9764.txt', 'case9765.txt', 'case9766.txt', 'case9767.txt', 'case9768.txt', 'case9769.txt', 'case9770.txt', 'case9771.txt', 'case9772.txt', 'case9773.txt', 'case9774.txt', 'case9775.txt', 'case9776.txt', 'case9777.txt', 'case9778.txt', 'case9779.txt', 'case9780.txt', 'case9781.txt', 'case9782.txt', 'case9783.txt', 'case9785.txt', 'case9786.txt', 'case9787.txt', 'case9788.txt', 'case9789.txt', 'case9790.txt', 'case9791.txt', 'case9793.txt', 'case9794.txt', 'case9795.txt', 'case9796.txt', 'case9797.txt', 'case9798.txt', 'case9799.txt', 'case9800.txt', 'case9801.txt', 'case9802.txt', 'case9803.txt', 'case9804.txt', 'case9805.txt', 'case9806.txt', 'case9807.txt', 'case9808.txt', 'case9809.txt', 'case9810.txt', 'case9811.txt', 'case9812.txt', 'case9813.txt', 'case9814.txt', 'case9815.txt', 'case9816.txt', 'case9817.txt', 'case9818.txt', 'case9820.txt', 'case9821.txt', 'case9822.txt', 'case9823.txt', 'case9824.txt', 'case9826.txt', 'case9828.txt', 'case9829.txt', 'case9830.txt', 'case9831.txt', 'case9832.txt', 'case9833.txt', 'case9834.txt', 'case9835.txt', 'case9836.txt', 'case9838.txt', 'case9839.txt', 'case9840.txt', 'case9841.txt', 'case9842.txt', 'case9843.txt', 'case9844.txt', 'case9845.txt', 'case9846.txt', 'case9847.txt', 'case9848.txt', 'case9849.txt', 'case9851.txt', 'case9852.txt', 'case9854.txt', 'case9855.txt', 'case9856.txt', 'case9858.txt', 'case9859.txt', 'case9860.txt', 'case9861.txt', 'case9862.txt', 'case9863.txt', 'case9864.txt', 'case9865.txt', 'case9866.txt', 'case9868.txt', 'case9869.txt', 'case9870.txt', 'case9871.txt', 'case9873.txt', 'case9874.txt', 'case9875.txt', 'case9876.txt', 'case9877.txt', 'case9878.txt', 'case9879.txt', 'case9880.txt', 'case9881.txt', 'case9882.txt', 'case9883.txt', 'case9885.txt', 'case9886.txt', 'case9887.txt', 'case9888.txt', 'case9891.txt', 'case9892.txt', 'case9893.txt', 'case9894.txt', 'case9895.txt', 'case9897.txt', 'case9899.txt', 'case9900.txt', 'case9902.txt', 'case9904.txt', 'case9906.txt', 'case9907.txt', 'case9908.txt', 'case9909.txt', 'case9910.txt', 'case9911.txt', 'case9912.txt', 'case9913.txt', 'case9914.txt', 'case9916.txt', 'case9917.txt', 'case9918.txt', 'case9919.txt', 'case9920.txt', 'case9921.txt', 'case9922.txt', 'case9923.txt', 'case9924.txt', 'case9925.txt', 'case9926.txt', 'case9927.txt', 'case9929.txt', 'case9930.txt', 'case9931.txt', 'case9932.txt', 'case9933.txt', 'case9934.txt', 'case9935.txt', 'case9936.txt', 'case9938.txt', 'case9939.txt', 'case9940.txt', 'case9941.txt', 'case9942.txt', 'case9943.txt', 'case9944.txt', 'case9945.txt', 'case9946.txt', 'case9947.txt', 'case9948.txt', 'case9949.txt', 'case9950.txt', 'case9951.txt', 'case9952.txt', 'case9953.txt', 'case9954.txt', 'case9955.txt', 'case9956.txt', 'case9958.txt', 'case9959.txt', 'case9960.txt', 'case9961.txt', 'case9962.txt', 'case9963.txt', 'case9964.txt', 'case9965.txt', 'case9966.txt', 'case9967.txt', 'case9968.txt', 'case9969.txt', 'case9971.txt', 'case9972.txt', 'case9974.txt', 'case9975.txt', 'case9976.txt', 'case9977.txt', 'case9980.txt', 'case9981.txt', 'case9983.txt', 'case9984.txt', 'case9985.txt', 'case9986.txt', 'case9988.txt', 'case9989.txt', 'case9990.txt', 'case9991.txt', 'case9992.txt', 'case9993.txt', 'case9994.txt', 'case9995.txt', 'case9996.txt', 'case9997.txt', 'case9998.txt', 'case9999.txt', 'case10000.txt', 'case10002.txt', 'case10003.txt', 'case10004.txt', 'case10005.txt', 'case10006.txt', 'case10007.txt', 'case10008.txt', 'case10009.txt', 'case10010.txt', 'case10011.txt', 'case10012.txt', 'case10013.txt', 'case10014.txt', 'case10015.txt', 'case10016.txt', 'case10018.txt', 'case10019.txt', 'case10020.txt', 'case10021.txt', 'case10022.txt', 'case10023.txt', 'case10024.txt', 'case10025.txt', 'case10026.txt', 'case10027.txt', 'case10028.txt', 'case10029.txt', 'case10030.txt', 'case10032.txt', 'case10033.txt', 'case10034.txt', 'case10035.txt', 'case10036.txt', 'case10037.txt', 'case10038.txt', 'case10039.txt', 'case10040.txt', 'case10041.txt', 'case10042.txt', 'case10043.txt', 'case10044.txt', 'case10045.txt', 'case10046.txt', 'case10047.txt', 'case10048.txt', 'case10049.txt', 'case10051.txt', 'case10052.txt', 'case10053.txt', 'case10055.txt', 'case10056.txt', 'case10057.txt', 'case10058.txt', 'case10060.txt', 'case10061.txt', 'case10062.txt', 'case10063.txt', 'case10064.txt', 'case10065.txt', 'case10066.txt', 'case10067.txt', 'case10068.txt', 'case10069.txt', 'case10070.txt', 'case10071.txt', 'case10072.txt', 'case10073.txt', 'case10074.txt', 'case10075.txt', 'case10076.txt', 'case10077.txt', 'case10078.txt', 'case10079.txt', 'case10080.txt', 'case10081.txt', 'case10082.txt', 'case10083.txt', 'case10085.txt', 'case10086.txt', 'case10087.txt', 'case10088.txt', 'case10089.txt', 'case10090.txt', 'case10091.txt', 'case10092.txt', 'case10093.txt', 'case10094.txt', 'case10095.txt', 'case10096.txt', 'case10097.txt', 'case10098.txt', 'case10099.txt', 'case10100.txt', 'case10101.txt', 'case10102.txt', 'case10103.txt', 'case10104.txt', 'case10105.txt', 'case10106.txt', 'case10107.txt', 'case10108.txt', 'case10109.txt', 'case10110.txt', 'case10111.txt', 'case10112.txt', 'case10113.txt', 'case10114.txt', 'case10115.txt', 'case10116.txt', 'case10117.txt', 'case10118.txt', 'case10119.txt', 'case10120.txt', 'case10122.txt', 'case10123.txt', 'case10124.txt', 'case10125.txt', 'case10126.txt', 'case10127.txt', 'case10129.txt', 'case10130.txt', 'case10131.txt', 'case10132.txt', 'case10133.txt', 'case10134.txt', 'case10135.txt', 'case10136.txt', 'case10137.txt', 'case10138.txt', 'case10139.txt', 'case10140.txt', 'case10141.txt', 'case10142.txt', 'case10143.txt', 'case10144.txt', 'case10145.txt', 'case10146.txt', 'case10147.txt', 'case10148.txt', 'case10149.txt', 'case10150.txt', 'case10151.txt', 'case10152.txt', 'case10153.txt', 'case10154.txt', 'case10155.txt', 'case10156.txt', 'case10157.txt', 'case10158.txt', 'case10159.txt', 'case10160.txt', 'case10161.txt', 'case10162.txt', 'case10163.txt', 'case10166.txt', 'case10167.txt', 'case10168.txt', 'case10169.txt', 'case10170.txt', 'case10171.txt', 'case10172.txt', 'case10173.txt', 'case10174.txt', 'case10175.txt', 'case10176.txt', 'case10177.txt', 'case10178.txt', 'case10179.txt', 'case10180.txt', 'case10181.txt', 'case10182.txt', 'case10183.txt', 'case10184.txt', 'case10185.txt', 'case10186.txt', 'case10187.txt', 'case10188.txt', 'case10189.txt', 'case10190.txt', 'case10191.txt', 'case10192.txt', 'case10193.txt', 'case10194.txt', 'case10195.txt', 'case10196.txt', 'case10197.txt', 'case10199.txt', 'case10200.txt', 'case10201.txt', 'case10202.txt', 'case10204.txt', 'case10205.txt', 'case10206.txt', 'case10207.txt', 'case10208.txt', 'case10209.txt', 'case10210.txt', 'case10211.txt', 'case10212.txt', 'case10214.txt', 'case10215.txt', 'case10216.txt', 'case10217.txt', 'case10218.txt', 'case10219.txt', 'case10220.txt', 'case10221.txt', 'case10222.txt', 'case10224.txt', 'case10225.txt', 'case10226.txt', 'case10227.txt', 'case10228.txt', 'case10229.txt', 'case10230.txt', 'case10231.txt', 'case10232.txt', 'case10233.txt', 'case10234.txt', 'case10235.txt', 'case10237.txt', 'case10238.txt', 'case10239.txt', 'case10242.txt', 'case10243.txt', 'case10244.txt', 'case10245.txt', 'case10246.txt', 'case10247.txt', 'case10248.txt', 'case10249.txt', 'case10250.txt', 'case10251.txt', 'case10252.txt', 'case10253.txt', 'case10254.txt', 'case10256.txt', 'case10257.txt', 'case10258.txt', 'case10259.txt', 'case10261.txt', 'case10262.txt', 'case10263.txt', 'case10264.txt', 'case10265.txt', 'case10266.txt', 'case10267.txt', 'case10268.txt', 'case10269.txt', 'case10270.txt', 'case10271.txt', 'case10272.txt', 'case10273.txt', 'case10274.txt', 'case10275.txt', 'case10277.txt', 'case10278.txt', 'case10279.txt', 'case10281.txt', 'case10282.txt', 'case10283.txt', 'case10284.txt', 'case10285.txt', 'case10286.txt', 'case10288.txt', 'case10289.txt', 'case10290.txt', 'case10291.txt', 'case10292.txt', 'case10293.txt', 'case10294.txt', 'case10295.txt', 'case10296.txt', 'case10297.txt', 'case10298.txt', 'case10299.txt', 'case10300.txt', 'case10301.txt', 'case10302.txt', 'case10303.txt', 'case10304.txt', 'case10305.txt', 'case10306.txt', 'case10307.txt', 'case10308.txt', 'case10309.txt', 'case10310.txt', 'case10311.txt', 'case10312.txt', 'case10313.txt', 'case10314.txt', 'case10315.txt', 'case10316.txt', 'case10318.txt', 'case10319.txt', 'case10320.txt', 'case10321.txt', 'case10322.txt', 'case10323.txt', 'case10324.txt', 'case10325.txt', 'case10326.txt', 'case10327.txt', 'case10328.txt', 'case10329.txt', 'case10330.txt', 'case10331.txt', 'case10332.txt', 'case10334.txt', 'case10335.txt', 'case10336.txt', 'case10337.txt', 'case10338.txt', 'case10339.txt', 'case10340.txt', 'case10341.txt', 'case10343.txt', 'case10344.txt', 'case10346.txt', 'case10347.txt', 'case10348.txt', 'case10349.txt', 'case10350.txt', 'case10351.txt', 'case10352.txt', 'case10353.txt', 'case10354.txt', 'case10355.txt', 'case10356.txt', 'case10358.txt', 'case10359.txt', 'case10361.txt', 'case10362.txt', 'case10363.txt', 'case10364.txt', 'case10365.txt', 'case10366.txt', 'case10367.txt', 'case10368.txt', 'case10369.txt', 'case10370.txt', 'case10371.txt', 'case10372.txt', 'case10373.txt', 'case10374.txt', 'case10375.txt', 'case10376.txt', 'case10377.txt', 'case10378.txt', 'case10379.txt', 'case10380.txt', 'case10381.txt', 'case10383.txt', 'case10385.txt', 'case10386.txt', 'case10387.txt', 'case10388.txt', 'case10389.txt', 'case10390.txt', 'case10391.txt', 'case10392.txt', 'case10393.txt', 'case10395.txt', 'case10396.txt', 'case10397.txt', 'case10400.txt', 'case10401.txt', 'case10402.txt', 'case10403.txt', 'case10404.txt', 'case10405.txt', 'case10406.txt', 'case10407.txt', 'case10408.txt', 'case10409.txt', 'case10410.txt', 'case10411.txt', 'case10412.txt', 'case10413.txt', 'case10414.txt', 'case10416.txt', 'case10417.txt', 'case10418.txt', 'case10419.txt', 'case10420.txt', 'case10421.txt', 'case10422.txt', 'case10423.txt', 'case10424.txt', 'case10425.txt', 'case10426.txt', 'case10427.txt', 'case10428.txt', 'case10429.txt', 'case10430.txt', 'case10431.txt', 'case10432.txt', 'case10433.txt', 'case10434.txt', 'case10435.txt', 'case10437.txt', 'case10438.txt', 'case10439.txt', 'case10440.txt', 'case10441.txt', 'case10442.txt', 'case10443.txt', 'case10444.txt', 'case10446.txt', 'case10447.txt', 'case10448.txt', 'case10449.txt', 'case10450.txt', 'case10451.txt', 'case10452.txt', 'case10453.txt', 'case10454.txt', 'case10455.txt', 'case10456.txt', 'case10457.txt', 'case10458.txt', 'case10459.txt', 'case10460.txt', 'case10461.txt', 'case10462.txt', 'case10463.txt', 'case10464.txt', 'case10465.txt', 'case10466.txt', 'case10467.txt', 'case10468.txt', 'case10469.txt', 'case10470.txt', 'case10471.txt', 'case10472.txt', 'case10473.txt', 'case10474.txt', 'case10475.txt', 'case10476.txt', 'case10477.txt', 'case10478.txt', 'case10479.txt', 'case10480.txt', 'case10481.txt', 'case10482.txt', 'case10483.txt', 'case10484.txt', 'case10486.txt', 'case10487.txt', 'case10488.txt', 'case10489.txt', 'case10491.txt', 'case10492.txt', 'case10493.txt', 'case10494.txt', 'case10495.txt', 'case10496.txt', 'case10497.txt', 'case10498.txt', 'case10499.txt', 'case10500.txt', 'case10501.txt', 'case10502.txt', 'case10503.txt', 'case10504.txt', 'case10505.txt', 'case10507.txt', 'case10508.txt', 'case10510.txt', 'case10511.txt', 'case10513.txt', 'case10514.txt', 'case10515.txt', 'case10516.txt', 'case10517.txt', 'case10518.txt', 'case10519.txt', 'case10521.txt', 'case10522.txt', 'case10523.txt', 'case10524.txt', 'case10525.txt', 'case10526.txt', 'case10527.txt', 'case10528.txt', 'case10529.txt', 'case10530.txt', 'case10531.txt', 'case10532.txt', 'case10533.txt', 'case10534.txt', 'case10535.txt', 'case10536.txt', 'case10537.txt', 'case10538.txt', 'case10539.txt', 'case10540.txt', 'case10542.txt', 'case10543.txt', 'case10544.txt', 'case10545.txt', 'case10546.txt', 'case10547.txt', 'case10548.txt', 'case10549.txt', 'case10550.txt', 'case10552.txt', 'case10553.txt', 'case10554.txt', 'case10555.txt', 'case10556.txt', 'case10557.txt', 'case10558.txt', 'case10559.txt', 'case10560.txt', 'case10561.txt', 'case10562.txt', 'case10563.txt', 'case10564.txt', 'case10565.txt', 'case10566.txt', 'case10567.txt', 'case10569.txt', 'case10570.txt', 'case10571.txt', 'case10572.txt', 'case10574.txt', 'case10575.txt', 'case10576.txt', 'case10577.txt', 'case10578.txt', 'case10579.txt', 'case10580.txt', 'case10581.txt', 'case10582.txt', 'case10583.txt', 'case10584.txt', 'case10585.txt', 'case10586.txt', 'case10587.txt', 'case10589.txt', 'case10590.txt', 'case10591.txt', 'case10592.txt', 'case10593.txt', 'case10595.txt', 'case10596.txt', 'case10597.txt', 'case10598.txt', 'case10599.txt', 'case10600.txt', 'case10601.txt', 'case10603.txt', 'case10604.txt', 'case10605.txt', 'case10606.txt', 'case10607.txt', 'case10608.txt', 'case10609.txt', 'case10610.txt', 'case10611.txt', 'case10612.txt', 'case10613.txt', 'case10614.txt', 'case10615.txt', 'case10616.txt', 'case10618.txt', 'case10619.txt', 'case10620.txt', 'case10621.txt', 'case10622.txt', 'case10623.txt', 'case10624.txt', 'case10625.txt', 'case10626.txt', 'case10627.txt', 'case10628.txt', 'case10629.txt', 'case10631.txt', 'case10634.txt', 'case10636.txt', 'case10637.txt', 'case10638.txt', 'case10639.txt', 'case10640.txt', 'case10641.txt', 'case10642.txt', 'case10643.txt', 'case10644.txt', 'case10645.txt', 'case10646.txt', 'case10647.txt', 'case10649.txt', 'case10650.txt', 'case10651.txt', 'case10653.txt', 'case10654.txt', 'case10655.txt', 'case10656.txt', 'case10657.txt', 'case10659.txt', 'case10660.txt', 'case10661.txt', 'case10662.txt', 'case10663.txt', 'case10664.txt', 'case10665.txt', 'case10666.txt', 'case10667.txt', 'case10668.txt', 'case10669.txt', 'case10670.txt', 'case10671.txt', 'case10673.txt', 'case10674.txt', 'case10675.txt', 'case10676.txt', 'case10677.txt', 'case10678.txt', 'case10679.txt', 'case10680.txt', 'case10681.txt', 'case10682.txt', 'case10683.txt', 'case10684.txt', 'case10685.txt', 'case10686.txt', 'case10687.txt', 'case10688.txt', 'case10689.txt', 'case10690.txt', 'case10691.txt', 'case10692.txt', 'case10693.txt', 'case10694.txt', 'case10696.txt', 'case10697.txt', 'case10699.txt', 'case10700.txt', 'case10702.txt', 'case10703.txt', 'case10704.txt', 'case10705.txt', 'case10706.txt', 'case10707.txt', 'case10708.txt', 'case10709.txt', 'case10710.txt', 'case10711.txt', 'case10712.txt', 'case10713.txt', 'case10714.txt', 'case10715.txt', 'case10716.txt', 'case10717.txt', 'case10718.txt', 'case10719.txt', 'case10720.txt', 'case10721.txt', 'case10722.txt', 'case10724.txt', 'case10725.txt', 'case10726.txt', 'case10727.txt', 'case10729.txt', 'case10730.txt', 'case10731.txt', 'case10734.txt', 'case10735.txt', 'case10736.txt', 'case10737.txt', 'case10738.txt', 'case10739.txt', 'case10740.txt', 'case10741.txt', 'case10742.txt', 'case10743.txt', 'case10744.txt', 'case10745.txt', 'case10747.txt', 'case10748.txt', 'case10749.txt', 'case10750.txt', 'case10751.txt', 'case10752.txt', 'case10753.txt', 'case10755.txt', 'case10756.txt', 'case10757.txt', 'case10759.txt', 'case10760.txt', 'case10761.txt', 'case10762.txt', 'case10763.txt', 'case10764.txt', 'case10766.txt', 'case10767.txt', 'case10768.txt', 'case10769.txt', 'case10771.txt', 'case10772.txt', 'case10774.txt', 'case10775.txt', 'case10776.txt', 'case10777.txt', 'case10778.txt', 'case10779.txt', 'case10780.txt', 'case10781.txt', 'case10782.txt', 'case10783.txt', 'case10784.txt', 'case10785.txt', 'case10786.txt', 'case10787.txt', 'case10788.txt', 'case10790.txt', 'case10791.txt', 'case10793.txt', 'case10795.txt', 'case10796.txt', 'case10797.txt', 'case10798.txt', 'case10799.txt', 'case10800.txt', 'case10802.txt', 'case10803.txt', 'case10804.txt', 'case10805.txt', 'case10806.txt', 'case10807.txt', 'case10808.txt', 'case10810.txt', 'case10811.txt', 'case10812.txt', 'case10813.txt', 'case10815.txt', 'case10816.txt', 'case10817.txt', 'case10818.txt', 'case10819.txt', 'case10821.txt', 'case10822.txt', 'case10823.txt', 'case10824.txt', 'case10825.txt', 'case10827.txt', 'case10828.txt', 'case10830.txt', 'case10833.txt', 'case10834.txt', 'case10836.txt', 'case10837.txt', 'case10838.txt', 'case10839.txt', 'case10840.txt', 'case10841.txt', 'case10843.txt', 'case10844.txt', 'case10846.txt', 'case10847.txt', 'case10849.txt', 'case10851.txt', 'case10852.txt', 'case10854.txt', 'case10855.txt', 'case10856.txt', 'case10857.txt', 'case10858.txt', 'case10859.txt', 'case10860.txt', 'case10861.txt', 'case10862.txt', 'case10863.txt', 'case10864.txt', 'case10867.txt', 'case10868.txt', 'case10869.txt', 'case10870.txt', 'case10871.txt', 'case10872.txt', 'case10873.txt', 'case10874.txt', 'case10875.txt', 'case10876.txt', 'case10877.txt', 'case10878.txt', 'case10879.txt', 'case10881.txt', 'case10883.txt', 'case10884.txt', 'case10885.txt', 'case10886.txt', 'case10887.txt', 'case10889.txt', 'case10890.txt', 'case10891.txt', 'case10892.txt', 'case10893.txt', 'case10894.txt', 'case10895.txt', 'case10896.txt', 'case10897.txt', 'case10898.txt', 'case10899.txt', 'case10900.txt', 'case10903.txt', 'case10904.txt', 'case10905.txt', 'case10906.txt', 'case10907.txt', 'case10908.txt', 'case10909.txt', 'case10910.txt', 'case10911.txt', 'case10912.txt', 'case10913.txt', 'case10914.txt', 'case10915.txt', 'case10916.txt', 'case10917.txt', 'case10918.txt', 'case10919.txt', 'case10920.txt', 'case10921.txt', 'case10922.txt', 'case10923.txt', 'case10924.txt', 'case10925.txt', 'case10926.txt', 'case10927.txt', 'case10928.txt', 'case10929.txt', 'case10930.txt', 'case10931.txt', 'case10932.txt', 'case10933.txt', 'case10934.txt', 'case10935.txt', 'case10936.txt', 'case10937.txt', 'case10938.txt', 'case10939.txt', 'case10940.txt', 'case10941.txt', 'case10942.txt', 'case10943.txt', 'case10944.txt', 'case10945.txt', 'case10946.txt', 'case10948.txt', 'case10949.txt', 'case10950.txt', 'case10952.txt', 'case10955.txt', 'case10956.txt', 'case10957.txt', 'case10959.txt', 'case10960.txt', 'case10961.txt', 'case10963.txt', 'case10964.txt', 'case10965.txt', 'case10966.txt', 'case10968.txt', 'case10969.txt', 'case10970.txt', 'case10971.txt', 'case10972.txt', 'case10973.txt', 'case10974.txt', 'case10975.txt', 'case10976.txt', 'case10977.txt', 'case10978.txt', 'case10979.txt', 'case10980.txt', 'case10981.txt', 'case10982.txt', 'case10983.txt', 'case10984.txt', 'case10985.txt', 'case10986.txt', 'case10988.txt', 'case10989.txt', 'case10990.txt', 'case10991.txt', 'case10992.txt', 'case10993.txt', 'case10994.txt', 'case10995.txt', 'case10996.txt', 'case10997.txt', 'case10999.txt', 'case11000.txt', 'case11001.txt', 'case11002.txt', 'case11004.txt', 'case11006.txt', 'case11007.txt', 'case11008.txt', 'case11009.txt', 'case11010.txt', 'case11011.txt', 'case11012.txt', 'case11013.txt', 'case11014.txt', 'case11015.txt', 'case11016.txt', 'case11017.txt', 'case11018.txt', 'case11019.txt', 'case11020.txt', 'case11021.txt', 'case11022.txt', 'case11023.txt', 'case11024.txt', 'case11025.txt', 'case11026.txt', 'case11027.txt', 'case11028.txt', 'case11029.txt', 'case11030.txt', 'case11031.txt', 'case11032.txt', 'case11033.txt', 'case11034.txt', 'case11035.txt', 'case11037.txt', 'case11038.txt', 'case11039.txt', 'case11041.txt', 'case11042.txt', 'case11043.txt', 'case11044.txt', 'case11045.txt', 'case11046.txt', 'case11047.txt', 'case11048.txt', 'case11049.txt', 'case11050.txt', 'case11051.txt', 'case11052.txt', 'case11053.txt', 'case11054.txt', 'case11055.txt', 'case11056.txt', 'case11057.txt', 'case11058.txt', 'case11060.txt', 'case11061.txt', 'case11062.txt', 'case11063.txt', 'case11064.txt', 'case11065.txt', 'case11066.txt', 'case11068.txt', 'case11069.txt', 'case11070.txt', 'case11071.txt', 'case11072.txt', 'case11073.txt', 'case11074.txt', 'case11075.txt', 'case11077.txt', 'case11078.txt', 'case11079.txt', 'case11082.txt', 'case11083.txt', 'case11084.txt', 'case11085.txt', 'case11086.txt', 'case11087.txt', 'case11089.txt', 'case11090.txt', 'case11092.txt', 'case11093.txt', 'case11094.txt', 'case11095.txt', 'case11096.txt', 'case11097.txt', 'case11098.txt', 'case11099.txt', 'case11100.txt', 'case11101.txt', 'case11102.txt', 'case11103.txt', 'case11104.txt', 'case11105.txt', 'case11106.txt', 'case11107.txt', 'case11108.txt', 'case11109.txt', 'case11110.txt', 'case11112.txt', 'case11113.txt', 'case11114.txt', 'case11115.txt', 'case11117.txt', 'case11118.txt', 'case11119.txt', 'case11120.txt', 'case11121.txt', 'case11122.txt', 'case11123.txt', 'case11124.txt', 'case11126.txt', 'case11127.txt', 'case11128.txt', 'case11129.txt', 'case11130.txt', 'case11131.txt', 'case11134.txt', 'case11135.txt', 'case11136.txt', 'case11137.txt', 'case11138.txt', 'case11139.txt', 'case11140.txt', 'case11141.txt', 'case11142.txt', 'case11143.txt', 'case11144.txt', 'case11145.txt', 'case11146.txt', 'case11147.txt', 'case11148.txt', 'case11149.txt', 'case11150.txt', 'case11151.txt', 'case11152.txt', 'case11153.txt', 'case11154.txt', 'case11156.txt', 'case11157.txt', 'case11158.txt', 'case11159.txt', 'case11160.txt', 'case11161.txt', 'case11162.txt', 'case11163.txt', 'case11164.txt', 'case11165.txt', 'case11166.txt', 'case11167.txt', 'case11168.txt', 'case11169.txt', 'case11170.txt', 'case11171.txt', 'case11172.txt', 'case11173.txt', 'case11174.txt', 'case11175.txt', 'case11176.txt', 'case11178.txt', 'case11179.txt', 'case11180.txt', 'case11181.txt', 'case11182.txt', 'case11183.txt', 'case11184.txt', 'case11185.txt', 'case11186.txt', 'case11187.txt', 'case11188.txt', 'case11189.txt', 'case11190.txt', 'case11191.txt', 'case11192.txt', 'case11193.txt', 'case11194.txt', 'case11195.txt', 'case11196.txt', 'case11197.txt', 'case11198.txt', 'case11199.txt', 'case11200.txt', 'case11201.txt', 'case11202.txt', 'case11203.txt', 'case11204.txt', 'case11205.txt', 'case11206.txt', 'case11207.txt', 'case11208.txt', 'case11209.txt', 'case11210.txt', 'case11211.txt', 'case11212.txt', 'case11213.txt', 'case11214.txt', 'case11215.txt', 'case11216.txt', 'case11217.txt', 'case11218.txt', 'case11219.txt', 'case11220.txt', 'case11221.txt', 'case11222.txt', 'case11223.txt', 'case11224.txt', 'case11225.txt', 'case11226.txt', 'case11227.txt', 'case11228.txt', 'case11229.txt', 'case11230.txt', 'case11231.txt', 'case11232.txt', 'case11233.txt', 'case11234.txt', 'case11235.txt', 'case11236.txt', 'case11237.txt', 'case11238.txt', 'case11239.txt', 'case11240.txt', 'case11241.txt', 'case11243.txt', 'case11244.txt', 'case11245.txt', 'case11246.txt', 'case11247.txt', 'case11248.txt', 'case11249.txt', 'case11250.txt', 'case11251.txt', 'case11252.txt', 'case11253.txt', 'case11254.txt', 'case11255.txt', 'case11256.txt', 'case11257.txt', 'case11258.txt', 'case11259.txt', 'case11260.txt', 'case11261.txt', 'case11262.txt', 'case11263.txt', 'case11264.txt', 'case11265.txt', 'case11266.txt', 'case11267.txt', 'case11268.txt', 'case11269.txt', 'case11270.txt', 'case11271.txt', 'case11272.txt', 'case11273.txt', 'case11274.txt', 'case11275.txt', 'case11276.txt', 'case11277.txt', 'case11278.txt', 'case11279.txt', 'case11280.txt', 'case11281.txt', 'case11282.txt', 'case11283.txt', 'case11284.txt', 'case11285.txt', 'case11286.txt', 'case11287.txt', 'case11289.txt', 'case11290.txt', 'case11291.txt', 'case11292.txt', 'case11293.txt', 'case11294.txt', 'case11296.txt', 'case11297.txt', 'case11298.txt', 'case11299.txt', 'case11300.txt', 'case11301.txt', 'case11302.txt', 'case11304.txt', 'case11305.txt', 'case11306.txt', 'case11307.txt', 'case11308.txt', 'case11309.txt', 'case11310.txt', 'case11311.txt', 'case11312.txt', 'case11313.txt', 'case11314.txt', 'case11315.txt', 'case11316.txt', 'case11317.txt', 'case11318.txt', 'case11319.txt', 'case11320.txt', 'case11321.txt', 'case11322.txt', 'case11323.txt', 'case11324.txt', 'case11325.txt', 'case11326.txt', 'case11327.txt', 'case11328.txt', 'case11330.txt', 'case11331.txt', 'case11332.txt', 'case11334.txt', 'case11335.txt', 'case11336.txt', 'case11337.txt', 'case11338.txt', 'case11339.txt', 'case11340.txt', 'case11342.txt', 'case11343.txt', 'case11344.txt', 'case11345.txt', 'case11346.txt', 'case11347.txt', 'case11348.txt', 'case11349.txt', 'case11351.txt', 'case11352.txt', 'case11353.txt', 'case11354.txt', 'case11356.txt', 'case11357.txt', 'case11359.txt', 'case11360.txt', 'case11361.txt', 'case11362.txt', 'case11363.txt', 'case11364.txt', 'case11365.txt', 'case11366.txt', 'case11367.txt', 'case11368.txt', 'case11369.txt', 'case11370.txt', 'case11371.txt', 'case11373.txt', 'case11374.txt', 'case11375.txt', 'case11377.txt', 'case11378.txt', 'case11379.txt', 'case11380.txt', 'case11381.txt', 'case11382.txt', 'case11383.txt', 'case11384.txt', 'case11385.txt', 'case11386.txt', 'case11387.txt', 'case11388.txt', 'case11389.txt', 'case11390.txt', 'case11391.txt', 'case11392.txt', 'case11393.txt', 'case11394.txt', 'case11395.txt', 'case11396.txt', 'case11397.txt', 'case11399.txt', 'case11400.txt', 'case11401.txt', 'case11402.txt', 'case11403.txt', 'case11404.txt', 'case11405.txt', 'case11406.txt', 'case11407.txt', 'case11408.txt', 'case11409.txt', 'case11410.txt', 'case11411.txt', 'case11412.txt', 'case11413.txt', 'case11414.txt', 'case11415.txt', 'case11416.txt', 'case11417.txt', 'case11418.txt', 'case11419.txt', 'case11420.txt', 'case11421.txt', 'case11422.txt', 'case11423.txt', 'case11424.txt', 'case11426.txt', 'case11427.txt', 'case11429.txt', 'case11430.txt', 'case11432.txt', 'case11433.txt', 'case11434.txt', 'case11435.txt', 'case11436.txt', 'case11437.txt', 'case11438.txt', 'case11439.txt', 'case11440.txt', 'case11441.txt', 'case11444.txt', 'case11445.txt', 'case11446.txt', 'case11447.txt', 'case11448.txt', 'case11449.txt', 'case11450.txt', 'case11451.txt', 'case11452.txt', 'case11453.txt', 'case11454.txt', 'case11455.txt', 'case11456.txt', 'case11457.txt', 'case11459.txt', 'case11460.txt', 'case11461.txt', 'case11462.txt', 'case11463.txt', 'case11464.txt', 'case11465.txt', 'case11466.txt', 'case11467.txt', 'case11468.txt', 'case11469.txt', 'case11470.txt', 'case11471.txt', 'case11472.txt', 'case11473.txt', 'case11474.txt', 'case11475.txt', 'case11476.txt', 'case11477.txt', 'case11478.txt', 'case11479.txt', 'case11480.txt', 'case11481.txt', 'case11482.txt', 'case11483.txt', 'case11484.txt', 'case11485.txt', 'case11486.txt', 'case11487.txt', 'case11488.txt', 'case11489.txt', 'case11490.txt', 'case11491.txt', 'case11492.txt', 'case11493.txt', 'case11494.txt', 'case11495.txt', 'case11496.txt', 'case11497.txt', 'case11498.txt', 'case11500.txt', 'case11501.txt', 'case11502.txt', 'case11503.txt', 'case11504.txt', 'case11505.txt', 'case11506.txt', 'case11507.txt', 'case11508.txt', 'case11509.txt', 'case11510.txt', 'case11511.txt', 'case11514.txt', 'case11515.txt', 'case11516.txt', 'case11517.txt', 'case11518.txt', 'case11519.txt', 'case11520.txt', 'case11521.txt', 'case11522.txt', 'case11523.txt', 'case11524.txt', 'case11525.txt', 'case11527.txt', 'case11528.txt', 'case11529.txt', 'case11530.txt', 'case11531.txt', 'case11534.txt', 'case11535.txt', 'case11537.txt', 'case11538.txt', 'case11539.txt', 'case11540.txt', 'case11541.txt', 'case11542.txt', 'case11543.txt', 'case11546.txt', 'case11548.txt', 'case11549.txt', 'case11550.txt', 'case11551.txt', 'case11552.txt', 'case11553.txt', 'case11554.txt', 'case11555.txt', 'case11556.txt', 'case11557.txt', 'case11558.txt', 'case11559.txt', 'case11560.txt', 'case11561.txt', 'case11562.txt', 'case11563.txt', 'case11564.txt', 'case11566.txt', 'case11567.txt', 'case11568.txt', 'case11570.txt', 'case11571.txt', 'case11572.txt', 'case11573.txt', 'case11574.txt', 'case11575.txt', 'case11576.txt', 'case11577.txt', 'case11578.txt', 'case11579.txt', 'case11580.txt', 'case11581.txt', 'case11582.txt', 'case11583.txt', 'case11584.txt', 'case11585.txt', 'case11586.txt', 'case11587.txt', 'case11588.txt', 'case11589.txt', 'case11590.txt', 'case11591.txt', 'case11592.txt', 'case11593.txt', 'case11595.txt', 'case11596.txt', 'case11597.txt', 'case11598.txt', 'case11599.txt', 'case11600.txt', 'case11601.txt', 'case11602.txt', 'case11603.txt', 'case11604.txt', 'case11605.txt', 'case11606.txt', 'case11607.txt', 'case11608.txt', 'case11609.txt', 'case11610.txt', 'case11611.txt', 'case11612.txt', 'case11613.txt', 'case11614.txt', 'case11615.txt', 'case11618.txt', 'case11619.txt', 'case11620.txt', 'case11622.txt', 'case11623.txt', 'case11624.txt', 'case11626.txt', 'case11627.txt', 'case11628.txt', 'case11629.txt', 'case11631.txt', 'case11632.txt', 'case11633.txt', 'case11634.txt', 'case11635.txt', 'case11636.txt', 'case11638.txt', 'case11639.txt', 'case11640.txt', 'case11641.txt', 'case11642.txt', 'case11643.txt', 'case11644.txt', 'case11645.txt', 'case11646.txt', 'case11647.txt', 'case11648.txt', 'case11649.txt', 'case11650.txt', 'case11651.txt', 'case11652.txt', 'case11653.txt', 'case11654.txt', 'case11655.txt', 'case11656.txt', 'case11657.txt', 'case11658.txt', 'case11660.txt', 'case11661.txt', 'case11662.txt', 'case11663.txt', 'case11664.txt', 'case11665.txt', 'case11666.txt', 'case11667.txt', 'case11668.txt', 'case11669.txt', 'case11672.txt', 'case11673.txt', 'case11674.txt', 'case11675.txt', 'case11677.txt', 'case11679.txt', 'case11680.txt', 'case11681.txt', 'case11682.txt', 'case11683.txt', 'case11684.txt', 'case11685.txt', 'case11686.txt', 'case11687.txt', 'case11688.txt', 'case11691.txt', 'case11692.txt', 'case11693.txt', 'case11695.txt', 'case11696.txt', 'case11697.txt', 'case11698.txt', 'case11699.txt', 'case11700.txt', 'case11701.txt', 'case11703.txt', 'case11705.txt', 'case11706.txt', 'case11707.txt', 'case11708.txt', 'case11709.txt', 'case11710.txt', 'case11712.txt', 'case11713.txt', 'case11716.txt', 'case11717.txt', 'case11718.txt', 'case11719.txt', 'case11720.txt', 'case11721.txt', 'case11722.txt', 'case11724.txt', 'case11725.txt', 'case11726.txt', 'case11727.txt', 'case11728.txt', 'case11729.txt', 'case11730.txt', 'case11731.txt', 'case11732.txt', 'case11733.txt', 'case11734.txt', 'case11735.txt', 'case11736.txt', 'case11737.txt', 'case11738.txt', 'case11739.txt', 'case11740.txt', 'case11741.txt', 'case11742.txt', 'case11743.txt', 'case11744.txt', 'case11745.txt', 'case11746.txt', 'case11747.txt', 'case11748.txt', 'case11749.txt', 'case11750.txt', 'case11751.txt', 'case11752.txt', 'case11754.txt', 'case11755.txt', 'case11756.txt', 'case11757.txt', 'case11758.txt', 'case11760.txt', 'case11761.txt', 'case11762.txt', 'case11763.txt', 'case11764.txt', 'case11765.txt', 'case11766.txt', 'case11767.txt', 'case11768.txt', 'case11769.txt', 'case11770.txt', 'case11771.txt', 'case11772.txt', 'case11773.txt', 'case11774.txt', 'case11775.txt', 'case11776.txt', 'case11777.txt', 'case11778.txt', 'case11779.txt', 'case11780.txt', 'case11781.txt', 'case11783.txt', 'case11784.txt', 'case11785.txt', 'case11786.txt', 'case11788.txt', 'case11789.txt', 'case11790.txt', 'case11791.txt', 'case11792.txt', 'case11793.txt', 'case11796.txt', 'case11797.txt', 'case11798.txt', 'case11799.txt', 'case11800.txt', 'case11801.txt', 'case11802.txt', 'case11803.txt', 'case11804.txt', 'case11808.txt', 'case11809.txt', 'case11810.txt', 'case11812.txt', 'case11813.txt', 'case11815.txt', 'case11816.txt', 'case11817.txt', 'case11818.txt', 'case11819.txt', 'case11822.txt', 'case11823.txt', 'case11824.txt', 'case11825.txt', 'case11826.txt', 'case11827.txt', 'case11828.txt', 'case11830.txt', 'case11831.txt', 'case11832.txt', 'case11833.txt', 'case11834.txt', 'case11835.txt', 'case11838.txt', 'case11839.txt', 'case11840.txt', 'case11841.txt', 'case11842.txt', 'case11843.txt', 'case11845.txt', 'case11847.txt', 'case11848.txt', 'case11850.txt', 'case11851.txt', 'case11853.txt', 'case11854.txt', 'case11855.txt', 'case11856.txt', 'case11857.txt', 'case11858.txt', 'case11859.txt', 'case11860.txt', 'case11861.txt', 'case11862.txt', 'case11863.txt', 'case11864.txt', 'case11865.txt', 'case11866.txt', 'case11867.txt', 'case11868.txt', 'case11869.txt', 'case11871.txt', 'case11873.txt', 'case11874.txt', 'case11875.txt', 'case11876.txt', 'case11877.txt', 'case11879.txt', 'case11880.txt', 'case11881.txt', 'case11882.txt', 'case11883.txt', 'case11884.txt', 'case11885.txt', 'case11886.txt', 'case11888.txt', 'case11889.txt', 'case11890.txt', 'case11891.txt', 'case11892.txt', 'case11893.txt', 'case11894.txt', 'case11895.txt', 'case11896.txt', 'case11897.txt', 'case11898.txt', 'case11899.txt', 'case11900.txt', 'case11901.txt', 'case11902.txt', 'case11903.txt', 'case11904.txt', 'case11907.txt', 'case11908.txt', 'case11910.txt', 'case11911.txt', 'case11912.txt', 'case11913.txt', 'case11914.txt', 'case11915.txt', 'case11916.txt', 'case11917.txt', 'case11918.txt', 'case11919.txt', 'case11920.txt', 'case11921.txt', 'case11922.txt', 'case11923.txt', 'case11924.txt', 'case11925.txt', 'case11926.txt', 'case11927.txt', 'case11928.txt', 'case11929.txt', 'case11930.txt', 'case11931.txt', 'case11932.txt', 'case11933.txt', 'case11934.txt', 'case11935.txt', 'case11936.txt', 'case11937.txt', 'case11938.txt', 'case11939.txt', 'case11940.txt', 'case11941.txt', 'case11943.txt', 'case11944.txt', 'case11945.txt', 'case11946.txt', 'case11947.txt', 'case11948.txt', 'case11949.txt', 'case11950.txt', 'case11951.txt', 'case11952.txt', 'case11953.txt', 'case11954.txt', 'case11955.txt', 'case11956.txt', 'case11957.txt', 'case11958.txt', 'case11959.txt', 'case11960.txt', 'case11961.txt', 'case11962.txt', 'case11964.txt', 'case11965.txt', 'case11966.txt', 'case11967.txt', 'case11968.txt', 'case11969.txt', 'case11971.txt', 'case11972.txt', 'case11973.txt', 'case11974.txt', 'case11975.txt', 'case11976.txt', 'case11977.txt', 'case11978.txt', 'case11979.txt', 'case11980.txt', 'case11981.txt', 'case11982.txt', 'case11983.txt', 'case11984.txt', 'case11985.txt', 'case11986.txt', 'case11987.txt', 'case11988.txt', 'case11989.txt', 'case11990.txt', 'case11991.txt', 'case11992.txt', 'case11993.txt', 'case11994.txt', 'case11995.txt', 'case11996.txt', 'case11998.txt', 'case11999.txt', 'case12000.txt', 'case12001.txt', 'case12002.txt', 'case12003.txt', 'case12004.txt', 'case12006.txt', 'case12007.txt', 'case12008.txt', 'case12009.txt', 'case12011.txt', 'case12012.txt', 'case12014.txt', 'case12016.txt', 'case12017.txt', 'case12018.txt', 'case12019.txt', 'case12020.txt', 'case12021.txt', 'case12022.txt', 'case12023.txt', 'case12024.txt', 'case12025.txt', 'case12026.txt', 'case12028.txt', 'case12030.txt', 'case12031.txt', 'case12032.txt', 'case12033.txt', 'case12034.txt', 'case12035.txt', 'case12036.txt', 'case12037.txt', 'case12038.txt', 'case12039.txt', 'case12040.txt', 'case12041.txt', 'case12042.txt', 'case12043.txt', 'case12044.txt', 'case12046.txt', 'case12047.txt', 'case12048.txt', 'case12049.txt', 'case12051.txt', 'case12052.txt', 'case12053.txt', 'case12054.txt', 'case12055.txt', 'case12056.txt', 'case12057.txt', 'case12059.txt', 'case12060.txt', 'case12061.txt', 'case12062.txt', 'case12063.txt', 'case12065.txt', 'case12066.txt', 'case12067.txt', 'case12068.txt', 'case12069.txt', 'case12070.txt', 'case12071.txt', 'case12072.txt', 'case12073.txt', 'case12075.txt', 'case12076.txt', 'case12077.txt', 'case12080.txt', 'case12081.txt', 'case12082.txt', 'case12084.txt', 'case12085.txt', 'case12086.txt', 'case12087.txt', 'case12088.txt', 'case12089.txt', 'case12090.txt', 'case12091.txt', 'case12092.txt', 'case12093.txt', 'case12094.txt', 'case12095.txt', 'case12096.txt', 'case12097.txt', 'case12098.txt', 'case12099.txt', 'case12100.txt', 'case12101.txt', 'case12102.txt', 'case12103.txt', 'case12104.txt', 'case12105.txt', 'case12106.txt', 'case12108.txt', 'case12109.txt', 'case12111.txt', 'case12112.txt', 'case12113.txt', 'case12114.txt', 'case12115.txt', 'case12116.txt', 'case12117.txt', 'case12118.txt', 'case12119.txt', 'case12120.txt', 'case12122.txt', 'case12123.txt', 'case12124.txt', 'case12126.txt', 'case12127.txt', 'case12128.txt', 'case12129.txt', 'case12130.txt', 'case12131.txt', 'case12132.txt', 'case12133.txt', 'case12134.txt', 'case12135.txt', 'case12136.txt', 'case12137.txt', 'case12138.txt', 'case12140.txt', 'case12141.txt', 'case12142.txt', 'case12143.txt', 'case12144.txt', 'case12145.txt', 'case12146.txt', 'case12147.txt', 'case12148.txt', 'case12149.txt', 'case12150.txt', 'case12151.txt', 'case12152.txt', 'case12153.txt', 'case12155.txt', 'case12156.txt', 'case12157.txt', 'case12158.txt', 'case12159.txt', 'case12160.txt', 'case12161.txt', 'case12162.txt', 'case12163.txt', 'case12164.txt', 'case12165.txt', 'case12167.txt', 'case12170.txt', 'case12173.txt', 'case12174.txt', 'case12175.txt', 'case12176.txt', 'case12177.txt', 'case12179.txt', 'case12180.txt', 'case12181.txt', 'case12182.txt', 'case12183.txt', 'case12184.txt', 'case12185.txt', 'case12186.txt', 'case12187.txt', 'case12188.txt', 'case12189.txt', 'case12190.txt', 'case12191.txt', 'case12192.txt', 'case12193.txt', 'case12194.txt', 'case12195.txt', 'case12196.txt', 'case12197.txt', 'case12198.txt', 'case12199.txt', 'case12200.txt', 'case12201.txt', 'case12202.txt', 'case12203.txt', 'case12204.txt', 'case12205.txt', 'case12206.txt', 'case12207.txt', 'case12208.txt', 'case12209.txt', 'case12210.txt', 'case12211.txt', 'case12212.txt', 'case12213.txt', 'case12214.txt', 'case12215.txt', 'case12216.txt', 'case12217.txt', 'case12218.txt', 'case12219.txt', 'case12220.txt', 'case12221.txt', 'case12222.txt', 'case12223.txt', 'case12224.txt', 'case12225.txt', 'case12226.txt', 'case12227.txt', 'case12228.txt', 'case12229.txt', 'case12230.txt', 'case12231.txt', 'case12232.txt', 'case12233.txt', 'case12234.txt', 'case12235.txt', 'case12236.txt', 'case12237.txt', 'case12238.txt', 'case12239.txt', 'case12240.txt', 'case12241.txt', 'case12242.txt', 'case12243.txt', 'case12244.txt', 'case12245.txt', 'case12246.txt', 'case12248.txt', 'case12250.txt', 'case12251.txt', 'case12252.txt', 'case12253.txt', 'case12254.txt', 'case12255.txt', 'case12256.txt', 'case12257.txt', 'case12258.txt', 'case12259.txt', 'case12260.txt', 'case12261.txt', 'case12262.txt', 'case12263.txt', 'case12264.txt', 'case12265.txt', 'case12266.txt', 'case12267.txt', 'case12268.txt', 'case12269.txt', 'case12270.txt', 'case12272.txt', 'case12273.txt', 'case12274.txt', 'case12275.txt', 'case12276.txt', 'case12277.txt', 'case12278.txt', 'case12279.txt', 'case12280.txt', 'case12281.txt', 'case12283.txt', 'case12284.txt', 'case12285.txt', 'case12286.txt', 'case12287.txt', 'case12288.txt', 'case12290.txt', 'case12291.txt', 'case12292.txt', 'case12293.txt', 'case12294.txt', 'case12295.txt', 'case12296.txt', 'case12297.txt', 'case12298.txt', 'case12299.txt', 'case12300.txt', 'case12301.txt', 'case12302.txt', 'case12304.txt', 'case12305.txt', 'case12306.txt', 'case12307.txt', 'case12308.txt', 'case12309.txt', 'case12311.txt', 'case12312.txt', 'case12313.txt', 'case12314.txt', 'case12315.txt', 'case12316.txt', 'case12317.txt', 'case12319.txt', 'case12320.txt', 'case12321.txt', 'case12322.txt', 'case12323.txt', 'case12324.txt', 'case12325.txt', 'case12326.txt', 'case12327.txt', 'case12328.txt', 'case12330.txt', 'case12331.txt', 'case12332.txt', 'case12333.txt', 'case12334.txt', 'case12336.txt', 'case12338.txt', 'case12340.txt', 'case12341.txt', 'case12343.txt', 'case12344.txt', 'case12345.txt', 'case12346.txt', 'case12347.txt', 'case12348.txt', 'case12350.txt', 'case12351.txt', 'case12352.txt', 'case12353.txt', 'case12354.txt', 'case12355.txt', 'case12356.txt', 'case12357.txt', 'case12358.txt', 'case12359.txt', 'case12362.txt', 'case12363.txt', 'case12364.txt', 'case12365.txt', 'case12367.txt', 'case12368.txt', 'case12369.txt', 'case12370.txt', 'case12371.txt', 'case12373.txt', 'case12374.txt', 'case12375.txt', 'case12376.txt', 'case12377.txt', 'case12378.txt', 'case12379.txt', 'case12380.txt', 'case12381.txt', 'case12382.txt', 'case12383.txt', 'case12384.txt', 'case12385.txt', 'case12386.txt', 'case12387.txt', 'case12388.txt', 'case12389.txt', 'case12391.txt', 'case12392.txt', 'case12393.txt', 'case12394.txt', 'case12396.txt', 'case12397.txt', 'case12398.txt', 'case12400.txt', 'case12401.txt', 'case12402.txt', 'case12403.txt', 'case12404.txt', 'case12405.txt', 'case12406.txt', 'case12408.txt', 'case12409.txt', 'case12410.txt', 'case12411.txt', 'case12413.txt', 'case12414.txt', 'case12415.txt', 'case12416.txt', 'case12417.txt', 'case12419.txt', 'case12420.txt', 'case12421.txt', 'case12422.txt', 'case12423.txt', 'case12424.txt', 'case12427.txt', 'case12428.txt', 'case12429.txt', 'case12431.txt', 'case12432.txt', 'case12433.txt', 'case12434.txt', 'case12435.txt', 'case12437.txt', 'case12438.txt', 'case12439.txt', 'case12440.txt', 'case12442.txt', 'case12443.txt', 'case12446.txt', 'case12447.txt', 'case12448.txt', 'case12449.txt', 'case12450.txt', 'case12451.txt', 'case12453.txt', 'case12455.txt', 'case12456.txt', 'case12457.txt', 'case12460.txt', 'case12462.txt', 'case12464.txt', 'case12466.txt', 'case12468.txt', 'case12470.txt', 'case12471.txt', 'case12472.txt', 'case12473.txt', 'case12475.txt', 'case12476.txt', 'case12478.txt', 'case12479.txt', 'case12480.txt', 'case12481.txt', 'case12482.txt', 'case12483.txt', 'case12484.txt', 'case12485.txt', 'case12486.txt', 'case12487.txt', 'case12488.txt', 'case12489.txt', 'case12490.txt', 'case12491.txt', 'case12493.txt', 'case12494.txt', 'case12495.txt', 'case12496.txt', 'case12497.txt', 'case12498.txt', 'case12499.txt', 'case12500.txt', 'case12502.txt', 'case12503.txt', 'case12504.txt', 'case12506.txt', 'case12507.txt', 'case12508.txt', 'case12509.txt', 'case12510.txt', 'case12511.txt', 'case12512.txt', 'case12513.txt', 'case12514.txt', 'case12515.txt', 'case12516.txt', 'case12517.txt', 'case12520.txt', 'case12521.txt', 'case12522.txt', 'case12523.txt', 'case12524.txt', 'case12525.txt', 'case12526.txt', 'case12527.txt', 'case12528.txt', 'case12529.txt', 'case12530.txt', 'case12531.txt', 'case12532.txt', 'case12533.txt', 'case12536.txt', 'case12537.txt', 'case12538.txt', 'case12539.txt', 'case12540.txt', 'case12541.txt', 'case12542.txt', 'case12543.txt', 'case12545.txt', 'case12546.txt', 'case12547.txt', 'case12548.txt', 'case12551.txt', 'case12552.txt', 'case12554.txt', 'case12555.txt', 'case12559.txt', 'case12560.txt', 'case12561.txt', 'case12562.txt', 'case12563.txt', 'case12564.txt', 'case12566.txt', 'case12567.txt', 'case12568.txt', 'case12569.txt', 'case12570.txt', 'case12571.txt', 'case12572.txt', 'case12573.txt', 'case12574.txt', 'case12575.txt', 'case12576.txt', 'case12577.txt', 'case12578.txt', 'case12579.txt', 'case12580.txt', 'case12583.txt', 'case12584.txt', 'case12585.txt', 'case12586.txt', 'case12587.txt', 'case12588.txt', 'case12589.txt', 'case12590.txt', 'case12591.txt', 'case12592.txt', 'case12593.txt', 'case12594.txt', 'case12595.txt', 'case12596.txt', 'case12597.txt', 'case12599.txt', 'case12601.txt', 'case12603.txt', 'case12604.txt', 'case12605.txt', 'case12606.txt', 'case12607.txt', 'case12608.txt', 'case12609.txt', 'case12610.txt', 'case12611.txt', 'case12612.txt', 'case12613.txt', 'case12614.txt', 'case12615.txt', 'case12617.txt', 'case12618.txt', 'case12619.txt', 'case12620.txt', 'case12621.txt', 'case12622.txt', 'case12623.txt', 'case12624.txt', 'case12626.txt', 'case12627.txt', 'case12628.txt', 'case12629.txt', 'case12630.txt', 'case12632.txt', 'case12634.txt', 'case12635.txt', 'case12638.txt', 'case12639.txt', 'case12640.txt', 'case12641.txt', 'case12642.txt', 'case12643.txt', 'case12644.txt', 'case12645.txt', 'case12646.txt', 'case12648.txt', 'case12649.txt', 'case12650.txt', 'case12651.txt', 'case12652.txt', 'case12653.txt', 'case12654.txt', 'case12657.txt', 'case12659.txt', 'case12661.txt', 'case12662.txt', 'case12663.txt', 'case12664.txt', 'case12665.txt', 'case12666.txt', 'case12667.txt', 'case12668.txt', 'case12669.txt', 'case12670.txt', 'case12671.txt', 'case12674.txt', 'case12675.txt', 'case12676.txt', 'case12677.txt', 'case12679.txt', 'case12680.txt', 'case12683.txt', 'case12685.txt', 'case12686.txt', 'case12687.txt', 'case12688.txt', 'case12689.txt', 'case12690.txt', 'case12691.txt', 'case12692.txt', 'case12693.txt', 'case12694.txt', 'case12695.txt', 'case12696.txt', 'case12697.txt', 'case12698.txt', 'case12700.txt', 'case12701.txt', 'case12702.txt', 'case12703.txt', 'case12704.txt', 'case12705.txt', 'case12706.txt', 'case12707.txt', 'case12708.txt', 'case12710.txt', 'case12711.txt', 'case12712.txt', 'case12713.txt', 'case12714.txt', 'case12715.txt', 'case12716.txt', 'case12717.txt', 'case12718.txt', 'case12719.txt', 'case12720.txt', 'case12721.txt', 'case12722.txt', 'case12723.txt', 'case12725.txt', 'case12726.txt', 'case12727.txt', 'case12728.txt', 'case12729.txt', 'case12731.txt', 'case12732.txt', 'case12733.txt', 'case12734.txt', 'case12735.txt', 'case12736.txt', 'case12737.txt', 'case12738.txt', 'case12740.txt', 'case12741.txt', 'case12742.txt', 'case12743.txt', 'case12744.txt', 'case12745.txt', 'case12746.txt', 'case12747.txt', 'case12748.txt', 'case12749.txt', 'case12750.txt', 'case12751.txt', 'case12752.txt', 'case12753.txt', 'case12755.txt', 'case12757.txt', 'case12758.txt', 'case12759.txt', 'case12760.txt', 'case12761.txt', 'case12763.txt', 'case12764.txt', 'case12765.txt', 'case12766.txt', 'case12767.txt', 'case12768.txt', 'case12769.txt', 'case12770.txt', 'case12771.txt', 'case12772.txt', 'case12773.txt', 'case12774.txt', 'case12775.txt', 'case12776.txt', 'case12777.txt', 'case12778.txt', 'case12781.txt', 'case12782.txt', 'case12784.txt', 'case12785.txt', 'case12786.txt', 'case12787.txt', 'case12788.txt', 'case12789.txt', 'case12790.txt', 'case12791.txt', 'case12792.txt', 'case12793.txt', 'case12794.txt', 'case12795.txt', 'case12796.txt', 'case12797.txt', 'case12798.txt', 'case12799.txt', 'case12801.txt', 'case12802.txt', 'case12803.txt', 'case12804.txt', 'case12805.txt', 'case12806.txt', 'case12807.txt', 'case12808.txt', 'case12809.txt', 'case12810.txt', 'case12812.txt', 'case12814.txt', 'case12816.txt', 'case12817.txt', 'case12818.txt', 'case12819.txt', 'case12820.txt', 'case12821.txt', 'case12822.txt', 'case12823.txt', 'case12824.txt', 'case12825.txt', 'case12826.txt', 'case12827.txt', 'case12828.txt', 'case12829.txt', 'case12830.txt', 'case12831.txt', 'case12832.txt', 'case12833.txt', 'case12834.txt', 'case12835.txt', 'case12837.txt', 'case12838.txt', 'case12839.txt', 'case12840.txt', 'case12841.txt', 'case12842.txt', 'case12843.txt', 'case12845.txt', 'case12846.txt', 'case12847.txt', 'case12849.txt', 'case12850.txt', 'case12851.txt', 'case12852.txt', 'case12853.txt', 'case12854.txt', 'case12855.txt', 'case12856.txt', 'case12857.txt', 'case12858.txt', 'case12859.txt', 'case12860.txt', 'case12861.txt', 'case12862.txt', 'case12863.txt', 'case12864.txt', 'case12865.txt', 'case12867.txt', 'case12869.txt', 'case12871.txt', 'case12873.txt', 'case12874.txt', 'case12875.txt', 'case12876.txt', 'case12877.txt', 'case12878.txt', 'case12879.txt', 'case12880.txt', 'case12881.txt', 'case12882.txt', 'case12883.txt', 'case12884.txt', 'case12885.txt', 'case12886.txt', 'case12887.txt', 'case12888.txt', 'case12889.txt', 'case12890.txt', 'case12891.txt', 'case12892.txt', 'case12894.txt', 'case12895.txt', 'case12897.txt', 'case12898.txt', 'case12899.txt', 'case12900.txt', 'case12901.txt', 'case12902.txt', 'case12903.txt', 'case12904.txt', 'case12905.txt', 'case12906.txt', 'case12907.txt', 'case12908.txt', 'case12910.txt', 'case12911.txt', 'case12912.txt', 'case12913.txt', 'case12914.txt', 'case12915.txt', 'case12916.txt', 'case12917.txt', 'case12918.txt', 'case12919.txt', 'case12920.txt', 'case12921.txt', 'case12923.txt', 'case12925.txt', 'case12926.txt', 'case12927.txt', 'case12928.txt', 'case12929.txt', 'case12930.txt', 'case12931.txt', 'case12932.txt', 'case12933.txt', 'case12934.txt', 'case12935.txt', 'case12936.txt', 'case12937.txt', 'case12938.txt', 'case12939.txt', 'case12940.txt', 'case12941.txt', 'case12942.txt', 'case12943.txt', 'case12944.txt', 'case12945.txt', 'case12946.txt', 'case12947.txt', 'case12948.txt', 'case12949.txt', 'case12951.txt', 'case12952.txt', 'case12953.txt', 'case12954.txt', 'case12955.txt', 'case12956.txt', 'case12957.txt', 'case12959.txt', 'case12960.txt', 'case12961.txt', 'case12962.txt', 'case12963.txt', 'case12964.txt', 'case12966.txt', 'case12967.txt', 'case12968.txt', 'case12969.txt', 'case12970.txt', 'case12971.txt', 'case12972.txt', 'case12974.txt', 'case12975.txt', 'case12976.txt', 'case12977.txt', 'case12978.txt', 'case12979.txt', 'case12981.txt', 'case12982.txt', 'case12983.txt', 'case12984.txt', 'case12985.txt', 'case12986.txt', 'case12987.txt', 'case12988.txt', 'case12989.txt', 'case12990.txt', 'case12991.txt', 'case12992.txt', 'case12994.txt', 'case12995.txt', 'case12996.txt', 'case12997.txt', 'case12998.txt', 'case12999.txt', 'case13000.txt', 'case13001.txt', 'case13002.txt', 'case13004.txt', 'case13005.txt', 'case13006.txt', 'case13007.txt', 'case13008.txt', 'case13009.txt', 'case13010.txt', 'case13011.txt', 'case13013.txt', 'case13014.txt', 'case13015.txt', 'case13016.txt', 'case13017.txt', 'case13019.txt', 'case13020.txt', 'case13021.txt', 'case13022.txt', 'case13023.txt', 'case13024.txt', 'case13025.txt', 'case13026.txt', 'case13027.txt', 'case13028.txt', 'case13029.txt', 'case13031.txt', 'case13032.txt', 'case13033.txt', 'case13034.txt', 'case13035.txt', 'case13036.txt', 'case13037.txt', 'case13038.txt', 'case13039.txt', 'case13040.txt', 'case13041.txt', 'case13042.txt', 'case13044.txt', 'case13045.txt', 'case13046.txt', 'case13048.txt', 'case13049.txt', 'case13050.txt', 'case13051.txt', 'case13053.txt', 'case13054.txt', 'case13055.txt', 'case13056.txt', 'case13057.txt', 'case13059.txt', 'case13060.txt', 'case13061.txt', 'case13062.txt', 'case13063.txt', 'case13065.txt', 'case13066.txt', 'case13068.txt', 'case13069.txt', 'case13070.txt', 'case13072.txt', 'case13073.txt', 'case13074.txt', 'case13075.txt', 'case13076.txt', 'case13077.txt', 'case13078.txt', 'case13079.txt', 'case13080.txt', 'case13081.txt', 'case13082.txt', 'case13083.txt', 'case13084.txt', 'case13086.txt', 'case13087.txt', 'case13088.txt', 'case13089.txt', 'case13090.txt', 'case13091.txt', 'case13092.txt', 'case13093.txt', 'case13094.txt', 'case13095.txt', 'case13096.txt', 'case13099.txt', 'case13100.txt', 'case13101.txt', 'case13102.txt', 'case13103.txt', 'case13104.txt', 'case13105.txt', 'case13106.txt', 'case13107.txt', 'case13108.txt', 'case13109.txt', 'case13110.txt', 'case13111.txt', 'case13112.txt', 'case13114.txt', 'case13115.txt', 'case13118.txt', 'case13119.txt', 'case13121.txt', 'case13122.txt', 'case13123.txt', 'case13125.txt', 'case13126.txt', 'case13127.txt', 'case13128.txt', 'case13129.txt', 'case13131.txt', 'case13132.txt', 'case13133.txt', 'case13134.txt', 'case13135.txt', 'case13137.txt', 'case13138.txt', 'case13139.txt', 'case13140.txt', 'case13141.txt', 'case13142.txt', 'case13143.txt', 'case13144.txt', 'case13145.txt', 'case13146.txt', 'case13148.txt', 'case13149.txt', 'case13150.txt', 'case13151.txt', 'case13152.txt', 'case13153.txt', 'case13155.txt', 'case13156.txt', 'case13157.txt', 'case13158.txt', 'case13159.txt', 'case13161.txt', 'case13162.txt', 'case13163.txt', 'case13164.txt', 'case13165.txt', 'case13166.txt', 'case13168.txt', 'case13169.txt', 'case13172.txt', 'case13173.txt', 'case13174.txt', 'case13175.txt', 'case13176.txt', 'case13177.txt', 'case13178.txt', 'case13179.txt', 'case13180.txt', 'case13181.txt', 'case13182.txt', 'case13183.txt', 'case13184.txt', 'case13185.txt', 'case13187.txt', 'case13188.txt', 'case13189.txt', 'case13190.txt', 'case13191.txt', 'case13192.txt', 'case13193.txt', 'case13194.txt', 'case13195.txt', 'case13196.txt', 'case13197.txt', 'case13198.txt', 'case13199.txt', 'case13200.txt', 'case13201.txt', 'case13202.txt', 'case13203.txt', 'case13204.txt', 'case13205.txt', 'case13206.txt', 'case13207.txt', 'case13208.txt', 'case13209.txt', 'case13210.txt', 'case13211.txt', 'case13212.txt', 'case13213.txt', 'case13214.txt', 'case13215.txt', 'case13216.txt', 'case13217.txt', 'case13218.txt', 'case13219.txt', 'case13220.txt', 'case13221.txt', 'case13222.txt', 'case13223.txt', 'case13224.txt', 'case13225.txt', 'case13226.txt', 'case13228.txt', 'case13229.txt', 'case13230.txt', 'case13232.txt', 'case13233.txt', 'case13234.txt', 'case13236.txt', 'case13237.txt', 'case13238.txt', 'case13239.txt', 'case13240.txt', 'case13241.txt', 'case13242.txt', 'case13243.txt', 'case13244.txt', 'case13245.txt', 'case13246.txt', 'case13247.txt', 'case13248.txt', 'case13249.txt', 'case13250.txt', 'case13251.txt', 'case13252.txt', 'case13253.txt', 'case13254.txt', 'case13255.txt', 'case13256.txt', 'case13257.txt', 'case13258.txt', 'case13259.txt', 'case13260.txt', 'case13261.txt', 'case13262.txt', 'case13263.txt', 'case13264.txt', 'case13265.txt', 'case13267.txt', 'case13268.txt', 'case13269.txt', 'case13270.txt', 'case13271.txt', 'case13272.txt', 'case13273.txt', 'case13274.txt', 'case13275.txt', 'case13276.txt', 'case13277.txt', 'case13278.txt', 'case13279.txt', 'case13280.txt', 'case13281.txt', 'case13282.txt', 'case13283.txt', 'case13284.txt', 'case13285.txt', 'case13286.txt', 'case13287.txt', 'case13289.txt', 'case13290.txt', 'case13291.txt', 'case13292.txt', 'case13293.txt', 'case13294.txt', 'case13295.txt', 'case13296.txt', 'case13297.txt', 'case13298.txt', 'case13299.txt', 'case13300.txt', 'case13301.txt', 'case13302.txt', 'case13303.txt', 'case13304.txt', 'case13305.txt', 'case13306.txt', 'case13307.txt', 'case13308.txt', 'case13309.txt', 'case13310.txt', 'case13311.txt', 'case13312.txt', 'case13314.txt', 'case13315.txt', 'case13316.txt', 'case13317.txt', 'case13319.txt', 'case13321.txt', 'case13322.txt', 'case13323.txt', 'case13324.txt', 'case13325.txt', 'case13326.txt', 'case13327.txt', 'case13329.txt', 'case13330.txt', 'case13331.txt', 'case13332.txt', 'case13333.txt', 'case13334.txt', 'case13335.txt', 'case13336.txt', 'case13337.txt', 'case13338.txt', 'case13339.txt', 'case13340.txt', 'case13342.txt', 'case13343.txt', 'case13345.txt', 'case13346.txt', 'case13348.txt', 'case13349.txt', 'case13350.txt', 'case13351.txt', 'case13353.txt', 'case13354.txt', 'case13355.txt', 'case13356.txt', 'case13357.txt', 'case13358.txt', 'case13359.txt', 'case13360.txt', 'case13361.txt', 'case13362.txt', 'case13363.txt', 'case13364.txt', 'case13365.txt', 'case13366.txt', 'case13367.txt', 'case13368.txt', 'case13369.txt', 'case13371.txt', 'case13372.txt', 'case13373.txt', 'case13374.txt', 'case13375.txt', 'case13376.txt', 'case13377.txt', 'case13378.txt', 'case13379.txt', 'case13381.txt', 'case13382.txt', 'case13383.txt', 'case13384.txt', 'case13385.txt', 'case13386.txt', 'case13387.txt', 'case13388.txt', 'case13389.txt', 'case13390.txt', 'case13391.txt', 'case13392.txt', 'case13393.txt', 'case13394.txt', 'case13395.txt', 'case13396.txt', 'case13397.txt', 'case13399.txt', 'case13400.txt', 'case13401.txt', 'case13402.txt', 'case13403.txt', 'case13404.txt', 'case13405.txt', 'case13406.txt', 'case13407.txt', 'case13408.txt', 'case13409.txt', 'case13410.txt', 'case13411.txt', 'case13412.txt', 'case13413.txt', 'case13415.txt', 'case13416.txt', 'case13417.txt', 'case13418.txt', 'case13419.txt', 'case13420.txt', 'case13422.txt', 'case13423.txt', 'case13425.txt', 'case13426.txt', 'case13427.txt', 'case13428.txt', 'case13429.txt', 'case13430.txt', 'case13431.txt', 'case13432.txt', 'case13433.txt', 'case13434.txt', 'case13435.txt', 'case13436.txt', 'case13437.txt', 'case13438.txt', 'case13440.txt', 'case13441.txt', 'case13444.txt', 'case13445.txt', 'case13446.txt', 'case13447.txt', 'case13448.txt', 'case13450.txt', 'case13451.txt', 'case13452.txt', 'case13453.txt', 'case13455.txt', 'case13456.txt', 'case13457.txt', 'case13458.txt', 'case13460.txt', 'case13461.txt', 'case13462.txt', 'case13463.txt', 'case13464.txt', 'case13465.txt', 'case13466.txt', 'case13467.txt', 'case13468.txt', 'case13469.txt', 'case13470.txt', 'case13471.txt', 'case13472.txt', 'case13473.txt', 'case13474.txt', 'case13476.txt', 'case13477.txt', 'case13478.txt', 'case13479.txt', 'case13481.txt', 'case13482.txt', 'case13483.txt', 'case13484.txt', 'case13485.txt', 'case13486.txt', 'case13487.txt', 'case13488.txt', 'case13489.txt', 'case13490.txt', 'case13491.txt', 'case13492.txt', 'case13493.txt', 'case13494.txt', 'case13495.txt', 'case13496.txt', 'case13497.txt', 'case13499.txt', 'case13501.txt', 'case13502.txt', 'case13503.txt', 'case13504.txt', 'case13505.txt', 'case13506.txt', 'case13507.txt', 'case13508.txt', 'case13510.txt', 'case13511.txt', 'case13512.txt', 'case13513.txt', 'case13514.txt', 'case13516.txt', 'case13517.txt', 'case13518.txt', 'case13520.txt', 'case13521.txt', 'case13524.txt', 'case13525.txt', 'case13526.txt', 'case13527.txt', 'case13528.txt', 'case13529.txt', 'case13530.txt', 'case13531.txt', 'case13532.txt', 'case13533.txt', 'case13534.txt', 'case13535.txt', 'case13536.txt', 'case13537.txt', 'case13538.txt', 'case13539.txt', 'case13540.txt', 'case13541.txt', 'case13542.txt', 'case13543.txt', 'case13544.txt', 'case13545.txt', 'case13547.txt', 'case13548.txt', 'case13549.txt', 'case13551.txt', 'case13553.txt', 'case13555.txt', 'case13556.txt', 'case13557.txt', 'case13558.txt', 'case13559.txt', 'case13561.txt', 'case13562.txt', 'case13563.txt', 'case13564.txt', 'case13565.txt', 'case13566.txt', 'case13567.txt', 'case13568.txt', 'case13569.txt', 'case13570.txt', 'case13571.txt', 'case13572.txt', 'case13574.txt', 'case13575.txt', 'case13576.txt', 'case13577.txt', 'case13578.txt', 'case13579.txt', 'case13580.txt', 'case13581.txt', 'case13582.txt', 'case13583.txt', 'case13584.txt', 'case13585.txt', 'case13586.txt', 'case13587.txt', 'case13588.txt', 'case13589.txt', 'case13590.txt', 'case13591.txt', 'case13592.txt', 'case13593.txt', 'case13594.txt', 'case13595.txt', 'case13596.txt', 'case13597.txt', 'case13598.txt', 'case13599.txt', 'case13600.txt', 'case13603.txt', 'case13604.txt', 'case13605.txt', 'case13606.txt', 'case13607.txt', 'case13608.txt', 'case13610.txt', 'case13611.txt', 'case13612.txt', 'case13614.txt', 'case13615.txt', 'case13616.txt', 'case13617.txt', 'case13618.txt', 'case13619.txt', 'case13620.txt', 'case13621.txt', 'case13622.txt', 'case13623.txt', 'case13624.txt', 'case13625.txt', 'case13626.txt', 'case13627.txt', 'case13628.txt', 'case13629.txt', 'case13630.txt', 'case13631.txt', 'case13632.txt', 'case13633.txt', 'case13634.txt', 'case13635.txt', 'case13637.txt', 'case13638.txt', 'case13639.txt', 'case13640.txt', 'case13641.txt', 'case13642.txt', 'case13644.txt', 'case13645.txt', 'case13646.txt', 'case13647.txt', 'case13649.txt', 'case13650.txt', 'case13651.txt', 'case13652.txt', 'case13653.txt', 'case13654.txt', 'case13655.txt', 'case13657.txt', 'case13658.txt', 'case13659.txt', 'case13660.txt', 'case13661.txt', 'case13662.txt', 'case13663.txt', 'case13664.txt', 'case13665.txt', 'case13666.txt', 'case13667.txt', 'case13668.txt', 'case13669.txt', 'case13670.txt', 'case13671.txt', 'case13673.txt', 'case13674.txt', 'case13676.txt', 'case13677.txt', 'case13678.txt', 'case13679.txt', 'case13680.txt', 'case13681.txt', 'case13682.txt', 'case13683.txt', 'case13684.txt', 'case13686.txt', 'case13687.txt', 'case13688.txt', 'case13689.txt', 'case13691.txt', 'case13692.txt', 'case13693.txt', 'case13694.txt', 'case13695.txt', 'case13696.txt', 'case13697.txt', 'case13698.txt', 'case13699.txt', 'case13700.txt', 'case13701.txt', 'case13702.txt', 'case13703.txt', 'case13704.txt', 'case13706.txt', 'case13707.txt', 'case13708.txt', 'case13709.txt', 'case13711.txt', 'case13713.txt', 'case13715.txt', 'case13716.txt', 'case13717.txt', 'case13718.txt', 'case13719.txt', 'case13720.txt', 'case13721.txt', 'case13722.txt', 'case13723.txt', 'case13724.txt', 'case13725.txt', 'case13726.txt', 'case13727.txt', 'case13728.txt', 'case13729.txt', 'case13730.txt', 'case13732.txt', 'case13733.txt', 'case13734.txt', 'case13735.txt', 'case13736.txt', 'case13737.txt', 'case13739.txt', 'case13740.txt', 'case13741.txt', 'case13742.txt', 'case13743.txt', 'case13744.txt', 'case13745.txt', 'case13747.txt', 'case13748.txt', 'case13749.txt', 'case13750.txt', 'case13751.txt', 'case13752.txt', 'case13753.txt', 'case13754.txt', 'case13755.txt', 'case13756.txt', 'case13757.txt', 'case13758.txt', 'case13759.txt', 'case13760.txt', 'case13762.txt', 'case13763.txt', 'case13764.txt', 'case13765.txt', 'case13766.txt', 'case13767.txt', 'case13768.txt', 'case13769.txt', 'case13770.txt', 'case13771.txt', 'case13772.txt', 'case13773.txt', 'case13775.txt', 'case13776.txt', 'case13777.txt', 'case13778.txt', 'case13780.txt', 'case13781.txt', 'case13782.txt', 'case13783.txt', 'case13784.txt', 'case13785.txt', 'case13787.txt', 'case13788.txt', 'case13789.txt', 'case13790.txt', 'case13791.txt', 'case13792.txt', 'case13793.txt', 'case13794.txt', 'case13796.txt', 'case13797.txt', 'case13798.txt', 'case13799.txt', 'case13800.txt', 'case13803.txt', 'case13804.txt', 'case13806.txt', 'case13807.txt', 'case13809.txt', 'case13810.txt', 'case13811.txt', 'case13812.txt', 'case13813.txt', 'case13814.txt', 'case13815.txt', 'case13816.txt', 'case13817.txt', 'case13818.txt', 'case13820.txt', 'case13821.txt', 'case13822.txt', 'case13823.txt', 'case13824.txt', 'case13825.txt', 'case13826.txt', 'case13827.txt', 'case13828.txt', 'case13829.txt', 'case13830.txt', 'case13831.txt', 'case13832.txt', 'case13833.txt', 'case13835.txt', 'case13836.txt', 'case13839.txt', 'case13840.txt', 'case13841.txt', 'case13842.txt', 'case13844.txt', 'case13846.txt', 'case13847.txt', 'case13848.txt', 'case13849.txt', 'case13850.txt', 'case13851.txt', 'case13852.txt', 'case13853.txt', 'case13854.txt', 'case13855.txt', 'case13856.txt', 'case13857.txt', 'case13858.txt', 'case13859.txt', 'case13860.txt', 'case13861.txt', 'case13862.txt', 'case13863.txt', 'case13864.txt', 'case13865.txt', 'case13867.txt', 'case13868.txt', 'case13869.txt', 'case13870.txt', 'case13871.txt', 'case13872.txt', 'case13873.txt', 'case13874.txt', 'case13875.txt', 'case13876.txt', 'case13877.txt', 'case13878.txt', 'case13879.txt', 'case13880.txt', 'case13881.txt', 'case13882.txt', 'case13883.txt', 'case13884.txt', 'case13886.txt', 'case13887.txt', 'case13888.txt', 'case13889.txt', 'case13890.txt', 'case13891.txt', 'case13892.txt', 'case13894.txt', 'case13895.txt', 'case13896.txt', 'case13897.txt', 'case13898.txt', 'case13899.txt', 'case13900.txt', 'case13901.txt', 'case13902.txt', 'case13904.txt', 'case13905.txt', 'case13906.txt', 'case13907.txt', 'case13908.txt', 'case13909.txt', 'case13910.txt', 'case13911.txt', 'case13912.txt', 'case13914.txt', 'case13915.txt', 'case13916.txt', 'case13917.txt', 'case13918.txt', 'case13919.txt', 'case13920.txt', 'case13921.txt', 'case13922.txt', 'case13923.txt', 'case13924.txt', 'case13925.txt', 'case13926.txt', 'case13927.txt', 'case13928.txt', 'case13929.txt', 'case13930.txt', 'case13931.txt', 'case13933.txt', 'case13934.txt', 'case13935.txt', 'case13936.txt', 'case13937.txt', 'case13938.txt', 'case13939.txt', 'case13940.txt', 'case13941.txt', 'case13942.txt', 'case13943.txt', 'case13944.txt', 'case13945.txt', 'case13946.txt', 'case13947.txt', 'case13948.txt', 'case13949.txt', 'case13950.txt', 'case13951.txt', 'case13952.txt', 'case13953.txt', 'case13954.txt', 'case13955.txt', 'case13956.txt', 'case13957.txt', 'case13958.txt', 'case13959.txt', 'case13960.txt', 'case13961.txt', 'case13962.txt', 'case13964.txt', 'case13965.txt', 'case13966.txt', 'case13967.txt', 'case13968.txt', 'case13969.txt', 'case13970.txt', 'case13971.txt', 'case13972.txt', 'case13973.txt', 'case13974.txt', 'case13975.txt', 'case13976.txt', 'case13977.txt', 'case13978.txt', 'case13979.txt', 'case13980.txt', 'case13981.txt', 'case13982.txt', 'case13983.txt', 'case13984.txt', 'case13985.txt', 'case13986.txt', 'case13987.txt', 'case13988.txt', 'case13990.txt', 'case13991.txt', 'case13992.txt', 'case13993.txt', 'case13994.txt', 'case13996.txt', 'case13997.txt', 'case13998.txt', 'case13999.txt', 'case14000.txt', 'case14001.txt', 'case14002.txt', 'case14004.txt', 'case14006.txt', 'case14007.txt', 'case14008.txt', 'case14009.txt', 'case14010.txt', 'case14011.txt', 'case14012.txt', 'case14013.txt', 'case14014.txt', 'case14015.txt', 'case14016.txt', 'case14017.txt', 'case14018.txt', 'case14019.txt', 'case14020.txt', 'case14021.txt', 'case14022.txt', 'case14023.txt', 'case14024.txt', 'case14025.txt', 'case14026.txt', 'case14027.txt', 'case14028.txt', 'case14029.txt', 'case14030.txt', 'case14031.txt', 'case14032.txt', 'case14033.txt', 'case14034.txt', 'case14035.txt', 'case14036.txt', 'case14037.txt', 'case14038.txt', 'case14039.txt', 'case14040.txt', 'case14041.txt', 'case14042.txt', 'case14043.txt', 'case14044.txt', 'case14045.txt', 'case14047.txt', 'case14048.txt', 'case14049.txt', 'case14050.txt', 'case14051.txt', 'case14052.txt', 'case14053.txt', 'case14054.txt', 'case14055.txt', 'case14056.txt', 'case14057.txt', 'case14058.txt', 'case14059.txt', 'case14060.txt', 'case14061.txt', 'case14062.txt', 'case14063.txt', 'case14064.txt', 'case14066.txt', 'case14067.txt', 'case14068.txt', 'case14069.txt', 'case14070.txt', 'case14071.txt', 'case14072.txt', 'case14073.txt', 'case14074.txt', 'case14075.txt', 'case14076.txt', 'case14077.txt', 'case14078.txt', 'case14079.txt', 'case14080.txt', 'case14081.txt', 'case14082.txt', 'case14084.txt', 'case14085.txt', 'case14086.txt', 'case14087.txt', 'case14088.txt', 'case14089.txt', 'case14090.txt', 'case14091.txt', 'case14092.txt', 'case14093.txt', 'case14094.txt', 'case14095.txt', 'case14096.txt', 'case14097.txt', 'case14098.txt', 'case14099.txt', 'case14100.txt', 'case14101.txt', 'case14102.txt', 'case14103.txt', 'case14104.txt', 'case14105.txt', 'case14107.txt', 'case14108.txt', 'case14109.txt', 'case14110.txt', 'case14111.txt', 'case14112.txt', 'case14113.txt', 'case14114.txt', 'case14115.txt', 'case14116.txt', 'case14117.txt', 'case14118.txt', 'case14119.txt', 'case14120.txt', 'case14121.txt', 'case14122.txt', 'case14123.txt', 'case14124.txt', 'case14126.txt', 'case14128.txt', 'case14129.txt', 'case14130.txt', 'case14131.txt', 'case14132.txt', 'case14133.txt', 'case14134.txt', 'case14136.txt', 'case14137.txt', 'case14138.txt', 'case14139.txt', 'case14140.txt', 'case14141.txt', 'case14142.txt', 'case14143.txt', 'case14144.txt', 'case14145.txt', 'case14146.txt', 'case14147.txt', 'case14148.txt', 'case14149.txt', 'case14150.txt', 'case14151.txt', 'case14152.txt', 'case14153.txt', 'case14154.txt', 'case14155.txt', 'case14156.txt', 'case14157.txt', 'case14159.txt', 'case14160.txt', 'case14161.txt', 'case14162.txt', 'case14163.txt', 'case14164.txt', 'case14165.txt', 'case14166.txt', 'case14167.txt', 'case14168.txt', 'case14169.txt', 'case14170.txt', 'case14172.txt', 'case14173.txt', 'case14174.txt', 'case14175.txt', 'case14176.txt', 'case14177.txt', 'case14178.txt', 'case14179.txt', 'case14180.txt', 'case14181.txt', 'case14182.txt', 'case14183.txt', 'case14184.txt', 'case14185.txt', 'case14186.txt', 'case14187.txt', 'case14188.txt', 'case14189.txt', 'case14190.txt', 'case14191.txt', 'case14192.txt', 'case14193.txt', 'case14194.txt', 'case14195.txt', 'case14196.txt', 'case14197.txt', 'case14198.txt', 'case14199.txt', 'case14200.txt', 'case14201.txt', 'case14202.txt', 'case14203.txt', 'case14204.txt', 'case14205.txt', 'case14206.txt', 'case14208.txt', 'case14209.txt', 'case14210.txt', 'case14211.txt', 'case14212.txt', 'case14213.txt', 'case14214.txt', 'case14215.txt', 'case14216.txt', 'case14217.txt', 'case14218.txt', 'case14219.txt', 'case14220.txt', 'case14221.txt', 'case14223.txt', 'case14225.txt', 'case14226.txt', 'case14227.txt', 'case14228.txt', 'case14229.txt', 'case14231.txt', 'case14232.txt', 'case14233.txt', 'case14234.txt', 'case14235.txt', 'case14236.txt', 'case14237.txt', 'case14238.txt', 'case14239.txt', 'case14240.txt', 'case14241.txt', 'case14242.txt', 'case14243.txt', 'case14244.txt', 'case14245.txt', 'case14246.txt', 'case14247.txt', 'case14248.txt', 'case14249.txt', 'case14252.txt', 'case14253.txt', 'case14254.txt', 'case14256.txt', 'case14257.txt', 'case14259.txt', 'case14260.txt', 'case14261.txt', 'case14262.txt', 'case14263.txt', 'case14264.txt', 'case14265.txt', 'case14266.txt', 'case14268.txt', 'case14269.txt', 'case14270.txt', 'case14271.txt', 'case14272.txt', 'case14273.txt', 'case14274.txt', 'case14275.txt', 'case14276.txt', 'case14277.txt', 'case14278.txt', 'case14279.txt', 'case14280.txt', 'case14281.txt', 'case14282.txt', 'case14283.txt', 'case14285.txt', 'case14286.txt', 'case14287.txt', 'case14288.txt', 'case14289.txt', 'case14290.txt', 'case14292.txt', 'case14293.txt', 'case14294.txt', 'case14295.txt', 'case14296.txt', 'case14297.txt', 'case14298.txt', 'case14300.txt', 'case14301.txt', 'case14302.txt', 'case14303.txt', 'case14306.txt', 'case14307.txt', 'case14308.txt', 'case14309.txt', 'case14310.txt', 'case14311.txt', 'case14313.txt', 'case14314.txt', 'case14316.txt', 'case14317.txt', 'case14318.txt', 'case14319.txt', 'case14321.txt', 'case14322.txt', 'case14323.txt', 'case14324.txt', 'case14325.txt', 'case14326.txt', 'case14327.txt', 'case14328.txt', 'case14329.txt', 'case14330.txt', 'case14331.txt', 'case14332.txt', 'case14333.txt', 'case14336.txt', 'case14337.txt', 'case14338.txt', 'case14339.txt', 'case14340.txt', 'case14341.txt', 'case14343.txt', 'case14344.txt', 'case14346.txt', 'case14347.txt', 'case14348.txt', 'case14349.txt', 'case14350.txt', 'case14351.txt', 'case14352.txt', 'case14353.txt', 'case14354.txt', 'case14355.txt', 'case14356.txt', 'case14357.txt', 'case14359.txt', 'case14360.txt', 'case14361.txt', 'case14362.txt', 'case14363.txt', 'case14364.txt', 'case14365.txt', 'case14366.txt', 'case14367.txt', 'case14368.txt', 'case14369.txt', 'case14370.txt', 'case14372.txt', 'case14373.txt', 'case14374.txt', 'case14376.txt', 'case14377.txt', 'case14378.txt', 'case14379.txt', 'case14380.txt', 'case14381.txt', 'case14382.txt', 'case14386.txt', 'case14387.txt', 'case14388.txt', 'case14390.txt', 'case14391.txt', 'case14392.txt', 'case14393.txt', 'case14394.txt', 'case14395.txt', 'case14397.txt', 'case14398.txt', 'case14399.txt', 'case14400.txt', 'case14401.txt', 'case14402.txt', 'case14403.txt', 'case14404.txt', 'case14405.txt', 'case14406.txt', 'case14408.txt', 'case14409.txt', 'case14410.txt', 'case14411.txt', 'case14412.txt', 'case14413.txt', 'case14414.txt', 'case14415.txt', 'case14416.txt', 'case14417.txt', 'case14418.txt', 'case14421.txt', 'case14422.txt', 'case14424.txt', 'case14425.txt', 'case14426.txt', 'case14428.txt', 'case14429.txt', 'case14430.txt', 'case14431.txt', 'case14432.txt', 'case14434.txt', 'case14435.txt', 'case14436.txt', 'case14437.txt', 'case14439.txt', 'case14440.txt', 'case14441.txt', 'case14442.txt', 'case14443.txt', 'case14444.txt', 'case14445.txt', 'case14446.txt', 'case14448.txt', 'case14449.txt', 'case14450.txt', 'case14452.txt', 'case14453.txt', 'case14455.txt', 'case14456.txt', 'case14457.txt', 'case14458.txt', 'case14459.txt', 'case14460.txt', 'case14461.txt', 'case14462.txt', 'case14463.txt', 'case14464.txt', 'case14465.txt', 'case14466.txt', 'case14468.txt', 'case14469.txt', 'case14470.txt', 'case14471.txt', 'case14472.txt', 'case14473.txt', 'case14474.txt', 'case14475.txt', 'case14476.txt', 'case14477.txt', 'case14478.txt', 'case14479.txt', 'case14481.txt', 'case14484.txt', 'case14485.txt', 'case14486.txt', 'case14487.txt', 'case14488.txt', 'case14489.txt', 'case14490.txt', 'case14491.txt', 'case14492.txt', 'case14493.txt', 'case14494.txt', 'case14495.txt', 'case14496.txt', 'case14497.txt', 'case14499.txt', 'case14500.txt', 'case14503.txt', 'case14504.txt', 'case14505.txt', 'case14507.txt', 'case14508.txt', 'case14509.txt', 'case14510.txt', 'case14511.txt', 'case14512.txt', 'case14513.txt', 'case14514.txt', 'case14515.txt', 'case14516.txt', 'case14517.txt', 'case14518.txt', 'case14519.txt', 'case14520.txt', 'case14522.txt', 'case14523.txt', 'case14524.txt', 'case14526.txt', 'case14527.txt', 'case14529.txt', 'case14530.txt', 'case14531.txt', 'case14532.txt', 'case14533.txt', 'case14534.txt', 'case14535.txt', 'case14536.txt', 'case14537.txt', 'case14538.txt', 'case14539.txt', 'case14540.txt', 'case14541.txt', 'case14542.txt', 'case14543.txt', 'case14544.txt', 'case14546.txt', 'case14548.txt', 'case14551.txt', 'case14552.txt', 'case14553.txt', 'case14554.txt', 'case14555.txt', 'case14556.txt', 'case14557.txt', 'case14558.txt', 'case14559.txt', 'case14560.txt', 'case14561.txt', 'case14562.txt', 'case14563.txt', 'case14564.txt', 'case14565.txt', 'case14566.txt', 'case14567.txt', 'case14568.txt', 'case14569.txt', 'case14570.txt', 'case14571.txt', 'case14573.txt', 'case14574.txt', 'case14575.txt', 'case14576.txt', 'case14577.txt', 'case14578.txt', 'case14579.txt', 'case14580.txt', 'case14581.txt', 'case14582.txt', 'case14583.txt', 'case14584.txt', 'case14585.txt', 'case14586.txt', 'case14587.txt', 'case14588.txt', 'case14589.txt', 'case14590.txt', 'case14591.txt', 'case14593.txt', 'case14595.txt', 'case14596.txt', 'case14597.txt', 'case14598.txt', 'case14599.txt', 'case14601.txt', 'case14602.txt', 'case14605.txt', 'case14606.txt', 'case14607.txt', 'case14608.txt', 'case14609.txt', 'case14611.txt', 'case14612.txt', 'case14613.txt', 'case14614.txt', 'case14615.txt', 'case14616.txt', 'case14617.txt', 'case14618.txt', 'case14619.txt', 'case14620.txt', 'case14621.txt', 'case14622.txt', 'case14623.txt', 'case14625.txt', 'case14626.txt', 'case14627.txt', 'case14628.txt', 'case14629.txt', 'case14631.txt', 'case14632.txt', 'case14633.txt', 'case14634.txt', 'case14635.txt', 'case14636.txt', 'case14637.txt', 'case14638.txt', 'case14639.txt', 'case14641.txt', 'case14642.txt', 'case14644.txt', 'case14645.txt', 'case14647.txt', 'case14648.txt', 'case14649.txt', 'case14650.txt', 'case14651.txt', 'case14652.txt', 'case14653.txt', 'case14654.txt', 'case14655.txt', 'case14656.txt', 'case14657.txt', 'case14658.txt', 'case14659.txt', 'case14661.txt', 'case14662.txt', 'case14663.txt', 'case14664.txt', 'case14665.txt', 'case14666.txt', 'case14667.txt', 'case14668.txt', 'case14669.txt', 'case14670.txt', 'case14671.txt', 'case14672.txt', 'case14673.txt', 'case14675.txt', 'case14676.txt', 'case14677.txt', 'case14678.txt', 'case14679.txt', 'case14680.txt', 'case14681.txt', 'case14683.txt', 'case14684.txt', 'case14686.txt', 'case14687.txt', 'case14688.txt', 'case14689.txt', 'case14690.txt', 'case14691.txt', 'case14692.txt', 'case14693.txt', 'case14694.txt', 'case14695.txt', 'case14696.txt', 'case14697.txt', 'case14698.txt', 'case14699.txt', 'case14700.txt', 'case14701.txt', 'case14702.txt', 'case14703.txt', 'case14704.txt', 'case14705.txt', 'case14706.txt', 'case14707.txt', 'case14708.txt', 'case14709.txt', 'case14710.txt', 'case14711.txt', 'case14712.txt', 'case14713.txt', 'case14714.txt', 'case14715.txt', 'case14716.txt', 'case14717.txt', 'case14718.txt', 'case14719.txt', 'case14720.txt', 'case14721.txt', 'case14722.txt', 'case14723.txt', 'case14724.txt', 'case14725.txt', 'case14726.txt', 'case14727.txt', 'case14728.txt', 'case14729.txt', 'case14731.txt', 'case14732.txt', 'case14733.txt', 'case14734.txt', 'case14735.txt', 'case14736.txt', 'case14737.txt', 'case14740.txt', 'case14741.txt', 'case14743.txt', 'case14744.txt', 'case14746.txt', 'case14747.txt', 'case14748.txt', 'case14749.txt', 'case14750.txt', 'case14751.txt', 'case14753.txt', 'case14754.txt', 'case14755.txt', 'case14756.txt', 'case14757.txt', 'case14758.txt', 'case14759.txt', 'case14760.txt', 'case14761.txt', 'case14762.txt', 'case14763.txt', 'case14764.txt', 'case14765.txt', 'case14766.txt', 'case14767.txt', 'case14768.txt', 'case14769.txt', 'case14770.txt', 'case14772.txt', 'case14773.txt', 'case14774.txt', 'case14775.txt', 'case14776.txt', 'case14777.txt', 'case14778.txt', 'case14779.txt', 'case14780.txt', 'case14781.txt', 'case14782.txt', 'case14783.txt', 'case14784.txt', 'case14785.txt', 'case14787.txt', 'case14788.txt', 'case14789.txt', 'case14790.txt', 'case14791.txt', 'case14792.txt', 'case14793.txt', 'case14794.txt', 'case14796.txt', 'case14797.txt', 'case14798.txt', 'case14799.txt', 'case14800.txt', 'case14801.txt', 'case14802.txt', 'case14803.txt', 'case14804.txt', 'case14805.txt', 'case14806.txt', 'case14807.txt', 'case14808.txt', 'case14810.txt', 'case14811.txt', 'case14812.txt', 'case14813.txt', 'case14814.txt', 'case14815.txt', 'case14816.txt', 'case14817.txt', 'case14818.txt', 'case14819.txt', 'case14821.txt', 'case14822.txt', 'case14823.txt', 'case14824.txt', 'case14825.txt', 'case14826.txt', 'case14827.txt', 'case14829.txt', 'case14831.txt', 'case14832.txt', 'case14833.txt', 'case14834.txt', 'case14836.txt', 'case14837.txt', 'case14838.txt', 'case14839.txt', 'case14840.txt', 'case14841.txt', 'case14842.txt', 'case14843.txt', 'case14844.txt', 'case14845.txt', 'case14846.txt', 'case14847.txt', 'case14848.txt', 'case14849.txt', 'case14850.txt', 'case14851.txt', 'case14852.txt', 'case14854.txt', 'case14855.txt', 'case14856.txt', 'case14857.txt', 'case14858.txt', 'case14860.txt', 'case14863.txt', 'case14864.txt', 'case14865.txt', 'case14866.txt', 'case14867.txt', 'case14868.txt', 'case14869.txt', 'case14871.txt', 'case14872.txt', 'case14873.txt', 'case14874.txt', 'case14875.txt', 'case14876.txt', 'case14878.txt', 'case14879.txt', 'case14881.txt', 'case14882.txt', 'case14883.txt', 'case14884.txt', 'case14885.txt', 'case14886.txt', 'case14887.txt', 'case14888.txt', 'case14889.txt', 'case14890.txt', 'case14891.txt', 'case14892.txt', 'case14893.txt', 'case14894.txt', 'case14895.txt', 'case14897.txt', 'case14898.txt', 'case14900.txt', 'case14901.txt', 'case14902.txt', 'case14903.txt', 'case14905.txt', 'case14906.txt', 'case14907.txt', 'case14908.txt', 'case14910.txt', 'case14911.txt', 'case14912.txt', 'case14913.txt', 'case14914.txt', 'case14915.txt', 'case14916.txt', 'case14917.txt', 'case14919.txt', 'case14921.txt', 'case14922.txt', 'case14923.txt', 'case14925.txt', 'case14926.txt', 'case14927.txt', 'case14928.txt', 'case14929.txt', 'case14930.txt', 'case14933.txt', 'case14934.txt', 'case14935.txt', 'case14936.txt', 'case14937.txt', 'case14938.txt', 'case14939.txt', 'case14940.txt', 'case14941.txt', 'case14942.txt', 'case14943.txt', 'case14944.txt', 'case14945.txt', 'case14946.txt', 'case14947.txt', 'case14948.txt', 'case14949.txt', 'case14950.txt', 'case14951.txt', 'case14952.txt', 'case14953.txt', 'case14954.txt', 'case14955.txt', 'case14956.txt', 'case14957.txt', 'case14958.txt', 'case14959.txt', 'case14960.txt', 'case14961.txt', 'case14962.txt', 'case14963.txt', 'case14964.txt', 'case14966.txt', 'case14967.txt', 'case14968.txt', 'case14969.txt', 'case14970.txt', 'case14971.txt', 'case14973.txt', 'case14974.txt', 'case14975.txt', 'case14977.txt', 'case14978.txt', 'case14979.txt', 'case14980.txt', 'case14981.txt', 'case14984.txt', 'case14985.txt', 'case14986.txt', 'case14987.txt', 'case14988.txt', 'case14989.txt', 'case14990.txt', 'case14991.txt', 'case14992.txt', 'case14993.txt', 'case14994.txt', 'case14995.txt', 'case14997.txt', 'case14998.txt', 'case15001.txt', 'case15002.txt', 'case15003.txt', 'case15004.txt', 'case15005.txt', 'case15006.txt', 'case15007.txt', 'case15008.txt', 'case15009.txt', 'case15010.txt', 'case15011.txt', 'case15012.txt', 'case15013.txt', 'case15014.txt', 'case15015.txt', 'case15016.txt', 'case15017.txt', 'case15018.txt', 'case15019.txt', 'case15020.txt', 'case15021.txt', 'case15022.txt', 'case15023.txt', 'case15024.txt', 'case15025.txt', 'case15026.txt', 'case15027.txt', 'case15028.txt', 'case15029.txt', 'case15030.txt', 'case15032.txt', 'case15033.txt', 'case15035.txt', 'case15036.txt', 'case15037.txt', 'case15039.txt', 'case15040.txt', 'case15041.txt', 'case15042.txt', 'case15043.txt', 'case15044.txt', 'case15045.txt', 'case15046.txt', 'case15047.txt', 'case15048.txt', 'case15049.txt', 'case15050.txt', 'case15051.txt', 'case15052.txt', 'case15053.txt', 'case15054.txt', 'case15055.txt', 'case15056.txt', 'case15057.txt', 'case15058.txt', 'case15059.txt', 'case15060.txt', 'case15061.txt', 'case15062.txt', 'case15063.txt', 'case15064.txt', 'case15065.txt', 'case15066.txt', 'case15067.txt', 'case15068.txt', 'case15069.txt', 'case15070.txt', 'case15071.txt', 'case15072.txt', 'case15073.txt', 'case15074.txt', 'case15075.txt', 'case15076.txt', 'case15077.txt', 'case15078.txt', 'case15079.txt', 'case15080.txt', 'case15081.txt', 'case15082.txt', 'case15083.txt', 'case15084.txt', 'case15085.txt', 'case15086.txt', 'case15087.txt', 'case15088.txt', 'case15090.txt', 'case15093.txt', 'case15094.txt', 'case15095.txt', 'case15096.txt', 'case15097.txt', 'case15098.txt', 'case15099.txt', 'case15100.txt', 'case15101.txt', 'case15102.txt', 'case15103.txt', 'case15105.txt', 'case15106.txt', 'case15108.txt', 'case15109.txt', 'case15110.txt', 'case15111.txt', 'case15112.txt', 'case15113.txt', 'case15114.txt', 'case15115.txt', 'case15116.txt', 'case15117.txt', 'case15119.txt', 'case15121.txt', 'case15123.txt', 'case15124.txt', 'case15125.txt', 'case15126.txt', 'case15127.txt', 'case15128.txt', 'case15129.txt', 'case15130.txt', 'case15132.txt', 'case15133.txt', 'case15134.txt', 'case15135.txt', 'case15136.txt', 'case15137.txt', 'case15138.txt', 'case15139.txt', 'case15140.txt', 'case15141.txt', 'case15142.txt', 'case15143.txt', 'case15144.txt', 'case15145.txt', 'case15146.txt', 'case15147.txt', 'case15149.txt', 'case15150.txt', 'case15151.txt', 'case15152.txt', 'case15153.txt', 'case15154.txt', 'case15155.txt', 'case15156.txt', 'case15157.txt', 'case15158.txt', 'case15160.txt', 'case15161.txt', 'case15162.txt', 'case15164.txt', 'case15165.txt', 'case15166.txt', 'case15167.txt', 'case15168.txt', 'case15169.txt', 'case15170.txt', 'case15171.txt', 'case15172.txt', 'case15173.txt', 'case15174.txt', 'case15175.txt', 'case15176.txt', 'case15177.txt', 'case15178.txt', 'case15179.txt', 'case15180.txt', 'case15182.txt', 'case15183.txt', 'case15185.txt', 'case15186.txt', 'case15187.txt', 'case15188.txt', 'case15189.txt', 'case15190.txt', 'case15191.txt', 'case15192.txt', 'case15194.txt', 'case15195.txt', 'case15196.txt', 'case15197.txt', 'case15198.txt', 'case15199.txt', 'case15200.txt', 'case15201.txt', 'case15202.txt', 'case15203.txt', 'case15204.txt', 'case15205.txt', 'case15206.txt', 'case15207.txt', 'case15208.txt', 'case15209.txt', 'case15210.txt', 'case15211.txt', 'case15212.txt', 'case15213.txt', 'case15214.txt', 'case15215.txt', 'case15216.txt', 'case15217.txt', 'case15218.txt', 'case15220.txt', 'case15222.txt', 'case15223.txt', 'case15224.txt', 'case15225.txt', 'case15226.txt', 'case15227.txt', 'case15229.txt', 'case15231.txt', 'case15232.txt', 'case15233.txt', 'case15235.txt', 'case15236.txt', 'case15237.txt', 'case15238.txt', 'case15239.txt', 'case15240.txt', 'case15241.txt', 'case15242.txt', 'case15243.txt', 'case15244.txt', 'case15245.txt', 'case15246.txt', 'case15247.txt', 'case15248.txt', 'case15249.txt', 'case15250.txt', 'case15251.txt', 'case15252.txt', 'case15254.txt', 'case15256.txt', 'case15257.txt', 'case15258.txt', 'case15259.txt', 'case15260.txt', 'case15261.txt', 'case15262.txt', 'case15263.txt', 'case15265.txt', 'case15266.txt', 'case15267.txt', 'case15268.txt', 'case15269.txt', 'case15270.txt', 'case15271.txt', 'case15272.txt', 'case15273.txt', 'case15275.txt', 'case15276.txt', 'case15277.txt', 'case15278.txt', 'case15280.txt', 'case15281.txt', 'case15282.txt', 'case15283.txt', 'case15284.txt', 'case15285.txt', 'case15286.txt', 'case15287.txt', 'case15288.txt', 'case15289.txt', 'case15290.txt', 'case15291.txt', 'case15292.txt', 'case15293.txt', 'case15294.txt', 'case15295.txt', 'case15297.txt', 'case15298.txt', 'case15299.txt', 'case15300.txt', 'case15301.txt', 'case15302.txt', 'case15303.txt', 'case15304.txt', 'case15305.txt', 'case15306.txt', 'case15307.txt', 'case15308.txt', 'case15309.txt', 'case15310.txt', 'case15311.txt', 'case15312.txt', 'case15313.txt', 'case15314.txt', 'case15315.txt', 'case15316.txt', 'case15317.txt', 'case15320.txt', 'case15321.txt', 'case15322.txt', 'case15323.txt', 'case15324.txt', 'case15325.txt', 'case15326.txt', 'case15327.txt', 'case15328.txt', 'case15330.txt', 'case15331.txt', 'case15332.txt', 'case15333.txt', 'case15334.txt', 'case15335.txt', 'case15337.txt', 'case15338.txt', 'case15339.txt', 'case15340.txt', 'case15341.txt', 'case15342.txt', 'case15343.txt', 'case15344.txt', 'case15346.txt', 'case15347.txt', 'case15348.txt', 'case15349.txt', 'case15350.txt', 'case15351.txt', 'case15352.txt', 'case15353.txt', 'case15355.txt', 'case15356.txt', 'case15357.txt', 'case15359.txt', 'case15360.txt', 'case15361.txt', 'case15362.txt', 'case15363.txt', 'case15364.txt', 'case15365.txt', 'case15366.txt', 'case15367.txt', 'case15369.txt', 'case15370.txt', 'case15371.txt', 'case15372.txt', 'case15373.txt', 'case15374.txt', 'case15375.txt', 'case15376.txt', 'case15377.txt', 'case15379.txt', 'case15380.txt', 'case15381.txt', 'case15382.txt', 'case15383.txt', 'case15384.txt', 'case15385.txt', 'case15386.txt', 'case15387.txt', 'case15388.txt', 'case15389.txt', 'case15390.txt', 'case15391.txt', 'case15392.txt', 'case15393.txt', 'case15394.txt', 'case15396.txt', 'case15398.txt', 'case15399.txt', 'case15400.txt', 'case15401.txt', 'case15402.txt', 'case15403.txt', 'case15404.txt', 'case15405.txt', 'case15406.txt', 'case15407.txt', 'case15408.txt', 'case15409.txt', 'case15410.txt', 'case15411.txt', 'case15412.txt', 'case15413.txt', 'case15414.txt', 'case15415.txt', 'case15416.txt', 'case15417.txt', 'case15418.txt', 'case15419.txt', 'case15420.txt', 'case15421.txt', 'case15422.txt', 'case15423.txt', 'case15424.txt', 'case15425.txt', 'case15427.txt', 'case15428.txt', 'case15429.txt', 'case15431.txt', 'case15432.txt', 'case15433.txt', 'case15434.txt', 'case15435.txt', 'case15436.txt', 'case15437.txt', 'case15438.txt', 'case15439.txt', 'case15440.txt', 'case15441.txt', 'case15442.txt', 'case15443.txt', 'case15444.txt', 'case15445.txt', 'case15446.txt', 'case15447.txt', 'case15448.txt', 'case15449.txt', 'case15450.txt', 'case15451.txt', 'case15452.txt', 'case15454.txt', 'case15455.txt', 'case15456.txt', 'case15457.txt', 'case15458.txt', 'case15459.txt', 'case15460.txt', 'case15461.txt', 'case15462.txt', 'case15463.txt', 'case15465.txt', 'case15466.txt', 'case15467.txt', 'case15468.txt', 'case15469.txt', 'case15471.txt', 'case15472.txt', 'case15473.txt', 'case15474.txt', 'case15475.txt', 'case15476.txt', 'case15477.txt', 'case15478.txt', 'case15479.txt', 'case15480.txt', 'case15481.txt', 'case15484.txt', 'case15485.txt', 'case15486.txt', 'case15487.txt', 'case15488.txt', 'case15489.txt', 'case15491.txt', 'case15492.txt', 'case15493.txt', 'case15494.txt', 'case15495.txt', 'case15496.txt', 'case15497.txt', 'case15498.txt', 'case15500.txt', 'case15501.txt', 'case15502.txt', 'case15503.txt', 'case15504.txt', 'case15505.txt', 'case15506.txt', 'case15507.txt', 'case15508.txt', 'case15509.txt', 'case15510.txt', 'case15511.txt', 'case15512.txt', 'case15513.txt', 'case15514.txt', 'case15515.txt', 'case15516.txt', 'case15518.txt', 'case15519.txt', 'case15520.txt', 'case15521.txt', 'case15522.txt', 'case15523.txt', 'case15524.txt', 'case15526.txt', 'case15527.txt', 'case15528.txt', 'case15529.txt', 'case15530.txt', 'case15531.txt', 'case15533.txt', 'case15534.txt', 'case15535.txt', 'case15536.txt', 'case15538.txt', 'case15539.txt', 'case15540.txt', 'case15541.txt', 'case15542.txt', 'case15543.txt', 'case15544.txt', 'case15545.txt', 'case15546.txt', 'case15548.txt', 'case15549.txt', 'case15550.txt', 'case15551.txt', 'case15552.txt', 'case15553.txt', 'case15554.txt', 'case15555.txt', 'case15556.txt', 'case15557.txt', 'case15558.txt', 'case15559.txt', 'case15560.txt', 'case15561.txt', 'case15562.txt', 'case15563.txt', 'case15565.txt', 'case15566.txt', 'case15567.txt', 'case15568.txt', 'case15571.txt', 'case15573.txt', 'case15574.txt', 'case15575.txt', 'case15576.txt', 'case15577.txt', 'case15579.txt', 'case15580.txt', 'case15581.txt', 'case15582.txt', 'case15583.txt', 'case15584.txt', 'case15585.txt', 'case15586.txt', 'case15587.txt', 'case15588.txt', 'case15589.txt', 'case15590.txt', 'case15591.txt', 'case15592.txt', 'case15593.txt', 'case15594.txt', 'case15595.txt', 'case15596.txt', 'case15597.txt', 'case15598.txt', 'case15599.txt', 'case15600.txt', 'case15603.txt', 'case15604.txt', 'case15605.txt', 'case15606.txt', 'case15607.txt', 'case15608.txt', 'case15609.txt', 'case15610.txt', 'case15611.txt', 'case15612.txt', 'case15613.txt', 'case15614.txt', 'case15615.txt', 'case15616.txt', 'case15617.txt', 'case15618.txt', 'case15619.txt', 'case15620.txt', 'case15621.txt', 'case15622.txt', 'case15623.txt', 'case15624.txt', 'case15625.txt', 'case15626.txt', 'case15627.txt', 'case15628.txt', 'case15629.txt', 'case15630.txt', 'case15631.txt', 'case15632.txt', 'case15634.txt', 'case15635.txt', 'case15636.txt', 'case15637.txt', 'case15638.txt', 'case15640.txt', 'case15641.txt', 'case15642.txt', 'case15643.txt', 'case15644.txt', 'case15645.txt', 'case15646.txt', 'case15647.txt', 'case15648.txt', 'case15649.txt', 'case15650.txt', 'case15651.txt', 'case15652.txt', 'case15653.txt', 'case15654.txt', 'case15655.txt', 'case15656.txt', 'case15657.txt', 'case15658.txt', 'case15659.txt', 'case15660.txt', 'case15662.txt', 'case15663.txt', 'case15664.txt', 'case15665.txt', 'case15666.txt', 'case15667.txt', 'case15668.txt', 'case15669.txt', 'case15670.txt', 'case15671.txt', 'case15672.txt', 'case15673.txt', 'case15674.txt', 'case15675.txt', 'case15676.txt', 'case15677.txt', 'case15679.txt', 'case15680.txt', 'case15681.txt', 'case15682.txt', 'case15683.txt', 'case15684.txt', 'case15686.txt', 'case15687.txt', 'case15688.txt', 'case15689.txt', 'case15692.txt', 'case15693.txt', 'case15694.txt', 'case15695.txt', 'case15696.txt', 'case15697.txt', 'case15698.txt', 'case15699.txt', 'case15700.txt', 'case15701.txt', 'case15702.txt', 'case15703.txt', 'case15704.txt', 'case15705.txt', 'case15706.txt', 'case15707.txt', 'case15708.txt', 'case15709.txt', 'case15710.txt', 'case15711.txt', 'case15712.txt', 'case15713.txt', 'case15714.txt', 'case15715.txt', 'case15716.txt', 'case15717.txt', 'case15718.txt', 'case15719.txt', 'case15720.txt', 'case15721.txt', 'case15722.txt', 'case15723.txt', 'case15724.txt', 'case15725.txt', 'case15726.txt', 'case15727.txt', 'case15728.txt', 'case15729.txt', 'case15730.txt', 'case15732.txt', 'case15733.txt', 'case15734.txt', 'case15736.txt', 'case15737.txt', 'case15738.txt', 'case15739.txt', 'case15740.txt', 'case15741.txt', 'case15742.txt', 'case15743.txt', 'case15744.txt', 'case15745.txt', 'case15746.txt', 'case15747.txt', 'case15748.txt', 'case15750.txt', 'case15751.txt', 'case15752.txt', 'case15753.txt', 'case15754.txt', 'case15755.txt', 'case15756.txt', 'case15757.txt', 'case15758.txt', 'case15759.txt', 'case15760.txt', 'case15761.txt', 'case15762.txt', 'case15763.txt', 'case15765.txt', 'case15766.txt', 'case15767.txt', 'case15768.txt', 'case15769.txt', 'case15770.txt', 'case15771.txt', 'case15772.txt', 'case15773.txt', 'case15774.txt', 'case15775.txt', 'case15776.txt', 'case15777.txt', 'case15778.txt', 'case15779.txt', 'case15780.txt', 'case15781.txt', 'case15782.txt', 'case15783.txt', 'case15785.txt', 'case15786.txt', 'case15787.txt', 'case15788.txt', 'case15789.txt', 'case15790.txt', 'case15791.txt', 'case15792.txt', 'case15793.txt', 'case15794.txt', 'case15795.txt', 'case15796.txt', 'case15797.txt', 'case15798.txt', 'case15799.txt', 'case15800.txt', 'case15801.txt', 'case15802.txt', 'case15803.txt', 'case15804.txt', 'case15805.txt', 'case15806.txt', 'case15807.txt', 'case15808.txt', 'case15809.txt', 'case15810.txt', 'case15811.txt', 'case15812.txt', 'case15813.txt', 'case15814.txt', 'case15815.txt', 'case15816.txt', 'case15818.txt', 'case15819.txt', 'case15820.txt', 'case15821.txt', 'case15822.txt', 'case15823.txt', 'case15825.txt', 'case15826.txt', 'case15827.txt', 'case15828.txt', 'case15830.txt', 'case15831.txt', 'case15832.txt', 'case15833.txt', 'case15834.txt', 'case15835.txt', 'case15837.txt', 'case15838.txt', 'case15839.txt', 'case15840.txt', 'case15843.txt', 'case15844.txt', 'case15845.txt', 'case15848.txt', 'case15849.txt', 'case15850.txt', 'case15851.txt', 'case15852.txt', 'case15853.txt', 'case15854.txt', 'case15856.txt', 'case15857.txt', 'case15858.txt', 'case15860.txt', 'case15861.txt', 'case15862.txt', 'case15863.txt', 'case15864.txt', 'case15865.txt', 'case15867.txt', 'case15868.txt', 'case15869.txt', 'case15870.txt', 'case15871.txt', 'case15872.txt', 'case15873.txt', 'case15874.txt', 'case15875.txt', 'case15876.txt', 'case15877.txt', 'case15879.txt', 'case15880.txt', 'case15881.txt', 'case15882.txt', 'case15883.txt', 'case15884.txt', 'case15885.txt', 'case15886.txt', 'case15887.txt', 'case15888.txt', 'case15889.txt', 'case15890.txt', 'case15891.txt', 'case15892.txt', 'case15893.txt', 'case15894.txt', 'case15896.txt', 'case15897.txt', 'case15898.txt', 'case15900.txt', 'case15901.txt', 'case15902.txt', 'case15903.txt', 'case15904.txt', 'case15905.txt', 'case15906.txt', 'case15907.txt', 'case15909.txt', 'case15910.txt', 'case15913.txt', 'case15915.txt', 'case15916.txt', 'case15917.txt', 'case15918.txt', 'case15919.txt', 'case15923.txt', 'case15924.txt', 'case15925.txt', 'case15926.txt', 'case15927.txt', 'case15928.txt', 'case15929.txt', 'case15930.txt', 'case15931.txt', 'case15932.txt', 'case15933.txt', 'case15934.txt', 'case15935.txt', 'case15936.txt', 'case15937.txt', 'case15938.txt', 'case15939.txt', 'case15941.txt', 'case15942.txt', 'case15943.txt', 'case15944.txt', 'case15945.txt', 'case15948.txt', 'case15949.txt', 'case15951.txt', 'case15953.txt', 'case15954.txt', 'case15955.txt', 'case15956.txt', 'case15957.txt', 'case15959.txt', 'case15960.txt', 'case15961.txt', 'case15962.txt', 'case15963.txt', 'case15964.txt', 'case15965.txt', 'case15966.txt', 'case15967.txt', 'case15968.txt', 'case15969.txt', 'case15970.txt', 'case15971.txt', 'case15972.txt', 'case15973.txt', 'case15974.txt', 'case15975.txt', 'case15976.txt', 'case15977.txt', 'case15978.txt', 'case15979.txt', 'case15980.txt', 'case15981.txt', 'case15982.txt', 'case15983.txt', 'case15984.txt', 'case15985.txt', 'case15986.txt', 'case15988.txt', 'case15989.txt', 'case15990.txt', 'case15992.txt', 'case15993.txt', 'case15994.txt', 'case15996.txt', 'case15997.txt', 'case15998.txt', 'case15999.txt', 'case16000.txt', 'case16001.txt', 'case16003.txt', 'case16004.txt', 'case16005.txt', 'case16006.txt', 'case16007.txt', 'case16008.txt', 'case16009.txt', 'case16010.txt', 'case16011.txt', 'case16012.txt', 'case16013.txt', 'case16014.txt', 'case16015.txt', 'case16016.txt', 'case16017.txt', 'case16018.txt', 'case16019.txt', 'case16020.txt', 'case16023.txt', 'case16024.txt', 'case16026.txt', 'case16027.txt', 'case16029.txt', 'case16031.txt', 'case16032.txt', 'case16033.txt', 'case16034.txt', 'case16035.txt', 'case16036.txt', 'case16037.txt', 'case16038.txt', 'case16039.txt', 'case16040.txt', 'case16041.txt', 'case16042.txt', 'case16043.txt', 'case16044.txt', 'case16045.txt', 'case16046.txt', 'case16048.txt', 'case16049.txt', 'case16050.txt', 'case16052.txt', 'case16055.txt', 'case16056.txt', 'case16057.txt', 'case16058.txt', 'case16059.txt', 'case16060.txt', 'case16061.txt', 'case16062.txt', 'case16063.txt', 'case16064.txt', 'case16065.txt', 'case16066.txt', 'case16067.txt', 'case16069.txt', 'case16072.txt', 'case16073.txt', 'case16074.txt', 'case16076.txt', 'case16077.txt', 'case16078.txt', 'case16079.txt', 'case16080.txt', 'case16081.txt', 'case16082.txt', 'case16083.txt', 'case16084.txt', 'case16085.txt', 'case16086.txt', 'case16087.txt', 'case16088.txt', 'case16089.txt', 'case16090.txt', 'case16091.txt', 'case16092.txt', 'case16093.txt', 'case16094.txt', 'case16095.txt', 'case16096.txt', 'case16097.txt', 'case16098.txt', 'case16099.txt', 'case16101.txt', 'case16102.txt', 'case16103.txt', 'case16104.txt', 'case16105.txt', 'case16106.txt', 'case16108.txt', 'case16109.txt', 'case16110.txt', 'case16111.txt', 'case16112.txt', 'case16113.txt', 'case16115.txt', 'case16116.txt', 'case16117.txt', 'case16118.txt', 'case16119.txt', 'case16120.txt', 'case16121.txt', 'case16122.txt', 'case16123.txt', 'case16124.txt', 'case16125.txt', 'case16126.txt', 'case16127.txt', 'case16128.txt', 'case16129.txt', 'case16130.txt', 'case16131.txt', 'case16132.txt', 'case16133.txt', 'case16135.txt', 'case16136.txt', 'case16137.txt', 'case16138.txt', 'case16139.txt', 'case16140.txt', 'case16141.txt', 'case16142.txt', 'case16143.txt', 'case16144.txt', 'case16145.txt', 'case16146.txt', 'case16147.txt', 'case16148.txt', 'case16149.txt', 'case16150.txt', 'case16151.txt', 'case16152.txt', 'case16154.txt', 'case16155.txt', 'case16157.txt', 'case16158.txt', 'case16160.txt', 'case16161.txt', 'case16162.txt', 'case16163.txt', 'case16164.txt', 'case16165.txt', 'case16166.txt', 'case16167.txt', 'case16168.txt', 'case16169.txt', 'case16170.txt', 'case16171.txt', 'case16172.txt', 'case16173.txt', 'case16174.txt', 'case16175.txt', 'case16176.txt', 'case16177.txt', 'case16178.txt', 'case16179.txt', 'case16180.txt', 'case16181.txt', 'case16184.txt', 'case16185.txt', 'case16186.txt', 'case16187.txt', 'case16188.txt', 'case16190.txt', 'case16191.txt', 'case16192.txt', 'case16193.txt', 'case16194.txt', 'case16195.txt', 'case16196.txt', 'case16197.txt', 'case16198.txt', 'case16199.txt', 'case16200.txt', 'case16202.txt', 'case16203.txt', 'case16206.txt', 'case16207.txt', 'case16208.txt', 'case16209.txt', 'case16210.txt', 'case16212.txt', 'case16213.txt', 'case16214.txt', 'case16215.txt', 'case16216.txt', 'case16217.txt', 'case16218.txt', 'case16219.txt', 'case16220.txt', 'case16221.txt', 'case16222.txt', 'case16223.txt', 'case16225.txt', 'case16226.txt', 'case16227.txt', 'case16228.txt', 'case16229.txt', 'case16230.txt', 'case16231.txt', 'case16232.txt', 'case16233.txt', 'case16234.txt', 'case16235.txt', 'case16236.txt', 'case16237.txt', 'case16239.txt', 'case16240.txt', 'case16241.txt', 'case16243.txt', 'case16244.txt', 'case16245.txt', 'case16246.txt', 'case16248.txt', 'case16249.txt', 'case16250.txt', 'case16251.txt', 'case16252.txt', 'case16254.txt', 'case16255.txt', 'case16256.txt', 'case16257.txt', 'case16258.txt', 'case16262.txt', 'case16263.txt', 'case16264.txt', 'case16265.txt', 'case16266.txt', 'case16267.txt', 'case16269.txt', 'case16270.txt', 'case16271.txt', 'case16272.txt', 'case16273.txt', 'case16274.txt', 'case16275.txt', 'case16276.txt', 'case16277.txt', 'case16278.txt', 'case16279.txt', 'case16280.txt', 'case16281.txt', 'case16282.txt', 'case16284.txt', 'case16286.txt', 'case16287.txt', 'case16288.txt', 'case16289.txt', 'case16290.txt', 'case16291.txt', 'case16293.txt', 'case16295.txt', 'case16296.txt', 'case16297.txt', 'case16298.txt', 'case16299.txt', 'case16300.txt', 'case16301.txt', 'case16302.txt', 'case16303.txt', 'case16304.txt', 'case16305.txt', 'case16306.txt', 'case16307.txt', 'case16308.txt', 'case16309.txt', 'case16310.txt', 'case16311.txt', 'case16312.txt', 'case16313.txt', 'case16314.txt', 'case16315.txt', 'case16316.txt', 'case16317.txt', 'case16318.txt', 'case16319.txt', 'case16320.txt', 'case16321.txt', 'case16322.txt', 'case16323.txt', 'case16324.txt', 'case16325.txt', 'case16326.txt', 'case16327.txt', 'case16328.txt', 'case16329.txt', 'case16330.txt', 'case16331.txt', 'case16332.txt', 'case16333.txt', 'case16334.txt', 'case16335.txt', 'case16336.txt', 'case16337.txt', 'case16338.txt', 'case16339.txt', 'case16341.txt', 'case16342.txt', 'case16343.txt', 'case16344.txt', 'case16345.txt', 'case16346.txt', 'case16347.txt', 'case16348.txt', 'case16349.txt', 'case16350.txt', 'case16351.txt', 'case16352.txt', 'case16354.txt', 'case16355.txt', 'case16358.txt', 'case16359.txt', 'case16360.txt', 'case16361.txt', 'case16362.txt', 'case16363.txt', 'case16364.txt', 'case16365.txt', 'case16366.txt', 'case16367.txt', 'case16369.txt', 'case16370.txt', 'case16371.txt', 'case16372.txt', 'case16373.txt', 'case16374.txt', 'case16375.txt', 'case16376.txt', 'case16377.txt', 'case16378.txt', 'case16379.txt', 'case16380.txt', 'case16381.txt', 'case16382.txt', 'case16383.txt', 'case16384.txt', 'case16385.txt', 'case16388.txt', 'case16389.txt', 'case16391.txt', 'case16392.txt', 'case16393.txt', 'case16394.txt', 'case16395.txt', 'case16396.txt', 'case16397.txt', 'case16398.txt', 'case16399.txt', 'case16401.txt', 'case16402.txt', 'case16403.txt', 'case16404.txt', 'case16405.txt', 'case16406.txt', 'case16407.txt', 'case16408.txt', 'case16409.txt', 'case16411.txt', 'case16412.txt', 'case16414.txt', 'case16415.txt', 'case16416.txt', 'case16417.txt', 'case16418.txt', 'case16419.txt', 'case16420.txt', 'case16421.txt', 'case16422.txt', 'case16423.txt', 'case16424.txt', 'case16425.txt', 'case16426.txt', 'case16427.txt', 'case16430.txt', 'case16431.txt', 'case16432.txt', 'case16434.txt', 'case16435.txt', 'case16436.txt', 'case16438.txt', 'case16439.txt', 'case16440.txt', 'case16441.txt', 'case16442.txt', 'case16443.txt', 'case16445.txt', 'case16446.txt', 'case16447.txt', 'case16448.txt', 'case16449.txt', 'case16450.txt', 'case16451.txt', 'case16452.txt', 'case16453.txt', 'case16454.txt', 'case16455.txt', 'case16457.txt', 'case16458.txt', 'case16459.txt', 'case16460.txt', 'case16461.txt', 'case16462.txt', 'case16463.txt', 'case16464.txt', 'case16465.txt', 'case16466.txt', 'case16467.txt', 'case16468.txt', 'case16469.txt', 'case16471.txt', 'case16472.txt', 'case16473.txt', 'case16474.txt', 'case16475.txt', 'case16477.txt', 'case16478.txt', 'case16479.txt', 'case16480.txt', 'case16481.txt', 'case16482.txt', 'case16483.txt', 'case16484.txt', 'case16485.txt', 'case16486.txt', 'case16487.txt', 'case16488.txt', 'case16489.txt', 'case16490.txt', 'case16491.txt', 'case16492.txt', 'case16493.txt', 'case16494.txt', 'case16495.txt', 'case16496.txt', 'case16497.txt', 'case16498.txt', 'case16500.txt', 'case16501.txt', 'case16502.txt', 'case16503.txt', 'case16504.txt', 'case16505.txt', 'case16506.txt', 'case16507.txt', 'case16508.txt', 'case16509.txt', 'case16510.txt', 'case16511.txt', 'case16512.txt', 'case16513.txt', 'case16514.txt', 'case16515.txt', 'case16516.txt', 'case16517.txt', 'case16518.txt', 'case16519.txt', 'case16520.txt', 'case16521.txt', 'case16522.txt', 'case16523.txt', 'case16524.txt', 'case16525.txt', 'case16526.txt', 'case16527.txt', 'case16528.txt', 'case16529.txt', 'case16531.txt', 'case16532.txt', 'case16533.txt', 'case16534.txt', 'case16535.txt', 'case16536.txt', 'case16537.txt', 'case16538.txt', 'case16539.txt', 'case16540.txt', 'case16541.txt', 'case16543.txt', 'case16544.txt', 'case16545.txt', 'case16546.txt', 'case16547.txt', 'case16548.txt', 'case16549.txt', 'case16550.txt', 'case16551.txt', 'case16552.txt', 'case16554.txt', 'case16555.txt', 'case16556.txt', 'case16558.txt', 'case16559.txt', 'case16560.txt', 'case16561.txt', 'case16562.txt', 'case16563.txt', 'case16565.txt', 'case16566.txt', 'case16568.txt', 'case16569.txt', 'case16570.txt', 'case16573.txt', 'case16574.txt', 'case16575.txt', 'case16576.txt', 'case16577.txt', 'case16578.txt', 'case16579.txt', 'case16580.txt', 'case16581.txt', 'case16582.txt', 'case16583.txt', 'case16584.txt', 'case16586.txt', 'case16587.txt', 'case16589.txt', 'case16590.txt', 'case16591.txt', 'case16592.txt', 'case16593.txt', 'case16594.txt', 'case16595.txt', 'case16597.txt', 'case16598.txt', 'case16600.txt', 'case16601.txt', 'case16602.txt', 'case16603.txt', 'case16604.txt', 'case16605.txt', 'case16606.txt', 'case16607.txt', 'case16608.txt', 'case16611.txt', 'case16612.txt', 'case16613.txt', 'case16614.txt', 'case16615.txt', 'case16616.txt', 'case16618.txt', 'case16619.txt', 'case16621.txt', 'case16622.txt', 'case16623.txt', 'case16624.txt', 'case16625.txt', 'case16626.txt', 'case16627.txt', 'case16628.txt', 'case16629.txt', 'case16630.txt', 'case16631.txt', 'case16632.txt', 'case16633.txt', 'case16635.txt', 'case16636.txt', 'case16638.txt', 'case16639.txt', 'case16640.txt', 'case16641.txt', 'case16642.txt', 'case16643.txt', 'case16644.txt', 'case16645.txt', 'case16646.txt', 'case16647.txt', 'case16648.txt', 'case16649.txt', 'case16651.txt', 'case16652.txt', 'case16653.txt', 'case16654.txt', 'case16657.txt', 'case16658.txt', 'case16659.txt', 'case16660.txt', 'case16662.txt', 'case16663.txt', 'case16664.txt', 'case16665.txt', 'case16666.txt', 'case16667.txt', 'case16668.txt', 'case16670.txt', 'case16672.txt', 'case16673.txt', 'case16674.txt', 'case16675.txt', 'case16676.txt', 'case16677.txt', 'case16678.txt', 'case16679.txt', 'case16680.txt', 'case16683.txt', 'case16686.txt', 'case16687.txt', 'case16688.txt', 'case16689.txt', 'case16690.txt', 'case16691.txt', 'case16692.txt', 'case16693.txt', 'case16694.txt', 'case16695.txt', 'case16696.txt', 'case16697.txt', 'case16698.txt', 'case16699.txt', 'case16700.txt', 'case16705.txt', 'case16707.txt', 'case16708.txt', 'case16710.txt', 'case16711.txt', 'case16712.txt', 'case16713.txt', 'case16714.txt', 'case16716.txt', 'case16717.txt', 'case16718.txt', 'case16719.txt', 'case16721.txt', 'case16722.txt', 'case16723.txt', 'case16724.txt', 'case16725.txt', 'case16726.txt', 'case16727.txt', 'case16728.txt', 'case16729.txt', 'case16731.txt', 'case16732.txt', 'case16733.txt', 'case16734.txt', 'case16735.txt', 'case16736.txt', 'case16737.txt', 'case16739.txt', 'case16740.txt', 'case16741.txt', 'case16742.txt', 'case16743.txt', 'case16744.txt', 'case16745.txt', 'case16746.txt', 'case16747.txt', 'case16748.txt', 'case16749.txt', 'case16750.txt', 'case16751.txt', 'case16752.txt', 'case16753.txt', 'case16754.txt', 'case16755.txt', 'case16756.txt', 'case16757.txt', 'case16758.txt', 'case16759.txt', 'case16760.txt', 'case16761.txt', 'case16762.txt', 'case16763.txt', 'case16764.txt', 'case16767.txt', 'case16768.txt', 'case16769.txt', 'case16770.txt', 'case16771.txt', 'case16772.txt', 'case16773.txt', 'case16774.txt', 'case16775.txt', 'case16776.txt', 'case16777.txt', 'case16779.txt', 'case16780.txt', 'case16781.txt', 'case16782.txt', 'case16783.txt', 'case16784.txt', 'case16785.txt', 'case16786.txt', 'case16787.txt', 'case16788.txt', 'case16789.txt', 'case16790.txt', 'case16791.txt', 'case16792.txt', 'case16793.txt', 'case16794.txt', 'case16795.txt', 'case16796.txt', 'case16798.txt', 'case16800.txt', 'case16801.txt', 'case16802.txt', 'case16803.txt', 'case16804.txt', 'case16805.txt', 'case16806.txt', 'case16807.txt', 'case16808.txt', 'case16809.txt', 'case16810.txt', 'case16811.txt', 'case16812.txt', 'case16813.txt', 'case16814.txt', 'case16815.txt', 'case16816.txt', 'case16817.txt', 'case16818.txt', 'case16819.txt', 'case16820.txt', 'case16821.txt', 'case16822.txt', 'case16823.txt', 'case16824.txt', 'case16826.txt', 'case16827.txt', 'case16828.txt', 'case16830.txt', 'case16831.txt', 'case16832.txt', 'case16833.txt', 'case16834.txt', 'case16835.txt', 'case16836.txt', 'case16837.txt', 'case16838.txt', 'case16839.txt', 'case16840.txt', 'case16841.txt', 'case16842.txt', 'case16843.txt', 'case16844.txt', 'case16845.txt', 'case16846.txt', 'case16847.txt', 'case16848.txt', 'case16849.txt', 'case16850.txt', 'case16851.txt', 'case16852.txt', 'case16853.txt', 'case16854.txt', 'case16855.txt', 'case16856.txt', 'case16857.txt', 'case16858.txt', 'case16859.txt', 'case16861.txt', 'case16862.txt', 'case16863.txt', 'case16864.txt', 'case16865.txt', 'case16866.txt', 'case16867.txt', 'case16868.txt', 'case16869.txt', 'case16870.txt', 'case16872.txt', 'case16875.txt', 'case16877.txt', 'case16879.txt', 'case16881.txt', 'case16882.txt', 'case16883.txt', 'case16884.txt', 'case16886.txt', 'case16887.txt', 'case16889.txt', 'case16890.txt', 'case16891.txt', 'case16892.txt', 'case16893.txt', 'case16894.txt', 'case16895.txt', 'case16896.txt', 'case16897.txt', 'case16899.txt', 'case16900.txt', 'case16901.txt', 'case16902.txt', 'case16903.txt', 'case16904.txt', 'case16905.txt', 'case16906.txt', 'case16907.txt', 'case16909.txt', 'case16910.txt', 'case16911.txt', 'case16912.txt', 'case16913.txt', 'case16914.txt', 'case16915.txt', 'case16916.txt', 'case16917.txt', 'case16918.txt', 'case16919.txt', 'case16920.txt', 'case16921.txt', 'case16922.txt', 'case16923.txt', 'case16926.txt', 'case16927.txt', 'case16928.txt', 'case16929.txt', 'case16930.txt', 'case16931.txt', 'case16933.txt', 'case16934.txt', 'case16935.txt', 'case16936.txt', 'case16937.txt', 'case16938.txt', 'case16939.txt', 'case16940.txt', 'case16941.txt', 'case16942.txt', 'case16943.txt', 'case16944.txt', 'case16945.txt', 'case16946.txt', 'case16948.txt', 'case16950.txt', 'case16951.txt', 'case16952.txt', 'case16953.txt', 'case16954.txt', 'case16955.txt', 'case16956.txt', 'case16957.txt', 'case16958.txt', 'case16959.txt', 'case16960.txt', 'case16961.txt', 'case16962.txt', 'case16963.txt', 'case16964.txt', 'case16965.txt', 'case16967.txt', 'case16968.txt', 'case16969.txt', 'case16970.txt', 'case16971.txt', 'case16973.txt', 'case16975.txt', 'case16976.txt', 'case16977.txt', 'case16978.txt', 'case16979.txt', 'case16980.txt', 'case16981.txt', 'case16982.txt', 'case16983.txt', 'case16984.txt', 'case16985.txt', 'case16987.txt', 'case16988.txt', 'case16989.txt', 'case16990.txt', 'case16991.txt', 'case16992.txt', 'case16993.txt', 'case16994.txt', 'case16995.txt', 'case16996.txt', 'case16997.txt', 'case16998.txt', 'case17000.txt', 'case17001.txt', 'case17002.txt', 'case17003.txt', 'case17004.txt', 'case17005.txt', 'case17006.txt', 'case17007.txt', 'case17008.txt', 'case17009.txt', 'case17011.txt', 'case17013.txt', 'case17014.txt', 'case17015.txt', 'case17016.txt', 'case17017.txt', 'case17018.txt', 'case17019.txt', 'case17020.txt', 'case17021.txt', 'case17022.txt', 'case17023.txt', 'case17024.txt', 'case17025.txt', 'case17026.txt', 'case17027.txt', 'case17028.txt', 'case17029.txt', 'case17030.txt', 'case17031.txt', 'case17032.txt', 'case17033.txt', 'case17034.txt', 'case17036.txt', 'case17037.txt', 'case17038.txt', 'case17039.txt', 'case17040.txt', 'case17041.txt', 'case17042.txt', 'case17043.txt', 'case17044.txt', 'case17045.txt', 'case17046.txt', 'case17047.txt', 'case17048.txt', 'case17049.txt', 'case17050.txt', 'case17051.txt', 'case17052.txt', 'case17053.txt', 'case17054.txt', 'case17055.txt', 'case17057.txt', 'case17058.txt', 'case17060.txt', 'case17061.txt', 'case17062.txt', 'case17063.txt', 'case17064.txt', 'case17065.txt', 'case17066.txt', 'case17067.txt', 'case17068.txt', 'case17069.txt', 'case17070.txt', 'case17071.txt', 'case17072.txt', 'case17073.txt', 'case17074.txt', 'case17075.txt', 'case17076.txt', 'case17077.txt', 'case17078.txt', 'case17080.txt', 'case17081.txt', 'case17083.txt', 'case17084.txt', 'case17085.txt', 'case17086.txt', 'case17087.txt', 'case17089.txt', 'case17090.txt', 'case17091.txt', 'case17093.txt', 'case17094.txt', 'case17095.txt', 'case17096.txt', 'case17097.txt', 'case17098.txt', 'case17099.txt', 'case17100.txt', 'case17101.txt', 'case17102.txt', 'case17104.txt', 'case17105.txt', 'case17106.txt', 'case17107.txt', 'case17108.txt', 'case17109.txt', 'case17110.txt', 'case17111.txt', 'case17112.txt', 'case17113.txt', 'case17115.txt', 'case17116.txt', 'case17117.txt', 'case17118.txt', 'case17119.txt', 'case17120.txt', 'case17121.txt', 'case17123.txt', 'case17124.txt', 'case17125.txt', 'case17126.txt', 'case17127.txt', 'case17128.txt', 'case17129.txt', 'case17130.txt', 'case17131.txt', 'case17132.txt', 'case17133.txt', 'case17134.txt', 'case17135.txt', 'case17136.txt', 'case17139.txt', 'case17140.txt', 'case17141.txt', 'case17142.txt', 'case17144.txt', 'case17145.txt', 'case17146.txt', 'case17147.txt', 'case17148.txt', 'case17149.txt', 'case17150.txt', 'case17152.txt', 'case17153.txt', 'case17154.txt', 'case17155.txt', 'case17156.txt', 'case17157.txt', 'case17158.txt', 'case17159.txt', 'case17160.txt', 'case17161.txt', 'case17162.txt', 'case17163.txt', 'case17164.txt', 'case17165.txt', 'case17166.txt', 'case17167.txt', 'case17169.txt', 'case17173.txt', 'case17174.txt', 'case17175.txt', 'case17177.txt', 'case17178.txt', 'case17179.txt', 'case17180.txt', 'case17181.txt', 'case17184.txt', 'case17185.txt', 'case17187.txt', 'case17188.txt', 'case17189.txt', 'case17190.txt', 'case17192.txt', 'case17193.txt', 'case17194.txt', 'case17195.txt', 'case17196.txt', 'case17197.txt', 'case17198.txt', 'case17200.txt', 'case17201.txt', 'case17203.txt', 'case17205.txt', 'case17207.txt', 'case17208.txt', 'case17209.txt', 'case17211.txt', 'case17212.txt', 'case17213.txt', 'case17216.txt', 'case17217.txt', 'case17218.txt', 'case17220.txt', 'case17221.txt', 'case17222.txt', 'case17223.txt', 'case17225.txt', 'case17226.txt', 'case17228.txt', 'case17229.txt', 'case17230.txt', 'case17231.txt', 'case17232.txt', 'case17234.txt', 'case17235.txt', 'case17236.txt', 'case17237.txt', 'case17238.txt', 'case17241.txt', 'case17242.txt', 'case17243.txt', 'case17244.txt', 'case17245.txt', 'case17246.txt', 'case17248.txt', 'case17249.txt', 'case17250.txt', 'case17251.txt', 'case17252.txt', 'case17253.txt', 'case17254.txt', 'case17255.txt', 'case17256.txt', 'case17257.txt', 'case17258.txt', 'case17259.txt', 'case17260.txt', 'case17261.txt', 'case17262.txt', 'case17263.txt', 'case17265.txt', 'case17266.txt', 'case17267.txt', 'case17268.txt', 'case17269.txt', 'case17270.txt', 'case17271.txt', 'case17274.txt', 'case17275.txt', 'case17276.txt', 'case17277.txt', 'case17278.txt', 'case17279.txt', 'case17280.txt', 'case17281.txt', 'case17282.txt', 'case17283.txt', 'case17284.txt', 'case17285.txt', 'case17287.txt', 'case17290.txt', 'case17291.txt', 'case17292.txt', 'case17293.txt', 'case17294.txt', 'case17295.txt', 'case17296.txt', 'case17298.txt', 'case17299.txt', 'case17300.txt', 'case17301.txt', 'case17302.txt', 'case17304.txt', 'case17305.txt', 'case17306.txt', 'case17307.txt', 'case17309.txt', 'case17310.txt', 'case17311.txt', 'case17312.txt', 'case17313.txt', 'case17314.txt', 'case17315.txt', 'case17317.txt', 'case17318.txt', 'case17320.txt', 'case17321.txt', 'case17322.txt', 'case17323.txt', 'case17324.txt', 'case17325.txt', 'case17326.txt', 'case17327.txt', 'case17328.txt', 'case17329.txt', 'case17330.txt', 'case17332.txt', 'case17334.txt', 'case17335.txt', 'case17337.txt', 'case17339.txt', 'case17340.txt', 'case17341.txt', 'case17342.txt', 'case17344.txt', 'case17345.txt', 'case17346.txt', 'case17347.txt', 'case17348.txt', 'case17349.txt', 'case17350.txt', 'case17351.txt', 'case17352.txt', 'case17353.txt', 'case17354.txt', 'case17355.txt', 'case17356.txt', 'case17357.txt', 'case17358.txt', 'case17359.txt', 'case17360.txt', 'case17361.txt', 'case17362.txt', 'case17363.txt', 'case17364.txt', 'case17365.txt', 'case17367.txt', 'case17368.txt', 'case17369.txt', 'case17370.txt', 'case17371.txt', 'case17373.txt', 'case17374.txt', 'case17375.txt', 'case17377.txt', 'case17378.txt', 'case17380.txt', 'case17381.txt', 'case17382.txt', 'case17383.txt', 'case17384.txt', 'case17385.txt', 'case17386.txt', 'case17388.txt', 'case17389.txt', 'case17390.txt', 'case17391.txt', 'case17392.txt', 'case17393.txt', 'case17394.txt', 'case17395.txt', 'case17396.txt', 'case17397.txt', 'case17398.txt', 'case17401.txt', 'case17402.txt', 'case17403.txt', 'case17404.txt', 'case17405.txt', 'case17406.txt', 'case17407.txt', 'case17408.txt', 'case17409.txt', 'case17410.txt', 'case17411.txt', 'case17412.txt', 'case17413.txt', 'case17415.txt', 'case17416.txt', 'case17417.txt', 'case17418.txt', 'case17419.txt', 'case17420.txt', 'case17421.txt', 'case17422.txt', 'case17423.txt', 'case17425.txt', 'case17426.txt', 'case17427.txt', 'case17428.txt', 'case17429.txt', 'case17430.txt', 'case17431.txt', 'case17432.txt', 'case17433.txt', 'case17435.txt', 'case17436.txt', 'case17437.txt', 'case17438.txt', 'case17439.txt', 'case17440.txt', 'case17441.txt', 'case17442.txt', 'case17443.txt', 'case17444.txt', 'case17445.txt', 'case17446.txt', 'case17448.txt', 'case17449.txt', 'case17450.txt', 'case17451.txt', 'case17452.txt', 'case17453.txt', 'case17454.txt', 'case17455.txt', 'case17456.txt', 'case17457.txt', 'case17458.txt', 'case17459.txt', 'case17460.txt', 'case17461.txt', 'case17462.txt', 'case17463.txt', 'case17464.txt', 'case17465.txt', 'case17466.txt', 'case17467.txt', 'case17468.txt', 'case17469.txt', 'case17471.txt', 'case17472.txt', 'case17473.txt', 'case17474.txt', 'case17475.txt', 'case17478.txt', 'case17479.txt', 'case17480.txt', 'case17481.txt', 'case17483.txt', 'case17484.txt', 'case17486.txt', 'case17487.txt', 'case17488.txt', 'case17489.txt', 'case17490.txt', 'case17491.txt', 'case17492.txt', 'case17493.txt', 'case17494.txt', 'case17495.txt', 'case17496.txt', 'case17497.txt', 'case17499.txt', 'case17501.txt', 'case17502.txt', 'case17503.txt', 'case17504.txt', 'case17505.txt', 'case17506.txt', 'case17507.txt', 'case17508.txt', 'case17509.txt', 'case17510.txt', 'case17511.txt', 'case17512.txt', 'case17513.txt', 'case17515.txt', 'case17516.txt', 'case17517.txt', 'case17518.txt', 'case17519.txt', 'case17520.txt', 'case17521.txt', 'case17522.txt', 'case17524.txt', 'case17525.txt', 'case17526.txt', 'case17528.txt', 'case17529.txt', 'case17530.txt', 'case17531.txt', 'case17532.txt', 'case17533.txt', 'case17534.txt', 'case17535.txt', 'case17536.txt', 'case17537.txt', 'case17538.txt', 'case17539.txt', 'case17540.txt', 'case17541.txt', 'case17542.txt', 'case17543.txt', 'case17544.txt', 'case17545.txt', 'case17546.txt', 'case17547.txt', 'case17548.txt', 'case17549.txt', 'case17550.txt', 'case17551.txt', 'case17552.txt', 'case17553.txt', 'case17554.txt', 'case17555.txt', 'case17556.txt', 'case17557.txt', 'case17558.txt', 'case17559.txt', 'case17560.txt', 'case17561.txt', 'case17562.txt', 'case17563.txt', 'case17564.txt', 'case17565.txt', 'case17566.txt', 'case17567.txt', 'case17569.txt', 'case17570.txt', 'case17571.txt', 'case17572.txt', 'case17573.txt', 'case17574.txt', 'case17576.txt', 'case17577.txt', 'case17578.txt', 'case17579.txt', 'case17580.txt', 'case17581.txt', 'case17582.txt', 'case17583.txt', 'case17584.txt', 'case17586.txt', 'case17588.txt', 'case17589.txt', 'case17590.txt', 'case17591.txt', 'case17592.txt', 'case17593.txt', 'case17594.txt', 'case17595.txt', 'case17596.txt', 'case17597.txt', 'case17598.txt', 'case17600.txt', 'case17601.txt', 'case17603.txt', 'case17604.txt', 'case17605.txt', 'case17606.txt', 'case17607.txt', 'case17608.txt', 'case17609.txt', 'case17610.txt', 'case17612.txt', 'case17613.txt', 'case17614.txt', 'case17615.txt', 'case17616.txt', 'case17617.txt', 'case17618.txt', 'case17619.txt', 'case17620.txt', 'case17621.txt', 'case17622.txt', 'case17623.txt', 'case17624.txt', 'case17625.txt', 'case17626.txt', 'case17627.txt', 'case17629.txt', 'case17630.txt', 'case17631.txt', 'case17632.txt', 'case17634.txt', 'case17635.txt', 'case17636.txt', 'case17638.txt', 'case17639.txt', 'case17640.txt', 'case17641.txt', 'case17643.txt', 'case17644.txt', 'case17645.txt', 'case17646.txt', 'case17647.txt', 'case17648.txt', 'case17649.txt', 'case17650.txt', 'case17651.txt', 'case17652.txt', 'case17653.txt', 'case17654.txt', 'case17655.txt', 'case17656.txt', 'case17657.txt', 'case17658.txt', 'case17659.txt', 'case17660.txt', 'case17662.txt', 'case17664.txt', 'case17666.txt', 'case17667.txt', 'case17669.txt', 'case17670.txt', 'case17671.txt', 'case17673.txt', 'case17674.txt', 'case17675.txt', 'case17676.txt', 'case17677.txt', 'case17678.txt', 'case17679.txt', 'case17680.txt', 'case17681.txt', 'case17683.txt', 'case17684.txt', 'case17685.txt', 'case17686.txt', 'case17687.txt', 'case17688.txt', 'case17691.txt', 'case17692.txt', 'case17694.txt', 'case17695.txt', 'case17696.txt', 'case17697.txt', 'case17698.txt', 'case17699.txt', 'case17700.txt', 'case17703.txt', 'case17705.txt', 'case17706.txt', 'case17707.txt', 'case17708.txt', 'case17709.txt', 'case17710.txt', 'case17711.txt', 'case17713.txt', 'case17714.txt', 'case17715.txt', 'case17716.txt', 'case17717.txt', 'case17718.txt', 'case17719.txt', 'case17720.txt', 'case17722.txt', 'case17723.txt', 'case17724.txt', 'case17725.txt', 'case17726.txt', 'case17727.txt', 'case17728.txt', 'case17729.txt', 'case17730.txt', 'case17731.txt', 'case17732.txt', 'case17733.txt', 'case17734.txt', 'case17735.txt', 'case17736.txt', 'case17737.txt', 'case17738.txt', 'case17740.txt', 'case17741.txt', 'case17742.txt', 'case17743.txt', 'case17744.txt', 'case17745.txt', 'case17746.txt', 'case17747.txt', 'case17748.txt', 'case17749.txt', 'case17750.txt', 'case17751.txt', 'case17752.txt', 'case17753.txt', 'case17754.txt', 'case17756.txt', 'case17757.txt', 'case17758.txt', 'case17759.txt', 'case17760.txt', 'case17761.txt', 'case17762.txt', 'case17763.txt', 'case17764.txt', 'case17765.txt', 'case17766.txt', 'case17767.txt', 'case17768.txt', 'case17769.txt', 'case17770.txt', 'case17771.txt', 'case17772.txt', 'case17774.txt', 'case17775.txt', 'case17776.txt', 'case17777.txt', 'case17778.txt', 'case17779.txt', 'case17780.txt', 'case17781.txt', 'case17782.txt', 'case17783.txt', 'case17784.txt', 'case17785.txt', 'case17786.txt', 'case17787.txt', 'case17788.txt', 'case17789.txt', 'case17791.txt', 'case17792.txt', 'case17793.txt', 'case17794.txt', 'case17795.txt', 'case17796.txt', 'case17797.txt', 'case17799.txt', 'case17800.txt', 'case17801.txt', 'case17802.txt', 'case17803.txt', 'case17804.txt', 'case17805.txt', 'case17806.txt', 'case17807.txt', 'case17808.txt', 'case17809.txt', 'case17810.txt', 'case17811.txt', 'case17812.txt', 'case17814.txt', 'case17815.txt', 'case17816.txt', 'case17817.txt', 'case17818.txt', 'case17819.txt', 'case17820.txt', 'case17821.txt', 'case17822.txt', 'case17823.txt', 'case17824.txt', 'case17825.txt', 'case17826.txt', 'case17827.txt', 'case17828.txt', 'case17829.txt', 'case17830.txt', 'case17831.txt', 'case17832.txt', 'case17833.txt', 'case17834.txt', 'case17835.txt', 'case17836.txt', 'case17837.txt', 'case17838.txt', 'case17839.txt', 'case17840.txt', 'case17841.txt', 'case17842.txt', 'case17843.txt', 'case17844.txt', 'case17845.txt', 'case17847.txt', 'case17848.txt', 'case17849.txt', 'case17850.txt', 'case17851.txt', 'case17853.txt', 'case17854.txt', 'case17855.txt', 'case17858.txt', 'case17860.txt', 'case17861.txt', 'case17862.txt', 'case17863.txt', 'case17864.txt', 'case17865.txt', 'case17866.txt', 'case17867.txt', 'case17868.txt', 'case17869.txt', 'case17870.txt', 'case17871.txt', 'case17872.txt', 'case17873.txt', 'case17874.txt', 'case17875.txt', 'case17876.txt', 'case17877.txt', 'case17878.txt', 'case17879.txt', 'case17880.txt', 'case17882.txt', 'case17883.txt', 'case17884.txt', 'case17885.txt', 'case17886.txt', 'case17888.txt', 'case17889.txt', 'case17890.txt', 'case17891.txt', 'case17892.txt', 'case17893.txt', 'case17894.txt', 'case17896.txt', 'case17898.txt', 'case17899.txt', 'case17900.txt', 'case17902.txt', 'case17903.txt', 'case17904.txt', 'case17905.txt', 'case17906.txt', 'case17908.txt', 'case17909.txt', 'case17910.txt', 'case17911.txt', 'case17912.txt', 'case17913.txt', 'case17914.txt', 'case17915.txt', 'case17916.txt', 'case17917.txt', 'case17918.txt', 'case17919.txt', 'case17920.txt', 'case17921.txt', 'case17922.txt', 'case17923.txt', 'case17924.txt', 'case17925.txt', 'case17926.txt', 'case17927.txt', 'case17928.txt', 'case17930.txt', 'case17931.txt', 'case17933.txt', 'case17934.txt', 'case17935.txt', 'case17936.txt', 'case17938.txt', 'case17940.txt', 'case17941.txt', 'case17942.txt', 'case17943.txt', 'case17944.txt', 'case17945.txt', 'case17946.txt', 'case17947.txt', 'case17948.txt', 'case17949.txt', 'case17950.txt', 'case17951.txt', 'case17952.txt', 'case17953.txt', 'case17954.txt', 'case17955.txt', 'case17956.txt', 'case17957.txt', 'case17958.txt', 'case17959.txt', 'case17961.txt', 'case17963.txt', 'case17964.txt', 'case17965.txt', 'case17967.txt', 'case17968.txt', 'case17970.txt', 'case17971.txt', 'case17972.txt', 'case17973.txt', 'case17975.txt', 'case17977.txt', 'case17978.txt', 'case17979.txt', 'case17981.txt', 'case17982.txt', 'case17984.txt', 'case17985.txt', 'case17986.txt', 'case17989.txt', 'case17990.txt', 'case17991.txt', 'case17992.txt', 'case17993.txt', 'case17994.txt', 'case17995.txt', 'case17997.txt', 'case17998.txt', 'case17999.txt', 'case18000.txt', 'case18001.txt', 'case18002.txt', 'case18005.txt', 'case18006.txt', 'case18007.txt', 'case18008.txt', 'case18009.txt', 'case18010.txt', 'case18011.txt', 'case18012.txt', 'case18013.txt', 'case18016.txt', 'case18017.txt', 'case18018.txt', 'case18019.txt', 'case18020.txt', 'case18021.txt', 'case18022.txt', 'case18023.txt', 'case18024.txt', 'case18025.txt', 'case18026.txt', 'case18027.txt', 'case18028.txt', 'case18030.txt']\n"
          ],
          "name": "stdout"
        }
      ]
    },
    {
      "cell_type": "code",
      "metadata": {
        "id": "LrpO1kK9tlgB"
      },
      "source": [
        "sample_data_dict = {}\n",
        "file_limit = 1000 #for now\n",
        "\n",
        "count=0\n",
        "for eachFile in fileList:\n",
        "    # print(eachFile)\n",
        "    print(count)\n",
        "    with open(RAW_CASES_PATH+'/'+eachFile, 'r', encoding=\"utf8\", errors='ignore') as _fp:\n",
        "        fileData = _fp.read()\n",
        "        sample_data_dict[eachFile] = fileData\n",
        "        # print(\"FILE DATA (%s):\\n\\n%s\\n\\n\"%(_fp.name, fileData))\n",
        "    count+=1\n",
        "    if count==file_limit:\n",
        "      break"
      ],
      "execution_count": null,
      "outputs": []
    },
    {
      "cell_type": "code",
      "metadata": {
        "id": "C0Y-CvdMwZPC",
        "colab": {
          "base_uri": "https://localhost:8080/",
          "height": 206
        },
        "outputId": "a3d430c6-66a7-4de0-fd4e-dd16ae3e4f31"
      },
      "source": [
        "import pandas as pd\n",
        " \n",
        "sample_df = pd.DataFrame(sample_data_dict,index=['summary']).transpose()\n",
        "sample_df.head()\n"
      ],
      "execution_count": null,
      "outputs": [
        {
          "output_type": "execute_result",
          "data": {
            "text/html": [
              "<div>\n",
              "<style scoped>\n",
              "    .dataframe tbody tr th:only-of-type {\n",
              "        vertical-align: middle;\n",
              "    }\n",
              "\n",
              "    .dataframe tbody tr th {\n",
              "        vertical-align: top;\n",
              "    }\n",
              "\n",
              "    .dataframe thead th {\n",
              "        text-align: right;\n",
              "    }\n",
              "</style>\n",
              "<table border=\"1\" class=\"dataframe\">\n",
              "  <thead>\n",
              "    <tr style=\"text-align: right;\">\n",
              "      <th></th>\n",
              "      <th>summary</th>\n",
              "    </tr>\n",
              "  </thead>\n",
              "  <tbody>\n",
              "    <tr>\n",
              "      <th>case0.txt</th>\n",
              "      <td>Denial of petition for writ of habeas corpus i...</td>\n",
              "    </tr>\n",
              "    <tr>\n",
              "      <th>case1.txt</th>\n",
              "      <td>District court erred in summarily denying peti...</td>\n",
              "    </tr>\n",
              "    <tr>\n",
              "      <th>case2.txt</th>\n",
              "      <td>Defendants' convictions for mail, wire, and ho...</td>\n",
              "    </tr>\n",
              "    <tr>\n",
              "      <th>case4.txt</th>\n",
              "      <td>North Carolina's driver's license revocation i...</td>\n",
              "    </tr>\n",
              "    <tr>\n",
              "      <th>case6.txt</th>\n",
              "      <td>After defendant's conviction for a sexual act ...</td>\n",
              "    </tr>\n",
              "  </tbody>\n",
              "</table>\n",
              "</div>"
            ],
            "text/plain": [
              "                                                     summary\n",
              "case0.txt  Denial of petition for writ of habeas corpus i...\n",
              "case1.txt  District court erred in summarily denying peti...\n",
              "case2.txt  Defendants' convictions for mail, wire, and ho...\n",
              "case4.txt  North Carolina's driver's license revocation i...\n",
              "case6.txt  After defendant's conviction for a sexual act ..."
            ]
          },
          "metadata": {
            "tags": []
          },
          "execution_count": 9
        }
      ]
    },
    {
      "cell_type": "code",
      "metadata": {
        "id": "vKKkvkTE1icY",
        "colab": {
          "base_uri": "https://localhost:8080/",
          "height": 175
        },
        "outputId": "fc647e13-4d34-4b46-caf6-fe36252ba84a"
      },
      "source": [
        "sample_df.describe()"
      ],
      "execution_count": null,
      "outputs": [
        {
          "output_type": "execute_result",
          "data": {
            "text/html": [
              "<div>\n",
              "<style scoped>\n",
              "    .dataframe tbody tr th:only-of-type {\n",
              "        vertical-align: middle;\n",
              "    }\n",
              "\n",
              "    .dataframe tbody tr th {\n",
              "        vertical-align: top;\n",
              "    }\n",
              "\n",
              "    .dataframe thead th {\n",
              "        text-align: right;\n",
              "    }\n",
              "</style>\n",
              "<table border=\"1\" class=\"dataframe\">\n",
              "  <thead>\n",
              "    <tr style=\"text-align: right;\">\n",
              "      <th></th>\n",
              "      <th>summary</th>\n",
              "    </tr>\n",
              "  </thead>\n",
              "  <tbody>\n",
              "    <tr>\n",
              "      <th>count</th>\n",
              "      <td>1000</td>\n",
              "    </tr>\n",
              "    <tr>\n",
              "      <th>unique</th>\n",
              "      <td>998</td>\n",
              "    </tr>\n",
              "    <tr>\n",
              "      <th>top</th>\n",
              "      <td>Grant of a motion to suppress evidence in a pr...</td>\n",
              "    </tr>\n",
              "    <tr>\n",
              "      <th>freq</th>\n",
              "      <td>2</td>\n",
              "    </tr>\n",
              "  </tbody>\n",
              "</table>\n",
              "</div>"
            ],
            "text/plain": [
              "                                                  summary\n",
              "count                                                1000\n",
              "unique                                                998\n",
              "top     Grant of a motion to suppress evidence in a pr...\n",
              "freq                                                    2"
            ]
          },
          "metadata": {
            "tags": []
          },
          "execution_count": 10
        }
      ]
    },
    {
      "cell_type": "markdown",
      "metadata": {
        "id": "SkvSmU3l2M6i"
      },
      "source": [
        "# Preprocess"
      ]
    },
    {
      "cell_type": "code",
      "metadata": {
        "id": "x2FsEYYJuU0x"
      },
      "source": [
        "import re\n",
        "\n",
        "def removeCaseSites(text):\n",
        "  text = text.lower()\n",
        "  # text = re.sub(\"(\\[\\d{1,3} u.s. \\d{1,3}, \\d{1,3}\\])|(\\d{1,3} u.s. \\d{1,3}, \\d{1,3})|(\\d{1,3} u.s. \\d{1,3})\", \" \", text) #[266 U.S. 497, 498] , 480 U.S. 911 \n",
        "  return text\n",
        "\n",
        "sample_df['summary'] = sample_df['summary'].apply(removeCaseSites)"
      ],
      "execution_count": null,
      "outputs": []
    },
    {
      "cell_type": "code",
      "metadata": {
        "id": "xguN1vplN5Hn",
        "colab": {
          "base_uri": "https://localhost:8080/"
        },
        "outputId": "0cafefe6-1aad-4a58-ce63-20db6054e38a"
      },
      "source": [
        "[sample_df.iloc[i]['summary'] for i in range(10,15)]"
      ],
      "execution_count": null,
      "outputs": [
        {
          "output_type": "execute_result",
          "data": {
            "text/plain": [
              "['petition to review denial of habeas corpus relief from state conviction of murder is denied under the antiterrorism and effective death penalty act of 1996 because no established supreme court precedent was violated or unreasonably applied where: 1) the state court properly admitted out of court statements deemed non-testimonial; 2) any testimonial out of court statements admitted did not cause substantial and injurious effect on the verdict; 3) expert testimony for the defense was discretionarily excluded pursuant to rule 702 of the washington rules of evidence; and 4) expert testimony which opined on an ultimate issue to be resolved by the trier of fact was admitted for the prosecution.',\n",
              " \"a corporate employee's self-incriminating statements to law enforcement officers are admissible against the corporation in a criminal case, where the employee does not testify, without violating the corporation's 6th amendment right to confront an accuser.\",\n",
              " \"defendant's conviction for threatening to use a weapon of mass destruction is affirmed over his challenge to a jury instruction which indicated that the government did not have to prove that he actually intended or was able to carry out the threat.\",\n",
              " 'statements and trial testimony of co-conspirators were procured through means sufficiently distinguishable from an illegal search as to be purged from the primary taint.',\n",
              " \"in death penalty case, defendant failed to show presumption that second counsel was required, and his counsel's unanticipated illness during trial did not merit appointment of second counsel, where a continuance was granted during counsel's illness.\"]"
            ]
          },
          "metadata": {
            "tags": []
          },
          "execution_count": 21
        }
      ]
    },
    {
      "cell_type": "markdown",
      "metadata": {
        "id": "qUT3Shrg2bfP"
      },
      "source": [
        "**Reversed**, according to reporting on the Office of the Clerk of the Court means that the judgment below was **absolutely** **wrong**\n",
        "\n",
        "**vacated** means that the judgment was **less than absolutely wrong**."
      ]
    },
    {
      "cell_type": "markdown",
      "metadata": {
        "id": "Hi4QAell2QdR"
      },
      "source": [
        "**Disposition of cases**\n",
        "\n",
        "    Affirmed - the judgment of the lower court is correct and should stand.\n",
        "    Affirmed in part - a portion of the judgment of the lower court was affirmed.\n",
        "    Dismissed - an order that disposes of the matter without a trial of the issues involved on their merits.\n",
        "    Dismissed as improvidently granted - the Writ of Certiorari is dismissed as improvidently granted, meaning the Court should not have accepted the case. \n",
        "    Dismissed for want of jurisdiction - the Court lacks jurisdiction to decide the question on which certiorari was granted\n",
        "    Remanded - send back the matter to the court from which it was appealed.  When a judgment is reversed, the Court usually remands the matter for a new trial to be carried out consistent with the principles announced in its opinion.\n",
        "    Remanded in Part - a portion of the judgment of the lower court was remanded.\n",
        "    Reversed - changes to the contrary to opinion of the lower court/body.\n",
        "    Reversed in Part - part of the judgment of the lower court was reversed.\n",
        "    Vacated - sets aside the judgment of the lower court.\n",
        "    Vacated in Part - part of the judgment of the lower court was set aside, or vacated.\n",
        "\n",
        "Legal terms : https://proquest.libguides.com/supremecourtinsight/glossary \n"
      ]
    },
    {
      "cell_type": "markdown",
      "metadata": {
        "id": "D2Mf4geK8hgn"
      },
      "source": [
        "# Decsion extraction"
      ]
    },
    {
      "cell_type": "code",
      "metadata": {
        "id": "z1whUHF-rzFL"
      },
      "source": [
        "# \"dismissed\" - \"the petition for a writ of certiorari is denied\"(last part) \"Certiorari denied\"(first part) \"Appeal dismissed and certiorari denied\"(first part)\n",
        "# \"affirmed\"  - \"affirmed\" (last part) \"Rehearing denied\"(first part)\n",
        "# \"reversed\" - \"reversed\" (last part)\n",
        "# \"vacated\" - \"\" (last with regx)\n",
        "# \"reversed and remanded\" - \"reversed and remanded\" (last with regx)\n",
        "# \"vacated and remanded\" -\"vacated and remanded\"(last with regx)  \"The petition for a writ of certiorari is granted\"(last) \"judgment vacated; and case remanded\"(first)\n",
        "# \"reversed in part and remanded\" (last with regx)\n",
        "# \"vacated in part and remanded\" (lasy with regx)\n"
      ],
      "execution_count": null,
      "outputs": []
    },
    {
      "cell_type": "code",
      "metadata": {
        "id": "2t4A3HPZ_L2n"
      },
      "source": [
        "rulesDict = {\n",
        "    \"AFFIRMED\" : [\"affirmed\",\"denied\"], #rehearing denied\n",
        "    \"REVERSED\":[\"reversed\"],\n",
        "    \"VACATED\":[\"vacated\"],\n",
        "    \"DISMISSED\" :[\"dismissed\",\"certiorari denied\",\"certiorari is denied\"],#\"appeal dismissed and certiorari denied\"\n",
        "    \"DISSENT\":[\"dissent\"],#just dissent is errorness [\"i respectfully dissent\",\"i dissent\",]\n",
        "}"
      ],
      "execution_count": null,
      "outputs": []
    },
    {
      "cell_type": "code",
      "metadata": {
        "id": "jy9FN7Sf8gt_"
      },
      "source": [
        "count =0\n",
        "def extractDecision(text):\n",
        "  global count\n",
        "  desc = applyPartRules(text,rulesDict)\n",
        "  if desc not in [\"AFFIRMED\",\"REVERSED\",\"VACATED\",\"DISMISSED\",\"DISSENT\"]:#,\"NOT_FOUND\"]:\n",
        "    print(\"----%s\"%count)\n",
        "    print(desc)\n",
        "  count+=1\n",
        "  return desc\n",
        "\n",
        "def applyPartRules(para,rulesDict):\n",
        "  matchDescConcat = \"\"\n",
        "  for decisionKey, rulesList in rulesDict.items():\n",
        "    for rule in rulesList:\n",
        "      match = re.search(rule, para)#, re.IGNORECASE)\n",
        "      if match:\n",
        "        matchDescConcat+=decisionKey\n",
        "        # break\n",
        "        return decisionKey\n",
        "  if matchDescConcat!=\"\":\n",
        "    return matchDescConcat\n",
        "  else:\n",
        "    return \"NOT_FOUND\"\n",
        "\n",
        "# extractDecision(sample_df.iloc[5]['summary'])"
      ],
      "execution_count": null,
      "outputs": []
    },
    {
      "cell_type": "code",
      "metadata": {
        "id": "LyAfhIHJ9Hvo",
        "colab": {
          "base_uri": "https://localhost:8080/"
        },
        "outputId": "af4685cf-eed3-4057-fe20-b9c5b958a685"
      },
      "source": [
        "sample_df['decision'] = sample_df['summary'].apply(extractDecision)"
      ],
      "execution_count": null,
      "outputs": [
        {
          "output_type": "stream",
          "text": [
            "----1\n",
            "NOT_FOUND\n",
            "----3\n",
            "NOT_FOUND\n",
            "----4\n",
            "NOT_FOUND\n",
            "----6\n",
            "NOT_FOUND\n",
            "----7\n",
            "NOT_FOUND\n",
            "----8\n",
            "NOT_FOUND\n",
            "----11\n",
            "NOT_FOUND\n",
            "----13\n",
            "NOT_FOUND\n",
            "----14\n",
            "NOT_FOUND\n",
            "----15\n",
            "NOT_FOUND\n",
            "----17\n",
            "NOT_FOUND\n",
            "----24\n",
            "NOT_FOUND\n",
            "----28\n",
            "NOT_FOUND\n",
            "----32\n",
            "NOT_FOUND\n",
            "----37\n",
            "NOT_FOUND\n",
            "----38\n",
            "NOT_FOUND\n",
            "----39\n",
            "NOT_FOUND\n",
            "----41\n",
            "NOT_FOUND\n",
            "----42\n",
            "NOT_FOUND\n",
            "----43\n",
            "NOT_FOUND\n",
            "----47\n",
            "NOT_FOUND\n",
            "----50\n",
            "NOT_FOUND\n",
            "----53\n",
            "NOT_FOUND\n",
            "----58\n",
            "NOT_FOUND\n",
            "----61\n",
            "NOT_FOUND\n",
            "----63\n",
            "NOT_FOUND\n",
            "----71\n",
            "NOT_FOUND\n",
            "----73\n",
            "NOT_FOUND\n",
            "----80\n",
            "NOT_FOUND\n",
            "----81\n",
            "NOT_FOUND\n",
            "----83\n",
            "NOT_FOUND\n",
            "----86\n",
            "NOT_FOUND\n",
            "----95\n",
            "NOT_FOUND\n",
            "----103\n",
            "NOT_FOUND\n",
            "----104\n",
            "NOT_FOUND\n",
            "----112\n",
            "NOT_FOUND\n",
            "----121\n",
            "NOT_FOUND\n",
            "----123\n",
            "NOT_FOUND\n",
            "----125\n",
            "NOT_FOUND\n",
            "----127\n",
            "NOT_FOUND\n",
            "----128\n",
            "NOT_FOUND\n",
            "----133\n",
            "NOT_FOUND\n",
            "----139\n",
            "NOT_FOUND\n",
            "----141\n",
            "NOT_FOUND\n",
            "----146\n",
            "NOT_FOUND\n",
            "----147\n",
            "NOT_FOUND\n",
            "----153\n",
            "NOT_FOUND\n",
            "----154\n",
            "NOT_FOUND\n",
            "----155\n",
            "NOT_FOUND\n",
            "----158\n",
            "NOT_FOUND\n",
            "----163\n",
            "NOT_FOUND\n",
            "----166\n",
            "NOT_FOUND\n",
            "----167\n",
            "NOT_FOUND\n",
            "----174\n",
            "NOT_FOUND\n",
            "----176\n",
            "NOT_FOUND\n",
            "----190\n",
            "NOT_FOUND\n",
            "----195\n",
            "NOT_FOUND\n",
            "----197\n",
            "NOT_FOUND\n",
            "----203\n",
            "NOT_FOUND\n",
            "----205\n",
            "NOT_FOUND\n",
            "----206\n",
            "NOT_FOUND\n",
            "----210\n",
            "NOT_FOUND\n",
            "----211\n",
            "NOT_FOUND\n",
            "----213\n",
            "NOT_FOUND\n",
            "----214\n",
            "NOT_FOUND\n",
            "----220\n",
            "NOT_FOUND\n",
            "----221\n",
            "NOT_FOUND\n",
            "----222\n",
            "NOT_FOUND\n",
            "----223\n",
            "NOT_FOUND\n",
            "----226\n",
            "NOT_FOUND\n",
            "----228\n",
            "NOT_FOUND\n",
            "----229\n",
            "NOT_FOUND\n",
            "----231\n",
            "NOT_FOUND\n",
            "----232\n",
            "NOT_FOUND\n",
            "----236\n",
            "NOT_FOUND\n",
            "----241\n",
            "NOT_FOUND\n",
            "----243\n",
            "NOT_FOUND\n",
            "----246\n",
            "NOT_FOUND\n",
            "----247\n",
            "NOT_FOUND\n",
            "----248\n",
            "NOT_FOUND\n",
            "----250\n",
            "NOT_FOUND\n",
            "----255\n",
            "NOT_FOUND\n",
            "----256\n",
            "NOT_FOUND\n",
            "----258\n",
            "NOT_FOUND\n",
            "----260\n",
            "NOT_FOUND\n",
            "----262\n",
            "NOT_FOUND\n",
            "----265\n",
            "NOT_FOUND\n",
            "----270\n",
            "NOT_FOUND\n",
            "----276\n",
            "NOT_FOUND\n",
            "----279\n",
            "NOT_FOUND\n",
            "----283\n",
            "NOT_FOUND\n",
            "----284\n",
            "NOT_FOUND\n",
            "----285\n",
            "NOT_FOUND\n",
            "----293\n",
            "NOT_FOUND\n",
            "----294\n",
            "NOT_FOUND\n",
            "----302\n",
            "NOT_FOUND\n",
            "----304\n",
            "NOT_FOUND\n",
            "----308\n",
            "NOT_FOUND\n",
            "----313\n",
            "NOT_FOUND\n",
            "----317\n",
            "NOT_FOUND\n",
            "----318\n",
            "NOT_FOUND\n",
            "----320\n",
            "NOT_FOUND\n",
            "----323\n",
            "NOT_FOUND\n",
            "----325\n",
            "NOT_FOUND\n",
            "----328\n",
            "NOT_FOUND\n",
            "----331\n",
            "NOT_FOUND\n",
            "----332\n",
            "NOT_FOUND\n",
            "----337\n",
            "NOT_FOUND\n",
            "----338\n",
            "NOT_FOUND\n",
            "----342\n",
            "NOT_FOUND\n",
            "----343\n",
            "NOT_FOUND\n",
            "----347\n",
            "NOT_FOUND\n",
            "----349\n",
            "NOT_FOUND\n",
            "----350\n",
            "NOT_FOUND\n",
            "----351\n",
            "NOT_FOUND\n",
            "----352\n",
            "NOT_FOUND\n",
            "----355\n",
            "NOT_FOUND\n",
            "----356\n",
            "NOT_FOUND\n",
            "----358\n",
            "NOT_FOUND\n",
            "----360\n",
            "NOT_FOUND\n",
            "----361\n",
            "NOT_FOUND\n",
            "----362\n",
            "NOT_FOUND\n",
            "----365\n",
            "NOT_FOUND\n",
            "----368\n",
            "NOT_FOUND\n",
            "----369\n",
            "NOT_FOUND\n",
            "----370\n",
            "NOT_FOUND\n",
            "----372\n",
            "NOT_FOUND\n",
            "----376\n",
            "NOT_FOUND\n",
            "----377\n",
            "NOT_FOUND\n",
            "----379\n",
            "NOT_FOUND\n",
            "----381\n",
            "NOT_FOUND\n",
            "----386\n",
            "NOT_FOUND\n",
            "----390\n",
            "NOT_FOUND\n",
            "----392\n",
            "NOT_FOUND\n",
            "----398\n",
            "NOT_FOUND\n",
            "----399\n",
            "NOT_FOUND\n",
            "----400\n",
            "NOT_FOUND\n",
            "----401\n",
            "NOT_FOUND\n",
            "----402\n",
            "NOT_FOUND\n",
            "----406\n",
            "NOT_FOUND\n",
            "----411\n",
            "NOT_FOUND\n",
            "----420\n",
            "NOT_FOUND\n",
            "----422\n",
            "NOT_FOUND\n",
            "----423\n",
            "NOT_FOUND\n",
            "----425\n",
            "NOT_FOUND\n",
            "----429\n",
            "NOT_FOUND\n",
            "----430\n",
            "NOT_FOUND\n",
            "----431\n",
            "NOT_FOUND\n",
            "----435\n",
            "NOT_FOUND\n",
            "----438\n",
            "NOT_FOUND\n",
            "----440\n",
            "NOT_FOUND\n",
            "----443\n",
            "NOT_FOUND\n",
            "----444\n",
            "NOT_FOUND\n",
            "----446\n",
            "NOT_FOUND\n",
            "----447\n",
            "NOT_FOUND\n",
            "----451\n",
            "NOT_FOUND\n",
            "----454\n",
            "NOT_FOUND\n",
            "----459\n",
            "NOT_FOUND\n",
            "----460\n",
            "NOT_FOUND\n",
            "----461\n",
            "NOT_FOUND\n",
            "----462\n",
            "NOT_FOUND\n",
            "----467\n",
            "NOT_FOUND\n",
            "----468\n",
            "NOT_FOUND\n",
            "----471\n",
            "NOT_FOUND\n",
            "----476\n",
            "NOT_FOUND\n",
            "----478\n",
            "NOT_FOUND\n",
            "----479\n",
            "NOT_FOUND\n",
            "----480\n",
            "NOT_FOUND\n",
            "----484\n",
            "NOT_FOUND\n",
            "----485\n",
            "NOT_FOUND\n",
            "----486\n",
            "NOT_FOUND\n",
            "----489\n",
            "NOT_FOUND\n",
            "----490\n",
            "NOT_FOUND\n",
            "----501\n",
            "NOT_FOUND\n",
            "----502\n",
            "NOT_FOUND\n",
            "----503\n",
            "NOT_FOUND\n",
            "----504\n",
            "NOT_FOUND\n",
            "----505\n",
            "NOT_FOUND\n",
            "----506\n",
            "NOT_FOUND\n",
            "----507\n",
            "NOT_FOUND\n",
            "----508\n",
            "NOT_FOUND\n",
            "----509\n",
            "NOT_FOUND\n",
            "----510\n",
            "NOT_FOUND\n",
            "----511\n",
            "NOT_FOUND\n",
            "----515\n",
            "NOT_FOUND\n",
            "----521\n",
            "NOT_FOUND\n",
            "----523\n",
            "NOT_FOUND\n",
            "----524\n",
            "NOT_FOUND\n",
            "----528\n",
            "NOT_FOUND\n",
            "----530\n",
            "NOT_FOUND\n",
            "----531\n",
            "NOT_FOUND\n",
            "----532\n",
            "NOT_FOUND\n",
            "----533\n",
            "NOT_FOUND\n",
            "----535\n",
            "NOT_FOUND\n",
            "----538\n",
            "NOT_FOUND\n",
            "----541\n",
            "NOT_FOUND\n",
            "----542\n",
            "NOT_FOUND\n",
            "----548\n",
            "NOT_FOUND\n",
            "----549\n",
            "NOT_FOUND\n",
            "----550\n",
            "NOT_FOUND\n",
            "----552\n",
            "NOT_FOUND\n",
            "----553\n",
            "NOT_FOUND\n",
            "----555\n",
            "NOT_FOUND\n",
            "----556\n",
            "NOT_FOUND\n",
            "----558\n",
            "NOT_FOUND\n",
            "----565\n",
            "NOT_FOUND\n",
            "----566\n",
            "NOT_FOUND\n",
            "----574\n",
            "NOT_FOUND\n",
            "----576\n",
            "NOT_FOUND\n",
            "----578\n",
            "NOT_FOUND\n",
            "----581\n",
            "NOT_FOUND\n",
            "----582\n",
            "NOT_FOUND\n",
            "----584\n",
            "NOT_FOUND\n",
            "----588\n",
            "NOT_FOUND\n",
            "----593\n",
            "NOT_FOUND\n",
            "----594\n",
            "NOT_FOUND\n",
            "----595\n",
            "NOT_FOUND\n",
            "----597\n",
            "NOT_FOUND\n",
            "----599\n",
            "NOT_FOUND\n",
            "----600\n",
            "NOT_FOUND\n",
            "----602\n",
            "NOT_FOUND\n",
            "----603\n",
            "NOT_FOUND\n",
            "----604\n",
            "NOT_FOUND\n",
            "----606\n",
            "NOT_FOUND\n",
            "----609\n",
            "NOT_FOUND\n",
            "----611\n",
            "NOT_FOUND\n",
            "----618\n",
            "NOT_FOUND\n",
            "----619\n",
            "NOT_FOUND\n",
            "----621\n",
            "NOT_FOUND\n",
            "----628\n",
            "NOT_FOUND\n",
            "----630\n",
            "NOT_FOUND\n",
            "----636\n",
            "NOT_FOUND\n",
            "----642\n",
            "NOT_FOUND\n",
            "----643\n",
            "NOT_FOUND\n",
            "----644\n",
            "NOT_FOUND\n",
            "----646\n",
            "NOT_FOUND\n",
            "----648\n",
            "NOT_FOUND\n",
            "----650\n",
            "NOT_FOUND\n",
            "----651\n",
            "NOT_FOUND\n",
            "----653\n",
            "NOT_FOUND\n",
            "----656\n",
            "NOT_FOUND\n",
            "----658\n",
            "NOT_FOUND\n",
            "----662\n",
            "NOT_FOUND\n",
            "----663\n",
            "NOT_FOUND\n",
            "----669\n",
            "NOT_FOUND\n",
            "----670\n",
            "NOT_FOUND\n",
            "----672\n",
            "NOT_FOUND\n",
            "----676\n",
            "NOT_FOUND\n",
            "----677\n",
            "NOT_FOUND\n",
            "----680\n",
            "NOT_FOUND\n",
            "----683\n",
            "NOT_FOUND\n",
            "----684\n",
            "NOT_FOUND\n",
            "----687\n",
            "NOT_FOUND\n",
            "----688\n",
            "NOT_FOUND\n",
            "----691\n",
            "NOT_FOUND\n",
            "----692\n",
            "NOT_FOUND\n",
            "----693\n",
            "NOT_FOUND\n",
            "----697\n",
            "NOT_FOUND\n",
            "----699\n",
            "NOT_FOUND\n",
            "----702\n",
            "NOT_FOUND\n",
            "----704\n",
            "NOT_FOUND\n",
            "----705\n",
            "NOT_FOUND\n",
            "----706\n",
            "NOT_FOUND\n",
            "----707\n",
            "NOT_FOUND\n",
            "----708\n",
            "NOT_FOUND\n",
            "----709\n",
            "NOT_FOUND\n",
            "----716\n",
            "NOT_FOUND\n",
            "----717\n",
            "NOT_FOUND\n",
            "----719\n",
            "NOT_FOUND\n",
            "----723\n",
            "NOT_FOUND\n",
            "----727\n",
            "NOT_FOUND\n",
            "----730\n",
            "NOT_FOUND\n",
            "----738\n",
            "NOT_FOUND\n",
            "----740\n",
            "NOT_FOUND\n",
            "----741\n",
            "NOT_FOUND\n",
            "----743\n",
            "NOT_FOUND\n",
            "----744\n",
            "NOT_FOUND\n",
            "----745\n",
            "NOT_FOUND\n",
            "----747\n",
            "NOT_FOUND\n",
            "----751\n",
            "NOT_FOUND\n",
            "----752\n",
            "NOT_FOUND\n",
            "----755\n",
            "NOT_FOUND\n",
            "----756\n",
            "NOT_FOUND\n",
            "----757\n",
            "NOT_FOUND\n",
            "----758\n",
            "NOT_FOUND\n",
            "----760\n",
            "NOT_FOUND\n",
            "----762\n",
            "NOT_FOUND\n",
            "----766\n",
            "NOT_FOUND\n",
            "----767\n",
            "NOT_FOUND\n",
            "----768\n",
            "NOT_FOUND\n",
            "----769\n",
            "NOT_FOUND\n",
            "----771\n",
            "NOT_FOUND\n",
            "----773\n",
            "NOT_FOUND\n",
            "----774\n",
            "NOT_FOUND\n",
            "----775\n",
            "NOT_FOUND\n",
            "----777\n",
            "NOT_FOUND\n",
            "----779\n",
            "NOT_FOUND\n",
            "----781\n",
            "NOT_FOUND\n",
            "----783\n",
            "NOT_FOUND\n",
            "----784\n",
            "NOT_FOUND\n",
            "----788\n",
            "NOT_FOUND\n",
            "----790\n",
            "NOT_FOUND\n",
            "----793\n",
            "NOT_FOUND\n",
            "----795\n",
            "NOT_FOUND\n",
            "----797\n",
            "NOT_FOUND\n",
            "----800\n",
            "NOT_FOUND\n",
            "----801\n",
            "NOT_FOUND\n",
            "----802\n",
            "NOT_FOUND\n",
            "----803\n",
            "NOT_FOUND\n",
            "----807\n",
            "NOT_FOUND\n",
            "----815\n",
            "NOT_FOUND\n",
            "----817\n",
            "NOT_FOUND\n",
            "----821\n",
            "NOT_FOUND\n",
            "----823\n",
            "NOT_FOUND\n",
            "----824\n",
            "NOT_FOUND\n",
            "----825\n",
            "NOT_FOUND\n",
            "----827\n",
            "NOT_FOUND\n",
            "----831\n",
            "NOT_FOUND\n",
            "----832\n",
            "NOT_FOUND\n",
            "----833\n",
            "NOT_FOUND\n",
            "----837\n",
            "NOT_FOUND\n",
            "----841\n",
            "NOT_FOUND\n",
            "----842\n",
            "NOT_FOUND\n",
            "----843\n",
            "NOT_FOUND\n",
            "----844\n",
            "NOT_FOUND\n",
            "----847\n",
            "NOT_FOUND\n",
            "----848\n",
            "NOT_FOUND\n",
            "----849\n",
            "NOT_FOUND\n",
            "----850\n",
            "NOT_FOUND\n",
            "----851\n",
            "NOT_FOUND\n",
            "----856\n",
            "NOT_FOUND\n",
            "----857\n",
            "NOT_FOUND\n",
            "----859\n",
            "NOT_FOUND\n",
            "----867\n",
            "NOT_FOUND\n",
            "----873\n",
            "NOT_FOUND\n",
            "----889\n",
            "NOT_FOUND\n",
            "----890\n",
            "NOT_FOUND\n",
            "----894\n",
            "NOT_FOUND\n",
            "----896\n",
            "NOT_FOUND\n",
            "----897\n",
            "NOT_FOUND\n",
            "----901\n",
            "NOT_FOUND\n",
            "----902\n",
            "NOT_FOUND\n",
            "----907\n",
            "NOT_FOUND\n",
            "----908\n",
            "NOT_FOUND\n",
            "----909\n",
            "NOT_FOUND\n",
            "----916\n",
            "NOT_FOUND\n",
            "----920\n",
            "NOT_FOUND\n",
            "----924\n",
            "NOT_FOUND\n",
            "----928\n",
            "NOT_FOUND\n",
            "----929\n",
            "NOT_FOUND\n",
            "----931\n",
            "NOT_FOUND\n",
            "----933\n",
            "NOT_FOUND\n",
            "----939\n",
            "NOT_FOUND\n",
            "----945\n",
            "NOT_FOUND\n",
            "----946\n",
            "NOT_FOUND\n",
            "----947\n",
            "NOT_FOUND\n",
            "----949\n",
            "NOT_FOUND\n",
            "----950\n",
            "NOT_FOUND\n",
            "----951\n",
            "NOT_FOUND\n",
            "----958\n",
            "NOT_FOUND\n",
            "----963\n",
            "NOT_FOUND\n",
            "----966\n",
            "NOT_FOUND\n",
            "----967\n",
            "NOT_FOUND\n",
            "----969\n",
            "NOT_FOUND\n",
            "----972\n",
            "NOT_FOUND\n",
            "----974\n",
            "NOT_FOUND\n",
            "----975\n",
            "NOT_FOUND\n",
            "----977\n",
            "NOT_FOUND\n",
            "----979\n",
            "NOT_FOUND\n",
            "----984\n",
            "NOT_FOUND\n",
            "----988\n",
            "NOT_FOUND\n",
            "----990\n",
            "NOT_FOUND\n",
            "----992\n",
            "NOT_FOUND\n",
            "----993\n",
            "NOT_FOUND\n",
            "----997\n",
            "NOT_FOUND\n",
            "----998\n",
            "NOT_FOUND\n"
          ],
          "name": "stdout"
        }
      ]
    },
    {
      "cell_type": "code",
      "metadata": {
        "colab": {
          "base_uri": "https://localhost:8080/"
        },
        "id": "QhzbCSHQfKnw",
        "outputId": "54342755-72ee-4f37-994e-00500b1cc19c"
      },
      "source": [
        "[sample_df.iloc[i]['summary'] for i in [24,28,32,71,197]]"
      ],
      "execution_count": null,
      "outputs": [
        {
          "output_type": "execute_result",
          "data": {
            "text/plain": [
              "['three-month old evidence is not too stale for a search warrant in a drug case when accompanied by evidence that defendant engaged in drug trafficking over long period of time.',\n",
              " 'a prior conviction of assault with intent to commit lewd touching (pen. code, section 220) qualifies as a strike under the three strikes statutes because it is considered a serious felony under section pen. code section 1192.7, subdivision (c)(39).',\n",
              " 'district court did not err in denying motion for mitigating role reduction. defendant adduced no evidence to support his claim that the bulk of the methamphetamine was not his.',\n",
              " 'by arguing a change in decisional law justified the issuance of a writ of habeas corpus, defendant failed to demonstrate the requisite \"extraordinary circumstances\" to justify relief under rule 60(b)(6) of the federal rules of civil procedure.',\n",
              " 'because both the traffic stop and collective knowledge of the investigating officers supplied probable cause not only to detain but to arrest defendant, his fourth amendment rights were not violated by the prolonged detention caused by the delay in requesting a k-9 unit.']"
            ]
          },
          "metadata": {
            "tags": []
          },
          "execution_count": 44
        }
      ]
    },
    {
      "cell_type": "code",
      "metadata": {
        "id": "oKD0BAT5x5ec",
        "colab": {
          "base_uri": "https://localhost:8080/"
        },
        "outputId": "e744af49-52b6-472d-aa5b-4e9e211afd9f"
      },
      "source": [
        "sample_df['decision'].value_counts(normalize=True)"
      ],
      "execution_count": null,
      "outputs": [
        {
          "output_type": "execute_result",
          "data": {
            "text/plain": [
              "AFFIRMED     0.426\n",
              "NOT_FOUND    0.376\n",
              "REVERSED     0.128\n",
              "VACATED      0.056\n",
              "DISMISSED    0.013\n",
              "DISSENT      0.001\n",
              "Name: decision, dtype: float64"
            ]
          },
          "metadata": {
            "tags": []
          },
          "execution_count": 45
        }
      ]
    },
    {
      "cell_type": "code",
      "metadata": {
        "colab": {
          "base_uri": "https://localhost:8080/"
        },
        "id": "69hHug_1Qdg0",
        "outputId": "0500a969-6b21-43fd-fddb-26803d310d5d"
      },
      "source": [
        "sample_df['decision'].value_counts()"
      ],
      "execution_count": null,
      "outputs": [
        {
          "output_type": "execute_result",
          "data": {
            "text/plain": [
              "AFFIRMED             379\n",
              "NOT_FOUND            376\n",
              "REVERSED             123\n",
              "VACATED               56\n",
              "AFFIRMEDVACATED       20\n",
              "AFFIRMEDREVERSED      20\n",
              "DISMISSED             13\n",
              "AFFIRMEDDISMISSED      7\n",
              "REVERSEDVACATED        5\n",
              "DISSENT                1\n",
              "Name: decision, dtype: int64"
            ]
          },
          "metadata": {
            "tags": []
          },
          "execution_count": 32
        }
      ]
    },
    {
      "cell_type": "markdown",
      "metadata": {
        "id": "95Tk6JXVS7-T"
      },
      "source": [
        "# Body extract"
      ]
    },
    {
      "cell_type": "code",
      "metadata": {
        "id": "gfANn4qYQsts"
      },
      "source": [
        "count =0\n",
        "def extractBody(text,returnLable=False):\n",
        "  global count\n",
        "  # print (\"----%s\"%count)\n",
        "  count+=1\n",
        "  list_of_para = text.split('\\n')\n",
        "  list_of_para = list(filter(filterConditions, list_of_para))\n",
        "  footNoteIndex = getFirstFootnoteIndex(list_of_para)\n",
        "  if footNoteIndex > 0:\n",
        "    list_of_para = list_of_para[:footNoteIndex]\n",
        "  num_of_para = len(list_of_para)\n",
        "  if num_of_para<=5:\n",
        "    return \"ONLY_5_PARAS\" if returnLable else \"\"\n",
        "  else:\n",
        "    list_of_para.pop(0)\n",
        "    list_of_para.pop(0)\n",
        "    last_of_top = list_of_para.pop(0)\n",
        "    # print (\"--Last of top\\n\"+last_of_top[:50])\n",
        "    list_of_para.pop(-1)\n",
        "    list_of_para.pop(-1)\n",
        "    body = \"\\n\".join(list_of_para)\n",
        "    rough_word_count= len(body.split(\" \"))\n",
        "    if rough_word_count>500:\n",
        "      return \"GOOD\" if returnLable else body\n",
        "    else:\n",
        "      return \"TOO_SHORT\" if returnLable else \"\"\n"
      ],
      "execution_count": null,
      "outputs": []
    },
    {
      "cell_type": "code",
      "metadata": {
        "id": "xLlY7JY-h0eD"
      },
      "source": [
        "sample_df['body_quality'] = sample_df['text'].apply(lambda x: extractBody(x,True))"
      ],
      "execution_count": null,
      "outputs": []
    },
    {
      "cell_type": "code",
      "metadata": {
        "colab": {
          "base_uri": "https://localhost:8080/",
          "height": 206
        },
        "id": "Gam9A71OyUrF",
        "outputId": "efc750e2-0546-4722-ce56-0680c537a26c"
      },
      "source": [
        "sample_df.head()"
      ],
      "execution_count": null,
      "outputs": [
        {
          "output_type": "execute_result",
          "data": {
            "text/html": [
              "<div>\n",
              "<style scoped>\n",
              "    .dataframe tbody tr th:only-of-type {\n",
              "        vertical-align: middle;\n",
              "    }\n",
              "\n",
              "    .dataframe tbody tr th {\n",
              "        vertical-align: top;\n",
              "    }\n",
              "\n",
              "    .dataframe thead th {\n",
              "        text-align: right;\n",
              "    }\n",
              "</style>\n",
              "<table border=\"1\" class=\"dataframe\">\n",
              "  <thead>\n",
              "    <tr style=\"text-align: right;\">\n",
              "      <th></th>\n",
              "      <th>text</th>\n",
              "      <th>decision</th>\n",
              "      <th>body_quality</th>\n",
              "    </tr>\n",
              "  </thead>\n",
              "  <tbody>\n",
              "    <tr>\n",
              "      <th>1.txt</th>\n",
              "      <td>united states supreme court sanders v. armour ...</td>\n",
              "      <td>AFFIRMED</td>\n",
              "      <td>GOOD</td>\n",
              "    </tr>\n",
              "    <tr>\n",
              "      <th>2.txt</th>\n",
              "      <td>united states supreme court murel v. baltimore...</td>\n",
              "      <td>DISMISSED</td>\n",
              "      <td>GOOD</td>\n",
              "    </tr>\n",
              "    <tr>\n",
              "      <th>3.txt</th>\n",
              "      <td>united states supreme court lipham v. georgia,...</td>\n",
              "      <td>AFFIRMED</td>\n",
              "      <td>GOOD</td>\n",
              "    </tr>\n",
              "    <tr>\n",
              "      <th>4.txt</th>\n",
              "      <td>united states supreme court murphy v. utter, (...</td>\n",
              "      <td>AFFIRMED</td>\n",
              "      <td>GOOD</td>\n",
              "    </tr>\n",
              "    <tr>\n",
              "      <th>5.txt</th>\n",
              "      <td>united states supreme court helvering v. twin ...</td>\n",
              "      <td>REVERSED</td>\n",
              "      <td>GOOD</td>\n",
              "    </tr>\n",
              "  </tbody>\n",
              "</table>\n",
              "</div>"
            ],
            "text/plain": [
              "                                                    text  ... body_quality\n",
              "1.txt  united states supreme court sanders v. armour ...  ...         GOOD\n",
              "2.txt  united states supreme court murel v. baltimore...  ...         GOOD\n",
              "3.txt  united states supreme court lipham v. georgia,...  ...         GOOD\n",
              "4.txt  united states supreme court murphy v. utter, (...  ...         GOOD\n",
              "5.txt  united states supreme court helvering v. twin ...  ...         GOOD\n",
              "\n",
              "[5 rows x 3 columns]"
            ]
          },
          "metadata": {
            "tags": []
          },
          "execution_count": 205
        }
      ]
    },
    {
      "cell_type": "code",
      "metadata": {
        "colab": {
          "base_uri": "https://localhost:8080/"
        },
        "id": "XS-muJNih9RK",
        "outputId": "3265a575-5761-4923-9409-defd32f476dc"
      },
      "source": [
        "sample_df['body_quality'].value_counts()#normalize=True,bins=range(0,20000,500))"
      ],
      "execution_count": null,
      "outputs": [
        {
          "output_type": "execute_result",
          "data": {
            "text/plain": [
              "GOOD            18074\n",
              "TOO_SHORT        3746\n",
              "ONLY_5_PARAS      956\n",
              "Name: body_quality, dtype: int64"
            ]
          },
          "metadata": {
            "tags": []
          },
          "execution_count": 206
        }
      ]
    },
    {
      "cell_type": "code",
      "metadata": {
        "id": "736julHcszSD"
      },
      "source": [
        "# sample_df.hist(column=\"body_quality\",bins=range(0,20000,100),figsize=[15,5])"
      ],
      "execution_count": null,
      "outputs": []
    },
    {
      "cell_type": "code",
      "metadata": {
        "colab": {
          "base_uri": "https://localhost:8080/",
          "height": 318
        },
        "id": "91okz5Cxkzoi",
        "outputId": "2b4f7c38-43b9-4048-a07b-78db7b81ee22"
      },
      "source": [
        "sample_df.hist(column=\"body_quality\",bins=range(0,50000,1000))"
      ],
      "execution_count": null,
      "outputs": [
        {
          "output_type": "execute_result",
          "data": {
            "text/plain": [
              "array([[<matplotlib.axes._subplots.AxesSubplot object at 0x7f35662c7dd0>]],\n",
              "      dtype=object)"
            ]
          },
          "metadata": {
            "tags": []
          },
          "execution_count": 112
        },
        {
          "output_type": "display_data",
          "data": {
            "image/png": "[encoded data removed]",
            "text/plain": [
              "<Figure size 432x288 with 1 Axes>"
            ]
          },
          "metadata": {
            "tags": [],
            "needs_background": "light"
          }
        }
      ]
    },
    {
      "cell_type": "code",
      "metadata": {
        "id": "BvsjBQiVRR_l"
      },
      "source": [
        "import random"
      ],
      "execution_count": null,
      "outputs": []
    },
    {
      "cell_type": "code",
      "metadata": {
        "colab": {
          "base_uri": "https://localhost:8080/"
        },
        "id": "FRPQO3-NRUXr",
        "outputId": "37f24afe-833b-4d78-a2c6-db23ed6df7df"
      },
      "source": [
        "random_index = random.randint(0,file_limit-1)\n",
        "print(sample_df.iloc[random_index]['decision'])\n",
        "random_index"
      ],
      "execution_count": null,
      "outputs": [
        {
          "output_type": "stream",
          "text": [
            "DISMISSED\n"
          ],
          "name": "stdout"
        },
        {
          "output_type": "execute_result",
          "data": {
            "text/plain": [
              "608"
            ]
          },
          "metadata": {
            "tags": []
          },
          "execution_count": 71
        }
      ]
    },
    {
      "cell_type": "code",
      "metadata": {
        "id": "nSwVRJZWQ8Yi"
      },
      "source": [
        "before_text = sample_df.iloc[random_index]['text'].split('\\n')\n",
        "before_text"
      ],
      "execution_count": null,
      "outputs": []
    },
    {
      "cell_type": "code",
      "metadata": {
        "id": "Q1ETBcHDWXFm"
      },
      "source": [
        "after_text = extractBody(sample_df.iloc[random_index]['text']).split(\"\\n\")\n",
        "after_text\n",
        "print(\"--top--\")\n",
        "print (\"\\n\".join(after_text[0:1]))\n",
        "print(\"--last--\")\n",
        "print (\"\\n\".join(after_text[-3:]))"
      ],
      "execution_count": null,
      "outputs": []
    },
    {
      "cell_type": "code",
      "metadata": {
        "id": "imnVaRz8WyqU"
      },
      "source": [
        "sample_df['body'] = sample_df['text'].apply(lambda x: extractBody(x,False))"
      ],
      "execution_count": null,
      "outputs": []
    },
    {
      "cell_type": "markdown",
      "metadata": {
        "id": "2bKb-MhMzC_t"
      },
      "source": [
        "#Identify Applicable from good and found"
      ]
    },
    {
      "cell_type": "code",
      "metadata": {
        "id": "3DjwAJ5Qle6L"
      },
      "source": [
        "def findApplicable(df):\n",
        "  if df['body_quality']!=\"GOOD\" or df['decision']==\"NOT_FOUND\":\n",
        "    return \"NOT_APPL\"\n",
        "  else:\n",
        "    return 'APPLICABLE'"
      ],
      "execution_count": null,
      "outputs": []
    },
    {
      "cell_type": "code",
      "metadata": {
        "id": "9FNGaySwkz0n"
      },
      "source": [
        "sample_df['applicable']=sample_df.apply(findApplicable,axis=1)"
      ],
      "execution_count": null,
      "outputs": []
    },
    {
      "cell_type": "code",
      "metadata": {
        "colab": {
          "base_uri": "https://localhost:8080/"
        },
        "id": "QwEcNBb-mhhC",
        "outputId": "6af52152-960f-48b5-8ef7-589278263f3d"
      },
      "source": [
        "sample_df['applicable'].value_counts()"
      ],
      "execution_count": null,
      "outputs": [
        {
          "output_type": "execute_result",
          "data": {
            "text/plain": [
              "APPLICABLE    14649\n",
              "NOT_APPL       8127\n",
              "Name: applicable, dtype: int64"
            ]
          },
          "metadata": {
            "tags": []
          },
          "execution_count": 209
        }
      ]
    },
    {
      "cell_type": "code",
      "metadata": {
        "colab": {
          "base_uri": "https://localhost:8080/",
          "height": 293
        },
        "id": "qo6keG_QoEWU",
        "outputId": "aa41e4b0-fec7-4c51-e7cc-b6eb2cffcb36"
      },
      "source": [
        "sample_df.head()"
      ],
      "execution_count": null,
      "outputs": [
        {
          "output_type": "execute_result",
          "data": {
            "text/html": [
              "<div>\n",
              "<style scoped>\n",
              "    .dataframe tbody tr th:only-of-type {\n",
              "        vertical-align: middle;\n",
              "    }\n",
              "\n",
              "    .dataframe tbody tr th {\n",
              "        vertical-align: top;\n",
              "    }\n",
              "\n",
              "    .dataframe thead th {\n",
              "        text-align: right;\n",
              "    }\n",
              "</style>\n",
              "<table border=\"1\" class=\"dataframe\">\n",
              "  <thead>\n",
              "    <tr style=\"text-align: right;\">\n",
              "      <th></th>\n",
              "      <th>text</th>\n",
              "      <th>decision</th>\n",
              "      <th>body_quality</th>\n",
              "      <th>applicable</th>\n",
              "      <th>body</th>\n",
              "    </tr>\n",
              "  </thead>\n",
              "  <tbody>\n",
              "    <tr>\n",
              "      <th>1.txt</th>\n",
              "      <td>united states supreme court sanders v. armour ...</td>\n",
              "      <td>AFFIRMED</td>\n",
              "      <td>GOOD</td>\n",
              "      <td>APPLICABLE</td>\n",
              "      <td>mr. george s. wright, of dallas, tex., for res...</td>\n",
              "    </tr>\n",
              "    <tr>\n",
              "      <th>2.txt</th>\n",
              "      <td>united states supreme court murel v. baltimore...</td>\n",
              "      <td>DISMISSED</td>\n",
              "      <td>GOOD</td>\n",
              "      <td>APPLICABLE</td>\n",
              "      <td>karl g. feissner and andrew e. greenwald argue...</td>\n",
              "    </tr>\n",
              "    <tr>\n",
              "      <th>3.txt</th>\n",
              "      <td>united states supreme court lipham v. georgia,...</td>\n",
              "      <td>AFFIRMED</td>\n",
              "      <td>GOOD</td>\n",
              "      <td>APPLICABLE</td>\n",
              "      <td>on petition for writ of certiorari to the supr...</td>\n",
              "    </tr>\n",
              "    <tr>\n",
              "      <th>4.txt</th>\n",
              "      <td>united states supreme court murphy v. utter, (...</td>\n",
              "      <td>AFFIRMED</td>\n",
              "      <td>GOOD</td>\n",
              "      <td>APPLICABLE</td>\n",
              "      <td>prior to this decision, however, owing to doub...</td>\n",
              "    </tr>\n",
              "    <tr>\n",
              "      <th>5.txt</th>\n",
              "      <td>united states supreme court helvering v. twin ...</td>\n",
              "      <td>REVERSED</td>\n",
              "      <td>GOOD</td>\n",
              "      <td>APPLICABLE</td>\n",
              "      <td>mr. justice roberts delivered the opinion of t...</td>\n",
              "    </tr>\n",
              "  </tbody>\n",
              "</table>\n",
              "</div>"
            ],
            "text/plain": [
              "                                                    text  ...                                               body\n",
              "1.txt  united states supreme court sanders v. armour ...  ...  mr. george s. wright, of dallas, tex., for res...\n",
              "2.txt  united states supreme court murel v. baltimore...  ...  karl g. feissner and andrew e. greenwald argue...\n",
              "3.txt  united states supreme court lipham v. georgia,...  ...  on petition for writ of certiorari to the supr...\n",
              "4.txt  united states supreme court murphy v. utter, (...  ...  prior to this decision, however, owing to doub...\n",
              "5.txt  united states supreme court helvering v. twin ...  ...  mr. justice roberts delivered the opinion of t...\n",
              "\n",
              "[5 rows x 5 columns]"
            ]
          },
          "metadata": {
            "tags": []
          },
          "execution_count": 214
        }
      ]
    },
    {
      "cell_type": "code",
      "metadata": {
        "colab": {
          "base_uri": "https://localhost:8080/"
        },
        "id": "GcN0cF9szh7T",
        "outputId": "69db16e1-3e27-4499-bf53-80f6e91a93c0"
      },
      "source": [
        "sample_df.info()"
      ],
      "execution_count": null,
      "outputs": [
        {
          "output_type": "stream",
          "text": [
            "<class 'pandas.core.frame.DataFrame'>\n",
            "Index: 22776 entries, 1.txt to 22776.txt\n",
            "Data columns (total 5 columns):\n",
            " #   Column        Non-Null Count  Dtype \n",
            "---  ------        --------------  ----- \n",
            " 0   text          22776 non-null  object\n",
            " 1   decision      22776 non-null  object\n",
            " 2   body_quality  22776 non-null  object\n",
            " 3   applicable    22776 non-null  object\n",
            " 4   body          22776 non-null  object\n",
            "dtypes: object(5)\n",
            "memory usage: 1.7+ MB\n"
          ],
          "name": "stdout"
        }
      ]
    },
    {
      "cell_type": "code",
      "metadata": {
        "colab": {
          "base_uri": "https://localhost:8080/",
          "height": 206
        },
        "id": "HlhoZo-rGLPk",
        "outputId": "39695ef9-312b-445a-8913-88cd2e50bee0"
      },
      "source": [
        "output_version = 1\n",
        "output_name = \"decision_annotated_v%s.csv\"%output_version\n",
        "# compression_opts = dict(method='zip',\n",
        "                        # archive_name=output_name)\n",
        "output_df = sample_df.drop(columns=\"text\")\n",
        "output_df.head()\n"
      ],
      "execution_count": null,
      "outputs": [
        {
          "output_type": "execute_result",
          "data": {
            "text/html": [
              "<div>\n",
              "<style scoped>\n",
              "    .dataframe tbody tr th:only-of-type {\n",
              "        vertical-align: middle;\n",
              "    }\n",
              "\n",
              "    .dataframe tbody tr th {\n",
              "        vertical-align: top;\n",
              "    }\n",
              "\n",
              "    .dataframe thead th {\n",
              "        text-align: right;\n",
              "    }\n",
              "</style>\n",
              "<table border=\"1\" class=\"dataframe\">\n",
              "  <thead>\n",
              "    <tr style=\"text-align: right;\">\n",
              "      <th></th>\n",
              "      <th>decision</th>\n",
              "      <th>body_quality</th>\n",
              "      <th>applicable</th>\n",
              "      <th>body</th>\n",
              "    </tr>\n",
              "  </thead>\n",
              "  <tbody>\n",
              "    <tr>\n",
              "      <th>1.txt</th>\n",
              "      <td>AFFIRMED</td>\n",
              "      <td>GOOD</td>\n",
              "      <td>APPLICABLE</td>\n",
              "      <td>mr. george s. wright, of dallas, tex., for res...</td>\n",
              "    </tr>\n",
              "    <tr>\n",
              "      <th>2.txt</th>\n",
              "      <td>DISMISSED</td>\n",
              "      <td>GOOD</td>\n",
              "      <td>APPLICABLE</td>\n",
              "      <td>karl g. feissner and andrew e. greenwald argue...</td>\n",
              "    </tr>\n",
              "    <tr>\n",
              "      <th>3.txt</th>\n",
              "      <td>AFFIRMED</td>\n",
              "      <td>GOOD</td>\n",
              "      <td>APPLICABLE</td>\n",
              "      <td>on petition for writ of certiorari to the supr...</td>\n",
              "    </tr>\n",
              "    <tr>\n",
              "      <th>4.txt</th>\n",
              "      <td>AFFIRMED</td>\n",
              "      <td>GOOD</td>\n",
              "      <td>APPLICABLE</td>\n",
              "      <td>prior to this decision, however, owing to doub...</td>\n",
              "    </tr>\n",
              "    <tr>\n",
              "      <th>5.txt</th>\n",
              "      <td>REVERSED</td>\n",
              "      <td>GOOD</td>\n",
              "      <td>APPLICABLE</td>\n",
              "      <td>mr. justice roberts delivered the opinion of t...</td>\n",
              "    </tr>\n",
              "  </tbody>\n",
              "</table>\n",
              "</div>"
            ],
            "text/plain": [
              "        decision  ...                                               body\n",
              "1.txt   AFFIRMED  ...  mr. george s. wright, of dallas, tex., for res...\n",
              "2.txt  DISMISSED  ...  karl g. feissner and andrew e. greenwald argue...\n",
              "3.txt   AFFIRMED  ...  on petition for writ of certiorari to the supr...\n",
              "4.txt   AFFIRMED  ...  prior to this decision, however, owing to doub...\n",
              "5.txt   REVERSED  ...  mr. justice roberts delivered the opinion of t...\n",
              "\n",
              "[5 rows x 4 columns]"
            ]
          },
          "metadata": {
            "tags": []
          },
          "execution_count": 238
        }
      ]
    },
    {
      "cell_type": "code",
      "metadata": {
        "colab": {
          "base_uri": "https://localhost:8080/",
          "height": 36
        },
        "id": "t8Lz_VMvKK8T",
        "outputId": "b26dbe51-628c-4b89-e929-1b5439f6f9b7"
      },
      "source": [
        "output_df.to_csv(output_name)#,compression=compression_opts)\n",
        "output_name"
      ],
      "execution_count": null,
      "outputs": [
        {
          "output_type": "execute_result",
          "data": {
            "application/vnd.google.colaboratory.intrinsic+json": {
              "type": "string"
            },
            "text/plain": [
              "'decision_annotated_v1.csv'"
            ]
          },
          "metadata": {
            "tags": []
          },
          "execution_count": 243
        }
      ]
    },
    {
      "cell_type": "code",
      "metadata": {
        "colab": {
          "base_uri": "https://localhost:8080/"
        },
        "id": "ZRbn2n77It2t",
        "outputId": "236b671f-6eef-4428-c023-2027bdb4765a"
      },
      "source": [
        "!ls"
      ],
      "execution_count": null,
      "outputs": [
        {
          "output_type": "stream",
          "text": [
            " decision_annotated_v1.csv   sample_data\n",
            " drive\t\t\t    'us-supreme-court[raw-cases-22776]'\n"
          ],
          "name": "stdout"
        }
      ]
    },
    {
      "cell_type": "code",
      "metadata": {
        "id": "gCGr7NEtI96r"
      },
      "source": [
        "!cp /content/decision_annotated_v1.csv \"/content/drive/Shareddrives/SigmaLaw-WPP/LRR/\""
      ],
      "execution_count": null,
      "outputs": []
    },
    {
      "cell_type": "code",
      "metadata": {
        "id": "d8VgprQUJnRm"
      },
      "source": [
        ""
      ],
      "execution_count": null,
      "outputs": []
    }
  ]
}