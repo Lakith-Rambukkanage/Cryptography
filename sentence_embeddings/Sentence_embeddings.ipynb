{
  "nbformat": 4,
  "nbformat_minor": 0,
  "metadata": {
    "colab": {
      "name": "Sentence_embeddings.ipynb",
      "provenance": [],
      "collapsed_sections": [],
      "authorship_tag": "ABX9TyO1J051c0vmGd4FkQoGiwy6",
      "include_colab_link": true
    },
    "kernelspec": {
      "name": "python3",
      "display_name": "Python 3"
    },
    "language_info": {
      "name": "python"
    },
    "widgets": {
      "application/vnd.jupyter.widget-state+json": {
        "fb12d3b61f7c42f392a2ccfa5e2e6392": {
          "model_module": "@jupyter-widgets/controls",
          "model_name": "HBoxModel",
          "state": {
            "_view_name": "HBoxView",
            "_dom_classes": [],
            "_model_name": "HBoxModel",
            "_view_module": "@jupyter-widgets/controls",
            "_model_module_version": "1.5.0",
            "_view_count": null,
            "_view_module_version": "1.5.0",
            "box_style": "",
            "layout": "IPY_MODEL_9c5fad5fc8394f60b6cf7d69b0410000",
            "_model_module": "@jupyter-widgets/controls",
            "children": [
              "IPY_MODEL_67e3908aa4ef4728af3abdd5ae33f166",
              "IPY_MODEL_3c1acb056be24abf927da521be39c1b6"
            ]
          },
          "model_module_version": "1.5.0"
        },
        "9c5fad5fc8394f60b6cf7d69b0410000": {
          "model_module": "@jupyter-widgets/base",
          "model_name": "LayoutModel",
          "state": {
            "_view_name": "LayoutView",
            "grid_template_rows": null,
            "right": null,
            "justify_content": null,
            "_view_module": "@jupyter-widgets/base",
            "overflow": null,
            "_model_module_version": "1.2.0",
            "_view_count": null,
            "flex_flow": null,
            "width": null,
            "min_width": null,
            "border": null,
            "align_items": null,
            "bottom": null,
            "_model_module": "@jupyter-widgets/base",
            "top": null,
            "grid_column": null,
            "overflow_y": null,
            "overflow_x": null,
            "grid_auto_flow": null,
            "grid_area": null,
            "grid_template_columns": null,
            "flex": null,
            "_model_name": "LayoutModel",
            "justify_items": null,
            "grid_row": null,
            "max_height": null,
            "align_content": null,
            "visibility": null,
            "align_self": null,
            "height": null,
            "min_height": null,
            "padding": null,
            "grid_auto_rows": null,
            "grid_gap": null,
            "max_width": null,
            "order": null,
            "_view_module_version": "1.2.0",
            "grid_template_areas": null,
            "object_position": null,
            "object_fit": null,
            "grid_auto_columns": null,
            "margin": null,
            "display": null,
            "left": null
          },
          "model_module_version": "1.2.0"
        },
        "67e3908aa4ef4728af3abdd5ae33f166": {
          "model_module": "@jupyter-widgets/controls",
          "model_name": "FloatProgressModel",
          "state": {
            "_view_name": "ProgressView",
            "style": "IPY_MODEL_0902fa086ad34bb5b3151f2a6b256b31",
            "_dom_classes": [],
            "description": "100%",
            "_model_name": "FloatProgressModel",
            "bar_style": "success",
            "max": 459724146,
            "_view_module": "@jupyter-widgets/controls",
            "_model_module_version": "1.5.0",
            "value": 459724146,
            "_view_count": null,
            "_view_module_version": "1.5.0",
            "orientation": "horizontal",
            "min": 0,
            "description_tooltip": null,
            "_model_module": "@jupyter-widgets/controls",
            "layout": "IPY_MODEL_f3489b692a96465b9a0788e5afe3e601"
          },
          "model_module_version": "1.5.0"
        },
        "3c1acb056be24abf927da521be39c1b6": {
          "model_module": "@jupyter-widgets/controls",
          "model_name": "HTMLModel",
          "state": {
            "_view_name": "HTMLView",
            "style": "IPY_MODEL_1029e9ed7d9343319dec869d1085861f",
            "_dom_classes": [],
            "description": "",
            "_model_name": "HTMLModel",
            "placeholder": "​",
            "_view_module": "@jupyter-widgets/controls",
            "_model_module_version": "1.5.0",
            "value": " 460M/460M [00:29&lt;00:00, 15.4MB/s]",
            "_view_count": null,
            "_view_module_version": "1.5.0",
            "description_tooltip": null,
            "_model_module": "@jupyter-widgets/controls",
            "layout": "IPY_MODEL_098b39b0e00c4379a53e61f0dea54635"
          },
          "model_module_version": "1.5.0"
        },
        "0902fa086ad34bb5b3151f2a6b256b31": {
          "model_module": "@jupyter-widgets/controls",
          "model_name": "ProgressStyleModel",
          "state": {
            "_view_name": "StyleView",
            "_model_name": "ProgressStyleModel",
            "description_width": "initial",
            "_view_module": "@jupyter-widgets/base",
            "_model_module_version": "1.5.0",
            "_view_count": null,
            "_view_module_version": "1.2.0",
            "bar_color": null,
            "_model_module": "@jupyter-widgets/controls"
          },
          "model_module_version": "1.5.0"
        },
        "f3489b692a96465b9a0788e5afe3e601": {
          "model_module": "@jupyter-widgets/base",
          "model_name": "LayoutModel",
          "state": {
            "_view_name": "LayoutView",
            "grid_template_rows": null,
            "right": null,
            "justify_content": null,
            "_view_module": "@jupyter-widgets/base",
            "overflow": null,
            "_model_module_version": "1.2.0",
            "_view_count": null,
            "flex_flow": null,
            "width": null,
            "min_width": null,
            "border": null,
            "align_items": null,
            "bottom": null,
            "_model_module": "@jupyter-widgets/base",
            "top": null,
            "grid_column": null,
            "overflow_y": null,
            "overflow_x": null,
            "grid_auto_flow": null,
            "grid_area": null,
            "grid_template_columns": null,
            "flex": null,
            "_model_name": "LayoutModel",
            "justify_items": null,
            "grid_row": null,
            "max_height": null,
            "align_content": null,
            "visibility": null,
            "align_self": null,
            "height": null,
            "min_height": null,
            "padding": null,
            "grid_auto_rows": null,
            "grid_gap": null,
            "max_width": null,
            "order": null,
            "_view_module_version": "1.2.0",
            "grid_template_areas": null,
            "object_position": null,
            "object_fit": null,
            "grid_auto_columns": null,
            "margin": null,
            "display": null,
            "left": null
          },
          "model_module_version": "1.2.0"
        },
        "1029e9ed7d9343319dec869d1085861f": {
          "model_module": "@jupyter-widgets/controls",
          "model_name": "DescriptionStyleModel",
          "state": {
            "_view_name": "StyleView",
            "_model_name": "DescriptionStyleModel",
            "description_width": "",
            "_view_module": "@jupyter-widgets/base",
            "_model_module_version": "1.5.0",
            "_view_count": null,
            "_view_module_version": "1.2.0",
            "_model_module": "@jupyter-widgets/controls"
          },
          "model_module_version": "1.5.0"
        },
        "098b39b0e00c4379a53e61f0dea54635": {
          "model_module": "@jupyter-widgets/base",
          "model_name": "LayoutModel",
          "state": {
            "_view_name": "LayoutView",
            "grid_template_rows": null,
            "right": null,
            "justify_content": null,
            "_view_module": "@jupyter-widgets/base",
            "overflow": null,
            "_model_module_version": "1.2.0",
            "_view_count": null,
            "flex_flow": null,
            "width": null,
            "min_width": null,
            "border": null,
            "align_items": null,
            "bottom": null,
            "_model_module": "@jupyter-widgets/base",
            "top": null,
            "grid_column": null,
            "overflow_y": null,
            "overflow_x": null,
            "grid_auto_flow": null,
            "grid_area": null,
            "grid_template_columns": null,
            "flex": null,
            "_model_name": "LayoutModel",
            "justify_items": null,
            "grid_row": null,
            "max_height": null,
            "align_content": null,
            "visibility": null,
            "align_self": null,
            "height": null,
            "min_height": null,
            "padding": null,
            "grid_auto_rows": null,
            "grid_gap": null,
            "max_width": null,
            "order": null,
            "_view_module_version": "1.2.0",
            "grid_template_areas": null,
            "object_position": null,
            "object_fit": null,
            "grid_auto_columns": null,
            "margin": null,
            "display": null,
            "left": null
          },
          "model_module_version": "1.2.0"
        }
      }
    }
  },
  "cells": [
    {
      "cell_type": "markdown",
      "metadata": {
        "id": "view-in-github",
        "colab_type": "text"
      },
      "source": [
        "<a href=\"https://colab.research.google.com/github/Lakith-Rambukkanage/Cryptography/blob/master/sentence_embeddings/Sentence_embeddings.ipynb\" target=\"_parent\"><img src=\"https://colab.research.google.com/assets/colab-badge.svg\" alt=\"Open In Colab\"/></a>"
      ]
    },
    {
      "cell_type": "markdown",
      "metadata": {
        "id": "6lkzdOYxJqow"
      },
      "source": [
        "## Drive Mounting"
      ]
    },
    {
      "cell_type": "code",
      "metadata": {
        "colab": {
          "base_uri": "https://localhost:8080/"
        },
        "id": "oXSPqbZaeCHf",
        "outputId": "4690492e-c7b9-44fc-f3f0-678d9e787435"
      },
      "source": [
        "from google.colab import drive\n",
        "drive.mount('/content/drive', force_remount=True)"
      ],
      "execution_count": null,
      "outputs": [
        {
          "output_type": "stream",
          "text": [
            "Mounted at /content/drive\n"
          ],
          "name": "stdout"
        }
      ]
    },
    {
      "cell_type": "code",
      "metadata": {
        "id": "EcL-8Rm8rVL5"
      },
      "source": [
        "# sample_data_path = '/content/drive/Shareddrives/SigmaLaw-WPP/LRR/sample_preprocessed'\n"
      ],
      "execution_count": null,
      "outputs": []
    },
    {
      "cell_type": "code",
      "metadata": {
        "id": "-IyqD92pt0cM"
      },
      "source": [
        "!cp /content/drive/Shareddrives/SigmaLaw-WPP/LRR/sentences_and_decision.csv \"/content/\""
      ],
      "execution_count": null,
      "outputs": []
    },
    {
      "cell_type": "code",
      "metadata": {
        "colab": {
          "base_uri": "https://localhost:8080/",
          "height": 206
        },
        "id": "ZRycsPPSuBZD",
        "outputId": "107fa545-1c7d-4cba-b43f-16f2cbd2c237"
      },
      "source": [
        "import pandas as pd\n",
        "df = pd.read_csv(\"sentences_and_decision.csv\")\n",
        "df_all = pd.read_csv(\"sentences_and_decision.csv\",converters={\"sentences\": literal_eval})\n",
        "df_all.drop(columns=[df_all.columns[0],df_all.columns[1]],inplace=True)\n",
        "df_all.head()"
      ],
      "execution_count": null,
      "outputs": [
        {
          "output_type": "execute_result",
          "data": {
            "text/html": [
              "<div>\n",
              "<style scoped>\n",
              "    .dataframe tbody tr th:only-of-type {\n",
              "        vertical-align: middle;\n",
              "    }\n",
              "\n",
              "    .dataframe tbody tr th {\n",
              "        vertical-align: top;\n",
              "    }\n",
              "\n",
              "    .dataframe thead th {\n",
              "        text-align: right;\n",
              "    }\n",
              "</style>\n",
              "<table border=\"1\" class=\"dataframe\">\n",
              "  <thead>\n",
              "    <tr style=\"text-align: right;\">\n",
              "      <th></th>\n",
              "      <th>sentences</th>\n",
              "      <th>Y</th>\n",
              "    </tr>\n",
              "  </thead>\n",
              "  <tbody>\n",
              "    <tr>\n",
              "      <th>0</th>\n",
              "      <td>['mr george s wright of dallas tex for respond...</td>\n",
              "      <td>0</td>\n",
              "    </tr>\n",
              "    <tr>\n",
              "      <th>1</th>\n",
              "      <td>['prior to this decision however owing to doub...</td>\n",
              "      <td>0</td>\n",
              "    </tr>\n",
              "    <tr>\n",
              "      <th>2</th>\n",
              "      <td>['mr justice roberts delivered the opinion of ...</td>\n",
              "      <td>1</td>\n",
              "    </tr>\n",
              "    <tr>\n",
              "      <th>3</th>\n",
              "      <td>['b a different result is not required by the ...</td>\n",
              "      <td>0</td>\n",
              "    </tr>\n",
              "    <tr>\n",
              "      <th>4</th>\n",
              "      <td>['appellees prosecution for burning a flag in ...</td>\n",
              "      <td>0</td>\n",
              "    </tr>\n",
              "  </tbody>\n",
              "</table>\n",
              "</div>"
            ],
            "text/plain": [
              "                                           sentences  Y\n",
              "0  ['mr george s wright of dallas tex for respond...  0\n",
              "1  ['prior to this decision however owing to doub...  0\n",
              "2  ['mr justice roberts delivered the opinion of ...  1\n",
              "3  ['b a different result is not required by the ...  0\n",
              "4  ['appellees prosecution for burning a flag in ...  0"
            ]
          },
          "metadata": {
            "tags": []
          },
          "execution_count": 4
        }
      ]
    },
    {
      "cell_type": "code",
      "metadata": {
        "colab": {
          "base_uri": "https://localhost:8080/"
        },
        "id": "eB1aqzJ8vslT",
        "outputId": "8996910c-37bd-4d15-eaa2-4d2eb35018a7"
      },
      "source": [
        "def dropSent(sentences):\n",
        "  if(len(sentences)>=150):\n",
        "    sentences = sentences[:150]\n",
        "  return sentences\n",
        "df_all[\"sentences\"] = df_all[\"sentences\"].apply(dropSent)\n",
        "len(df_all.iloc[0][\"sentences\"])"
      ],
      "execution_count": null,
      "outputs": [
        {
          "output_type": "execute_result",
          "data": {
            "text/plain": [
              "150"
            ]
          },
          "metadata": {
            "tags": []
          },
          "execution_count": 8
        }
      ]
    },
    {
      "cell_type": "code",
      "metadata": {
        "id": "ErwPQ6rbtQS-"
      },
      "source": [
        "df = df_all.loc[0:10,[\"sentences\",\"Y\"]]\n",
        "df.head()"
      ],
      "execution_count": null,
      "outputs": []
    },
    {
      "cell_type": "markdown",
      "metadata": {
        "id": "YBrJ4daoJ0fB"
      },
      "source": [
        "## Package installs and imports"
      ]
    },
    {
      "cell_type": "code",
      "metadata": {
        "id": "XYTTff7FDLw1"
      },
      "source": [
        "## Install libraries\n",
        "! python -m pip install --upgrade pip --quiet\n",
        "! pip install spacy --quiet\n",
        "! pip3 install spacy-transformers --quiet\n",
        "! python -m spacy download en_core_web_trf --quiet"
      ],
      "execution_count": null,
      "outputs": []
    },
    {
      "cell_type": "code",
      "metadata": {
        "id": "_n5ET7jQKHbQ"
      },
      "source": [
        "import os\n",
        "import spacy\n",
        "\n"
      ],
      "execution_count": null,
      "outputs": []
    },
    {
      "cell_type": "markdown",
      "metadata": {
        "id": "xfqG_suHJ9uY"
      },
      "source": [
        "# Test data"
      ]
    },
    {
      "cell_type": "code",
      "metadata": {
        "id": "ji9illNA5P7T",
        "colab": {
          "base_uri": "https://localhost:8080/",
          "height": 143
        },
        "outputId": "4e796332-1ae4-4e97-b44e-17c6fcfb5447"
      },
      "source": [
        "test_case_list = {'case1': ['post,at emphasis added',\n",
        " 'but we see no call to suppose that congress regarded state prosecutions as grapefruit league versions of the big show'],\n",
        " 'case2': ['mistretta united states,scalia,dissenting',\n",
        " 'in our federal system,states possess primary authority for defining and enforcing criminal laws,including those prohibiting the gravest crimes'],\n",
        " 'case3': ['for that reason,even when attorneys have jurisdiction,they are generally to defer to,rather than supplant,state prosecutions of serious offenses',\n",
        " 'see attorneys manual principles of federal prosecution',\n",
        " 'and still more obviously,the dissent theory fails with respect to foreign convictions']}\n",
        "\n",
        "test_df = pd.DataFrame([test_case_list]).transpose()\n",
        "test_df"
      ],
      "execution_count": null,
      "outputs": [
        {
          "output_type": "execute_result",
          "data": {
            "text/html": [
              "<div>\n",
              "<style scoped>\n",
              "    .dataframe tbody tr th:only-of-type {\n",
              "        vertical-align: middle;\n",
              "    }\n",
              "\n",
              "    .dataframe tbody tr th {\n",
              "        vertical-align: top;\n",
              "    }\n",
              "\n",
              "    .dataframe thead th {\n",
              "        text-align: right;\n",
              "    }\n",
              "</style>\n",
              "<table border=\"1\" class=\"dataframe\">\n",
              "  <thead>\n",
              "    <tr style=\"text-align: right;\">\n",
              "      <th></th>\n",
              "      <th>0</th>\n",
              "    </tr>\n",
              "  </thead>\n",
              "  <tbody>\n",
              "    <tr>\n",
              "      <th>case1</th>\n",
              "      <td>[post,at emphasis added, but we see no call to...</td>\n",
              "    </tr>\n",
              "    <tr>\n",
              "      <th>case2</th>\n",
              "      <td>[mistretta united states,scalia,dissenting, in...</td>\n",
              "    </tr>\n",
              "    <tr>\n",
              "      <th>case3</th>\n",
              "      <td>[for that reason,even when attorneys have juri...</td>\n",
              "    </tr>\n",
              "  </tbody>\n",
              "</table>\n",
              "</div>"
            ],
            "text/plain": [
              "                                                       0\n",
              "case1  [post,at emphasis added, but we see no call to...\n",
              "case2  [mistretta united states,scalia,dissenting, in...\n",
              "case3  [for that reason,even when attorneys have juri..."
            ]
          },
          "metadata": {
            "tags": []
          },
          "execution_count": 2
        }
      ]
    },
    {
      "cell_type": "markdown",
      "metadata": {
        "id": "mhaZcrhkKvBA"
      },
      "source": [
        "# Load RoBERTa"
      ]
    },
    {
      "cell_type": "code",
      "metadata": {
        "id": "b69CFNzjb7sK"
      },
      "source": [
        "roberta = spacy.load('en_core_web_trf')\n"
      ],
      "execution_count": null,
      "outputs": []
    },
    {
      "cell_type": "code",
      "metadata": {
        "id": "ypqHlhki9bQP",
        "colab": {
          "base_uri": "https://localhost:8080/"
        },
        "outputId": "dac8229e-aa23-45b7-f15c-114db9516464"
      },
      "source": [
        "test_embed = []\n",
        "for doc in roberta.pipe(['to to to']):\n",
        "    test_embed.append(doc._.trf_data.tensors[-1])\n",
        "\n",
        "test_embed"
      ],
      "execution_count": null,
      "outputs": [
        {
          "output_type": "execute_result",
          "data": {
            "text/plain": [
              "[array([[ 0.27845278,  0.09190975, -0.42502975,  0.194725  ,  0.08745601,\n",
              "          0.05117087,  0.46064234,  0.08891254, -0.58169806, -0.3087634 ,\n",
              "          0.49685693, -0.4873821 , -0.01159835,  0.6829977 , -0.4201913 ,\n",
              "          0.33239883, -0.0011053 , -0.6898292 , -0.06298554,  0.24491104,\n",
              "          0.095768  , -0.06418903,  0.20491098,  0.23142546,  0.3249031 ,\n",
              "          0.29678833,  0.08238516, -0.46309158,  0.5701739 ,  0.53220284,\n",
              "          0.27187228, -0.3712688 , -0.08509661,  0.49091217, -0.35999417,\n",
              "          0.48415062, -0.41453987,  0.37985197,  0.3902132 , -0.4209872 ,\n",
              "         -0.30571195,  0.12397907, -0.04832345,  0.21610478,  0.17758353,\n",
              "          0.33379477,  0.07160388,  0.13556452, -0.3908229 ,  0.33462176,\n",
              "         -0.28077435,  0.5045948 ,  0.2590427 ,  0.41506076, -0.14329784,\n",
              "          0.29474238,  0.21214883,  0.20789847, -0.3003495 , -0.05670163,\n",
              "         -0.50618184, -0.28960943,  0.37449878, -0.0733954 , -0.20779933,\n",
              "         -0.15620282, -0.39394718, -0.08565591, -0.48228818,  0.11698115,\n",
              "          0.14274138,  0.1886382 ,  0.20180757, -0.08144701, -0.24527861,\n",
              "          0.46010748, -0.6219992 ,  0.21185616,  0.09859961,  0.60278416,\n",
              "         -0.19929937, -0.3430205 ,  0.44507542,  0.77035165, -0.42989704,\n",
              "         -0.35938025, -0.0303176 , -0.31105298, -0.03112949, -0.10937215,\n",
              "         -0.1150442 , -0.7184338 ,  0.44839478,  0.3277742 , -0.44476157,\n",
              "          0.1932657 ,  0.0158311 , -0.16879834, -0.3816432 , -0.49150282,\n",
              "         -0.04084663, -0.08159312, -0.14085665,  0.11466005,  0.43547362,\n",
              "          0.30361843,  0.53874487, -0.14653823, -0.259922  , -0.13152608,\n",
              "         -0.47300363,  0.7604189 ,  0.4343421 , -0.20271501,  0.2149349 ,\n",
              "          0.21765824, -0.03054746, -0.44346368,  0.62449723, -0.6536863 ,\n",
              "          0.33586156, -0.15499257,  0.6430051 ,  0.43557084, -0.31666943,\n",
              "          0.65354943,  0.3767859 ,  0.2511153 ,  0.12561752,  0.3056576 ,\n",
              "         -0.39241138, -0.29763976,  0.12250553, -0.35006508,  0.3343225 ,\n",
              "          0.2077452 , -0.2944695 , -0.29091516, -0.6175346 ,  0.01466998,\n",
              "          0.23617345, -0.11440324, -0.3358824 ,  0.5459031 ,  0.5095123 ,\n",
              "          0.26386598, -0.01953534, -0.6688504 , -0.45635265,  0.48866054,\n",
              "          0.15179868,  0.46604145, -0.02129592, -0.2935517 , -0.6399725 ,\n",
              "          0.01539407,  0.15073113, -0.37947524, -0.2787684 ,  0.287175  ,\n",
              "         -0.24756737, -0.02855835, -0.26792854, -0.28721842, -0.26883447,\n",
              "         -0.4488979 ,  0.35150805, -0.2191706 ,  0.33502963, -0.14378566,\n",
              "          0.28704163, -0.7403963 , -0.11079001,  0.2254349 , -0.55920076,\n",
              "          0.75707334, -0.5805768 ,  0.52497303,  0.35729414, -0.28839293,\n",
              "         -0.03506203, -0.22619812, -0.11330325, -0.1833317 , -0.00683864,\n",
              "          0.64482427, -0.4358572 ,  0.25507653, -0.14645383, -0.19406271,\n",
              "          0.0650624 , -0.3798094 , -0.39439505, -0.13762379, -0.11295806,\n",
              "          0.19113009, -0.48742434,  0.43954182,  0.29363564, -0.6953095 ,\n",
              "          0.6291226 , -0.46148455,  0.12941614, -0.421423  ,  0.21936578,\n",
              "          0.13135266, -0.1491632 , -0.03385834,  0.18014841, -0.25860932,\n",
              "          0.66814196, -0.86322385,  0.39458197, -0.32312283,  0.07725983,\n",
              "         -0.04551493, -0.2162841 ,  0.23750292, -0.18732327, -0.2830753 ,\n",
              "          0.33611664,  0.3059434 ,  0.62763464, -0.77366656,  0.5805031 ,\n",
              "         -0.35727975, -0.70915294,  0.14669944, -0.56721765,  0.08334165,\n",
              "          0.68519366, -0.7366068 ,  0.33452395, -0.46020436, -0.7237475 ,\n",
              "         -0.0540747 , -0.4111466 ,  0.74850285,  0.311717  , -0.11992876,\n",
              "          0.08386909,  0.27503726,  0.05894424,  0.05240348,  0.0896082 ,\n",
              "          0.09146269,  0.30834004, -0.16548039,  0.31289175, -0.5792051 ,\n",
              "          0.05925491, -0.3669353 , -0.14086777, -0.2644391 ,  0.37856707,\n",
              "          0.7002219 , -0.21908581, -0.6243477 ,  0.44322413,  0.33905315,\n",
              "          0.3353865 , -0.03457249,  0.14982022,  0.1393997 , -0.6308221 ,\n",
              "          0.19186853, -0.25121433,  0.48258343, -0.44015598,  0.30986282,\n",
              "          0.18834463, -0.33462372, -0.2452156 , -0.13899043,  0.20827548,\n",
              "          0.13351284, -0.51252204, -0.13327637,  0.19573551,  0.4543982 ,\n",
              "         -0.15673687, -0.4419949 ,  0.19089848, -0.49696702,  0.43331283,\n",
              "         -0.5497265 ,  0.06116752, -0.18553272,  0.22382505, -0.22600543,\n",
              "          0.15778367,  0.27751157,  0.3130883 , -0.6283961 ,  0.3278016 ,\n",
              "          0.32858816,  0.45872015,  0.18993208,  0.6059788 , -0.46222988,\n",
              "         -0.11323254,  0.36465043,  0.47642958,  0.10558748, -0.12448891,\n",
              "          0.07021549, -0.4000142 ,  0.31151283, -0.08348283,  0.1987988 ,\n",
              "          0.32192945,  0.26751268,  0.3555952 , -0.67291826, -0.3392648 ,\n",
              "         -0.6585401 ,  0.05016504, -0.19542079, -0.5016197 , -0.32402137,\n",
              "         -0.01751096,  0.6412116 , -0.5324735 , -0.00154976,  0.28333226,\n",
              "         -0.06085307, -0.56426847,  0.59678155, -0.5719987 ,  0.38791496,\n",
              "         -0.54607046,  0.31393757, -0.26696208,  0.35246703, -0.3798408 ,\n",
              "         -0.19317712, -0.21477526, -0.32615757, -0.00480009, -0.207757  ,\n",
              "         -0.6302856 ,  0.7238911 , -0.38133714,  0.24776034, -0.07103207,\n",
              "          0.28064895,  0.02538895, -0.3832743 ,  0.10249437,  0.03062642,\n",
              "         -0.10816397, -0.1995447 , -0.5064178 , -0.18685016, -0.35956973,\n",
              "          0.04422955,  0.2651468 ,  0.0059458 ,  0.7500751 , -0.5182364 ,\n",
              "         -0.20571746, -0.30720955,  0.26965517,  0.36187685, -0.08781922,\n",
              "          0.21143001, -0.20291358,  0.13788489,  0.11492956, -0.30238777,\n",
              "         -0.04483834, -0.36929563, -0.3140675 ,  0.31607252, -0.8329623 ,\n",
              "         -0.5632421 ,  0.40995204,  0.33467174, -0.12501518,  0.20684691,\n",
              "         -0.00770045, -0.38830835,  0.34397277,  0.29599085, -0.27031225,\n",
              "          0.51896894,  0.5918622 , -0.7003671 ,  0.17071739,  0.774649  ,\n",
              "          0.42306098, -0.4324065 , -0.43608055,  0.09215429,  0.03431132,\n",
              "          0.3330223 , -0.5466743 ,  0.02703753, -0.02450155,  0.4369973 ,\n",
              "          0.7261354 , -0.27008176, -0.6577035 , -0.24209303,  0.24694026,\n",
              "         -0.07585809, -0.21160498, -0.08089815,  0.55283195,  0.6068742 ,\n",
              "         -0.12222135, -0.2588801 , -0.23624517,  0.29583988, -0.2753877 ,\n",
              "         -0.8795844 ,  0.27070257,  0.17308792, -0.7087727 , -0.07620024,\n",
              "         -0.12310717,  0.1085801 , -0.25358516,  0.72659004, -0.6884685 ,\n",
              "         -0.3662645 ,  0.474892  , -0.06377608,  0.18092953,  0.06407103,\n",
              "         -0.36263654,  0.22173026, -0.0482294 ,  0.0482921 , -0.3429073 ,\n",
              "          0.6748044 , -0.04885766,  0.07878415,  0.00854006, -0.21134682,\n",
              "          0.09149759,  0.06917236, -0.01023462,  0.1379188 , -0.57055515,\n",
              "          0.20583954, -0.3266211 , -0.6821992 , -0.35999718,  0.41690716,\n",
              "         -0.1361166 , -0.2042659 , -0.40341353, -0.31518668, -0.47314367,\n",
              "         -0.03912399,  0.74353004, -0.397627  , -0.25619933,  0.5334653 ,\n",
              "          0.47674292, -0.5471804 ,  0.4394628 ,  0.5121444 , -0.12829903,\n",
              "          0.72587425,  0.39365518,  0.06772453,  0.49615356,  0.3164786 ,\n",
              "          0.3505679 ,  0.16131295, -0.47080916,  0.5394551 , -0.5775603 ,\n",
              "          0.35153496, -0.2094051 , -0.25262818, -0.05878364,  0.5160844 ,\n",
              "          0.54234785, -0.1408665 ,  0.03608477, -0.1045637 ,  0.26720023,\n",
              "          0.31814152, -0.63452256,  0.3226181 , -0.10934339, -0.48826954,\n",
              "          0.25748774,  0.1480699 ,  0.49507287, -0.1247796 , -0.3685224 ,\n",
              "          0.5589534 , -0.3565368 ,  0.4108584 ,  0.1480368 , -0.47944373,\n",
              "          0.51575285, -0.6236735 , -0.38814986,  0.32848737, -0.28158644,\n",
              "         -0.31964308,  0.07268108,  0.73738796,  0.38914514, -0.5211342 ,\n",
              "          0.6937515 ,  0.45040664,  0.0700074 ,  0.2647171 ,  0.1413931 ,\n",
              "         -0.414865  ,  0.3012533 , -0.32059178, -0.07267151,  0.41366905,\n",
              "          0.04039848, -0.77741724,  0.41734046, -0.12028192, -0.4919133 ,\n",
              "         -0.1535733 ,  0.24885458, -0.7324264 ,  0.34891495, -0.15564455,\n",
              "          0.27274016,  0.04432628, -0.11114235, -0.29772195,  0.42160004,\n",
              "         -0.39466155, -0.5673377 , -0.49955973,  0.29988217, -0.05705409,\n",
              "         -0.55165094,  0.15143178,  0.02909388,  0.07701024,  0.33232468,\n",
              "          0.04973561, -0.19188447, -0.2730069 , -0.06806397, -0.26460984,\n",
              "          0.5259935 ,  0.10540284, -0.49562684, -0.4028214 , -0.479951  ,\n",
              "         -0.12201416,  0.31875053, -0.37830845,  0.31551373, -0.16924459,\n",
              "          0.2771062 ,  0.44680738, -0.7825175 , -0.38381466, -0.08076123,\n",
              "          0.30167967, -0.31340045, -0.5884663 ,  0.03928108, -0.06066137,\n",
              "         -0.36071473,  0.19491722,  0.42937902, -0.08527224,  0.6606141 ,\n",
              "         -0.25179785, -0.44125813,  0.33752045,  0.01124928,  0.33495927,\n",
              "         -0.16269232,  0.23164578, -0.39480627,  0.00311684, -0.04700384,\n",
              "          0.10344739,  0.282529  ,  0.15499157,  0.0141292 , -0.08758524,\n",
              "         -0.3694276 , -0.39197487, -0.56585324, -0.6904325 , -0.00971977,\n",
              "          0.05452187, -0.5135203 ,  0.25557125, -0.62718874,  0.40898466,\n",
              "          0.50946283,  0.3273316 , -0.595899  , -0.42201945,  0.15808944,\n",
              "          0.34011555, -0.10990208,  0.2823131 ,  0.16293874,  0.29765388,\n",
              "          0.2619832 ,  0.05770054, -0.55112344, -0.7301789 ,  0.05353521,\n",
              "         -0.31274337,  0.08786774, -0.7524923 ,  0.23248078, -0.3116436 ,\n",
              "          0.17745106, -0.3173269 ,  0.09028073,  0.2889689 ,  0.57152194,\n",
              "          0.12365251,  0.13722692,  0.34750623, -0.3512924 , -0.5248584 ,\n",
              "         -0.339066  , -0.03342099,  0.24033335,  0.4273096 ,  0.24061452,\n",
              "         -0.01367632,  0.2165402 ,  0.09604177, -0.06799645, -0.2019951 ,\n",
              "         -0.48797673, -0.29696894, -0.13455167, -0.6117479 ,  0.24729195,\n",
              "         -0.01539945,  0.18641965, -0.12907377, -0.47732356, -0.5155378 ,\n",
              "          0.0558648 ,  0.29312286,  0.43295532, -0.3205865 ,  0.5083486 ,\n",
              "         -0.49090552, -0.42673346, -0.27811915,  0.3455557 ,  0.43410122,\n",
              "         -0.13512713, -0.67341965, -0.1674135 ,  0.21026382, -0.01292096,\n",
              "         -0.08467906, -0.11391033, -0.16193905, -0.20018989, -0.05465072,\n",
              "         -0.04392772, -0.580212  ,  0.15427573, -0.42068624,  0.05962874,\n",
              "         -0.07513866,  0.18501776, -0.22147113,  0.46777928, -0.80391705,\n",
              "         -0.37875873,  0.2725936 , -0.02327528,  0.08863036, -0.35813037,\n",
              "          0.4347961 , -0.43575618, -0.16051559, -0.4760934 ,  0.23185398,\n",
              "         -0.2627339 ,  0.04921537,  0.44308475, -0.27428922, -0.35717955,\n",
              "          0.09357177, -0.3310153 ,  0.32606843, -0.07983416, -0.32740897,\n",
              "          0.32774675,  0.14588434,  0.34801674, -0.28542823,  0.28153795,\n",
              "         -0.15381697, -0.280515  ,  0.06386052, -0.54983795,  0.31124267,\n",
              "         -0.33379093, -0.28105417, -0.30185318,  0.72856605,  0.23110378,\n",
              "          0.36841032,  0.03866254, -0.44626743,  0.10916422,  0.43781465,\n",
              "         -0.58966804,  0.5630488 , -0.6548847 , -0.31977475,  0.02523162,\n",
              "          0.1843493 ,  0.07334554, -0.15312435,  0.26454157, -0.13988975,\n",
              "          0.42291513,  0.09166782, -0.22588298, -0.05169484,  0.09644292,\n",
              "         -0.28098723, -0.3473754 , -0.52261835,  0.8647881 ,  0.65619075,\n",
              "         -0.49785748,  0.53041166, -0.51972806, -0.52396613, -0.45656484,\n",
              "         -0.6849321 ,  0.10292469,  0.11151848,  0.01946752,  0.05122778,\n",
              "          0.14044297,  0.4106973 ,  0.13976786,  0.3763788 ,  0.5429409 ,\n",
              "         -0.23527882,  0.01255192, -0.13530965,  0.21357083,  0.6124535 ,\n",
              "         -0.0555715 ,  0.06906997,  0.12598914, -0.38782915, -0.04521077,\n",
              "         -0.16072157,  0.35070115, -0.03199632]], dtype=float32)]"
            ]
          },
          "metadata": {
            "tags": []
          },
          "execution_count": 14
        }
      ]
    },
    {
      "cell_type": "code",
      "metadata": {
        "id": "7tUhFnYoFr54"
      },
      "source": [
        "def encodeRoBERTa(sentence_list):\n",
        "  sentence_embedding_list = []\n",
        "  for doc in roberta.pipe(sentence_list):\n",
        "    sentence_embedding_list.append(doc._.trf_data.tensors[-1])\n",
        "  return sentence_embedding_list"
      ],
      "execution_count": null,
      "outputs": []
    },
    {
      "cell_type": "code",
      "metadata": {
        "id": "uVJeDwwFGOAU"
      },
      "source": [
        "test_df['RoBERTa']=test_df[0].apply(encodeRoBERTa)"
      ],
      "execution_count": null,
      "outputs": []
    },
    {
      "cell_type": "code",
      "metadata": {
        "colab": {
          "base_uri": "https://localhost:8080/",
          "height": 143
        },
        "id": "pTkuUejM79nk",
        "outputId": "3a1ddf06-279f-43ce-cb9d-015024f64139"
      },
      "source": [
        "# test_df.iloc[0]['embedding']\n",
        "test_df"
      ],
      "execution_count": null,
      "outputs": [
        {
          "output_type": "execute_result",
          "data": {
            "text/html": [
              "<div>\n",
              "<style scoped>\n",
              "    .dataframe tbody tr th:only-of-type {\n",
              "        vertical-align: middle;\n",
              "    }\n",
              "\n",
              "    .dataframe tbody tr th {\n",
              "        vertical-align: top;\n",
              "    }\n",
              "\n",
              "    .dataframe thead th {\n",
              "        text-align: right;\n",
              "    }\n",
              "</style>\n",
              "<table border=\"1\" class=\"dataframe\">\n",
              "  <thead>\n",
              "    <tr style=\"text-align: right;\">\n",
              "      <th></th>\n",
              "      <th>0</th>\n",
              "      <th>RoBERTa</th>\n",
              "    </tr>\n",
              "  </thead>\n",
              "  <tbody>\n",
              "    <tr>\n",
              "      <th>case1</th>\n",
              "      <td>[post,at emphasis added, but we see no call to...</td>\n",
              "      <td>[[[0.35047665, 0.027662192, -0.22531478, -0.06...</td>\n",
              "    </tr>\n",
              "    <tr>\n",
              "      <th>case2</th>\n",
              "      <td>[mistretta united states,scalia,dissenting, in...</td>\n",
              "      <td>[[[0.20373441, -0.2814409, -0.37168983, -0.027...</td>\n",
              "    </tr>\n",
              "    <tr>\n",
              "      <th>case3</th>\n",
              "      <td>[for that reason,even when attorneys have juri...</td>\n",
              "      <td>[[[0.2921267, -0.018840646, -0.20124677, 0.049...</td>\n",
              "    </tr>\n",
              "  </tbody>\n",
              "</table>\n",
              "</div>"
            ],
            "text/plain": [
              "                                                       0                                            RoBERTa\n",
              "case1  [post,at emphasis added, but we see no call to...  [[[0.35047665, 0.027662192, -0.22531478, -0.06...\n",
              "case2  [mistretta united states,scalia,dissenting, in...  [[[0.20373441, -0.2814409, -0.37168983, -0.027...\n",
              "case3  [for that reason,even when attorneys have juri...  [[[0.2921267, -0.018840646, -0.20124677, 0.049..."
            ]
          },
          "metadata": {
            "tags": []
          },
          "execution_count": 19
        }
      ]
    },
    {
      "cell_type": "code",
      "metadata": {
        "colab": {
          "base_uri": "https://localhost:8080/"
        },
        "id": "-35F6dXYOr-A",
        "outputId": "f6648dac-d332-401e-f0fc-457380b82105"
      },
      "source": [
        "len(df.iloc[0]['RoBERTa'][0][0])"
      ],
      "execution_count": null,
      "outputs": [
        {
          "output_type": "execute_result",
          "data": {
            "text/plain": [
              "768"
            ]
          },
          "metadata": {
            "tags": []
          },
          "execution_count": 76
        }
      ]
    },
    {
      "cell_type": "markdown",
      "metadata": {
        "id": "Yuy613OeOgu4"
      },
      "source": [
        "## Sentence BERT"
      ]
    },
    {
      "cell_type": "code",
      "metadata": {
        "id": "KbV6hAjHRjLI",
        "colab": {
          "base_uri": "https://localhost:8080/"
        },
        "outputId": "cc8eab92-7032-4bb9-908c-9145adb0d082"
      },
      "source": [
        "!pip install spacy_sentence_bert --quiet"
      ],
      "execution_count": null,
      "outputs": [
        {
          "output_type": "stream",
          "text": [
            "\u001b[K     |████████████████████████████████| 81kB 9.5MB/s \n",
            "\u001b[K     |████████████████████████████████| 12.8MB 247kB/s \n",
            "\u001b[K     |████████████████████████████████| 2.5MB 49.2MB/s \n",
            "\u001b[K     |████████████████████████████████| 1.2MB 49.3MB/s \n",
            "\u001b[K     |████████████████████████████████| 624kB 48.3MB/s \n",
            "\u001b[K     |████████████████████████████████| 51kB 9.1MB/s \n",
            "\u001b[K     |████████████████████████████████| 460kB 54.4MB/s \n",
            "\u001b[K     |████████████████████████████████| 9.1MB 154kB/s \n",
            "\u001b[K     |████████████████████████████████| 3.3MB 34.1MB/s \n",
            "\u001b[K     |████████████████████████████████| 901kB 33.5MB/s \n",
            "\u001b[K     |████████████████████████████████| 122kB 52.0MB/s \n",
            "\u001b[?25h  Building wheel for spacy-sentence-bert (setup.py) ... \u001b[?25l\u001b[?25hdone\n",
            "  Building wheel for sentence-transformers (setup.py) ... \u001b[?25l\u001b[?25hdone\n",
            "  Building wheel for smart-open (setup.py) ... \u001b[?25l\u001b[?25hdone\n"
          ],
          "name": "stdout"
        }
      ]
    },
    {
      "cell_type": "code",
      "metadata": {
        "colab": {
          "base_uri": "https://localhost:8080/",
          "height": 67,
          "referenced_widgets": [
            "fb12d3b61f7c42f392a2ccfa5e2e6392",
            "9c5fad5fc8394f60b6cf7d69b0410000",
            "67e3908aa4ef4728af3abdd5ae33f166",
            "3c1acb056be24abf927da521be39c1b6",
            "0902fa086ad34bb5b3151f2a6b256b31",
            "f3489b692a96465b9a0788e5afe3e601",
            "1029e9ed7d9343319dec869d1085861f",
            "098b39b0e00c4379a53e61f0dea54635"
          ]
        },
        "id": "PVs5wyUoOsQo",
        "outputId": "60d3111c-82fc-4109-d85c-d7c7160892d7"
      },
      "source": [
        "\n",
        "from sentence_transformers import SentenceTransformer\n",
        "sbert = SentenceTransformer('stsb-roberta-base-v2')"
      ],
      "execution_count": null,
      "outputs": [
        {
          "output_type": "display_data",
          "data": {
            "application/vnd.jupyter.widget-view+json": {
              "model_id": "fb12d3b61f7c42f392a2ccfa5e2e6392",
              "version_minor": 0,
              "version_major": 2
            },
            "text/plain": [
              "HBox(children=(FloatProgress(value=0.0, max=459724146.0), HTML(value='')))"
            ]
          },
          "metadata": {
            "tags": []
          }
        },
        {
          "output_type": "stream",
          "text": [
            "\n"
          ],
          "name": "stdout"
        }
      ]
    },
    {
      "cell_type": "code",
      "metadata": {
        "colab": {
          "base_uri": "https://localhost:8080/"
        },
        "id": "Z_N3DYiIwo1E",
        "outputId": "384c6a98-2825-4215-e8df-dacbf92a3790"
      },
      "source": [
        "def encode(sentences):\n",
        "  embedding = [sbert.encode(sent) for sent in sentences]#,show_progress_bar=True)]\n",
        "  return embedding\n",
        "len(encode([\"hi im some\",\"yeah okay\"]))"
      ],
      "execution_count": null,
      "outputs": [
        {
          "output_type": "execute_result",
          "data": {
            "text/plain": [
              "2"
            ]
          },
          "metadata": {
            "tags": []
          },
          "execution_count": 18
        }
      ]
    },
    {
      "cell_type": "code",
      "metadata": {
        "id": "qMHH7jLeOsHp"
      },
      "source": [
        "df['SBERT'] = df[\"sentences\"].apply(encode)"
      ],
      "execution_count": null,
      "outputs": []
    },
    {
      "cell_type": "code",
      "metadata": {
        "colab": {
          "base_uri": "https://localhost:8080/",
          "height": 206
        },
        "id": "rOKNFfy5wey0",
        "outputId": "d761db85-20a5-4c55-bd0d-f48db15cd405"
      },
      "source": [
        "df.head()"
      ],
      "execution_count": null,
      "outputs": [
        {
          "output_type": "execute_result",
          "data": {
            "text/html": [
              "<div>\n",
              "<style scoped>\n",
              "    .dataframe tbody tr th:only-of-type {\n",
              "        vertical-align: middle;\n",
              "    }\n",
              "\n",
              "    .dataframe tbody tr th {\n",
              "        vertical-align: top;\n",
              "    }\n",
              "\n",
              "    .dataframe thead th {\n",
              "        text-align: right;\n",
              "    }\n",
              "</style>\n",
              "<table border=\"1\" class=\"dataframe\">\n",
              "  <thead>\n",
              "    <tr style=\"text-align: right;\">\n",
              "      <th></th>\n",
              "      <th>sentences</th>\n",
              "      <th>Y</th>\n",
              "      <th>SBERT</th>\n",
              "    </tr>\n",
              "  </thead>\n",
              "  <tbody>\n",
              "    <tr>\n",
              "      <th>0</th>\n",
              "      <td>['mr george s wright of dallas tex for respond...</td>\n",
              "      <td>0</td>\n",
              "      <td>[-0.20961645, -0.23212002, 0.89044833, 0.27971...</td>\n",
              "    </tr>\n",
              "    <tr>\n",
              "      <th>1</th>\n",
              "      <td>['prior to this decision however owing to doub...</td>\n",
              "      <td>0</td>\n",
              "      <td>[0.58679605, 0.6073739, 0.06551086, -0.0438442...</td>\n",
              "    </tr>\n",
              "    <tr>\n",
              "      <th>2</th>\n",
              "      <td>['mr justice roberts delivered the opinion of ...</td>\n",
              "      <td>1</td>\n",
              "      <td>[-0.048205514, -0.0796765, 0.40064067, -0.4417...</td>\n",
              "    </tr>\n",
              "    <tr>\n",
              "      <th>3</th>\n",
              "      <td>['b a different result is not required by the ...</td>\n",
              "      <td>0</td>\n",
              "      <td>[0.06357362, 1.1819575, 0.4121081, -0.26700753...</td>\n",
              "    </tr>\n",
              "    <tr>\n",
              "      <th>4</th>\n",
              "      <td>['appellees prosecution for burning a flag in ...</td>\n",
              "      <td>0</td>\n",
              "      <td>[-0.5459659, -0.25448644, 0.4573704, -0.740932...</td>\n",
              "    </tr>\n",
              "  </tbody>\n",
              "</table>\n",
              "</div>"
            ],
            "text/plain": [
              "                                           sentences  ...                                              SBERT\n",
              "0  ['mr george s wright of dallas tex for respond...  ...  [-0.20961645, -0.23212002, 0.89044833, 0.27971...\n",
              "1  ['prior to this decision however owing to doub...  ...  [0.58679605, 0.6073739, 0.06551086, -0.0438442...\n",
              "2  ['mr justice roberts delivered the opinion of ...  ...  [-0.048205514, -0.0796765, 0.40064067, -0.4417...\n",
              "3  ['b a different result is not required by the ...  ...  [0.06357362, 1.1819575, 0.4121081, -0.26700753...\n",
              "4  ['appellees prosecution for burning a flag in ...  ...  [-0.5459659, -0.25448644, 0.4573704, -0.740932...\n",
              "\n",
              "[5 rows x 3 columns]"
            ]
          },
          "metadata": {
            "tags": []
          },
          "execution_count": 13
        }
      ]
    },
    {
      "cell_type": "code",
      "metadata": {
        "colab": {
          "base_uri": "https://localhost:8080/",
          "height": 172
        },
        "id": "0sXlhGBocx8J",
        "outputId": "f22bc811-99bc-40e3-cf48-81b96ed4eab8"
      },
      "source": [
        "len(df.iloc[0]['SBERT'][0])"
      ],
      "execution_count": null,
      "outputs": [
        {
          "output_type": "error",
          "ename": "TypeError",
          "evalue": "ignored",
          "traceback": [
            "\u001b[0;31m---------------------------------------------------------------------------\u001b[0m",
            "\u001b[0;31mTypeError\u001b[0m                                 Traceback (most recent call last)",
            "\u001b[0;32m<ipython-input-11-20c6a4732a63>\u001b[0m in \u001b[0;36m<module>\u001b[0;34m()\u001b[0m\n\u001b[0;32m----> 1\u001b[0;31m \u001b[0mlen\u001b[0m\u001b[0;34m(\u001b[0m\u001b[0mdf\u001b[0m\u001b[0;34m.\u001b[0m\u001b[0miloc\u001b[0m\u001b[0;34m[\u001b[0m\u001b[0;36m0\u001b[0m\u001b[0;34m]\u001b[0m\u001b[0;34m[\u001b[0m\u001b[0;34m'SBERT'\u001b[0m\u001b[0;34m]\u001b[0m\u001b[0;34m[\u001b[0m\u001b[0;36m0\u001b[0m\u001b[0;34m]\u001b[0m\u001b[0;34m)\u001b[0m\u001b[0;34m\u001b[0m\u001b[0;34m\u001b[0m\u001b[0m\n\u001b[0m",
            "\u001b[0;31mTypeError\u001b[0m: object of type 'numpy.float32' has no len()"
          ]
        }
      ]
    },
    {
      "cell_type": "markdown",
      "metadata": {
        "id": "1VJ935STdDAi"
      },
      "source": [
        "## Universal Sentence Encoder"
      ]
    },
    {
      "cell_type": "code",
      "metadata": {
        "colab": {
          "base_uri": "https://localhost:8080/"
        },
        "id": "_JAqX3lrdB9a",
        "outputId": "e43a769e-a4e0-4dfa-8056-b590099e4385"
      },
      "source": [
        "!pip install spacy-universal-sentence-encoder --quiet"
      ],
      "execution_count": null,
      "outputs": [
        {
          "output_type": "stream",
          "text": [
            "  Building wheel for spacy-universal-sentence-encoder (setup.py) ... \u001b[?25l\u001b[?25hdone\n",
            "\u001b[33mWARNING: Running pip as root will break packages and permissions. You should install packages reliably by using venv: https://pip.pypa.io/warnings/venv\u001b[0m\n"
          ],
          "name": "stdout"
        }
      ]
    },
    {
      "cell_type": "code",
      "metadata": {
        "id": "upPQ0saWdNbA"
      },
      "source": [
        "import spacy_universal_sentence_encoder\n",
        "use_model = spacy_universal_sentence_encoder.load_model('en_use_lg')"
      ],
      "execution_count": null,
      "outputs": []
    },
    {
      "cell_type": "code",
      "metadata": {
        "id": "emyRwDXhi7JC"
      },
      "source": [
        "def encodeUSE(sentence_list):\n",
        "  sentence_embedding_list = []\n",
        "  for doc in use_model.pipe(sentence_list):\n",
        "    sentence_embedding_list.append(doc.vector)\n",
        "  return sentence_embedding_list"
      ],
      "execution_count": null,
      "outputs": []
    },
    {
      "cell_type": "code",
      "metadata": {
        "id": "zBiF9yffdNYm"
      },
      "source": [
        "test_df['USE']=test_df[0].apply(encodeUSE)"
      ],
      "execution_count": null,
      "outputs": []
    },
    {
      "cell_type": "code",
      "metadata": {
        "colab": {
          "base_uri": "https://localhost:8080/"
        },
        "id": "cLvY3o8WdNVh",
        "outputId": "0a150e96-f5eb-4048-a686-d6746e429917"
      },
      "source": [
        "len(test_df.iloc[0]['USE'][0])"
      ],
      "execution_count": null,
      "outputs": [
        {
          "output_type": "execute_result",
          "data": {
            "text/plain": [
              "512"
            ]
          },
          "metadata": {
            "tags": []
          },
          "execution_count": 38
        }
      ]
    },
    {
      "cell_type": "code",
      "metadata": {
        "id": "RKcAa6pYmK41",
        "colab": {
          "base_uri": "https://localhost:8080/"
        },
        "outputId": "e425ea2d-d362-4db3-ed2d-212450c0ab0e"
      },
      "source": [
        "import tensorflow as tf\n",
        "\n",
        "tk = tf.keras.preprocessing.text.Tokenizer()\n",
        "tk.fit_on_texts(sample_df['text'])\n",
        "\n",
        "tf_idf_samples = tk.sequences_to_matrix(tk.texts_to_sequences(sample_df['text']), mode='tfidf')\n",
        "tf_idf_samples\n"
      ],
      "execution_count": null,
      "outputs": [
        {
          "output_type": "execute_result",
          "data": {
            "text/plain": [
              "array([[0.        , 5.15290727, 4.77430413, ..., 0.        , 0.        ,\n",
              "        0.        ],\n",
              "       [0.        , 4.16781383, 3.6020304 , ..., 0.        , 0.        ,\n",
              "        0.        ],\n",
              "       [0.        , 4.30271698, 3.80744861, ..., 0.        , 0.        ,\n",
              "        0.        ],\n",
              "       ...,\n",
              "       [0.        , 5.37481813, 4.79399345, ..., 0.        , 0.        ,\n",
              "        0.        ],\n",
              "       [0.        , 4.53581436, 4.21850062, ..., 0.        , 0.        ,\n",
              "        0.        ],\n",
              "       [0.        , 5.01921731, 4.76147476, ..., 3.93182563, 3.93182563,\n",
              "        3.93182563]])"
            ]
          },
          "metadata": {
            "tags": []
          },
          "execution_count": 54
        }
      ]
    },
    {
      "cell_type": "code",
      "metadata": {
        "id": "ppk29yl_Pttr"
      },
      "source": [
        ""
      ],
      "execution_count": null,
      "outputs": []
    },
    {
      "cell_type": "markdown",
      "metadata": {
        "id": "F_Z3BTNC16Vc"
      },
      "source": [
        "# Saving"
      ]
    },
    {
      "cell_type": "code",
      "metadata": {
        "id": "_Cxq4lh_BIvU"
      },
      "source": [
        "# avoid risk\n",
        "save_df = df.drop(columns=[\"sentences\"])\n",
        "save_df.to_csv(\"safe.csv\")"
      ],
      "execution_count": null,
      "outputs": []
    },
    {
      "cell_type": "code",
      "metadata": {
        "id": "KXcwrCJqWRy_"
      },
      "source": [
        "!cp safe.csv \"/content/drive/Shareddrives/SigmaLaw-WPP/LRR/\""
      ],
      "execution_count": null,
      "outputs": []
    },
    {
      "cell_type": "code",
      "metadata": {
        "id": "7onUdEkt2AxA"
      },
      "source": [
        "flat_func = lambda x: np.array(x).flatten()\n",
        "# df[key]=df[key].apply(flat_func)"
      ],
      "execution_count": null,
      "outputs": []
    },
    {
      "cell_type": "code",
      "metadata": {
        "id": "Hv-tHa892JUD"
      },
      "source": [
        "import tensorflow as tf\n",
        "pad_arr = [0 for i in range(768)]#DIM\n",
        "def pad(array_of_embed):\n",
        "  return tf.keras.preprocessing.sequence.pad_sequences(\n",
        "    array_of_embed, \n",
        "    maxlen=150, \n",
        "    # dtype=\"int32\", \n",
        "    padding=\"post\", \n",
        "    truncating=\"post\", \n",
        "    value=pad_arr\n",
        "    ).tolist()\n",
        "\n",
        "# pad([[[1,2,3],[1,2,4]],[[1,3,4]]])\n",
        "# test_df[key]= pad(test_df[key])"
      ],
      "execution_count": null,
      "outputs": []
    },
    {
      "cell_type": "code",
      "metadata": {
        "id": "4YSP3SEL2NFr"
      },
      "source": [
        "# df[key]= pad(df[key])"
      ],
      "execution_count": null,
      "outputs": []
    },
    {
      "cell_type": "code",
      "metadata": {
        "id": "XMzMsuZz2Oln"
      },
      "source": [
        ""
      ],
      "execution_count": null,
      "outputs": []
    }
  ]
}